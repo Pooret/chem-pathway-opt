{
 "cells": [
  {
   "cell_type": "markdown",
   "id": "bb6991db",
   "metadata": {},
   "source": [
    "[![](https://mermaid.ink/img/pako:eNqFk8tOwzAQRX_F8pr8QBdItBEU6CM0iE3KYrCH1mpiR7aDBIh_ZzIOUFCAbBJb50yuH_MqldMoJ3Lnod2L23xrBT1nVQ4RxMzVNaponL0XWXYqpmm68Nh6pzAEY3f3yZgyMKsWZgdWZw8QUIs742MHtSiVR7Q_4bwqo-9U7Dz-w8-YP6-WlLUWOT5h7doGbRSZWDqK2NXgRWkaQ28TnwctZ-3iHy136vD1q-TMR51iD74B5dq98yiY-BCTfM7y1SDfQW009Lv3d8wLtq7_tr6nnLOyGFN-DZnMKzZX1bqNlOOFNn0sWfKGn12zsh5Vhljf-AXzxRE_kmlgV8zeVDNnA9rQBTp75_uKdIvEBuzRoteJTYPieHDDg001N1Fcajos82hU2pC-TOEN1YzmhaeGaht2yt4JTC0QNN34pnWd1WGgSqZueyqLLmPmEx4WeFxVnsgGaa1GU0-98s2QcY8NbuWEPjX4w1Zu7Rtx0EVXPlslJ9QFeCK7ls4QcwPUio2cPEIdaBa1ic4vU5Nyr769A4SXNYI?type=png)](https://mermaid.live/edit#pako:eNqFk8tOwzAQRX_F8pr8QBdItBEU6CM0iE3KYrCH1mpiR7aDBIh_ZzIOUFCAbBJb50yuH_MqldMoJ3Lnod2L23xrBT1nVQ4RxMzVNaponL0XWXYqpmm68Nh6pzAEY3f3yZgyMKsWZgdWZw8QUIs742MHtSiVR7Q_4bwqo-9U7Dz-w8-YP6-WlLUWOT5h7doGbRSZWDqK2NXgRWkaQ28TnwctZ-3iHy136vD1q-TMR51iD74B5dq98yiY-BCTfM7y1SDfQW009Lv3d8wLtq7_tr6nnLOyGFN-DZnMKzZX1bqNlOOFNn0sWfKGn12zsh5Vhljf-AXzxRE_kmlgV8zeVDNnA9rQBTp75_uKdIvEBuzRoteJTYPieHDDg001N1Fcajos82hU2pC-TOEN1YzmhaeGaht2yt4JTC0QNN34pnWd1WGgSqZueyqLLmPmEx4WeFxVnsgGaa1GU0-98s2QcY8NbuWEPjX4w1Zu7Rtx0EVXPlslJ9QFeCK7ls4QcwPUio2cPEIdaBa1ic4vU5Nyr769A4SXNYI)"
   ]
  },
  {
   "cell_type": "code",
   "execution_count": null,
   "id": "497bfc41",
   "metadata": {},
   "outputs": [],
   "source": []
  }
 ],
 "metadata": {
  "kernelspec": {
   "display_name": "Python 3",
   "language": "python",
   "name": "python3"
  },
  "language_info": {
   "codemirror_mode": {
    "name": "ipython",
    "version": 3
   },
   "file_extension": ".py",
   "mimetype": "text/x-python",
   "name": "python",
   "nbconvert_exporter": "python",
   "pygments_lexer": "ipython3",
   "version": "3.9.4"
  }
 },
 "nbformat": 4,
 "nbformat_minor": 5
}
