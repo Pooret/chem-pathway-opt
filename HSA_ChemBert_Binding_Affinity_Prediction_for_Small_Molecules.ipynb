{
  "nbformat": 4,
  "nbformat_minor": 0,
  "metadata": {
    "colab": {
      "provenance": [],
      "machine_shape": "hm",
      "gpuType": "T4",
      "authorship_tag": "ABX9TyMGVWCvGeSsE+lVog02d3NJ",
      "include_colab_link": true
    },
    "kernelspec": {
      "name": "python3",
      "display_name": "Python 3"
    },
    "language_info": {
      "name": "python"
    },
    "accelerator": "GPU",
    "widgets": {
      "application/vnd.jupyter.widget-state+json": {
        "c05a3d85f50f407287b73579fcec3051": {
          "model_module": "@jupyter-widgets/controls",
          "model_name": "FloatProgressModel",
          "model_module_version": "1.5.0",
          "state": {
            "_dom_classes": [],
            "_model_module": "@jupyter-widgets/controls",
            "_model_module_version": "1.5.0",
            "_model_name": "FloatProgressModel",
            "_view_count": null,
            "_view_module": "@jupyter-widgets/controls",
            "_view_module_version": "1.5.0",
            "_view_name": "ProgressView",
            "bar_style": "",
            "description": "",
            "description_tooltip": null,
            "layout": "IPY_MODEL_4184f066dc7749bd8e6d93512526b03d",
            "max": 100,
            "min": 0,
            "orientation": "horizontal",
            "style": "IPY_MODEL_6d5985c9d691432b80db710f11f185e0",
            "value": 100
          }
        },
        "4184f066dc7749bd8e6d93512526b03d": {
          "model_module": "@jupyter-widgets/base",
          "model_name": "LayoutModel",
          "model_module_version": "1.2.0",
          "state": {
            "_model_module": "@jupyter-widgets/base",
            "_model_module_version": "1.2.0",
            "_model_name": "LayoutModel",
            "_view_count": null,
            "_view_module": "@jupyter-widgets/base",
            "_view_module_version": "1.2.0",
            "_view_name": "LayoutView",
            "align_content": null,
            "align_items": null,
            "align_self": null,
            "border": null,
            "bottom": null,
            "display": null,
            "flex": null,
            "flex_flow": null,
            "grid_area": null,
            "grid_auto_columns": null,
            "grid_auto_flow": null,
            "grid_auto_rows": null,
            "grid_column": null,
            "grid_gap": null,
            "grid_row": null,
            "grid_template_areas": null,
            "grid_template_columns": null,
            "grid_template_rows": null,
            "height": null,
            "justify_content": null,
            "justify_items": null,
            "left": null,
            "margin": null,
            "max_height": null,
            "max_width": null,
            "min_height": null,
            "min_width": null,
            "object_fit": null,
            "object_position": null,
            "order": null,
            "overflow": null,
            "overflow_x": null,
            "overflow_y": null,
            "padding": null,
            "right": null,
            "top": null,
            "visibility": null,
            "width": "auto"
          }
        },
        "6d5985c9d691432b80db710f11f185e0": {
          "model_module": "@jupyter-widgets/controls",
          "model_name": "ProgressStyleModel",
          "model_module_version": "1.5.0",
          "state": {
            "_model_module": "@jupyter-widgets/controls",
            "_model_module_version": "1.5.0",
            "_model_name": "ProgressStyleModel",
            "_view_count": null,
            "_view_module": "@jupyter-widgets/base",
            "_view_module_version": "1.2.0",
            "_view_name": "StyleView",
            "bar_color": "black",
            "description_width": ""
          }
        },
        "be9c035e3be0494d95f90dcf6517afe1": {
          "model_module": "@jupyter-widgets/controls",
          "model_name": "HBoxModel",
          "model_module_version": "1.5.0",
          "state": {
            "_dom_classes": [],
            "_model_module": "@jupyter-widgets/controls",
            "_model_module_version": "1.5.0",
            "_model_name": "HBoxModel",
            "_view_count": null,
            "_view_module": "@jupyter-widgets/controls",
            "_view_module_version": "1.5.0",
            "_view_name": "HBoxView",
            "box_style": "",
            "children": [
              "IPY_MODEL_052874b695d4419899c7cc800908d4f4",
              "IPY_MODEL_481dc8fb5dc14226ace73bbc6b0000df",
              "IPY_MODEL_ddb1e0d6d2ac47c0a13316b722d3a844"
            ],
            "layout": "IPY_MODEL_e263888bce87454f8487239e9c23f762"
          }
        },
        "052874b695d4419899c7cc800908d4f4": {
          "model_module": "@jupyter-widgets/controls",
          "model_name": "HTMLModel",
          "model_module_version": "1.5.0",
          "state": {
            "_dom_classes": [],
            "_model_module": "@jupyter-widgets/controls",
            "_model_module_version": "1.5.0",
            "_model_name": "HTMLModel",
            "_view_count": null,
            "_view_module": "@jupyter-widgets/controls",
            "_view_module_version": "1.5.0",
            "_view_name": "HTMLView",
            "description": "",
            "description_tooltip": null,
            "layout": "IPY_MODEL_2f4a46279f2d400ba9a7c9cf1c08ba3e",
            "placeholder": "​",
            "style": "IPY_MODEL_a6b68d52e4c44a2e95407680e23efb94",
            "value": "Processing DataFrame: 100%"
          }
        },
        "481dc8fb5dc14226ace73bbc6b0000df": {
          "model_module": "@jupyter-widgets/controls",
          "model_name": "FloatProgressModel",
          "model_module_version": "1.5.0",
          "state": {
            "_dom_classes": [],
            "_model_module": "@jupyter-widgets/controls",
            "_model_module_version": "1.5.0",
            "_model_name": "FloatProgressModel",
            "_view_count": null,
            "_view_module": "@jupyter-widgets/controls",
            "_view_module_version": "1.5.0",
            "_view_name": "ProgressView",
            "bar_style": "success",
            "description": "",
            "description_tooltip": null,
            "layout": "IPY_MODEL_35df31ded8594491a151c62b08e7ca82",
            "max": 17558,
            "min": 0,
            "orientation": "horizontal",
            "style": "IPY_MODEL_f30005670e934467a6850256fc184ef9",
            "value": 17558
          }
        },
        "ddb1e0d6d2ac47c0a13316b722d3a844": {
          "model_module": "@jupyter-widgets/controls",
          "model_name": "HTMLModel",
          "model_module_version": "1.5.0",
          "state": {
            "_dom_classes": [],
            "_model_module": "@jupyter-widgets/controls",
            "_model_module_version": "1.5.0",
            "_model_name": "HTMLModel",
            "_view_count": null,
            "_view_module": "@jupyter-widgets/controls",
            "_view_module_version": "1.5.0",
            "_view_name": "HTMLView",
            "description": "",
            "description_tooltip": null,
            "layout": "IPY_MODEL_85ace58986b54028a1daa811269c2a06",
            "placeholder": "​",
            "style": "IPY_MODEL_77e3117077744d35bd0b1c12494e2814",
            "value": " 17558/17558 [00:09&lt;00:00, 1940.33it/s]"
          }
        },
        "e263888bce87454f8487239e9c23f762": {
          "model_module": "@jupyter-widgets/base",
          "model_name": "LayoutModel",
          "model_module_version": "1.2.0",
          "state": {
            "_model_module": "@jupyter-widgets/base",
            "_model_module_version": "1.2.0",
            "_model_name": "LayoutModel",
            "_view_count": null,
            "_view_module": "@jupyter-widgets/base",
            "_view_module_version": "1.2.0",
            "_view_name": "LayoutView",
            "align_content": null,
            "align_items": null,
            "align_self": null,
            "border": null,
            "bottom": null,
            "display": null,
            "flex": null,
            "flex_flow": null,
            "grid_area": null,
            "grid_auto_columns": null,
            "grid_auto_flow": null,
            "grid_auto_rows": null,
            "grid_column": null,
            "grid_gap": null,
            "grid_row": null,
            "grid_template_areas": null,
            "grid_template_columns": null,
            "grid_template_rows": null,
            "height": null,
            "justify_content": null,
            "justify_items": null,
            "left": null,
            "margin": null,
            "max_height": null,
            "max_width": null,
            "min_height": null,
            "min_width": null,
            "object_fit": null,
            "object_position": null,
            "order": null,
            "overflow": null,
            "overflow_x": null,
            "overflow_y": null,
            "padding": null,
            "right": null,
            "top": null,
            "visibility": null,
            "width": null
          }
        },
        "2f4a46279f2d400ba9a7c9cf1c08ba3e": {
          "model_module": "@jupyter-widgets/base",
          "model_name": "LayoutModel",
          "model_module_version": "1.2.0",
          "state": {
            "_model_module": "@jupyter-widgets/base",
            "_model_module_version": "1.2.0",
            "_model_name": "LayoutModel",
            "_view_count": null,
            "_view_module": "@jupyter-widgets/base",
            "_view_module_version": "1.2.0",
            "_view_name": "LayoutView",
            "align_content": null,
            "align_items": null,
            "align_self": null,
            "border": null,
            "bottom": null,
            "display": null,
            "flex": null,
            "flex_flow": null,
            "grid_area": null,
            "grid_auto_columns": null,
            "grid_auto_flow": null,
            "grid_auto_rows": null,
            "grid_column": null,
            "grid_gap": null,
            "grid_row": null,
            "grid_template_areas": null,
            "grid_template_columns": null,
            "grid_template_rows": null,
            "height": null,
            "justify_content": null,
            "justify_items": null,
            "left": null,
            "margin": null,
            "max_height": null,
            "max_width": null,
            "min_height": null,
            "min_width": null,
            "object_fit": null,
            "object_position": null,
            "order": null,
            "overflow": null,
            "overflow_x": null,
            "overflow_y": null,
            "padding": null,
            "right": null,
            "top": null,
            "visibility": null,
            "width": null
          }
        },
        "a6b68d52e4c44a2e95407680e23efb94": {
          "model_module": "@jupyter-widgets/controls",
          "model_name": "DescriptionStyleModel",
          "model_module_version": "1.5.0",
          "state": {
            "_model_module": "@jupyter-widgets/controls",
            "_model_module_version": "1.5.0",
            "_model_name": "DescriptionStyleModel",
            "_view_count": null,
            "_view_module": "@jupyter-widgets/base",
            "_view_module_version": "1.2.0",
            "_view_name": "StyleView",
            "description_width": ""
          }
        },
        "35df31ded8594491a151c62b08e7ca82": {
          "model_module": "@jupyter-widgets/base",
          "model_name": "LayoutModel",
          "model_module_version": "1.2.0",
          "state": {
            "_model_module": "@jupyter-widgets/base",
            "_model_module_version": "1.2.0",
            "_model_name": "LayoutModel",
            "_view_count": null,
            "_view_module": "@jupyter-widgets/base",
            "_view_module_version": "1.2.0",
            "_view_name": "LayoutView",
            "align_content": null,
            "align_items": null,
            "align_self": null,
            "border": null,
            "bottom": null,
            "display": null,
            "flex": null,
            "flex_flow": null,
            "grid_area": null,
            "grid_auto_columns": null,
            "grid_auto_flow": null,
            "grid_auto_rows": null,
            "grid_column": null,
            "grid_gap": null,
            "grid_row": null,
            "grid_template_areas": null,
            "grid_template_columns": null,
            "grid_template_rows": null,
            "height": null,
            "justify_content": null,
            "justify_items": null,
            "left": null,
            "margin": null,
            "max_height": null,
            "max_width": null,
            "min_height": null,
            "min_width": null,
            "object_fit": null,
            "object_position": null,
            "order": null,
            "overflow": null,
            "overflow_x": null,
            "overflow_y": null,
            "padding": null,
            "right": null,
            "top": null,
            "visibility": null,
            "width": null
          }
        },
        "f30005670e934467a6850256fc184ef9": {
          "model_module": "@jupyter-widgets/controls",
          "model_name": "ProgressStyleModel",
          "model_module_version": "1.5.0",
          "state": {
            "_model_module": "@jupyter-widgets/controls",
            "_model_module_version": "1.5.0",
            "_model_name": "ProgressStyleModel",
            "_view_count": null,
            "_view_module": "@jupyter-widgets/base",
            "_view_module_version": "1.2.0",
            "_view_name": "StyleView",
            "bar_color": null,
            "description_width": ""
          }
        },
        "85ace58986b54028a1daa811269c2a06": {
          "model_module": "@jupyter-widgets/base",
          "model_name": "LayoutModel",
          "model_module_version": "1.2.0",
          "state": {
            "_model_module": "@jupyter-widgets/base",
            "_model_module_version": "1.2.0",
            "_model_name": "LayoutModel",
            "_view_count": null,
            "_view_module": "@jupyter-widgets/base",
            "_view_module_version": "1.2.0",
            "_view_name": "LayoutView",
            "align_content": null,
            "align_items": null,
            "align_self": null,
            "border": null,
            "bottom": null,
            "display": null,
            "flex": null,
            "flex_flow": null,
            "grid_area": null,
            "grid_auto_columns": null,
            "grid_auto_flow": null,
            "grid_auto_rows": null,
            "grid_column": null,
            "grid_gap": null,
            "grid_row": null,
            "grid_template_areas": null,
            "grid_template_columns": null,
            "grid_template_rows": null,
            "height": null,
            "justify_content": null,
            "justify_items": null,
            "left": null,
            "margin": null,
            "max_height": null,
            "max_width": null,
            "min_height": null,
            "min_width": null,
            "object_fit": null,
            "object_position": null,
            "order": null,
            "overflow": null,
            "overflow_x": null,
            "overflow_y": null,
            "padding": null,
            "right": null,
            "top": null,
            "visibility": null,
            "width": null
          }
        },
        "77e3117077744d35bd0b1c12494e2814": {
          "model_module": "@jupyter-widgets/controls",
          "model_name": "DescriptionStyleModel",
          "model_module_version": "1.5.0",
          "state": {
            "_model_module": "@jupyter-widgets/controls",
            "_model_module_version": "1.5.0",
            "_model_name": "DescriptionStyleModel",
            "_view_count": null,
            "_view_module": "@jupyter-widgets/base",
            "_view_module_version": "1.2.0",
            "_view_name": "StyleView",
            "description_width": ""
          }
        }
      }
    }
  },
  "cells": [
    {
      "cell_type": "markdown",
      "metadata": {
        "id": "view-in-github",
        "colab_type": "text"
      },
      "source": [
        "<a href=\"https://colab.research.google.com/github/Pooret/drug-discovery-ml/blob/main/HSA_ChemBert_Binding_Affinity_Prediction_for_Small_Molecules.ipynb\" target=\"_parent\"><img src=\"https://colab.research.google.com/assets/colab-badge.svg\" alt=\"Open In Colab\"/></a>"
      ]
    },
    {
      "cell_type": "markdown",
      "source": [
        "[Dataset](https://www.kaggle.com/competitions/leash-BELKA/data)"
      ],
      "metadata": {
        "id": "PT-X3hIzjZmy"
      }
    },
    {
      "cell_type": "code",
      "source": [
        "!pip install pandas pyarrow\n",
        "!pip install duckdb\n",
        "!pip install rdkit\n",
        "!pip install py3Dmol\n",
        "!pip install mordred\n",
        "!pip install deepchem"
      ],
      "metadata": {
        "colab": {
          "base_uri": "https://localhost:8080/"
        },
        "id": "ojio1hCNlCSW",
        "outputId": "6073066b-bc56-46ac-a170-cfdbbccacdbe"
      },
      "execution_count": 1,
      "outputs": [
        {
          "output_type": "stream",
          "name": "stdout",
          "text": [
            "Requirement already satisfied: pandas in /usr/local/lib/python3.10/dist-packages (2.0.3)\n",
            "Requirement already satisfied: pyarrow in /usr/local/lib/python3.10/dist-packages (14.0.2)\n",
            "Requirement already satisfied: python-dateutil>=2.8.2 in /usr/local/lib/python3.10/dist-packages (from pandas) (2.8.2)\n",
            "Requirement already satisfied: pytz>=2020.1 in /usr/local/lib/python3.10/dist-packages (from pandas) (2023.4)\n",
            "Requirement already satisfied: tzdata>=2022.1 in /usr/local/lib/python3.10/dist-packages (from pandas) (2024.1)\n",
            "Requirement already satisfied: numpy>=1.21.0 in /usr/local/lib/python3.10/dist-packages (from pandas) (1.25.2)\n",
            "Requirement already satisfied: six>=1.5 in /usr/local/lib/python3.10/dist-packages (from python-dateutil>=2.8.2->pandas) (1.16.0)\n",
            "Requirement already satisfied: duckdb in /usr/local/lib/python3.10/dist-packages (0.10.2)\n",
            "Collecting rdkit\n",
            "  Downloading rdkit-2023.9.6-cp310-cp310-manylinux_2_17_x86_64.manylinux2014_x86_64.whl (34.9 MB)\n",
            "\u001b[2K     \u001b[90m━━━━━━━━━━━━━━━━━━━━━━━━━━━━━━━━━━━━━━━━\u001b[0m \u001b[32m34.9/34.9 MB\u001b[0m \u001b[31m33.8 MB/s\u001b[0m eta \u001b[36m0:00:00\u001b[0m\n",
            "\u001b[?25hRequirement already satisfied: numpy in /usr/local/lib/python3.10/dist-packages (from rdkit) (1.25.2)\n",
            "Requirement already satisfied: Pillow in /usr/local/lib/python3.10/dist-packages (from rdkit) (9.4.0)\n",
            "Installing collected packages: rdkit\n",
            "Successfully installed rdkit-2023.9.6\n",
            "Collecting py3Dmol\n",
            "  Downloading py3Dmol-2.1.0-py2.py3-none-any.whl (12 kB)\n",
            "Installing collected packages: py3Dmol\n",
            "Successfully installed py3Dmol-2.1.0\n",
            "Collecting mordred\n",
            "  Downloading mordred-1.2.0.tar.gz (128 kB)\n",
            "\u001b[2K     \u001b[90m━━━━━━━━━━━━━━━━━━━━━━━━━━━━━━━━━━━━━━━━\u001b[0m \u001b[32m128.8/128.8 kB\u001b[0m \u001b[31m3.2 MB/s\u001b[0m eta \u001b[36m0:00:00\u001b[0m\n",
            "\u001b[?25h  Preparing metadata (setup.py) ... \u001b[?25l\u001b[?25hdone\n",
            "Requirement already satisfied: six==1.* in /usr/local/lib/python3.10/dist-packages (from mordred) (1.16.0)\n",
            "Requirement already satisfied: numpy==1.* in /usr/local/lib/python3.10/dist-packages (from mordred) (1.25.2)\n",
            "Collecting networkx==2.* (from mordred)\n",
            "  Downloading networkx-2.8.8-py3-none-any.whl (2.0 MB)\n",
            "\u001b[2K     \u001b[90m━━━━━━━━━━━━━━━━━━━━━━━━━━━━━━━━━━━━━━━━\u001b[0m \u001b[32m2.0/2.0 MB\u001b[0m \u001b[31m33.1 MB/s\u001b[0m eta \u001b[36m0:00:00\u001b[0m\n",
            "\u001b[?25hBuilding wheels for collected packages: mordred\n",
            "  Building wheel for mordred (setup.py) ... \u001b[?25l\u001b[?25hdone\n",
            "  Created wheel for mordred: filename=mordred-1.2.0-py3-none-any.whl size=176720 sha256=64e61a932acc9af8eb054d2608150a59b3fd51f867288500bb41a99ac607c91c\n",
            "  Stored in directory: /root/.cache/pip/wheels/a7/4f/b8/d4c6591f6ac944aaced7865b349477695f662388ad958743c7\n",
            "Successfully built mordred\n",
            "Installing collected packages: networkx, mordred\n",
            "  Attempting uninstall: networkx\n",
            "    Found existing installation: networkx 3.3\n",
            "    Uninstalling networkx-3.3:\n",
            "      Successfully uninstalled networkx-3.3\n",
            "\u001b[31mERROR: pip's dependency resolver does not currently take into account all the packages that are installed. This behaviour is the source of the following dependency conflicts.\n",
            "torch 2.3.0+cu121 requires nvidia-cublas-cu12==12.1.3.1; platform_system == \"Linux\" and platform_machine == \"x86_64\", which is not installed.\n",
            "torch 2.3.0+cu121 requires nvidia-cuda-cupti-cu12==12.1.105; platform_system == \"Linux\" and platform_machine == \"x86_64\", which is not installed.\n",
            "torch 2.3.0+cu121 requires nvidia-cuda-nvrtc-cu12==12.1.105; platform_system == \"Linux\" and platform_machine == \"x86_64\", which is not installed.\n",
            "torch 2.3.0+cu121 requires nvidia-cuda-runtime-cu12==12.1.105; platform_system == \"Linux\" and platform_machine == \"x86_64\", which is not installed.\n",
            "torch 2.3.0+cu121 requires nvidia-cudnn-cu12==8.9.2.26; platform_system == \"Linux\" and platform_machine == \"x86_64\", which is not installed.\n",
            "torch 2.3.0+cu121 requires nvidia-cufft-cu12==11.0.2.54; platform_system == \"Linux\" and platform_machine == \"x86_64\", which is not installed.\n",
            "torch 2.3.0+cu121 requires nvidia-curand-cu12==10.3.2.106; platform_system == \"Linux\" and platform_machine == \"x86_64\", which is not installed.\n",
            "torch 2.3.0+cu121 requires nvidia-cusolver-cu12==11.4.5.107; platform_system == \"Linux\" and platform_machine == \"x86_64\", which is not installed.\n",
            "torch 2.3.0+cu121 requires nvidia-cusparse-cu12==12.1.0.106; platform_system == \"Linux\" and platform_machine == \"x86_64\", which is not installed.\n",
            "torch 2.3.0+cu121 requires nvidia-nccl-cu12==2.20.5; platform_system == \"Linux\" and platform_machine == \"x86_64\", which is not installed.\n",
            "torch 2.3.0+cu121 requires nvidia-nvtx-cu12==12.1.105; platform_system == \"Linux\" and platform_machine == \"x86_64\", which is not installed.\u001b[0m\u001b[31m\n",
            "\u001b[0mSuccessfully installed mordred-1.2.0 networkx-2.8.8\n",
            "Collecting deepchem\n",
            "  Downloading deepchem-2.8.0-py3-none-any.whl (1.0 MB)\n",
            "\u001b[2K     \u001b[90m━━━━━━━━━━━━━━━━━━━━━━━━━━━━━━━━━━━━━━━━\u001b[0m \u001b[32m1.0/1.0 MB\u001b[0m \u001b[31m12.6 MB/s\u001b[0m eta \u001b[36m0:00:00\u001b[0m\n",
            "\u001b[?25hRequirement already satisfied: joblib in /usr/local/lib/python3.10/dist-packages (from deepchem) (1.4.2)\n",
            "Requirement already satisfied: numpy>=1.21 in /usr/local/lib/python3.10/dist-packages (from deepchem) (1.25.2)\n",
            "Requirement already satisfied: pandas in /usr/local/lib/python3.10/dist-packages (from deepchem) (2.0.3)\n",
            "Requirement already satisfied: scikit-learn in /usr/local/lib/python3.10/dist-packages (from deepchem) (1.2.2)\n",
            "Requirement already satisfied: sympy in /usr/local/lib/python3.10/dist-packages (from deepchem) (1.12)\n",
            "Requirement already satisfied: scipy>=1.10.1 in /usr/local/lib/python3.10/dist-packages (from deepchem) (1.11.4)\n",
            "Requirement already satisfied: rdkit in /usr/local/lib/python3.10/dist-packages (from deepchem) (2023.9.6)\n",
            "Requirement already satisfied: python-dateutil>=2.8.2 in /usr/local/lib/python3.10/dist-packages (from pandas->deepchem) (2.8.2)\n",
            "Requirement already satisfied: pytz>=2020.1 in /usr/local/lib/python3.10/dist-packages (from pandas->deepchem) (2023.4)\n",
            "Requirement already satisfied: tzdata>=2022.1 in /usr/local/lib/python3.10/dist-packages (from pandas->deepchem) (2024.1)\n",
            "Requirement already satisfied: Pillow in /usr/local/lib/python3.10/dist-packages (from rdkit->deepchem) (9.4.0)\n",
            "Requirement already satisfied: threadpoolctl>=2.0.0 in /usr/local/lib/python3.10/dist-packages (from scikit-learn->deepchem) (3.5.0)\n",
            "Requirement already satisfied: mpmath>=0.19 in /usr/local/lib/python3.10/dist-packages (from sympy->deepchem) (1.3.0)\n",
            "Requirement already satisfied: six>=1.5 in /usr/local/lib/python3.10/dist-packages (from python-dateutil>=2.8.2->pandas->deepchem) (1.16.0)\n",
            "Installing collected packages: deepchem\n",
            "Successfully installed deepchem-2.8.0\n"
          ]
        }
      ]
    },
    {
      "cell_type": "code",
      "source": [
        "from google.colab import drive\n",
        "drive.mount(\"/content/drive\")"
      ],
      "metadata": {
        "id": "b88khbwhjeMV",
        "colab": {
          "base_uri": "https://localhost:8080/"
        },
        "outputId": "812e4614-14ee-4162-feab-a5ebe3c74194"
      },
      "execution_count": 2,
      "outputs": [
        {
          "output_type": "stream",
          "name": "stdout",
          "text": [
            "Mounted at /content/drive\n"
          ]
        }
      ]
    },
    {
      "cell_type": "code",
      "source": [
        "import os\n",
        "\n",
        "# Create directory path for data\n",
        "directory_path = \"/content/data\"\n",
        "\n",
        "# Check if the directory already exists\n",
        "if not os.path.exists(directory_path):\n",
        "    os.mkdir(directory_path)\n",
        "    print(f\"Directory created at {directory_path}\")\n",
        "else:\n",
        "    print(f\"Directory already exists at {directory_path}\")"
      ],
      "metadata": {
        "id": "QMW0FGKTfGQx",
        "colab": {
          "base_uri": "https://localhost:8080/"
        },
        "outputId": "3759c08e-57d8-4c98-a539-8541610739bc"
      },
      "execution_count": 3,
      "outputs": [
        {
          "output_type": "stream",
          "name": "stdout",
          "text": [
            "Directory created at /content/data\n"
          ]
        }
      ]
    },
    {
      "cell_type": "code",
      "source": [
        "%%time\n",
        "!unzip /content/drive/MyDrive/Datasets/leash_BELKA/data.zip -d /content/data"
      ],
      "metadata": {
        "id": "jGKG1EDOkk7Y",
        "colab": {
          "base_uri": "https://localhost:8080/"
        },
        "outputId": "15e713ee-4768-4e4b-cc10-97ac41897eea"
      },
      "execution_count": 5,
      "outputs": [
        {
          "output_type": "stream",
          "name": "stdout",
          "text": [
            "Archive:  /content/drive/MyDrive/Datasets/leash_BELKA/data.zip\n",
            "  inflating: /content/data/sample_submission.csv  \n",
            "  inflating: /content/data/test.csv  \n",
            "  inflating: /content/data/test.parquet  \n",
            "  inflating: /content/data/train.csv  \n",
            "  inflating: /content/data/train.parquet  \n",
            "CPU times: user 2.1 s, sys: 245 ms, total: 2.34 s\n",
            "Wall time: 6min 19s\n"
          ]
        }
      ]
    },
    {
      "cell_type": "code",
      "source": [
        "%%time\n",
        "#By Andrew D. Blevins https://www.kaggle.com/code/andrewdblevins/leash-tutorial-ecfps-and-random-forest\n",
        "\n",
        "import duckdb\n",
        "import pandas as pd\n",
        "\n",
        "train_path = '/content/data/train.parquet'\n",
        "test_path = '/content/data/test.parquet'\n",
        "\n",
        "con = duckdb.connect()\n",
        "\n",
        "max_limit = 1589906\n",
        "limit_num = 30000\n",
        "\n",
        "# 1589906 is the total number of binding samples\n",
        "df = con.query(f\"\"\"(SELECT *\n",
        "                        FROM parquet_scan('{train_path}')\n",
        "                        WHERE binds = 0\n",
        "                        ORDER BY random()\n",
        "                        LIMIT {limit_num})\n",
        "                        UNION ALL\n",
        "                        (SELECT *\n",
        "                        FROM parquet_scan('{train_path}')\n",
        "                        WHERE binds = 1\n",
        "                        ORDER BY random()\n",
        "                        LIMIT {limit_num})\"\"\").df()\n",
        "\n",
        "con.close()\n"
      ],
      "metadata": {
        "id": "VRIY2aObfL8u",
        "colab": {
          "base_uri": "https://localhost:8080/",
          "height": 84,
          "referenced_widgets": [
            "c05a3d85f50f407287b73579fcec3051",
            "4184f066dc7749bd8e6d93512526b03d",
            "6d5985c9d691432b80db710f11f185e0"
          ]
        },
        "outputId": "77c30ca8-976a-4e4d-fb8f-d18182c74a07"
      },
      "execution_count": 6,
      "outputs": [
        {
          "output_type": "display_data",
          "data": {
            "text/plain": [
              "FloatProgress(value=0.0, layout=Layout(width='auto'), style=ProgressStyle(bar_color='black'))"
            ],
            "application/vnd.jupyter.widget-view+json": {
              "version_major": 2,
              "version_minor": 0,
              "model_id": "c05a3d85f50f407287b73579fcec3051"
            }
          },
          "metadata": {}
        },
        {
          "output_type": "stream",
          "name": "stdout",
          "text": [
            "CPU times: user 2min 32s, sys: 7.82 s, total: 2min 40s\n",
            "Wall time: 27.3 s\n"
          ]
        }
      ]
    },
    {
      "cell_type": "code",
      "source": [
        "df.head()"
      ],
      "metadata": {
        "id": "SaMSRnLXgnJ4",
        "colab": {
          "base_uri": "https://localhost:8080/",
          "height": 206
        },
        "outputId": "2b2cf3f9-6071-47c0-fa10-0e1beecbe4b5"
      },
      "execution_count": 7,
      "outputs": [
        {
          "output_type": "execute_result",
          "data": {
            "text/plain": [
              "          id                              buildingblock1_smiles  \\\n",
              "0   32165317  COc1cc(NC(=O)OCC2c3ccccc3-c3ccccc32)c(C(=O)O)c...   \n",
              "1  254844235  O=C(O)C[C@@H](Cc1cccs1)NC(=O)OCC1c2ccccc2-c2cc...   \n",
              "2  265535182  O=C(O)C[C@H](Cc1ccc(Br)cc1)NC(=O)OCC1c2ccccc2-...   \n",
              "3  197401154   O=C(Nc1ccc(Cl)c(C(=O)O)c1)OCC1c2ccccc2-c2ccccc21   \n",
              "4  163911230     O=C(Nc1cc(C(=O)O)ccc1Br)OCC1c2ccccc2-c2ccccc21   \n",
              "\n",
              "        buildingblock2_smiles        buildingblock3_smiles  \\\n",
              "0  Cl.NCC1CCN(c2ccc(Br)cc2)C1  COc1ccc(C(CN)N2CCOCC2)cc1OC   \n",
              "1              Nc1cccc2ocnc12           Nc1nc(Br)cn2ccnc12   \n",
              "2        NCc1c(F)cccc1N1CCCC1   Cl.NCc1ccc(-c2nnn[nH]2)cc1   \n",
              "3             COC(C)(CN)C1CC1                CC1CCCC(CN)O1   \n",
              "4     Cl.Cl.NCc1cc2n(n1)CCCO2              COc1nc(Br)ccc1N   \n",
              "\n",
              "                                     molecule_smiles protein_name  binds  \n",
              "0  COc1cc(Nc2nc(NCC3CCN(c4ccc(Br)cc4)C3)nc(NCC(c3...          HSA      0  \n",
              "1  O=C(C[C@@H](Cc1cccs1)Nc1nc(Nc2cccc3ocnc23)nc(N...          HSA      0  \n",
              "2  O=C(C[C@H](Cc1ccc(Br)cc1)Nc1nc(NCc2ccc(-c3nnn[...          HSA      0  \n",
              "3  COC(C)(CNc1nc(NCC2CCCC(C)O2)nc(Nc2ccc(Cl)c(C(=...          sEH      0  \n",
              "4  COc1nc(Br)ccc1Nc1nc(NCc2cc3n(n2)CCCO3)nc(Nc2cc...          sEH      0  "
            ],
            "text/html": [
              "\n",
              "  <div id=\"df-643c8e2b-0f5c-46a1-a4b3-f06458edaeb3\" class=\"colab-df-container\">\n",
              "    <div>\n",
              "<style scoped>\n",
              "    .dataframe tbody tr th:only-of-type {\n",
              "        vertical-align: middle;\n",
              "    }\n",
              "\n",
              "    .dataframe tbody tr th {\n",
              "        vertical-align: top;\n",
              "    }\n",
              "\n",
              "    .dataframe thead th {\n",
              "        text-align: right;\n",
              "    }\n",
              "</style>\n",
              "<table border=\"1\" class=\"dataframe\">\n",
              "  <thead>\n",
              "    <tr style=\"text-align: right;\">\n",
              "      <th></th>\n",
              "      <th>id</th>\n",
              "      <th>buildingblock1_smiles</th>\n",
              "      <th>buildingblock2_smiles</th>\n",
              "      <th>buildingblock3_smiles</th>\n",
              "      <th>molecule_smiles</th>\n",
              "      <th>protein_name</th>\n",
              "      <th>binds</th>\n",
              "    </tr>\n",
              "  </thead>\n",
              "  <tbody>\n",
              "    <tr>\n",
              "      <th>0</th>\n",
              "      <td>32165317</td>\n",
              "      <td>COc1cc(NC(=O)OCC2c3ccccc3-c3ccccc32)c(C(=O)O)c...</td>\n",
              "      <td>Cl.NCC1CCN(c2ccc(Br)cc2)C1</td>\n",
              "      <td>COc1ccc(C(CN)N2CCOCC2)cc1OC</td>\n",
              "      <td>COc1cc(Nc2nc(NCC3CCN(c4ccc(Br)cc4)C3)nc(NCC(c3...</td>\n",
              "      <td>HSA</td>\n",
              "      <td>0</td>\n",
              "    </tr>\n",
              "    <tr>\n",
              "      <th>1</th>\n",
              "      <td>254844235</td>\n",
              "      <td>O=C(O)C[C@@H](Cc1cccs1)NC(=O)OCC1c2ccccc2-c2cc...</td>\n",
              "      <td>Nc1cccc2ocnc12</td>\n",
              "      <td>Nc1nc(Br)cn2ccnc12</td>\n",
              "      <td>O=C(C[C@@H](Cc1cccs1)Nc1nc(Nc2cccc3ocnc23)nc(N...</td>\n",
              "      <td>HSA</td>\n",
              "      <td>0</td>\n",
              "    </tr>\n",
              "    <tr>\n",
              "      <th>2</th>\n",
              "      <td>265535182</td>\n",
              "      <td>O=C(O)C[C@H](Cc1ccc(Br)cc1)NC(=O)OCC1c2ccccc2-...</td>\n",
              "      <td>NCc1c(F)cccc1N1CCCC1</td>\n",
              "      <td>Cl.NCc1ccc(-c2nnn[nH]2)cc1</td>\n",
              "      <td>O=C(C[C@H](Cc1ccc(Br)cc1)Nc1nc(NCc2ccc(-c3nnn[...</td>\n",
              "      <td>HSA</td>\n",
              "      <td>0</td>\n",
              "    </tr>\n",
              "    <tr>\n",
              "      <th>3</th>\n",
              "      <td>197401154</td>\n",
              "      <td>O=C(Nc1ccc(Cl)c(C(=O)O)c1)OCC1c2ccccc2-c2ccccc21</td>\n",
              "      <td>COC(C)(CN)C1CC1</td>\n",
              "      <td>CC1CCCC(CN)O1</td>\n",
              "      <td>COC(C)(CNc1nc(NCC2CCCC(C)O2)nc(Nc2ccc(Cl)c(C(=...</td>\n",
              "      <td>sEH</td>\n",
              "      <td>0</td>\n",
              "    </tr>\n",
              "    <tr>\n",
              "      <th>4</th>\n",
              "      <td>163911230</td>\n",
              "      <td>O=C(Nc1cc(C(=O)O)ccc1Br)OCC1c2ccccc2-c2ccccc21</td>\n",
              "      <td>Cl.Cl.NCc1cc2n(n1)CCCO2</td>\n",
              "      <td>COc1nc(Br)ccc1N</td>\n",
              "      <td>COc1nc(Br)ccc1Nc1nc(NCc2cc3n(n2)CCCO3)nc(Nc2cc...</td>\n",
              "      <td>sEH</td>\n",
              "      <td>0</td>\n",
              "    </tr>\n",
              "  </tbody>\n",
              "</table>\n",
              "</div>\n",
              "    <div class=\"colab-df-buttons\">\n",
              "\n",
              "  <div class=\"colab-df-container\">\n",
              "    <button class=\"colab-df-convert\" onclick=\"convertToInteractive('df-643c8e2b-0f5c-46a1-a4b3-f06458edaeb3')\"\n",
              "            title=\"Convert this dataframe to an interactive table.\"\n",
              "            style=\"display:none;\">\n",
              "\n",
              "  <svg xmlns=\"http://www.w3.org/2000/svg\" height=\"24px\" viewBox=\"0 -960 960 960\">\n",
              "    <path d=\"M120-120v-720h720v720H120Zm60-500h600v-160H180v160Zm220 220h160v-160H400v160Zm0 220h160v-160H400v160ZM180-400h160v-160H180v160Zm440 0h160v-160H620v160ZM180-180h160v-160H180v160Zm440 0h160v-160H620v160Z\"/>\n",
              "  </svg>\n",
              "    </button>\n",
              "\n",
              "  <style>\n",
              "    .colab-df-container {\n",
              "      display:flex;\n",
              "      gap: 12px;\n",
              "    }\n",
              "\n",
              "    .colab-df-convert {\n",
              "      background-color: #E8F0FE;\n",
              "      border: none;\n",
              "      border-radius: 50%;\n",
              "      cursor: pointer;\n",
              "      display: none;\n",
              "      fill: #1967D2;\n",
              "      height: 32px;\n",
              "      padding: 0 0 0 0;\n",
              "      width: 32px;\n",
              "    }\n",
              "\n",
              "    .colab-df-convert:hover {\n",
              "      background-color: #E2EBFA;\n",
              "      box-shadow: 0px 1px 2px rgba(60, 64, 67, 0.3), 0px 1px 3px 1px rgba(60, 64, 67, 0.15);\n",
              "      fill: #174EA6;\n",
              "    }\n",
              "\n",
              "    .colab-df-buttons div {\n",
              "      margin-bottom: 4px;\n",
              "    }\n",
              "\n",
              "    [theme=dark] .colab-df-convert {\n",
              "      background-color: #3B4455;\n",
              "      fill: #D2E3FC;\n",
              "    }\n",
              "\n",
              "    [theme=dark] .colab-df-convert:hover {\n",
              "      background-color: #434B5C;\n",
              "      box-shadow: 0px 1px 3px 1px rgba(0, 0, 0, 0.15);\n",
              "      filter: drop-shadow(0px 1px 2px rgba(0, 0, 0, 0.3));\n",
              "      fill: #FFFFFF;\n",
              "    }\n",
              "  </style>\n",
              "\n",
              "    <script>\n",
              "      const buttonEl =\n",
              "        document.querySelector('#df-643c8e2b-0f5c-46a1-a4b3-f06458edaeb3 button.colab-df-convert');\n",
              "      buttonEl.style.display =\n",
              "        google.colab.kernel.accessAllowed ? 'block' : 'none';\n",
              "\n",
              "      async function convertToInteractive(key) {\n",
              "        const element = document.querySelector('#df-643c8e2b-0f5c-46a1-a4b3-f06458edaeb3');\n",
              "        const dataTable =\n",
              "          await google.colab.kernel.invokeFunction('convertToInteractive',\n",
              "                                                    [key], {});\n",
              "        if (!dataTable) return;\n",
              "\n",
              "        const docLinkHtml = 'Like what you see? Visit the ' +\n",
              "          '<a target=\"_blank\" href=https://colab.research.google.com/notebooks/data_table.ipynb>data table notebook</a>'\n",
              "          + ' to learn more about interactive tables.';\n",
              "        element.innerHTML = '';\n",
              "        dataTable['output_type'] = 'display_data';\n",
              "        await google.colab.output.renderOutput(dataTable, element);\n",
              "        const docLink = document.createElement('div');\n",
              "        docLink.innerHTML = docLinkHtml;\n",
              "        element.appendChild(docLink);\n",
              "      }\n",
              "    </script>\n",
              "  </div>\n",
              "\n",
              "\n",
              "<div id=\"df-fa47aab1-a6f6-43b3-96e1-85059d55f4f8\">\n",
              "  <button class=\"colab-df-quickchart\" onclick=\"quickchart('df-fa47aab1-a6f6-43b3-96e1-85059d55f4f8')\"\n",
              "            title=\"Suggest charts\"\n",
              "            style=\"display:none;\">\n",
              "\n",
              "<svg xmlns=\"http://www.w3.org/2000/svg\" height=\"24px\"viewBox=\"0 0 24 24\"\n",
              "     width=\"24px\">\n",
              "    <g>\n",
              "        <path d=\"M19 3H5c-1.1 0-2 .9-2 2v14c0 1.1.9 2 2 2h14c1.1 0 2-.9 2-2V5c0-1.1-.9-2-2-2zM9 17H7v-7h2v7zm4 0h-2V7h2v10zm4 0h-2v-4h2v4z\"/>\n",
              "    </g>\n",
              "</svg>\n",
              "  </button>\n",
              "\n",
              "<style>\n",
              "  .colab-df-quickchart {\n",
              "      --bg-color: #E8F0FE;\n",
              "      --fill-color: #1967D2;\n",
              "      --hover-bg-color: #E2EBFA;\n",
              "      --hover-fill-color: #174EA6;\n",
              "      --disabled-fill-color: #AAA;\n",
              "      --disabled-bg-color: #DDD;\n",
              "  }\n",
              "\n",
              "  [theme=dark] .colab-df-quickchart {\n",
              "      --bg-color: #3B4455;\n",
              "      --fill-color: #D2E3FC;\n",
              "      --hover-bg-color: #434B5C;\n",
              "      --hover-fill-color: #FFFFFF;\n",
              "      --disabled-bg-color: #3B4455;\n",
              "      --disabled-fill-color: #666;\n",
              "  }\n",
              "\n",
              "  .colab-df-quickchart {\n",
              "    background-color: var(--bg-color);\n",
              "    border: none;\n",
              "    border-radius: 50%;\n",
              "    cursor: pointer;\n",
              "    display: none;\n",
              "    fill: var(--fill-color);\n",
              "    height: 32px;\n",
              "    padding: 0;\n",
              "    width: 32px;\n",
              "  }\n",
              "\n",
              "  .colab-df-quickchart:hover {\n",
              "    background-color: var(--hover-bg-color);\n",
              "    box-shadow: 0 1px 2px rgba(60, 64, 67, 0.3), 0 1px 3px 1px rgba(60, 64, 67, 0.15);\n",
              "    fill: var(--button-hover-fill-color);\n",
              "  }\n",
              "\n",
              "  .colab-df-quickchart-complete:disabled,\n",
              "  .colab-df-quickchart-complete:disabled:hover {\n",
              "    background-color: var(--disabled-bg-color);\n",
              "    fill: var(--disabled-fill-color);\n",
              "    box-shadow: none;\n",
              "  }\n",
              "\n",
              "  .colab-df-spinner {\n",
              "    border: 2px solid var(--fill-color);\n",
              "    border-color: transparent;\n",
              "    border-bottom-color: var(--fill-color);\n",
              "    animation:\n",
              "      spin 1s steps(1) infinite;\n",
              "  }\n",
              "\n",
              "  @keyframes spin {\n",
              "    0% {\n",
              "      border-color: transparent;\n",
              "      border-bottom-color: var(--fill-color);\n",
              "      border-left-color: var(--fill-color);\n",
              "    }\n",
              "    20% {\n",
              "      border-color: transparent;\n",
              "      border-left-color: var(--fill-color);\n",
              "      border-top-color: var(--fill-color);\n",
              "    }\n",
              "    30% {\n",
              "      border-color: transparent;\n",
              "      border-left-color: var(--fill-color);\n",
              "      border-top-color: var(--fill-color);\n",
              "      border-right-color: var(--fill-color);\n",
              "    }\n",
              "    40% {\n",
              "      border-color: transparent;\n",
              "      border-right-color: var(--fill-color);\n",
              "      border-top-color: var(--fill-color);\n",
              "    }\n",
              "    60% {\n",
              "      border-color: transparent;\n",
              "      border-right-color: var(--fill-color);\n",
              "    }\n",
              "    80% {\n",
              "      border-color: transparent;\n",
              "      border-right-color: var(--fill-color);\n",
              "      border-bottom-color: var(--fill-color);\n",
              "    }\n",
              "    90% {\n",
              "      border-color: transparent;\n",
              "      border-bottom-color: var(--fill-color);\n",
              "    }\n",
              "  }\n",
              "</style>\n",
              "\n",
              "  <script>\n",
              "    async function quickchart(key) {\n",
              "      const quickchartButtonEl =\n",
              "        document.querySelector('#' + key + ' button');\n",
              "      quickchartButtonEl.disabled = true;  // To prevent multiple clicks.\n",
              "      quickchartButtonEl.classList.add('colab-df-spinner');\n",
              "      try {\n",
              "        const charts = await google.colab.kernel.invokeFunction(\n",
              "            'suggestCharts', [key], {});\n",
              "      } catch (error) {\n",
              "        console.error('Error during call to suggestCharts:', error);\n",
              "      }\n",
              "      quickchartButtonEl.classList.remove('colab-df-spinner');\n",
              "      quickchartButtonEl.classList.add('colab-df-quickchart-complete');\n",
              "    }\n",
              "    (() => {\n",
              "      let quickchartButtonEl =\n",
              "        document.querySelector('#df-fa47aab1-a6f6-43b3-96e1-85059d55f4f8 button');\n",
              "      quickchartButtonEl.style.display =\n",
              "        google.colab.kernel.accessAllowed ? 'block' : 'none';\n",
              "    })();\n",
              "  </script>\n",
              "</div>\n",
              "\n",
              "    </div>\n",
              "  </div>\n"
            ],
            "application/vnd.google.colaboratory.intrinsic+json": {
              "type": "dataframe",
              "variable_name": "df",
              "summary": "{\n  \"name\": \"df\",\n  \"rows\": 60000,\n  \"fields\": [\n    {\n      \"column\": \"id\",\n      \"properties\": {\n        \"dtype\": \"number\",\n        \"std\": 83202926,\n        \"min\": 8431,\n        \"max\": 295246061,\n        \"num_unique_values\": 60000,\n        \"samples\": [\n          151654302,\n          108039735,\n          249543770\n        ],\n        \"semantic_type\": \"\",\n        \"description\": \"\"\n      }\n    },\n    {\n      \"column\": \"buildingblock1_smiles\",\n      \"properties\": {\n        \"dtype\": \"category\",\n        \"num_unique_values\": 271,\n        \"samples\": [\n          \"C=CCC(NC(=O)OCC1c2ccccc2-c2ccccc21)C(=O)O\",\n          \"O=C(Nc1cnccc1C(=O)O)OCC1c2ccccc2-c2ccccc21\",\n          \"N#Cc1cccc(C[C@H](CC(=O)O)NC(=O)OCC2c3ccccc3-c3ccccc32)c1\"\n        ],\n        \"semantic_type\": \"\",\n        \"description\": \"\"\n      }\n    },\n    {\n      \"column\": \"buildingblock2_smiles\",\n      \"properties\": {\n        \"dtype\": \"category\",\n        \"num_unique_values\": 693,\n        \"samples\": [\n          \"Nc1ncccc1CO\",\n          \"CS(=O)(=O)c1ccc(N)cc1\",\n          \"NCc1c[nH]c2ccccc12\"\n        ],\n        \"semantic_type\": \"\",\n        \"description\": \"\"\n      }\n    },\n    {\n      \"column\": \"buildingblock3_smiles\",\n      \"properties\": {\n        \"dtype\": \"category\",\n        \"num_unique_values\": 867,\n        \"samples\": [\n          \"CN1CCN(Cc2ccccc2N)CC1\",\n          \"COCCNC(=O)CN.Cl\",\n          \"COc1ccc2nc(N)sc2c1\"\n        ],\n        \"semantic_type\": \"\",\n        \"description\": \"\"\n      }\n    },\n    {\n      \"column\": \"molecule_smiles\",\n      \"properties\": {\n        \"dtype\": \"string\",\n        \"num_unique_values\": 59960,\n        \"samples\": [\n          \"N#Cc1cnc2c(C#N)cnn2c1Nc1nc(Nc2ccc3c(c2)OCCCO3)nc(Nc2ccc(C(=O)N[Dy])cc2OC(F)(F)F)n1\",\n          \"Cc1cc(Nc2nc(NCC3CCC(C(=O)N[Dy])CC3)nc(Nc3cc[nH]c(=O)n3)n2)n(-c2ccccc2)n1\",\n          \"C=C(Cl)CNc1nc(NCC2CCC(C(=O)N[Dy])CC2)nc(Nc2nccnc2C(=O)OC)n1\"\n        ],\n        \"semantic_type\": \"\",\n        \"description\": \"\"\n      }\n    },\n    {\n      \"column\": \"protein_name\",\n      \"properties\": {\n        \"dtype\": \"category\",\n        \"num_unique_values\": 3,\n        \"samples\": [\n          \"HSA\",\n          \"sEH\",\n          \"BRD4\"\n        ],\n        \"semantic_type\": \"\",\n        \"description\": \"\"\n      }\n    },\n    {\n      \"column\": \"binds\",\n      \"properties\": {\n        \"dtype\": \"number\",\n        \"std\": 0,\n        \"min\": 0,\n        \"max\": 1,\n        \"num_unique_values\": 2,\n        \"samples\": [\n          1,\n          0\n        ],\n        \"semantic_type\": \"\",\n        \"description\": \"\"\n      }\n    }\n  ]\n}"
            }
          },
          "metadata": {},
          "execution_count": 7
        }
      ]
    },
    {
      "cell_type": "code",
      "source": [
        "df.shape"
      ],
      "metadata": {
        "id": "XLBBO3CUd1xe",
        "colab": {
          "base_uri": "https://localhost:8080/"
        },
        "outputId": "1fb807c4-afa3-49c4-eed8-80c64c1b7b5f"
      },
      "execution_count": 8,
      "outputs": [
        {
          "output_type": "execute_result",
          "data": {
            "text/plain": [
              "(60000, 7)"
            ]
          },
          "metadata": {},
          "execution_count": 8
        }
      ]
    },
    {
      "cell_type": "code",
      "source": [
        "df['protein_name'].value_counts(normalize=True).plot(kind='bar')"
      ],
      "metadata": {
        "id": "ujlwMBUFeB_R",
        "colab": {
          "base_uri": "https://localhost:8080/",
          "height": 491
        },
        "outputId": "ddb079fd-7269-4b50-9a36-f017e520e3f4"
      },
      "execution_count": 9,
      "outputs": [
        {
          "output_type": "execute_result",
          "data": {
            "text/plain": [
              "<Axes: xlabel='protein_name'>"
            ]
          },
          "metadata": {},
          "execution_count": 9
        },
        {
          "output_type": "display_data",
          "data": {
            "text/plain": [
              "<Figure size 640x480 with 1 Axes>"
            ],
            "image/png": "[encoded data removed]"
          },
          "metadata": {}
        }
      ]
    },
    {
      "cell_type": "markdown",
      "source": [
        "### Targets\n",
        "\n",
        "**EPHX2 (sEH)**\n",
        "\n",
        "The first target, epoxide hydrolase 2, is encoded by the EPHX2 genetic locus, and its protein product is commonly named “soluble epoxide hydrolase”, or abbreviated to sEH. Hydrolases are enzymes that catalyze certain chemical reactions, and EPHX2/sEH also hydrolyzes certain phosphate groups. EPHX2/sEH is a potential drug target for high blood pressure and diabetes progression, and small molecules inhibiting EPHX2/sEH from earlier DEL efforts made it to clinical trials.\n",
        "\n",
        "EPHX2/sEH was also screened with DELs, and hits predicted with ML approaches, in a recent study but the screening data were not published. We included EPHX2/sEH to allow contestants an external gut check for model performance by comparing to these previously-published results.\n",
        "\n",
        "We screened EPHX2/sEH purchased from Cayman Chemical, a life sciences commercial vendor. For those contestants wishing to incorporate protein structural information in their submissions, the amino sequence is positions 2-555 from UniProt entry [P34913](https://www.uniprot.org/uniprotkb/P34913/entry#sequences), the crystal structure can be found in PDB entry [3i28](https://www.rcsb.org/structure/3i28), and predicted structure can be found in AlphaFold2 entry [34913](https://alphafold.ebi.ac.uk/entry/P34913). Additional EPHX2/sEH crystal structures with ligands bound can be found in PDB."
      ],
      "metadata": {
        "id": "jDSuKf6zB992"
      }
    },
    {
      "cell_type": "code",
      "source": [
        "# import py3Dmol\n",
        "# view = py3Dmol.view(query='pdb:3i38')\n",
        "# view.setStyle({\"cartoon\":{\"color\":\"white\"}})\n",
        "# view.setBackgroundColor(\"black\")\n",
        "# view.show()"
      ],
      "metadata": {
        "id": "jYSc2Vd9CRof"
      },
      "execution_count": 10,
      "outputs": []
    },
    {
      "cell_type": "markdown",
      "source": [
        "**BRD4**\n",
        "\n",
        "The second target, bromodomain 4, is encoded by the BRD4 locus and its protein product is also named BRD4. Bromodomains bind to protein spools in the nucleus that DNA wraps around (called histones) and affect the likelihood that the DNA nearby is going to be transcribed, producing new gene products. Bromodomains play roles in cancer progression and a number of drugs have been discovered to inhibit their activities.\n",
        "\n",
        "BRD4 has been screened with DEL approaches previously but the screening data were not published. We included BRD4 to allow contestants to evaluate candidate molecules for oncology indications.\n",
        "\n",
        "We screened BRD4 purchased from Active Motif, a life sciences commercial vendor. For those contestants wishing to incorporate protein structural information in their submissions, the amino acid sequence is positions 44-460 from UniProt entry [O60885-1](https://www.uniprot.org/uniprotkb/O60885/entry#sequences), the crystal structure (for a single domain) can be found in PDB entry [7USK](https://www.rcsb.org/structure/7USK) and predicted structure can be found in AlphaFold2 entry [O60885](https://alphafold.ebi.ac.uk/entry/O60885\n",
        "). Additional BRD4 crystal structures with ligands bound can be found in PDB."
      ],
      "metadata": {
        "id": "kBRml-yDDA_0"
      }
    },
    {
      "cell_type": "code",
      "source": [
        "# view = py3Dmol.view(query='pdb:7usk')\n",
        "# view.setStyle({\"cartoon\":{\"color\":\"white\"}})\n",
        "# view.setBackgroundColor(\"black\")\n",
        "# view.show()"
      ],
      "metadata": {
        "id": "3hxXSZK9DtTP"
      },
      "execution_count": 11,
      "outputs": []
    },
    {
      "cell_type": "markdown",
      "source": [
        "**ALB (HSA)**\n",
        "\n",
        "\n",
        "The third target, serum albumin, is encoded by the ALB locus and its protein product is also named ALB. The protein product is sometimes abbreviated as HSA, for “human serum albumin”. ALB, the most common protein in the blood, is used to drive osmotic pressure (to bring fluid back from tissues into blood vessels) and to transport many ligands, hormones, fatty acids, and more.\n",
        "\n",
        "Albumin, being the most abundant protein in the blood, often plays a role in absorbing candidate drugs in the body and sequestering them from their target tissues. Adjusting candidate drugs to bind less to albumin and other blood proteins is a strategy to help these candidate drugs be more effective.\n",
        "\n",
        "ALB has been screened with DEL approaches previously but the screening data were not published. We included ALB to allow contestants to build models that might have a larger impact on drug discovery across many disease types. The ability to predict ALB binding well would allow drug developers to improve their candidate small molecule therapies much more quickly than physically manufacturing many variants and testing them against ALB empirically in an iterative process.\n",
        "\n",
        "We screened ALB purchased from Active Motif. For those contestants wishing to incorporate protein structural information in their submissions, the amino acid sequence is positions 25 to 609 from UniProt entry [P02768](https://www.uniprot.org/uniprotkb/P02768/entry#sequences), the crystal structure can be found in PDB entry [1AO6](https://www.ebi.ac.uk/pdbe/entry/pdb/1AO6), and predicted structure can be found in AlphaFold2 entry [P02768](https://alphafold.ebi.ac.uk/entry/P02768). Additional ALB crystal structures with ligands bound can be found in PDB.\n",
        "\n"
      ],
      "metadata": {
        "id": "N5Mf4TRCD9zC"
      }
    },
    {
      "cell_type": "code",
      "source": [
        "# view = py3Dmol.view(query='pdb:1ao6')\n",
        "# view.setStyle({\"cartoon\":{\"color\":\"white\"}})\n",
        "# view.setBackgroundColor(\"black\")\n",
        "# view.show()"
      ],
      "metadata": {
        "id": "nbNO5FNiF1Cj"
      },
      "execution_count": 12,
      "outputs": []
    },
    {
      "cell_type": "code",
      "source": [
        "df['binds'].value_counts()"
      ],
      "metadata": {
        "id": "X_bSx8sweJmb",
        "colab": {
          "base_uri": "https://localhost:8080/"
        },
        "outputId": "53642e2d-ab53-476a-a914-37b18e16f119"
      },
      "execution_count": 13,
      "outputs": [
        {
          "output_type": "execute_result",
          "data": {
            "text/plain": [
              "binds\n",
              "0    30000\n",
              "1    30000\n",
              "Name: count, dtype: int64"
            ]
          },
          "metadata": {},
          "execution_count": 13
        }
      ]
    },
    {
      "cell_type": "code",
      "source": [
        "df['buildingblock1_smiles'].value_counts()"
      ],
      "metadata": {
        "id": "r06XBIPxewND",
        "colab": {
          "base_uri": "https://localhost:8080/"
        },
        "outputId": "b18f8d64-acad-4d9d-8ad8-7993a3b71812"
      },
      "execution_count": 14,
      "outputs": [
        {
          "output_type": "execute_result",
          "data": {
            "text/plain": [
              "buildingblock1_smiles\n",
              "O=C(NCC1CCC(C(=O)O)CC1)OCC1c2ccccc2-c2ccccc21             5009\n",
              "O=C(NC[C@H]1CC[C@H](C(=O)O)CC1)OCC1c2ccccc2-c2ccccc21     3209\n",
              "CC(C)CC(NC(=O)OCC1c2ccccc2-c2ccccc21)C(=O)O                788\n",
              "O=C(NC(Cc1ccccc1)C(=O)O)OCC1c2ccccc2-c2ccccc21             694\n",
              "CC(OC(C)(C)C)C(NC(=O)OCC1c2ccccc2-c2ccccc21)C(=O)O         692\n",
              "                                                          ... \n",
              "O=C(NC1(C(=O)O)CC1)OCC1c2ccccc2-c2ccccc21                  108\n",
              "C=CCC(CC=C)(NC(=O)OCC1c2ccccc2-c2ccccc21)C(=O)O            105\n",
              "O=C(Nc1ccc(C(=O)O)cc1C(F)(F)F)OCC1c2ccccc2-c2ccccc21       102\n",
              "O=C(Nc1c(Cl)c(Cl)nc(C(=O)O)c1Cl)OCC1c2ccccc2-c2ccccc21     102\n",
              "O=C(Nc1ncc(Br)nc1C(=O)O)OCC1c2ccccc2-c2ccccc21              94\n",
              "Name: count, Length: 271, dtype: int64"
            ]
          },
          "metadata": {},
          "execution_count": 14
        }
      ]
    },
    {
      "cell_type": "code",
      "source": [
        "df['molecule_smiles'].value_counts()"
      ],
      "metadata": {
        "id": "UmsalBLjaJDQ",
        "colab": {
          "base_uri": "https://localhost:8080/"
        },
        "outputId": "d658bc85-9e97-4c6d-a998-c61de8531e5e"
      },
      "execution_count": 15,
      "outputs": [
        {
          "output_type": "execute_result",
          "data": {
            "text/plain": [
              "molecule_smiles\n",
              "COC(=O)c1cncc(Nc2nc(Nc3cn[nH]c3)nc(Nc3ccc(C(=O)N[Dy])c(F)c3)n2)c1                                     2\n",
              "CCOC(=O)c1c[nH]nc1Nc1nc(Nc2ccc(Br)cc2C(=O)N[Dy])nc(Nc2cccnc2C(=O)OCC)n1                               2\n",
              "CCC(C)C(Nc1nc(NCc2ccc3[nH]c(C)cc3c2)nc(Nc2ccc3c(c2)COC3=O)n1)C(=O)N[Dy]                               2\n",
              "COc1cc(C(=O)N[Dy])c(N)cc1Nc1nc(NCc2cnc(-c3ccccc3)o2)nc(Nc2cncnc2)n1                                   2\n",
              "Cc1sc(Nc2nc(NCc3cncc(F)c3)nc(N[C@H](CC(=O)N[Dy])Cc3cccs3)n2)c(C#N)c1C                                 2\n",
              "                                                                                                     ..\n",
              "CC(=O)SCCNc1nc(Nc2cccc(F)c2C#N)nc(Nc2c(Br)cc(C(=O)N[Dy])cc2Br)n1                                      1\n",
              "CN(c1nc(NCc2noc(C3CCOCC3)n2)nc(Nc2ccc(O)cn2)n1)[C@@H](CC1CCCCC1)C(=O)N[Dy]                            1\n",
              "Cc1cc(Cl)cc(C(=O)N[Dy])c1Nc1nc(NCC23CCCC(CO2)C3)nc(Nc2cccnc2C)n1                                      1\n",
              "Cn1cc(C[C@@H](Nc2nc(Nc3ccc4c(c3)C(O)CCC4)nc(Nc3ccc4c(cnn4C(=O)OC(C)(C)C)c3)n2)C(=O)N[Dy])c2ccccc21    1\n",
              "Cc1cnc(Nc2nc(NCC(=O)N[Dy])nc(NCc3cncc(F)c3)n2)s1                                                      1\n",
              "Name: count, Length: 59960, dtype: int64"
            ]
          },
          "metadata": {},
          "execution_count": 15
        }
      ]
    },
    {
      "cell_type": "code",
      "source": [
        "df[df['binds'] == 1]['buildingblock1_smiles'].value_counts()"
      ],
      "metadata": {
        "id": "WFxU9BlQaOPp",
        "colab": {
          "base_uri": "https://localhost:8080/"
        },
        "outputId": "082282ed-1187-4fe5-cddf-4c139431929c"
      },
      "execution_count": 16,
      "outputs": [
        {
          "output_type": "execute_result",
          "data": {
            "text/plain": [
              "buildingblock1_smiles\n",
              "O=C(NCC1CCC(C(=O)O)CC1)OCC1c2ccccc2-c2ccccc21                  4925\n",
              "O=C(NC[C@H]1CC[C@H](C(=O)O)CC1)OCC1c2ccccc2-c2ccccc21          3114\n",
              "CC(C)CC(NC(=O)OCC1c2ccccc2-c2ccccc21)C(=O)O                     689\n",
              "CC(OC(C)(C)C)C(NC(=O)OCC1c2ccccc2-c2ccccc21)C(=O)O              587\n",
              "O=C(NC(Cc1ccccc1)C(=O)O)OCC1c2ccccc2-c2ccccc21                  584\n",
              "                                                               ... \n",
              "O=C(Nc1c(Cl)c(Cl)nc(C(=O)O)c1Cl)OCC1c2ccccc2-c2ccccc21            2\n",
              "O=C(Nc1nc(C(F)(F)F)c(C(=O)O)s1)OCC1c2ccccc2-c2ccccc21             1\n",
              "O=C(Nc1c(Cl)cc(Cl)nc1C(=O)O)OCC1c2ccccc2-c2ccccc21                1\n",
              "CCS(=O)(=O)c1cc(C(=O)O)c(OC)cc1NC(=O)OCC1c2ccccc2-c2ccccc21       1\n",
              "O=C(Nc1c(C(=O)O)cnn1-c1ccc(F)cc1)OCC1c2ccccc2-c2ccccc21           1\n",
              "Name: count, Length: 269, dtype: int64"
            ]
          },
          "metadata": {},
          "execution_count": 16
        }
      ]
    },
    {
      "cell_type": "code",
      "source": [
        "df.isna().sum()"
      ],
      "metadata": {
        "id": "7KVplCyGbohy",
        "colab": {
          "base_uri": "https://localhost:8080/"
        },
        "outputId": "dee625ee-cb2a-4708-ed9e-f98195f7a86c"
      },
      "execution_count": 17,
      "outputs": [
        {
          "output_type": "execute_result",
          "data": {
            "text/plain": [
              "id                       0\n",
              "buildingblock1_smiles    0\n",
              "buildingblock2_smiles    0\n",
              "buildingblock3_smiles    0\n",
              "molecule_smiles          0\n",
              "protein_name             0\n",
              "binds                    0\n",
              "dtype: int64"
            ]
          },
          "metadata": {},
          "execution_count": 17
        }
      ]
    },
    {
      "cell_type": "code",
      "source": [
        "df[df['binds'] == 1]['protein_name'].value_counts(normalize=True).plot(kind='bar')"
      ],
      "metadata": {
        "id": "HC18jzhAPdGG",
        "colab": {
          "base_uri": "https://localhost:8080/",
          "height": 491
        },
        "outputId": "a7ceff79-4ef1-4dc9-8034-371143f0d19b"
      },
      "execution_count": 18,
      "outputs": [
        {
          "output_type": "execute_result",
          "data": {
            "text/plain": [
              "<Axes: xlabel='protein_name'>"
            ]
          },
          "metadata": {},
          "execution_count": 18
        },
        {
          "output_type": "display_data",
          "data": {
            "text/plain": [
              "<Figure size 640x480 with 1 Axes>"
            ],
            "image/png": "[encoded data removed]"
          },
          "metadata": {}
        }
      ]
    },
    {
      "cell_type": "code",
      "source": [
        "df = df[df['protein_name'] == 'HSA']"
      ],
      "metadata": {
        "id": "hcVXiSDkLVWD"
      },
      "execution_count": 20,
      "outputs": []
    },
    {
      "cell_type": "code",
      "source": [
        "from rdkit import Chem\n",
        "from rdkit.Chem import PandasTools\n",
        "from rdkit import DataStructs\n",
        "from rdkit.Chem import Descriptors\n",
        "from rdkit.Chem.Descriptors import CalcMolDescriptors\n",
        "from rdkit.ML.Descriptors import MoleculeDescriptors\n",
        "from rdkit.Chem import AllChem\n",
        "from mordred import Calculator, descriptors"
      ],
      "metadata": {
        "id": "10dvfQbCLf76"
      },
      "execution_count": 21,
      "outputs": []
    },
    {
      "cell_type": "code",
      "source": [
        "from tqdm.auto import tqdm\n",
        "from rdkit import Chem\n",
        "from rdkit import RDLogger\n",
        "\n",
        "# Suppress RDKit warnings and info messages\n",
        "RDLogger.DisableLog('rdApp.*')\n",
        "\n",
        "# Create canonical smiles to check for duplicates\n",
        "def canonical_smiles(smiles):\n",
        "    mol = Chem.MolFromSmiles(smiles)\n",
        "    if mol is not None:\n",
        "        return Chem.MolToSmiles(mol)\n",
        "    else:\n",
        "        return False\n",
        "\n",
        "# Example usage with a DataFrame column\n",
        "def process_dataframe(df):\n",
        "    canonical_smiles_list = []\n",
        "    for smiles in tqdm(df['molecule_smiles'], desc=\"Processing DataFrame\"):\n",
        "        canonical_smiles_list.append(canonical_smiles(smiles))\n",
        "    df['canonical_smiles'] = canonical_smiles_list\n",
        "    return df\n",
        "\n",
        "# Process the DataFrame\n",
        "df = process_dataframe(df)\n",
        "df.head()"
      ],
      "metadata": {
        "id": "ps2XeRIH5DHD",
        "colab": {
          "base_uri": "https://localhost:8080/",
          "height": 446,
          "referenced_widgets": [
            "be9c035e3be0494d95f90dcf6517afe1",
            "052874b695d4419899c7cc800908d4f4",
            "481dc8fb5dc14226ace73bbc6b0000df",
            "ddb1e0d6d2ac47c0a13316b722d3a844",
            "e263888bce87454f8487239e9c23f762",
            "2f4a46279f2d400ba9a7c9cf1c08ba3e",
            "a6b68d52e4c44a2e95407680e23efb94",
            "35df31ded8594491a151c62b08e7ca82",
            "f30005670e934467a6850256fc184ef9",
            "85ace58986b54028a1daa811269c2a06",
            "77e3117077744d35bd0b1c12494e2814"
          ]
        },
        "outputId": "7a5d618b-ec8e-4537-befd-787264b257c5"
      },
      "execution_count": 22,
      "outputs": [
        {
          "output_type": "display_data",
          "data": {
            "text/plain": [
              "Processing DataFrame:   0%|          | 0/17558 [00:00<?, ?it/s]"
            ],
            "application/vnd.jupyter.widget-view+json": {
              "version_major": 2,
              "version_minor": 0,
              "model_id": "be9c035e3be0494d95f90dcf6517afe1"
            }
          },
          "metadata": {}
        },
        {
          "output_type": "stream",
          "name": "stderr",
          "text": [
            "<ipython-input-22-a67ba4a789c3>:21: SettingWithCopyWarning: \n",
            "A value is trying to be set on a copy of a slice from a DataFrame.\n",
            "Try using .loc[row_indexer,col_indexer] = value instead\n",
            "\n",
            "See the caveats in the documentation: https://pandas.pydata.org/pandas-docs/stable/user_guide/indexing.html#returning-a-view-versus-a-copy\n",
            "  df['canonical_smiles'] = canonical_smiles_list\n"
          ]
        },
        {
          "output_type": "execute_result",
          "data": {
            "text/plain": [
              "          id                              buildingblock1_smiles  \\\n",
              "0   32165317  COc1cc(NC(=O)OCC2c3ccccc3-c3ccccc32)c(C(=O)O)c...   \n",
              "1  254844235  O=C(O)C[C@@H](Cc1cccs1)NC(=O)OCC1c2ccccc2-c2cc...   \n",
              "2  265535182  O=C(O)C[C@H](Cc1ccc(Br)cc1)NC(=O)OCC1c2ccccc2-...   \n",
              "5   14282116  CC(C)(C)OC(=O)N1CCN(C(=O)OCC2c3ccccc3-c3ccccc3...   \n",
              "6  193023448  O=C(Nc1ccc(C(=O)O)cc1OC(F)(F)F)OCC1c2ccccc2-c2...   \n",
              "\n",
              "        buildingblock2_smiles        buildingblock3_smiles  \\\n",
              "0  Cl.NCC1CCN(c2ccc(Br)cc2)C1  COc1ccc(C(CN)N2CCOCC2)cc1OC   \n",
              "1              Nc1cccc2ocnc12           Nc1nc(Br)cn2ccnc12   \n",
              "2        NCc1c(F)cccc1N1CCCC1   Cl.NCc1ccc(-c2nnn[nH]2)cc1   \n",
              "5           CCON(C)C(=O)CN.Cl        Cc1[nH][nH]c(=O)c1CCN   \n",
              "6         COC(=O)c1ccc(N)cc1C     Cc1nn(C)c2ncc(CN)cc12.Cl   \n",
              "\n",
              "                                     molecule_smiles protein_name  binds  \\\n",
              "0  COc1cc(Nc2nc(NCC3CCN(c4ccc(Br)cc4)C3)nc(NCC(c3...          HSA      0   \n",
              "1  O=C(C[C@@H](Cc1cccs1)Nc1nc(Nc2cccc3ocnc23)nc(N...          HSA      0   \n",
              "2  O=C(C[C@H](Cc1ccc(Br)cc1)Nc1nc(NCc2ccc(-c3nnn[...          HSA      0   \n",
              "5  CCON(C)C(=O)CNc1nc(NCCc2c(C)[nH][nH]c2=O)nc(N2...          HSA      0   \n",
              "6  COC(=O)c1ccc(Nc2nc(NCc3cnc4c(c3)c(C)nn4C)nc(Nc...          HSA      0   \n",
              "\n",
              "                                    canonical_smiles  \n",
              "0  COc1cc(Nc2nc(NCC3CCN(c4ccc(Br)cc4)C3)nc(NCC(c3...  \n",
              "1  O=C(C[C@@H](Cc1cccs1)Nc1nc(Nc2cccc3ocnc23)nc(N...  \n",
              "2  O=C(C[C@H](Cc1ccc(Br)cc1)Nc1nc(NCc2ccc(-c3nnn[...  \n",
              "5  CCON(C)C(=O)CNc1nc(NCCc2c(C)[nH][nH]c2=O)nc(N2...  \n",
              "6  COC(=O)c1ccc(Nc2nc(NCc3cnc4c(c3)c(C)nn4C)nc(Nc...  "
            ],
            "text/html": [
              "\n",
              "  <div id=\"df-a9cec553-7452-47f0-96f4-2ac5a29a7059\" class=\"colab-df-container\">\n",
              "    <div>\n",
              "<style scoped>\n",
              "    .dataframe tbody tr th:only-of-type {\n",
              "        vertical-align: middle;\n",
              "    }\n",
              "\n",
              "    .dataframe tbody tr th {\n",
              "        vertical-align: top;\n",
              "    }\n",
              "\n",
              "    .dataframe thead th {\n",
              "        text-align: right;\n",
              "    }\n",
              "</style>\n",
              "<table border=\"1\" class=\"dataframe\">\n",
              "  <thead>\n",
              "    <tr style=\"text-align: right;\">\n",
              "      <th></th>\n",
              "      <th>id</th>\n",
              "      <th>buildingblock1_smiles</th>\n",
              "      <th>buildingblock2_smiles</th>\n",
              "      <th>buildingblock3_smiles</th>\n",
              "      <th>molecule_smiles</th>\n",
              "      <th>protein_name</th>\n",
              "      <th>binds</th>\n",
              "      <th>canonical_smiles</th>\n",
              "    </tr>\n",
              "  </thead>\n",
              "  <tbody>\n",
              "    <tr>\n",
              "      <th>0</th>\n",
              "      <td>32165317</td>\n",
              "      <td>COc1cc(NC(=O)OCC2c3ccccc3-c3ccccc32)c(C(=O)O)c...</td>\n",
              "      <td>Cl.NCC1CCN(c2ccc(Br)cc2)C1</td>\n",
              "      <td>COc1ccc(C(CN)N2CCOCC2)cc1OC</td>\n",
              "      <td>COc1cc(Nc2nc(NCC3CCN(c4ccc(Br)cc4)C3)nc(NCC(c3...</td>\n",
              "      <td>HSA</td>\n",
              "      <td>0</td>\n",
              "      <td>COc1cc(Nc2nc(NCC3CCN(c4ccc(Br)cc4)C3)nc(NCC(c3...</td>\n",
              "    </tr>\n",
              "    <tr>\n",
              "      <th>1</th>\n",
              "      <td>254844235</td>\n",
              "      <td>O=C(O)C[C@@H](Cc1cccs1)NC(=O)OCC1c2ccccc2-c2cc...</td>\n",
              "      <td>Nc1cccc2ocnc12</td>\n",
              "      <td>Nc1nc(Br)cn2ccnc12</td>\n",
              "      <td>O=C(C[C@@H](Cc1cccs1)Nc1nc(Nc2cccc3ocnc23)nc(N...</td>\n",
              "      <td>HSA</td>\n",
              "      <td>0</td>\n",
              "      <td>O=C(C[C@@H](Cc1cccs1)Nc1nc(Nc2cccc3ocnc23)nc(N...</td>\n",
              "    </tr>\n",
              "    <tr>\n",
              "      <th>2</th>\n",
              "      <td>265535182</td>\n",
              "      <td>O=C(O)C[C@H](Cc1ccc(Br)cc1)NC(=O)OCC1c2ccccc2-...</td>\n",
              "      <td>NCc1c(F)cccc1N1CCCC1</td>\n",
              "      <td>Cl.NCc1ccc(-c2nnn[nH]2)cc1</td>\n",
              "      <td>O=C(C[C@H](Cc1ccc(Br)cc1)Nc1nc(NCc2ccc(-c3nnn[...</td>\n",
              "      <td>HSA</td>\n",
              "      <td>0</td>\n",
              "      <td>O=C(C[C@H](Cc1ccc(Br)cc1)Nc1nc(NCc2ccc(-c3nnn[...</td>\n",
              "    </tr>\n",
              "    <tr>\n",
              "      <th>5</th>\n",
              "      <td>14282116</td>\n",
              "      <td>CC(C)(C)OC(=O)N1CCN(C(=O)OCC2c3ccccc3-c3ccccc3...</td>\n",
              "      <td>CCON(C)C(=O)CN.Cl</td>\n",
              "      <td>Cc1[nH][nH]c(=O)c1CCN</td>\n",
              "      <td>CCON(C)C(=O)CNc1nc(NCCc2c(C)[nH][nH]c2=O)nc(N2...</td>\n",
              "      <td>HSA</td>\n",
              "      <td>0</td>\n",
              "      <td>CCON(C)C(=O)CNc1nc(NCCc2c(C)[nH][nH]c2=O)nc(N2...</td>\n",
              "    </tr>\n",
              "    <tr>\n",
              "      <th>6</th>\n",
              "      <td>193023448</td>\n",
              "      <td>O=C(Nc1ccc(C(=O)O)cc1OC(F)(F)F)OCC1c2ccccc2-c2...</td>\n",
              "      <td>COC(=O)c1ccc(N)cc1C</td>\n",
              "      <td>Cc1nn(C)c2ncc(CN)cc12.Cl</td>\n",
              "      <td>COC(=O)c1ccc(Nc2nc(NCc3cnc4c(c3)c(C)nn4C)nc(Nc...</td>\n",
              "      <td>HSA</td>\n",
              "      <td>0</td>\n",
              "      <td>COC(=O)c1ccc(Nc2nc(NCc3cnc4c(c3)c(C)nn4C)nc(Nc...</td>\n",
              "    </tr>\n",
              "  </tbody>\n",
              "</table>\n",
              "</div>\n",
              "    <div class=\"colab-df-buttons\">\n",
              "\n",
              "  <div class=\"colab-df-container\">\n",
              "    <button class=\"colab-df-convert\" onclick=\"convertToInteractive('df-a9cec553-7452-47f0-96f4-2ac5a29a7059')\"\n",
              "            title=\"Convert this dataframe to an interactive table.\"\n",
              "            style=\"display:none;\">\n",
              "\n",
              "  <svg xmlns=\"http://www.w3.org/2000/svg\" height=\"24px\" viewBox=\"0 -960 960 960\">\n",
              "    <path d=\"M120-120v-720h720v720H120Zm60-500h600v-160H180v160Zm220 220h160v-160H400v160Zm0 220h160v-160H400v160ZM180-400h160v-160H180v160Zm440 0h160v-160H620v160ZM180-180h160v-160H180v160Zm440 0h160v-160H620v160Z\"/>\n",
              "  </svg>\n",
              "    </button>\n",
              "\n",
              "  <style>\n",
              "    .colab-df-container {\n",
              "      display:flex;\n",
              "      gap: 12px;\n",
              "    }\n",
              "\n",
              "    .colab-df-convert {\n",
              "      background-color: #E8F0FE;\n",
              "      border: none;\n",
              "      border-radius: 50%;\n",
              "      cursor: pointer;\n",
              "      display: none;\n",
              "      fill: #1967D2;\n",
              "      height: 32px;\n",
              "      padding: 0 0 0 0;\n",
              "      width: 32px;\n",
              "    }\n",
              "\n",
              "    .colab-df-convert:hover {\n",
              "      background-color: #E2EBFA;\n",
              "      box-shadow: 0px 1px 2px rgba(60, 64, 67, 0.3), 0px 1px 3px 1px rgba(60, 64, 67, 0.15);\n",
              "      fill: #174EA6;\n",
              "    }\n",
              "\n",
              "    .colab-df-buttons div {\n",
              "      margin-bottom: 4px;\n",
              "    }\n",
              "\n",
              "    [theme=dark] .colab-df-convert {\n",
              "      background-color: #3B4455;\n",
              "      fill: #D2E3FC;\n",
              "    }\n",
              "\n",
              "    [theme=dark] .colab-df-convert:hover {\n",
              "      background-color: #434B5C;\n",
              "      box-shadow: 0px 1px 3px 1px rgba(0, 0, 0, 0.15);\n",
              "      filter: drop-shadow(0px 1px 2px rgba(0, 0, 0, 0.3));\n",
              "      fill: #FFFFFF;\n",
              "    }\n",
              "  </style>\n",
              "\n",
              "    <script>\n",
              "      const buttonEl =\n",
              "        document.querySelector('#df-a9cec553-7452-47f0-96f4-2ac5a29a7059 button.colab-df-convert');\n",
              "      buttonEl.style.display =\n",
              "        google.colab.kernel.accessAllowed ? 'block' : 'none';\n",
              "\n",
              "      async function convertToInteractive(key) {\n",
              "        const element = document.querySelector('#df-a9cec553-7452-47f0-96f4-2ac5a29a7059');\n",
              "        const dataTable =\n",
              "          await google.colab.kernel.invokeFunction('convertToInteractive',\n",
              "                                                    [key], {});\n",
              "        if (!dataTable) return;\n",
              "\n",
              "        const docLinkHtml = 'Like what you see? Visit the ' +\n",
              "          '<a target=\"_blank\" href=https://colab.research.google.com/notebooks/data_table.ipynb>data table notebook</a>'\n",
              "          + ' to learn more about interactive tables.';\n",
              "        element.innerHTML = '';\n",
              "        dataTable['output_type'] = 'display_data';\n",
              "        await google.colab.output.renderOutput(dataTable, element);\n",
              "        const docLink = document.createElement('div');\n",
              "        docLink.innerHTML = docLinkHtml;\n",
              "        element.appendChild(docLink);\n",
              "      }\n",
              "    </script>\n",
              "  </div>\n",
              "\n",
              "\n",
              "<div id=\"df-ad6a6e41-4feb-4f7a-bbc0-208679ba62e3\">\n",
              "  <button class=\"colab-df-quickchart\" onclick=\"quickchart('df-ad6a6e41-4feb-4f7a-bbc0-208679ba62e3')\"\n",
              "            title=\"Suggest charts\"\n",
              "            style=\"display:none;\">\n",
              "\n",
              "<svg xmlns=\"http://www.w3.org/2000/svg\" height=\"24px\"viewBox=\"0 0 24 24\"\n",
              "     width=\"24px\">\n",
              "    <g>\n",
              "        <path d=\"M19 3H5c-1.1 0-2 .9-2 2v14c0 1.1.9 2 2 2h14c1.1 0 2-.9 2-2V5c0-1.1-.9-2-2-2zM9 17H7v-7h2v7zm4 0h-2V7h2v10zm4 0h-2v-4h2v4z\"/>\n",
              "    </g>\n",
              "</svg>\n",
              "  </button>\n",
              "\n",
              "<style>\n",
              "  .colab-df-quickchart {\n",
              "      --bg-color: #E8F0FE;\n",
              "      --fill-color: #1967D2;\n",
              "      --hover-bg-color: #E2EBFA;\n",
              "      --hover-fill-color: #174EA6;\n",
              "      --disabled-fill-color: #AAA;\n",
              "      --disabled-bg-color: #DDD;\n",
              "  }\n",
              "\n",
              "  [theme=dark] .colab-df-quickchart {\n",
              "      --bg-color: #3B4455;\n",
              "      --fill-color: #D2E3FC;\n",
              "      --hover-bg-color: #434B5C;\n",
              "      --hover-fill-color: #FFFFFF;\n",
              "      --disabled-bg-color: #3B4455;\n",
              "      --disabled-fill-color: #666;\n",
              "  }\n",
              "\n",
              "  .colab-df-quickchart {\n",
              "    background-color: var(--bg-color);\n",
              "    border: none;\n",
              "    border-radius: 50%;\n",
              "    cursor: pointer;\n",
              "    display: none;\n",
              "    fill: var(--fill-color);\n",
              "    height: 32px;\n",
              "    padding: 0;\n",
              "    width: 32px;\n",
              "  }\n",
              "\n",
              "  .colab-df-quickchart:hover {\n",
              "    background-color: var(--hover-bg-color);\n",
              "    box-shadow: 0 1px 2px rgba(60, 64, 67, 0.3), 0 1px 3px 1px rgba(60, 64, 67, 0.15);\n",
              "    fill: var(--button-hover-fill-color);\n",
              "  }\n",
              "\n",
              "  .colab-df-quickchart-complete:disabled,\n",
              "  .colab-df-quickchart-complete:disabled:hover {\n",
              "    background-color: var(--disabled-bg-color);\n",
              "    fill: var(--disabled-fill-color);\n",
              "    box-shadow: none;\n",
              "  }\n",
              "\n",
              "  .colab-df-spinner {\n",
              "    border: 2px solid var(--fill-color);\n",
              "    border-color: transparent;\n",
              "    border-bottom-color: var(--fill-color);\n",
              "    animation:\n",
              "      spin 1s steps(1) infinite;\n",
              "  }\n",
              "\n",
              "  @keyframes spin {\n",
              "    0% {\n",
              "      border-color: transparent;\n",
              "      border-bottom-color: var(--fill-color);\n",
              "      border-left-color: var(--fill-color);\n",
              "    }\n",
              "    20% {\n",
              "      border-color: transparent;\n",
              "      border-left-color: var(--fill-color);\n",
              "      border-top-color: var(--fill-color);\n",
              "    }\n",
              "    30% {\n",
              "      border-color: transparent;\n",
              "      border-left-color: var(--fill-color);\n",
              "      border-top-color: var(--fill-color);\n",
              "      border-right-color: var(--fill-color);\n",
              "    }\n",
              "    40% {\n",
              "      border-color: transparent;\n",
              "      border-right-color: var(--fill-color);\n",
              "      border-top-color: var(--fill-color);\n",
              "    }\n",
              "    60% {\n",
              "      border-color: transparent;\n",
              "      border-right-color: var(--fill-color);\n",
              "    }\n",
              "    80% {\n",
              "      border-color: transparent;\n",
              "      border-right-color: var(--fill-color);\n",
              "      border-bottom-color: var(--fill-color);\n",
              "    }\n",
              "    90% {\n",
              "      border-color: transparent;\n",
              "      border-bottom-color: var(--fill-color);\n",
              "    }\n",
              "  }\n",
              "</style>\n",
              "\n",
              "  <script>\n",
              "    async function quickchart(key) {\n",
              "      const quickchartButtonEl =\n",
              "        document.querySelector('#' + key + ' button');\n",
              "      quickchartButtonEl.disabled = true;  // To prevent multiple clicks.\n",
              "      quickchartButtonEl.classList.add('colab-df-spinner');\n",
              "      try {\n",
              "        const charts = await google.colab.kernel.invokeFunction(\n",
              "            'suggestCharts', [key], {});\n",
              "      } catch (error) {\n",
              "        console.error('Error during call to suggestCharts:', error);\n",
              "      }\n",
              "      quickchartButtonEl.classList.remove('colab-df-spinner');\n",
              "      quickchartButtonEl.classList.add('colab-df-quickchart-complete');\n",
              "    }\n",
              "    (() => {\n",
              "      let quickchartButtonEl =\n",
              "        document.querySelector('#df-ad6a6e41-4feb-4f7a-bbc0-208679ba62e3 button');\n",
              "      quickchartButtonEl.style.display =\n",
              "        google.colab.kernel.accessAllowed ? 'block' : 'none';\n",
              "    })();\n",
              "  </script>\n",
              "</div>\n",
              "\n",
              "    </div>\n",
              "  </div>\n"
            ],
            "application/vnd.google.colaboratory.intrinsic+json": {
              "type": "dataframe",
              "variable_name": "df",
              "summary": "{\n  \"name\": \"df\",\n  \"rows\": 17558,\n  \"fields\": [\n    {\n      \"column\": \"id\",\n      \"properties\": {\n        \"dtype\": \"number\",\n        \"std\": 84530069,\n        \"min\": 8431,\n        \"max\": 295236307,\n        \"num_unique_values\": 17558,\n        \"samples\": [\n          251857264,\n          67861876,\n          2562946\n        ],\n        \"semantic_type\": \"\",\n        \"description\": \"\"\n      }\n    },\n    {\n      \"column\": \"buildingblock1_smiles\",\n      \"properties\": {\n        \"dtype\": \"category\",\n        \"num_unique_values\": 271,\n        \"samples\": [\n          \"O=C(Nc1ccc(C(=O)O)cc1O)OCC1c2ccccc2-c2ccccc21\",\n          \"O=C(Nc1ccccc1C(=O)c1ccccc1C(=O)O)OCC1c2ccccc2-c2ccccc21\",\n          \"CC(C)(C)OC(=O)N1C[C@@H](NC(=O)OCC2c3ccccc3-c3ccccc32)[C@H](C(=O)O)C1\"\n        ],\n        \"semantic_type\": \"\",\n        \"description\": \"\"\n      }\n    },\n    {\n      \"column\": \"buildingblock2_smiles\",\n      \"properties\": {\n        \"dtype\": \"category\",\n        \"num_unique_values\": 693,\n        \"samples\": [\n          \"Cl.Cl.NCc1nc2cnccc2s1\",\n          \"Cl.NCCNC(=O)c1ccccc1F\",\n          \"Cc1nc(Cl)ccc1N\"\n        ],\n        \"semantic_type\": \"\",\n        \"description\": \"\"\n      }\n    },\n    {\n      \"column\": \"buildingblock3_smiles\",\n      \"properties\": {\n        \"dtype\": \"category\",\n        \"num_unique_values\": 856,\n        \"samples\": [\n          \"Nc1cccc2ocnc12\",\n          \"Cl.NCc1cc(F)c(Cl)cc1F\",\n          \"Cc1cc(O)ccc1N\"\n        ],\n        \"semantic_type\": \"\",\n        \"description\": \"\"\n      }\n    },\n    {\n      \"column\": \"molecule_smiles\",\n      \"properties\": {\n        \"dtype\": \"string\",\n        \"num_unique_values\": 17558,\n        \"samples\": [\n          \"COC(=O)c1ccnc(Nc2nc(Nc3cc(C(F)(F)F)cc(C(F)(F)F)c3)nc(N[C@@H](CC(=O)N[Dy])Cc3cccc(F)c3)n2)c1\",\n          \"Cc1cccc(Nc2nc(Nc3ccc(S(C)(=O)=O)c(F)c3)nc(Nc3ccc(C#N)cc3C(=O)N[Dy])n2)c1Cl\",\n          \"C#CC[C@@](C)(Nc1nc(Nc2ccc(C#N)cc2)nc(Nc2c(C)cc(O)cc2C)n1)C(=O)N[Dy]\"\n        ],\n        \"semantic_type\": \"\",\n        \"description\": \"\"\n      }\n    },\n    {\n      \"column\": \"protein_name\",\n      \"properties\": {\n        \"dtype\": \"category\",\n        \"num_unique_values\": 1,\n        \"samples\": [\n          \"HSA\"\n        ],\n        \"semantic_type\": \"\",\n        \"description\": \"\"\n      }\n    },\n    {\n      \"column\": \"binds\",\n      \"properties\": {\n        \"dtype\": \"number\",\n        \"std\": 0,\n        \"min\": 0,\n        \"max\": 1,\n        \"num_unique_values\": 2,\n        \"samples\": [\n          1\n        ],\n        \"semantic_type\": \"\",\n        \"description\": \"\"\n      }\n    },\n    {\n      \"column\": \"canonical_smiles\",\n      \"properties\": {\n        \"dtype\": \"string\",\n        \"num_unique_values\": 17558,\n        \"samples\": [\n          \"COC(=O)c1ccnc(Nc2nc(Nc3cc(C(F)(F)F)cc(C(F)(F)F)c3)nc(N[C@@H](CC(=O)N[Dy])Cc3cccc(F)c3)n2)c1\"\n        ],\n        \"semantic_type\": \"\",\n        \"description\": \"\"\n      }\n    }\n  ]\n}"
            }
          },
          "metadata": {},
          "execution_count": 22
        }
      ]
    },
    {
      "cell_type": "code",
      "source": [
        "df = df.drop_duplicates(subset=['canonical_smiles','protein_name'], keep='first')"
      ],
      "metadata": {
        "id": "lY40fcJsPq3G"
      },
      "execution_count": 23,
      "outputs": []
    },
    {
      "cell_type": "code",
      "source": [
        "df['canonical_smiles_len'] = df['canonical_smiles'].apply(len)\n",
        "df['canonical_smiles_len'].hist()"
      ],
      "metadata": {
        "id": "4AkhsMgwFaOA",
        "colab": {
          "base_uri": "https://localhost:8080/",
          "height": 447
        },
        "outputId": "c80e9068-75ce-479e-ff19-0205a1e149ca"
      },
      "execution_count": 24,
      "outputs": [
        {
          "output_type": "execute_result",
          "data": {
            "text/plain": [
              "<Axes: >"
            ]
          },
          "metadata": {},
          "execution_count": 24
        },
        {
          "output_type": "display_data",
          "data": {
            "text/plain": [
              "<Figure size 640x480 with 1 Axes>"
            ],
            "image/png": "[encoded data removed]"
          },
          "metadata": {}
        }
      ]
    },
    {
      "cell_type": "code",
      "source": [
        "%%time\n",
        "import torch\n",
        "from transformers import AutoModelForSequenceClassification, AutoTokenizer\n",
        "import pandas as pd\n",
        "from torch.utils.data import Dataset, DataLoader\n",
        "from torch.nn.utils.rnn import pad_sequence\n",
        "from sklearn.model_selection import train_test_split\n",
        "import torch.nn.functional as F\n",
        "from tqdm import tqdm\n",
        "import os\n",
        "\n",
        "# Hyperparameters\n",
        "epochs = 20\n",
        "batch_size = 256\n",
        "learning_rate = 1e-4\n",
        "\n",
        "# Define the device\n",
        "device = torch.device('cuda' if torch.cuda.is_available() else 'cpu')\n",
        "\n",
        "# Load the tokenizer and model\n",
        "tokenizer = AutoTokenizer.from_pretrained(\"DeepChem/ChemBERTa-77M-MTR\")\n",
        "model = AutoModelForSequenceClassification.from_pretrained(\"DeepChem/ChemBERTa-77M-MTR\", num_labels=2).to(device)\n",
        "\n",
        "model_save_dir = \"/content/drive/MyDrive/models/chembert_BELKA\"\n",
        "\n",
        "os.makedirs(model_save_dir, exist_ok=True)\n",
        "\n",
        "model_save_path = os.path.join(model_save_dir, 'best_model_hsa.pth')\n",
        "\n",
        "# Define a custom dataset class\n",
        "class SMILESDataset(Dataset):\n",
        "    def __init__(self, dataframe, tokenizer):\n",
        "        self.dataframe = dataframe\n",
        "        self.tokenizer = tokenizer\n",
        "\n",
        "    def __len__(self):\n",
        "        return len(self.dataframe)\n",
        "\n",
        "    def __getitem__(self, idx):\n",
        "        smiles = self.dataframe.iloc[idx]['canonical_smiles']\n",
        "        label = self.dataframe.iloc[idx]['binds']\n",
        "        return smiles, label\n",
        "\n",
        "    def collate_fn(self, batch):\n",
        "        # Tokenize and convert to tensors\n",
        "        tokenized_batch = [self.tokenizer.encode(smiles, add_special_tokens=True) for smiles, _ in batch]\n",
        "        padded_batch = pad_sequence([torch.tensor(tokens) for tokens in tokenized_batch],\n",
        "                                    batch_first=True, padding_value=self.tokenizer.pad_token_id)\n",
        "\n",
        "        labels = torch.tensor([label for _, label in batch], dtype=torch.long)\n",
        "\n",
        "        return padded_batch, labels\n",
        "\n",
        "# Split the data into training and validation sets\n",
        "train_df, test_df = train_test_split(df, test_size=0.2)\n",
        "\n",
        "# Create datasets and data loaders\n",
        "train_dataset = SMILESDataset(train_df, tokenizer)\n",
        "val_dataset = SMILESDataset(test_df, tokenizer)\n",
        "train_loader = DataLoader(train_dataset, batch_size=batch_size, shuffle=True, collate_fn=train_dataset.collate_fn)\n",
        "val_loader = DataLoader(val_dataset, batch_size=batch_size, shuffle=False, collate_fn=val_dataset.collate_fn)\n",
        "\n",
        "# Define the optimizer and loss function\n",
        "optimizer = torch.optim.AdamW(model.parameters(), lr=learning_rate)\n",
        "scheduler = torch.optim.lr_scheduler.ReduceLROnPlateau(optimizer, 'min', factor=0.8, patience=1, verbose=True)\n",
        "loss_fn = torch.nn.CrossEntropyLoss()\n",
        "\n",
        "# Training and validation loop\n",
        "\n",
        "train_losses = []\n",
        "val_losses = []\n",
        "train_acc = []\n",
        "val_acc = []\n",
        "\n",
        "best_epoch = 0\n",
        "best_val_loss = float('inf')\n",
        "best_val_acc = 0\n",
        "\n",
        "for epoch in tqdm(range(epochs)):\n",
        "\n",
        "    train_loss = 0\n",
        "    train_correct = 0\n",
        "    train_count = 0\n",
        "\n",
        "    model.train()\n",
        "    for inputs, labels in train_loader:\n",
        "\n",
        "        inputs = inputs.to(device)\n",
        "        labels = labels.to(device)\n",
        "        attention_mask = (inputs != tokenizer.pad_token_id).type(torch.long).to(device)\n",
        "\n",
        "        optimizer.zero_grad()\n",
        "\n",
        "        outputs = model(input_ids=inputs, attention_mask=attention_mask)\n",
        "        logits = outputs.logits  # Shape: [batch_size, num_labels]\n",
        "\n",
        "        loss = loss_fn(logits, labels)\n",
        "        loss.backward()\n",
        "        optimizer.step()\n",
        "\n",
        "        train_loss += loss.item()\n",
        "\n",
        "        preds = torch.argmax(logits, dim=1)\n",
        "        train_correct += (preds == labels).sum().item()\n",
        "        train_count += labels.size(0)\n",
        "\n",
        "    avg_train_loss = train_loss / train_count\n",
        "    train_losses.append(avg_train_loss)\n",
        "    train_accuracy = train_correct / train_count\n",
        "    train_acc.append(train_accuracy)\n",
        "\n",
        "    # Evaluation loop\n",
        "    val_loss = 0\n",
        "    val_correct = 0\n",
        "    val_count = 0\n",
        "    true_labels = []\n",
        "    pred_labels = []\n",
        "\n",
        "    model.eval()\n",
        "    with torch.no_grad():\n",
        "        for inputs, labels in val_loader:\n",
        "            inputs = inputs.to(device)\n",
        "            labels = labels.to(device)\n",
        "            attention_mask = (inputs != tokenizer.pad_token_id).type(torch.long).to(device)\n",
        "\n",
        "            outputs = model(input_ids=inputs, attention_mask=attention_mask)\n",
        "            logits = outputs.logits  # Shape: [batch_size, num_labels]\n",
        "\n",
        "            loss = loss_fn(logits, labels)\n",
        "            val_loss += loss.item()\n",
        "\n",
        "            preds = torch.argmax(logits, dim=1)\n",
        "            val_correct += (preds == labels).sum().item()\n",
        "            val_count += labels.size(0)\n",
        "\n",
        "            true_labels.extend(labels.cpu().numpy())\n",
        "            pred_labels.extend(preds.cpu().numpy())\n",
        "\n",
        "    avg_val_loss = val_loss / val_count\n",
        "    val_losses.append(avg_val_loss)\n",
        "    val_accuracy = val_correct / val_count\n",
        "    val_acc.append(val_accuracy)\n",
        "\n",
        "    if avg_val_loss < best_val_loss:\n",
        "      best_val_loss = avg_val_loss\n",
        "      best_epoch = epoch\n",
        "      best_val_acc = val_accuracy\n",
        "      torch.save(model.state_dict(), model_save_path)\n",
        "\n",
        "    scheduler.step(avg_val_loss)\n",
        "\n",
        "    print(f'Epoch: {epoch + 1}/{epochs}')\n",
        "    print(f'Train Loss: {avg_train_loss:.4f}')\n",
        "    print(f'Train Accuracy: {train_accuracy:.4f}')\n",
        "    print(f'Validation Loss: {avg_val_loss:.4f}')\n",
        "    print(f'Validation Accuracy: {val_accuracy:.4f}')\n"
      ],
      "metadata": {
        "id": "ej8tD98YCd2F",
        "colab": {
          "base_uri": "https://localhost:8080/"
        },
        "outputId": "b91b3885-bfc1-4d0c-8886-09832ffbb341"
      },
      "execution_count": 27,
      "outputs": [
        {
          "metadata": {
            "tags": null
          },
          "name": "stderr",
          "output_type": "stream",
          "text": [
            "Some weights of RobertaForSequenceClassification were not initialized from the model checkpoint at DeepChem/ChemBERTa-77M-MTR and are newly initialized: ['classifier.dense.bias', 'classifier.dense.weight', 'classifier.out_proj.bias', 'classifier.out_proj.weight']\n",
            "You should probably TRAIN this model on a down-stream task to be able to use it for predictions and inference.\n",
            "/usr/local/lib/python3.10/dist-packages/torch/optim/lr_scheduler.py:28: UserWarning: The verbose parameter is deprecated. Please use get_last_lr() to access the learning rate.\n",
            "  warnings.warn(\"The verbose parameter is deprecated. Please use get_last_lr() \"\n",
            "  5%|▌         | 1/20 [00:17<05:32, 17.51s/it]"
          ]
        },
        {
          "metadata": {
            "tags": null
          },
          "name": "stdout",
          "output_type": "stream",
          "text": [
            "Epoch: 1/20\n",
            "Train Loss: 0.0024\n",
            "Train Accuracy: 0.6677\n",
            "Validation Loss: 0.0019\n",
            "Validation Accuracy: 0.7839\n"
          ]
        },
        {
          "metadata": {
            "tags": null
          },
          "name": "stderr",
          "output_type": "stream",
          "text": [
            "\r 10%|█         | 2/20 [00:32<04:51, 16.17s/it]"
          ]
        },
        {
          "metadata": {
            "tags": null
          },
          "name": "stdout",
          "output_type": "stream",
          "text": [
            "Epoch: 2/20\n",
            "Train Loss: 0.0018\n",
            "Train Accuracy: 0.7939\n",
            "Validation Loss: 0.0017\n",
            "Validation Accuracy: 0.8166\n"
          ]
        },
        {
          "metadata": {
            "tags": null
          },
          "name": "stderr",
          "output_type": "stream",
          "text": [
            "\r 15%|█▌        | 3/20 [00:48<04:29, 15.83s/it]"
          ]
        },
        {
          "metadata": {
            "tags": null
          },
          "name": "stdout",
          "output_type": "stream",
          "text": [
            "Epoch: 3/20\n",
            "Train Loss: 0.0016\n",
            "Train Accuracy: 0.8198\n",
            "Validation Loss: 0.0015\n",
            "Validation Accuracy: 0.8383\n"
          ]
        },
        {
          "metadata": {
            "tags": null
          },
          "name": "stderr",
          "output_type": "stream",
          "text": [
            "\r 20%|██        | 4/20 [01:03<04:10, 15.64s/it]"
          ]
        },
        {
          "metadata": {
            "tags": null
          },
          "name": "stdout",
          "output_type": "stream",
          "text": [
            "Epoch: 4/20\n",
            "Train Loss: 0.0015\n",
            "Train Accuracy: 0.8326\n",
            "Validation Loss: 0.0015\n",
            "Validation Accuracy: 0.8425\n"
          ]
        },
        {
          "metadata": {
            "tags": null
          },
          "name": "stderr",
          "output_type": "stream",
          "text": [
            "\r 25%|██▌       | 5/20 [01:19<03:55, 15.69s/it]"
          ]
        },
        {
          "metadata": {
            "tags": null
          },
          "name": "stdout",
          "output_type": "stream",
          "text": [
            "Epoch: 5/20\n",
            "Train Loss: 0.0015\n",
            "Train Accuracy: 0.8388\n",
            "Validation Loss: 0.0015\n",
            "Validation Accuracy: 0.8414\n"
          ]
        },
        {
          "metadata": {
            "tags": null
          },
          "name": "stderr",
          "output_type": "stream",
          "text": [
            "\r 30%|███       | 6/20 [01:35<03:40, 15.73s/it]"
          ]
        },
        {
          "metadata": {
            "tags": null
          },
          "name": "stdout",
          "output_type": "stream",
          "text": [
            "Epoch: 6/20\n",
            "Train Loss: 0.0014\n",
            "Train Accuracy: 0.8474\n",
            "Validation Loss: 0.0015\n",
            "Validation Accuracy: 0.8434\n"
          ]
        },
        {
          "output_type": "stream",
          "name": "stderr",
          "text": [
            "\r 35%|███▌      | 7/20 [01:51<03:25, 15.79s/it]"
          ]
        },
        {
          "output_type": "stream",
          "name": "stdout",
          "text": [
            "Epoch: 7/20\n",
            "Train Loss: 0.0014\n",
            "Train Accuracy: 0.8466\n",
            "Validation Loss: 0.0014\n",
            "Validation Accuracy: 0.8548\n"
          ]
        },
        {
          "output_type": "stream",
          "name": "stderr",
          "text": [
            "\r 40%|████      | 8/20 [02:07<03:10, 15.86s/it]"
          ]
        },
        {
          "output_type": "stream",
          "name": "stdout",
          "text": [
            "Epoch: 8/20\n",
            "Train Loss: 0.0013\n",
            "Train Accuracy: 0.8553\n",
            "Validation Loss: 0.0014\n",
            "Validation Accuracy: 0.8571\n"
          ]
        },
        {
          "output_type": "stream",
          "name": "stderr",
          "text": [
            "\r 45%|████▌     | 9/20 [02:22<02:54, 15.87s/it]"
          ]
        },
        {
          "output_type": "stream",
          "name": "stdout",
          "text": [
            "Epoch: 9/20\n",
            "Train Loss: 0.0013\n",
            "Train Accuracy: 0.8561\n",
            "Validation Loss: 0.0014\n",
            "Validation Accuracy: 0.8613\n"
          ]
        },
        {
          "output_type": "stream",
          "name": "stderr",
          "text": [
            "\r 50%|█████     | 10/20 [02:38<02:38, 15.89s/it]"
          ]
        },
        {
          "output_type": "stream",
          "name": "stdout",
          "text": [
            "Epoch: 10/20\n",
            "Train Loss: 0.0013\n",
            "Train Accuracy: 0.8592\n",
            "Validation Loss: 0.0014\n",
            "Validation Accuracy: 0.8653\n"
          ]
        },
        {
          "output_type": "stream",
          "name": "stderr",
          "text": [
            "\r 55%|█████▌    | 11/20 [02:54<02:22, 15.87s/it]"
          ]
        },
        {
          "output_type": "stream",
          "name": "stdout",
          "text": [
            "Epoch: 11/20\n",
            "Train Loss: 0.0013\n",
            "Train Accuracy: 0.8643\n",
            "Validation Loss: 0.0014\n",
            "Validation Accuracy: 0.8639\n"
          ]
        },
        {
          "output_type": "stream",
          "name": "stderr",
          "text": [
            "\r 60%|██████    | 12/20 [03:10<02:06, 15.85s/it]"
          ]
        },
        {
          "output_type": "stream",
          "name": "stdout",
          "text": [
            "Epoch: 12/20\n",
            "Train Loss: 0.0012\n",
            "Train Accuracy: 0.8675\n",
            "Validation Loss: 0.0014\n",
            "Validation Accuracy: 0.8596\n"
          ]
        },
        {
          "output_type": "stream",
          "name": "stderr",
          "text": [
            "\r 65%|██████▌   | 13/20 [03:26<01:50, 15.83s/it]"
          ]
        },
        {
          "output_type": "stream",
          "name": "stdout",
          "text": [
            "Epoch: 13/20\n",
            "Train Loss: 0.0012\n",
            "Train Accuracy: 0.8695\n",
            "Validation Loss: 0.0013\n",
            "Validation Accuracy: 0.8653\n"
          ]
        },
        {
          "output_type": "stream",
          "name": "stderr",
          "text": [
            "\r 70%|███████   | 14/20 [03:42<01:35, 15.84s/it]"
          ]
        },
        {
          "output_type": "stream",
          "name": "stdout",
          "text": [
            "Epoch: 14/20\n",
            "Train Loss: 0.0012\n",
            "Train Accuracy: 0.8718\n",
            "Validation Loss: 0.0013\n",
            "Validation Accuracy: 0.8656\n"
          ]
        },
        {
          "output_type": "stream",
          "name": "stderr",
          "text": [
            "\r 75%|███████▌  | 15/20 [03:57<01:19, 15.82s/it]"
          ]
        },
        {
          "output_type": "stream",
          "name": "stdout",
          "text": [
            "Epoch: 15/20\n",
            "Train Loss: 0.0012\n",
            "Train Accuracy: 0.8747\n",
            "Validation Loss: 0.0014\n",
            "Validation Accuracy: 0.8630\n"
          ]
        },
        {
          "output_type": "stream",
          "name": "stderr",
          "text": [
            "\r 80%|████████  | 16/20 [04:13<01:03, 15.81s/it]"
          ]
        },
        {
          "output_type": "stream",
          "name": "stdout",
          "text": [
            "Epoch: 16/20\n",
            "Train Loss: 0.0011\n",
            "Train Accuracy: 0.8775\n",
            "Validation Loss: 0.0014\n",
            "Validation Accuracy: 0.8591\n"
          ]
        },
        {
          "output_type": "stream",
          "name": "stderr",
          "text": [
            "\r 85%|████████▌ | 17/20 [04:29<00:47, 15.78s/it]"
          ]
        },
        {
          "output_type": "stream",
          "name": "stdout",
          "text": [
            "Epoch: 17/20\n",
            "Train Loss: 0.0011\n",
            "Train Accuracy: 0.8798\n",
            "Validation Loss: 0.0013\n",
            "Validation Accuracy: 0.8685\n"
          ]
        },
        {
          "output_type": "stream",
          "name": "stderr",
          "text": [
            "\r 90%|█████████ | 18/20 [04:45<00:31, 15.83s/it]"
          ]
        },
        {
          "output_type": "stream",
          "name": "stdout",
          "text": [
            "Epoch: 18/20\n",
            "Train Loss: 0.0011\n",
            "Train Accuracy: 0.8807\n",
            "Validation Loss: 0.0013\n",
            "Validation Accuracy: 0.8682\n"
          ]
        },
        {
          "output_type": "stream",
          "name": "stderr",
          "text": [
            "\r 95%|█████████▌| 19/20 [05:01<00:15, 15.85s/it]"
          ]
        },
        {
          "output_type": "stream",
          "name": "stdout",
          "text": [
            "Epoch: 19/20\n",
            "Train Loss: 0.0011\n",
            "Train Accuracy: 0.8806\n",
            "Validation Loss: 0.0013\n",
            "Validation Accuracy: 0.8702\n"
          ]
        },
        {
          "output_type": "stream",
          "name": "stderr",
          "text": [
            "100%|██████████| 20/20 [05:16<00:00, 15.84s/it]"
          ]
        },
        {
          "output_type": "stream",
          "name": "stdout",
          "text": [
            "Epoch: 20/20\n",
            "Train Loss: 0.0011\n",
            "Train Accuracy: 0.8829\n",
            "Validation Loss: 0.0013\n",
            "Validation Accuracy: 0.8662\n",
            "CPU times: user 5min 15s, sys: 1.15 s, total: 5min 16s\n",
            "Wall time: 5min 18s\n"
          ]
        },
        {
          "output_type": "stream",
          "name": "stderr",
          "text": [
            "\n"
          ]
        }
      ]
    },
    {
      "cell_type": "code",
      "source": [
        "import matplotlib.pyplot as plt\n",
        "import numpy as np\n",
        "plt.plot(np.arange(1, epochs+1), train_losses, c='r',label='Training Loss')\n",
        "plt.plot(np.arange(1, epochs+1), val_losses, c='b', label='Validation Loss')\n",
        "plt.legend()\n",
        "plt.title(\"Losses\")\n",
        "plt.show()\n",
        "\n",
        "plt.plot(np.arange(1, epochs+1), train_acc, c='r',label='Training Accuracy')\n",
        "plt.plot(np.arange(1, epochs+1), val_acc, c='b', label='Validation Accuracy')\n",
        "plt.legend()\n",
        "plt.title(\"Accuracy\")\n",
        "plt.show()"
      ],
      "metadata": {
        "id": "KojyeKBLQRoo",
        "colab": {
          "base_uri": "https://localhost:8080/",
          "height": 887
        },
        "outputId": "4d35739b-c7f6-4003-90ce-b5325273f092"
      },
      "execution_count": 28,
      "outputs": [
        {
          "output_type": "display_data",
          "data": {
            "text/plain": [
              "<Figure size 640x480 with 1 Axes>"
            ],
            "image/png": "[encoded data removed]"
          },
          "metadata": {}
        },
        {
          "output_type": "display_data",
          "data": {
            "text/plain": [
              "<Figure size 640x480 with 1 Axes>"
            ],
            "image/png": "[encoded data removed]"
          },
          "metadata": {}
        }
      ]
    },
    {
      "cell_type": "code",
      "source": [
        "from sklearn.metrics import confusion_matrix, classification_report\n",
        "import seaborn as sns\n",
        "conf_matrix = confusion_matrix(true_labels, pred_labels)\n",
        "sns.heatmap(conf_matrix, annot=True, fmt='d')\n",
        "plt.title('Confusion Matrix')\n",
        "plt.show()\n",
        "print(classification_report(true_labels, pred_labels))"
      ],
      "metadata": {
        "id": "_oqC6pYNKuMM",
        "colab": {
          "base_uri": "https://localhost:8080/",
          "height": 608
        },
        "outputId": "e5ff58c5-7db7-4667-9385-cc9939050ea5"
      },
      "execution_count": 29,
      "outputs": [
        {
          "output_type": "display_data",
          "data": {
            "text/plain": [
              "<Figure size 640x480 with 2 Axes>"
            ],
            "image/png": "[encoded data removed]"
          },
          "metadata": {}
        },
        {
          "output_type": "stream",
          "name": "stdout",
          "text": [
            "              precision    recall  f1-score   support\n",
            "\n",
            "           0       0.90      0.87      0.88      2018\n",
            "           1       0.83      0.87      0.85      1494\n",
            "\n",
            "    accuracy                           0.87      3512\n",
            "   macro avg       0.86      0.87      0.86      3512\n",
            "weighted avg       0.87      0.87      0.87      3512\n",
            "\n"
          ]
        }
      ]
    },
    {
      "cell_type": "code",
      "source": [
        "from datetime import datetime\n",
        "model.load_state_dict(torch.load(model_save_path))\n",
        "current_date = datetime.now().strftime(\"%Y%m%d_%H\")\n",
        "model_filename = f\"modelhsa_{best_val_acc:.4f}acc_{best_val_loss:.4f}loss_{epochs}epochs_{learning_rate}lr_{batch_size}batch_{current_date}.pth\"\n",
        "new_model_save_path = os.path.join(model_save_dir, model_filename)\n",
        "torch.save(model.state_dict(), new_model_save_path)"
      ],
      "metadata": {
        "id": "u_Uc-svw6z0s"
      },
      "execution_count": 30,
      "outputs": []
    },
    {
      "cell_type": "code",
      "source": [],
      "metadata": {
        "id": "Uc4B6nVcVEgD"
      },
      "execution_count": null,
      "outputs": []
    }
  ]
}