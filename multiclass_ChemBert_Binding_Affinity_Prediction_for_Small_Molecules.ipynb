{
  "nbformat": 4,
  "nbformat_minor": 0,
  "metadata": {
    "colab": {
      "provenance": [],
      "machine_shape": "hm",
      "gpuType": "T4",
      "authorship_tag": "ABX9TyNkaepWlLu1AUJ29v04i+FM",
      "include_colab_link": true
    },
    "kernelspec": {
      "name": "python3",
      "display_name": "Python 3"
    },
    "language_info": {
      "name": "python"
    },
    "widgets": {
      "application/vnd.jupyter.widget-state+json": {
        "d79b26f7d14f4c6f92efcd355a71eee1": {
          "model_module": "@jupyter-widgets/controls",
          "model_name": "FloatProgressModel",
          "model_module_version": "1.5.0",
          "state": {
            "_dom_classes": [],
            "_model_module": "@jupyter-widgets/controls",
            "_model_module_version": "1.5.0",
            "_model_name": "FloatProgressModel",
            "_view_count": null,
            "_view_module": "@jupyter-widgets/controls",
            "_view_module_version": "1.5.0",
            "_view_name": "ProgressView",
            "bar_style": "",
            "description": "",
            "description_tooltip": null,
            "layout": "IPY_MODEL_20b3b27bc3ff41cfa72d6c5e1399efcd",
            "max": 100,
            "min": 0,
            "orientation": "horizontal",
            "style": "IPY_MODEL_654176afd7314f43ac9d37d97383b2b8",
            "value": 100
          }
        },
        "20b3b27bc3ff41cfa72d6c5e1399efcd": {
          "model_module": "@jupyter-widgets/base",
          "model_name": "LayoutModel",
          "model_module_version": "1.2.0",
          "state": {
            "_model_module": "@jupyter-widgets/base",
            "_model_module_version": "1.2.0",
            "_model_name": "LayoutModel",
            "_view_count": null,
            "_view_module": "@jupyter-widgets/base",
            "_view_module_version": "1.2.0",
            "_view_name": "LayoutView",
            "align_content": null,
            "align_items": null,
            "align_self": null,
            "border": null,
            "bottom": null,
            "display": null,
            "flex": null,
            "flex_flow": null,
            "grid_area": null,
            "grid_auto_columns": null,
            "grid_auto_flow": null,
            "grid_auto_rows": null,
            "grid_column": null,
            "grid_gap": null,
            "grid_row": null,
            "grid_template_areas": null,
            "grid_template_columns": null,
            "grid_template_rows": null,
            "height": null,
            "justify_content": null,
            "justify_items": null,
            "left": null,
            "margin": null,
            "max_height": null,
            "max_width": null,
            "min_height": null,
            "min_width": null,
            "object_fit": null,
            "object_position": null,
            "order": null,
            "overflow": null,
            "overflow_x": null,
            "overflow_y": null,
            "padding": null,
            "right": null,
            "top": null,
            "visibility": null,
            "width": "auto"
          }
        },
        "654176afd7314f43ac9d37d97383b2b8": {
          "model_module": "@jupyter-widgets/controls",
          "model_name": "ProgressStyleModel",
          "model_module_version": "1.5.0",
          "state": {
            "_model_module": "@jupyter-widgets/controls",
            "_model_module_version": "1.5.0",
            "_model_name": "ProgressStyleModel",
            "_view_count": null,
            "_view_module": "@jupyter-widgets/base",
            "_view_module_version": "1.2.0",
            "_view_name": "StyleView",
            "bar_color": "black",
            "description_width": ""
          }
        },
        "0d1126d2bf254b53a3d59ac580d88d05": {
          "model_module": "@jupyter-widgets/controls",
          "model_name": "HBoxModel",
          "model_module_version": "1.5.0",
          "state": {
            "_dom_classes": [],
            "_model_module": "@jupyter-widgets/controls",
            "_model_module_version": "1.5.0",
            "_model_name": "HBoxModel",
            "_view_count": null,
            "_view_module": "@jupyter-widgets/controls",
            "_view_module_version": "1.5.0",
            "_view_name": "HBoxView",
            "box_style": "",
            "children": [
              "IPY_MODEL_1c4fc5aebeb443d8a693125c344bf312",
              "IPY_MODEL_7b991c2629b34147aeee9202d6e5763d",
              "IPY_MODEL_826e03058eb4459b89fc1f5c365acd4b"
            ],
            "layout": "IPY_MODEL_95710f2544f54dd5b46ba1876e46e429"
          }
        },
        "1c4fc5aebeb443d8a693125c344bf312": {
          "model_module": "@jupyter-widgets/controls",
          "model_name": "HTMLModel",
          "model_module_version": "1.5.0",
          "state": {
            "_dom_classes": [],
            "_model_module": "@jupyter-widgets/controls",
            "_model_module_version": "1.5.0",
            "_model_name": "HTMLModel",
            "_view_count": null,
            "_view_module": "@jupyter-widgets/controls",
            "_view_module_version": "1.5.0",
            "_view_name": "HTMLView",
            "description": "",
            "description_tooltip": null,
            "layout": "IPY_MODEL_7554bd9e972e44a19ce51e98ca6c5bbd",
            "placeholder": "​",
            "style": "IPY_MODEL_7719010701a04d5db76f9026d0ed9ed7",
            "value": "Processing DataFrame: 100%"
          }
        },
        "7b991c2629b34147aeee9202d6e5763d": {
          "model_module": "@jupyter-widgets/controls",
          "model_name": "FloatProgressModel",
          "model_module_version": "1.5.0",
          "state": {
            "_dom_classes": [],
            "_model_module": "@jupyter-widgets/controls",
            "_model_module_version": "1.5.0",
            "_model_name": "FloatProgressModel",
            "_view_count": null,
            "_view_module": "@jupyter-widgets/controls",
            "_view_module_version": "1.5.0",
            "_view_name": "ProgressView",
            "bar_style": "success",
            "description": "",
            "description_tooltip": null,
            "layout": "IPY_MODEL_081fdbd663004b17b1565273e3a2c362",
            "max": 60000,
            "min": 0,
            "orientation": "horizontal",
            "style": "IPY_MODEL_38fcc447c09547d68d2f937302a6ec2f",
            "value": 60000
          }
        },
        "826e03058eb4459b89fc1f5c365acd4b": {
          "model_module": "@jupyter-widgets/controls",
          "model_name": "HTMLModel",
          "model_module_version": "1.5.0",
          "state": {
            "_dom_classes": [],
            "_model_module": "@jupyter-widgets/controls",
            "_model_module_version": "1.5.0",
            "_model_name": "HTMLModel",
            "_view_count": null,
            "_view_module": "@jupyter-widgets/controls",
            "_view_module_version": "1.5.0",
            "_view_name": "HTMLView",
            "description": "",
            "description_tooltip": null,
            "layout": "IPY_MODEL_560ffcb5e30f4c2b8dd449a613e11f36",
            "placeholder": "​",
            "style": "IPY_MODEL_687666ca85b54f9fab97ff38d87eafaa",
            "value": " 60000/60000 [00:29&lt;00:00, 2177.35it/s]"
          }
        },
        "95710f2544f54dd5b46ba1876e46e429": {
          "model_module": "@jupyter-widgets/base",
          "model_name": "LayoutModel",
          "model_module_version": "1.2.0",
          "state": {
            "_model_module": "@jupyter-widgets/base",
            "_model_module_version": "1.2.0",
            "_model_name": "LayoutModel",
            "_view_count": null,
            "_view_module": "@jupyter-widgets/base",
            "_view_module_version": "1.2.0",
            "_view_name": "LayoutView",
            "align_content": null,
            "align_items": null,
            "align_self": null,
            "border": null,
            "bottom": null,
            "display": null,
            "flex": null,
            "flex_flow": null,
            "grid_area": null,
            "grid_auto_columns": null,
            "grid_auto_flow": null,
            "grid_auto_rows": null,
            "grid_column": null,
            "grid_gap": null,
            "grid_row": null,
            "grid_template_areas": null,
            "grid_template_columns": null,
            "grid_template_rows": null,
            "height": null,
            "justify_content": null,
            "justify_items": null,
            "left": null,
            "margin": null,
            "max_height": null,
            "max_width": null,
            "min_height": null,
            "min_width": null,
            "object_fit": null,
            "object_position": null,
            "order": null,
            "overflow": null,
            "overflow_x": null,
            "overflow_y": null,
            "padding": null,
            "right": null,
            "top": null,
            "visibility": null,
            "width": null
          }
        },
        "7554bd9e972e44a19ce51e98ca6c5bbd": {
          "model_module": "@jupyter-widgets/base",
          "model_name": "LayoutModel",
          "model_module_version": "1.2.0",
          "state": {
            "_model_module": "@jupyter-widgets/base",
            "_model_module_version": "1.2.0",
            "_model_name": "LayoutModel",
            "_view_count": null,
            "_view_module": "@jupyter-widgets/base",
            "_view_module_version": "1.2.0",
            "_view_name": "LayoutView",
            "align_content": null,
            "align_items": null,
            "align_self": null,
            "border": null,
            "bottom": null,
            "display": null,
            "flex": null,
            "flex_flow": null,
            "grid_area": null,
            "grid_auto_columns": null,
            "grid_auto_flow": null,
            "grid_auto_rows": null,
            "grid_column": null,
            "grid_gap": null,
            "grid_row": null,
            "grid_template_areas": null,
            "grid_template_columns": null,
            "grid_template_rows": null,
            "height": null,
            "justify_content": null,
            "justify_items": null,
            "left": null,
            "margin": null,
            "max_height": null,
            "max_width": null,
            "min_height": null,
            "min_width": null,
            "object_fit": null,
            "object_position": null,
            "order": null,
            "overflow": null,
            "overflow_x": null,
            "overflow_y": null,
            "padding": null,
            "right": null,
            "top": null,
            "visibility": null,
            "width": null
          }
        },
        "7719010701a04d5db76f9026d0ed9ed7": {
          "model_module": "@jupyter-widgets/controls",
          "model_name": "DescriptionStyleModel",
          "model_module_version": "1.5.0",
          "state": {
            "_model_module": "@jupyter-widgets/controls",
            "_model_module_version": "1.5.0",
            "_model_name": "DescriptionStyleModel",
            "_view_count": null,
            "_view_module": "@jupyter-widgets/base",
            "_view_module_version": "1.2.0",
            "_view_name": "StyleView",
            "description_width": ""
          }
        },
        "081fdbd663004b17b1565273e3a2c362": {
          "model_module": "@jupyter-widgets/base",
          "model_name": "LayoutModel",
          "model_module_version": "1.2.0",
          "state": {
            "_model_module": "@jupyter-widgets/base",
            "_model_module_version": "1.2.0",
            "_model_name": "LayoutModel",
            "_view_count": null,
            "_view_module": "@jupyter-widgets/base",
            "_view_module_version": "1.2.0",
            "_view_name": "LayoutView",
            "align_content": null,
            "align_items": null,
            "align_self": null,
            "border": null,
            "bottom": null,
            "display": null,
            "flex": null,
            "flex_flow": null,
            "grid_area": null,
            "grid_auto_columns": null,
            "grid_auto_flow": null,
            "grid_auto_rows": null,
            "grid_column": null,
            "grid_gap": null,
            "grid_row": null,
            "grid_template_areas": null,
            "grid_template_columns": null,
            "grid_template_rows": null,
            "height": null,
            "justify_content": null,
            "justify_items": null,
            "left": null,
            "margin": null,
            "max_height": null,
            "max_width": null,
            "min_height": null,
            "min_width": null,
            "object_fit": null,
            "object_position": null,
            "order": null,
            "overflow": null,
            "overflow_x": null,
            "overflow_y": null,
            "padding": null,
            "right": null,
            "top": null,
            "visibility": null,
            "width": null
          }
        },
        "38fcc447c09547d68d2f937302a6ec2f": {
          "model_module": "@jupyter-widgets/controls",
          "model_name": "ProgressStyleModel",
          "model_module_version": "1.5.0",
          "state": {
            "_model_module": "@jupyter-widgets/controls",
            "_model_module_version": "1.5.0",
            "_model_name": "ProgressStyleModel",
            "_view_count": null,
            "_view_module": "@jupyter-widgets/base",
            "_view_module_version": "1.2.0",
            "_view_name": "StyleView",
            "bar_color": null,
            "description_width": ""
          }
        },
        "560ffcb5e30f4c2b8dd449a613e11f36": {
          "model_module": "@jupyter-widgets/base",
          "model_name": "LayoutModel",
          "model_module_version": "1.2.0",
          "state": {
            "_model_module": "@jupyter-widgets/base",
            "_model_module_version": "1.2.0",
            "_model_name": "LayoutModel",
            "_view_count": null,
            "_view_module": "@jupyter-widgets/base",
            "_view_module_version": "1.2.0",
            "_view_name": "LayoutView",
            "align_content": null,
            "align_items": null,
            "align_self": null,
            "border": null,
            "bottom": null,
            "display": null,
            "flex": null,
            "flex_flow": null,
            "grid_area": null,
            "grid_auto_columns": null,
            "grid_auto_flow": null,
            "grid_auto_rows": null,
            "grid_column": null,
            "grid_gap": null,
            "grid_row": null,
            "grid_template_areas": null,
            "grid_template_columns": null,
            "grid_template_rows": null,
            "height": null,
            "justify_content": null,
            "justify_items": null,
            "left": null,
            "margin": null,
            "max_height": null,
            "max_width": null,
            "min_height": null,
            "min_width": null,
            "object_fit": null,
            "object_position": null,
            "order": null,
            "overflow": null,
            "overflow_x": null,
            "overflow_y": null,
            "padding": null,
            "right": null,
            "top": null,
            "visibility": null,
            "width": null
          }
        },
        "687666ca85b54f9fab97ff38d87eafaa": {
          "model_module": "@jupyter-widgets/controls",
          "model_name": "DescriptionStyleModel",
          "model_module_version": "1.5.0",
          "state": {
            "_model_module": "@jupyter-widgets/controls",
            "_model_module_version": "1.5.0",
            "_model_name": "DescriptionStyleModel",
            "_view_count": null,
            "_view_module": "@jupyter-widgets/base",
            "_view_module_version": "1.2.0",
            "_view_name": "StyleView",
            "description_width": ""
          }
        }
      }
    },
    "accelerator": "GPU"
  },
  "cells": [
    {
      "cell_type": "markdown",
      "metadata": {
        "id": "view-in-github",
        "colab_type": "text"
      },
      "source": [
        "<a href=\"https://colab.research.google.com/github/Pooret/drug-discovery-ml/blob/main/multiclass_ChemBert_Binding_Affinity_Prediction_for_Small_Molecules.ipynb\" target=\"_parent\"><img src=\"https://colab.research.google.com/assets/colab-badge.svg\" alt=\"Open In Colab\"/></a>"
      ]
    },
    {
      "cell_type": "markdown",
      "source": [
        "[Dataset](https://www.kaggle.com/competitions/leash-BELKA/data)"
      ],
      "metadata": {
        "id": "PT-X3hIzjZmy"
      }
    },
    {
      "cell_type": "code",
      "source": [
        "!pip install pandas pyarrow\n",
        "!pip install duckdb\n",
        "!pip install rdkit\n",
        "!pip install py3Dmol\n",
        "!pip install mordred\n",
        "!pip install deepchem"
      ],
      "metadata": {
        "colab": {
          "base_uri": "https://localhost:8080/"
        },
        "id": "ojio1hCNlCSW",
        "outputId": "795e137a-54e2-4831-846b-94ddcb378b27"
      },
      "execution_count": 42,
      "outputs": [
        {
          "output_type": "stream",
          "name": "stdout",
          "text": [
            "Requirement already satisfied: pandas in /usr/local/lib/python3.10/dist-packages (2.0.3)\n",
            "Requirement already satisfied: pyarrow in /usr/local/lib/python3.10/dist-packages (14.0.2)\n",
            "Requirement already satisfied: python-dateutil>=2.8.2 in /usr/local/lib/python3.10/dist-packages (from pandas) (2.8.2)\n",
            "Requirement already satisfied: pytz>=2020.1 in /usr/local/lib/python3.10/dist-packages (from pandas) (2023.4)\n",
            "Requirement already satisfied: tzdata>=2022.1 in /usr/local/lib/python3.10/dist-packages (from pandas) (2024.1)\n",
            "Requirement already satisfied: numpy>=1.21.0 in /usr/local/lib/python3.10/dist-packages (from pandas) (1.25.2)\n",
            "Requirement already satisfied: six>=1.5 in /usr/local/lib/python3.10/dist-packages (from python-dateutil>=2.8.2->pandas) (1.16.0)\n",
            "Requirement already satisfied: duckdb in /usr/local/lib/python3.10/dist-packages (0.10.2)\n",
            "Requirement already satisfied: rdkit in /usr/local/lib/python3.10/dist-packages (2023.9.6)\n",
            "Requirement already satisfied: numpy in /usr/local/lib/python3.10/dist-packages (from rdkit) (1.25.2)\n",
            "Requirement already satisfied: Pillow in /usr/local/lib/python3.10/dist-packages (from rdkit) (9.4.0)\n",
            "Requirement already satisfied: py3Dmol in /usr/local/lib/python3.10/dist-packages (2.1.0)\n",
            "Requirement already satisfied: mordred in /usr/local/lib/python3.10/dist-packages (1.2.0)\n",
            "Requirement already satisfied: six==1.* in /usr/local/lib/python3.10/dist-packages (from mordred) (1.16.0)\n",
            "Requirement already satisfied: numpy==1.* in /usr/local/lib/python3.10/dist-packages (from mordred) (1.25.2)\n",
            "Requirement already satisfied: networkx==2.* in /usr/local/lib/python3.10/dist-packages (from mordred) (2.8.8)\n",
            "Requirement already satisfied: deepchem in /usr/local/lib/python3.10/dist-packages (2.8.0)\n",
            "Requirement already satisfied: joblib in /usr/local/lib/python3.10/dist-packages (from deepchem) (1.4.2)\n",
            "Requirement already satisfied: numpy>=1.21 in /usr/local/lib/python3.10/dist-packages (from deepchem) (1.25.2)\n",
            "Requirement already satisfied: pandas in /usr/local/lib/python3.10/dist-packages (from deepchem) (2.0.3)\n",
            "Requirement already satisfied: scikit-learn in /usr/local/lib/python3.10/dist-packages (from deepchem) (1.2.2)\n",
            "Requirement already satisfied: sympy in /usr/local/lib/python3.10/dist-packages (from deepchem) (1.12)\n",
            "Requirement already satisfied: scipy>=1.10.1 in /usr/local/lib/python3.10/dist-packages (from deepchem) (1.11.4)\n",
            "Requirement already satisfied: rdkit in /usr/local/lib/python3.10/dist-packages (from deepchem) (2023.9.6)\n",
            "Requirement already satisfied: python-dateutil>=2.8.2 in /usr/local/lib/python3.10/dist-packages (from pandas->deepchem) (2.8.2)\n",
            "Requirement already satisfied: pytz>=2020.1 in /usr/local/lib/python3.10/dist-packages (from pandas->deepchem) (2023.4)\n",
            "Requirement already satisfied: tzdata>=2022.1 in /usr/local/lib/python3.10/dist-packages (from pandas->deepchem) (2024.1)\n",
            "Requirement already satisfied: Pillow in /usr/local/lib/python3.10/dist-packages (from rdkit->deepchem) (9.4.0)\n",
            "Requirement already satisfied: threadpoolctl>=2.0.0 in /usr/local/lib/python3.10/dist-packages (from scikit-learn->deepchem) (3.5.0)\n",
            "Requirement already satisfied: mpmath>=0.19 in /usr/local/lib/python3.10/dist-packages (from sympy->deepchem) (1.3.0)\n",
            "Requirement already satisfied: six>=1.5 in /usr/local/lib/python3.10/dist-packages (from python-dateutil>=2.8.2->pandas->deepchem) (1.16.0)\n"
          ]
        }
      ]
    },
    {
      "cell_type": "code",
      "source": [
        "from google.colab import drive\n",
        "drive.mount(\"/content/drive\")"
      ],
      "metadata": {
        "colab": {
          "base_uri": "https://localhost:8080/"
        },
        "id": "b88khbwhjeMV",
        "outputId": "7eb58fce-1d66-47cb-e8a7-4b4cfe27338c"
      },
      "execution_count": 43,
      "outputs": [
        {
          "output_type": "stream",
          "name": "stdout",
          "text": [
            "Drive already mounted at /content/drive; to attempt to forcibly remount, call drive.mount(\"/content/drive\", force_remount=True).\n"
          ]
        }
      ]
    },
    {
      "cell_type": "code",
      "source": [
        "import os\n",
        "\n",
        "# Create directory path for data\n",
        "directory_path = \"/content/data\"\n",
        "\n",
        "# Check if the directory already exists\n",
        "if not os.path.exists(directory_path):\n",
        "    os.mkdir(directory_path)\n",
        "    print(f\"Directory created at {directory_path}\")\n",
        "else:\n",
        "    print(f\"Directory already exists at {directory_path}\")"
      ],
      "metadata": {
        "id": "QMW0FGKTfGQx",
        "colab": {
          "base_uri": "https://localhost:8080/"
        },
        "outputId": "f0252b6f-3ae8-4e79-93f9-6ed3504d5270"
      },
      "execution_count": 44,
      "outputs": [
        {
          "output_type": "stream",
          "name": "stdout",
          "text": [
            "Directory already exists at /content/data\n"
          ]
        }
      ]
    },
    {
      "cell_type": "code",
      "source": [
        "%%time\n",
        "!unzip /content/drive/MyDrive/Datasets/leash_BELKA/data.zip -d /content/data"
      ],
      "metadata": {
        "id": "jGKG1EDOkk7Y",
        "colab": {
          "base_uri": "https://localhost:8080/"
        },
        "outputId": "f8482e3f-69bc-4fb6-c6f7-c764a45d61ae"
      },
      "execution_count": 45,
      "outputs": [
        {
          "output_type": "stream",
          "name": "stdout",
          "text": [
            "Archive:  /content/drive/MyDrive/Datasets/leash_BELKA/data.zip\n",
            "replace /content/data/sample_submission.csv? [y]es, [n]o, [A]ll, [N]one, [r]ename: A\n",
            "  inflating: /content/data/sample_submission.csv  \n",
            "  inflating: /content/data/test.csv  \n",
            "  inflating: /content/data/test.parquet  \n",
            "  inflating: /content/data/train.csv  \n",
            "  inflating: /content/data/train.parquet  \n",
            "CPU times: user 4.1 s, sys: 557 ms, total: 4.66 s\n",
            "Wall time: 12min 27s\n"
          ]
        }
      ]
    },
    {
      "cell_type": "code",
      "source": [
        "%%time\n",
        "#By Andrew D. Blevins https://www.kaggle.com/code/andrewdblevins/leash-tutorial-ecfps-and-random-forest\n",
        "\n",
        "import duckdb\n",
        "import pandas as pd\n",
        "\n",
        "train_path = '/content/data/train.parquet'\n",
        "test_path = '/content/data/test.parquet'\n",
        "\n",
        "con = duckdb.connect()\n",
        "\n",
        "max_limit = 1589906\n",
        "limit_num = 30000\n",
        "\n",
        "# 1589906 is the total number of binding samples\n",
        "df = con.query(f\"\"\"(SELECT *\n",
        "                        FROM parquet_scan('{train_path}')\n",
        "                        WHERE binds = 0\n",
        "                        ORDER BY random()\n",
        "                        LIMIT {limit_num})\n",
        "                        UNION ALL\n",
        "                        (SELECT *\n",
        "                        FROM parquet_scan('{train_path}')\n",
        "                        WHERE binds = 1\n",
        "                        ORDER BY random()\n",
        "                        LIMIT {limit_num})\"\"\").df()\n",
        "\n",
        "con.close()\n"
      ],
      "metadata": {
        "id": "VRIY2aObfL8u",
        "colab": {
          "base_uri": "https://localhost:8080/",
          "height": 84,
          "referenced_widgets": [
            "d79b26f7d14f4c6f92efcd355a71eee1",
            "20b3b27bc3ff41cfa72d6c5e1399efcd",
            "654176afd7314f43ac9d37d97383b2b8"
          ]
        },
        "outputId": "1bd6cfa5-8375-4ff8-e890-ff5c5dbc0404"
      },
      "execution_count": 64,
      "outputs": [
        {
          "output_type": "display_data",
          "data": {
            "text/plain": [
              "FloatProgress(value=0.0, layout=Layout(width='auto'), style=ProgressStyle(bar_color='black'))"
            ],
            "application/vnd.jupyter.widget-view+json": {
              "version_major": 2,
              "version_minor": 0,
              "model_id": "d79b26f7d14f4c6f92efcd355a71eee1"
            }
          },
          "metadata": {}
        },
        {
          "output_type": "stream",
          "name": "stdout",
          "text": [
            "CPU times: user 2min 28s, sys: 6.39 s, total: 2min 34s\n",
            "Wall time: 21.4 s\n"
          ]
        }
      ]
    },
    {
      "cell_type": "code",
      "source": [
        "df.head()"
      ],
      "metadata": {
        "id": "SaMSRnLXgnJ4",
        "colab": {
          "base_uri": "https://localhost:8080/",
          "height": 206
        },
        "outputId": "fbadfd66-dea2-4643-8134-672e21573696"
      },
      "execution_count": 65,
      "outputs": [
        {
          "output_type": "execute_result",
          "data": {
            "text/plain": [
              "          id                              buildingblock1_smiles  \\\n",
              "0  160286152     O=C(Nc1cc(Br)ccc1C(=O)O)OCC1c2ccccc2-c2ccccc21   \n",
              "1   33931022   COc1ccc(C(=O)O)c(NC(=O)OCC2c3ccccc3-c3ccccc32)c1   \n",
              "2  188981853  O=C(Nc1ccc(C(=O)O)cc1C(F)(F)F)OCC1c2ccccc2-c2c...   \n",
              "3  290732664        O=C(O)[C@H]1CCN1C(=O)OCC1c2ccccc2-c2ccccc21   \n",
              "4  246336859  O=C(O)C[C@@H](Cc1ccc(Cl)cc1)NC(=O)OCC1c2ccccc2...   \n",
              "\n",
              "       buildingblock2_smiles buildingblock3_smiles  \\\n",
              "0   CN(C)C(=O)C1CCC(CN)O1.Cl   Cn1cc(C(F)F)c(CN)n1   \n",
              "1      CN1CCN(Cc2ccccc2N)CC1  NCC(c1cccs1)N1CCOCC1   \n",
              "2  Cl.Cl.NCc1ccc[n+]([O-])c1      Nc1ncnc(=O)[nH]1   \n",
              "3        Nc1ccc(N2CCOCC2)cn1         Nc1cc(Cl)ccn1   \n",
              "4          CCON(C)C(=O)CN.Cl     CC(C)c1nc(N)sc1Br   \n",
              "\n",
              "                                     molecule_smiles protein_name  binds  \n",
              "0  CN(C)C(=O)C1CCC(CNc2nc(NCc3nn(C)cc3C(F)F)nc(Nc...          HSA      0  \n",
              "1  COc1ccc(C(=O)N[Dy])c(Nc2nc(NCC(c3cccs3)N3CCOCC...          sEH      0  \n",
              "2  O=C(N[Dy])c1ccc(Nc2nc(NCc3ccc[n+]([O-])c3)nc(N...         BRD4      0  \n",
              "3  O=C(N[Dy])[C@H]1CCN1c1nc(Nc2ccc(N3CCOCC3)cn2)n...         BRD4      0  \n",
              "4  CCON(C)C(=O)CNc1nc(Nc2nc(C(C)C)c(Br)s2)nc(N[C@...          HSA      0  "
            ],
            "text/html": [
              "\n",
              "  <div id=\"df-53488ee5-8244-4876-9f9a-c3b2534f73fe\" class=\"colab-df-container\">\n",
              "    <div>\n",
              "<style scoped>\n",
              "    .dataframe tbody tr th:only-of-type {\n",
              "        vertical-align: middle;\n",
              "    }\n",
              "\n",
              "    .dataframe tbody tr th {\n",
              "        vertical-align: top;\n",
              "    }\n",
              "\n",
              "    .dataframe thead th {\n",
              "        text-align: right;\n",
              "    }\n",
              "</style>\n",
              "<table border=\"1\" class=\"dataframe\">\n",
              "  <thead>\n",
              "    <tr style=\"text-align: right;\">\n",
              "      <th></th>\n",
              "      <th>id</th>\n",
              "      <th>buildingblock1_smiles</th>\n",
              "      <th>buildingblock2_smiles</th>\n",
              "      <th>buildingblock3_smiles</th>\n",
              "      <th>molecule_smiles</th>\n",
              "      <th>protein_name</th>\n",
              "      <th>binds</th>\n",
              "    </tr>\n",
              "  </thead>\n",
              "  <tbody>\n",
              "    <tr>\n",
              "      <th>0</th>\n",
              "      <td>160286152</td>\n",
              "      <td>O=C(Nc1cc(Br)ccc1C(=O)O)OCC1c2ccccc2-c2ccccc21</td>\n",
              "      <td>CN(C)C(=O)C1CCC(CN)O1.Cl</td>\n",
              "      <td>Cn1cc(C(F)F)c(CN)n1</td>\n",
              "      <td>CN(C)C(=O)C1CCC(CNc2nc(NCc3nn(C)cc3C(F)F)nc(Nc...</td>\n",
              "      <td>HSA</td>\n",
              "      <td>0</td>\n",
              "    </tr>\n",
              "    <tr>\n",
              "      <th>1</th>\n",
              "      <td>33931022</td>\n",
              "      <td>COc1ccc(C(=O)O)c(NC(=O)OCC2c3ccccc3-c3ccccc32)c1</td>\n",
              "      <td>CN1CCN(Cc2ccccc2N)CC1</td>\n",
              "      <td>NCC(c1cccs1)N1CCOCC1</td>\n",
              "      <td>COc1ccc(C(=O)N[Dy])c(Nc2nc(NCC(c3cccs3)N3CCOCC...</td>\n",
              "      <td>sEH</td>\n",
              "      <td>0</td>\n",
              "    </tr>\n",
              "    <tr>\n",
              "      <th>2</th>\n",
              "      <td>188981853</td>\n",
              "      <td>O=C(Nc1ccc(C(=O)O)cc1C(F)(F)F)OCC1c2ccccc2-c2c...</td>\n",
              "      <td>Cl.Cl.NCc1ccc[n+]([O-])c1</td>\n",
              "      <td>Nc1ncnc(=O)[nH]1</td>\n",
              "      <td>O=C(N[Dy])c1ccc(Nc2nc(NCc3ccc[n+]([O-])c3)nc(N...</td>\n",
              "      <td>BRD4</td>\n",
              "      <td>0</td>\n",
              "    </tr>\n",
              "    <tr>\n",
              "      <th>3</th>\n",
              "      <td>290732664</td>\n",
              "      <td>O=C(O)[C@H]1CCN1C(=O)OCC1c2ccccc2-c2ccccc21</td>\n",
              "      <td>Nc1ccc(N2CCOCC2)cn1</td>\n",
              "      <td>Nc1cc(Cl)ccn1</td>\n",
              "      <td>O=C(N[Dy])[C@H]1CCN1c1nc(Nc2ccc(N3CCOCC3)cn2)n...</td>\n",
              "      <td>BRD4</td>\n",
              "      <td>0</td>\n",
              "    </tr>\n",
              "    <tr>\n",
              "      <th>4</th>\n",
              "      <td>246336859</td>\n",
              "      <td>O=C(O)C[C@@H](Cc1ccc(Cl)cc1)NC(=O)OCC1c2ccccc2...</td>\n",
              "      <td>CCON(C)C(=O)CN.Cl</td>\n",
              "      <td>CC(C)c1nc(N)sc1Br</td>\n",
              "      <td>CCON(C)C(=O)CNc1nc(Nc2nc(C(C)C)c(Br)s2)nc(N[C@...</td>\n",
              "      <td>HSA</td>\n",
              "      <td>0</td>\n",
              "    </tr>\n",
              "  </tbody>\n",
              "</table>\n",
              "</div>\n",
              "    <div class=\"colab-df-buttons\">\n",
              "\n",
              "  <div class=\"colab-df-container\">\n",
              "    <button class=\"colab-df-convert\" onclick=\"convertToInteractive('df-53488ee5-8244-4876-9f9a-c3b2534f73fe')\"\n",
              "            title=\"Convert this dataframe to an interactive table.\"\n",
              "            style=\"display:none;\">\n",
              "\n",
              "  <svg xmlns=\"http://www.w3.org/2000/svg\" height=\"24px\" viewBox=\"0 -960 960 960\">\n",
              "    <path d=\"M120-120v-720h720v720H120Zm60-500h600v-160H180v160Zm220 220h160v-160H400v160Zm0 220h160v-160H400v160ZM180-400h160v-160H180v160Zm440 0h160v-160H620v160ZM180-180h160v-160H180v160Zm440 0h160v-160H620v160Z\"/>\n",
              "  </svg>\n",
              "    </button>\n",
              "\n",
              "  <style>\n",
              "    .colab-df-container {\n",
              "      display:flex;\n",
              "      gap: 12px;\n",
              "    }\n",
              "\n",
              "    .colab-df-convert {\n",
              "      background-color: #E8F0FE;\n",
              "      border: none;\n",
              "      border-radius: 50%;\n",
              "      cursor: pointer;\n",
              "      display: none;\n",
              "      fill: #1967D2;\n",
              "      height: 32px;\n",
              "      padding: 0 0 0 0;\n",
              "      width: 32px;\n",
              "    }\n",
              "\n",
              "    .colab-df-convert:hover {\n",
              "      background-color: #E2EBFA;\n",
              "      box-shadow: 0px 1px 2px rgba(60, 64, 67, 0.3), 0px 1px 3px 1px rgba(60, 64, 67, 0.15);\n",
              "      fill: #174EA6;\n",
              "    }\n",
              "\n",
              "    .colab-df-buttons div {\n",
              "      margin-bottom: 4px;\n",
              "    }\n",
              "\n",
              "    [theme=dark] .colab-df-convert {\n",
              "      background-color: #3B4455;\n",
              "      fill: #D2E3FC;\n",
              "    }\n",
              "\n",
              "    [theme=dark] .colab-df-convert:hover {\n",
              "      background-color: #434B5C;\n",
              "      box-shadow: 0px 1px 3px 1px rgba(0, 0, 0, 0.15);\n",
              "      filter: drop-shadow(0px 1px 2px rgba(0, 0, 0, 0.3));\n",
              "      fill: #FFFFFF;\n",
              "    }\n",
              "  </style>\n",
              "\n",
              "    <script>\n",
              "      const buttonEl =\n",
              "        document.querySelector('#df-53488ee5-8244-4876-9f9a-c3b2534f73fe button.colab-df-convert');\n",
              "      buttonEl.style.display =\n",
              "        google.colab.kernel.accessAllowed ? 'block' : 'none';\n",
              "\n",
              "      async function convertToInteractive(key) {\n",
              "        const element = document.querySelector('#df-53488ee5-8244-4876-9f9a-c3b2534f73fe');\n",
              "        const dataTable =\n",
              "          await google.colab.kernel.invokeFunction('convertToInteractive',\n",
              "                                                    [key], {});\n",
              "        if (!dataTable) return;\n",
              "\n",
              "        const docLinkHtml = 'Like what you see? Visit the ' +\n",
              "          '<a target=\"_blank\" href=https://colab.research.google.com/notebooks/data_table.ipynb>data table notebook</a>'\n",
              "          + ' to learn more about interactive tables.';\n",
              "        element.innerHTML = '';\n",
              "        dataTable['output_type'] = 'display_data';\n",
              "        await google.colab.output.renderOutput(dataTable, element);\n",
              "        const docLink = document.createElement('div');\n",
              "        docLink.innerHTML = docLinkHtml;\n",
              "        element.appendChild(docLink);\n",
              "      }\n",
              "    </script>\n",
              "  </div>\n",
              "\n",
              "\n",
              "<div id=\"df-a51d5c9a-d6c3-4ce8-9e5b-38b495139a8b\">\n",
              "  <button class=\"colab-df-quickchart\" onclick=\"quickchart('df-a51d5c9a-d6c3-4ce8-9e5b-38b495139a8b')\"\n",
              "            title=\"Suggest charts\"\n",
              "            style=\"display:none;\">\n",
              "\n",
              "<svg xmlns=\"http://www.w3.org/2000/svg\" height=\"24px\"viewBox=\"0 0 24 24\"\n",
              "     width=\"24px\">\n",
              "    <g>\n",
              "        <path d=\"M19 3H5c-1.1 0-2 .9-2 2v14c0 1.1.9 2 2 2h14c1.1 0 2-.9 2-2V5c0-1.1-.9-2-2-2zM9 17H7v-7h2v7zm4 0h-2V7h2v10zm4 0h-2v-4h2v4z\"/>\n",
              "    </g>\n",
              "</svg>\n",
              "  </button>\n",
              "\n",
              "<style>\n",
              "  .colab-df-quickchart {\n",
              "      --bg-color: #E8F0FE;\n",
              "      --fill-color: #1967D2;\n",
              "      --hover-bg-color: #E2EBFA;\n",
              "      --hover-fill-color: #174EA6;\n",
              "      --disabled-fill-color: #AAA;\n",
              "      --disabled-bg-color: #DDD;\n",
              "  }\n",
              "\n",
              "  [theme=dark] .colab-df-quickchart {\n",
              "      --bg-color: #3B4455;\n",
              "      --fill-color: #D2E3FC;\n",
              "      --hover-bg-color: #434B5C;\n",
              "      --hover-fill-color: #FFFFFF;\n",
              "      --disabled-bg-color: #3B4455;\n",
              "      --disabled-fill-color: #666;\n",
              "  }\n",
              "\n",
              "  .colab-df-quickchart {\n",
              "    background-color: var(--bg-color);\n",
              "    border: none;\n",
              "    border-radius: 50%;\n",
              "    cursor: pointer;\n",
              "    display: none;\n",
              "    fill: var(--fill-color);\n",
              "    height: 32px;\n",
              "    padding: 0;\n",
              "    width: 32px;\n",
              "  }\n",
              "\n",
              "  .colab-df-quickchart:hover {\n",
              "    background-color: var(--hover-bg-color);\n",
              "    box-shadow: 0 1px 2px rgba(60, 64, 67, 0.3), 0 1px 3px 1px rgba(60, 64, 67, 0.15);\n",
              "    fill: var(--button-hover-fill-color);\n",
              "  }\n",
              "\n",
              "  .colab-df-quickchart-complete:disabled,\n",
              "  .colab-df-quickchart-complete:disabled:hover {\n",
              "    background-color: var(--disabled-bg-color);\n",
              "    fill: var(--disabled-fill-color);\n",
              "    box-shadow: none;\n",
              "  }\n",
              "\n",
              "  .colab-df-spinner {\n",
              "    border: 2px solid var(--fill-color);\n",
              "    border-color: transparent;\n",
              "    border-bottom-color: var(--fill-color);\n",
              "    animation:\n",
              "      spin 1s steps(1) infinite;\n",
              "  }\n",
              "\n",
              "  @keyframes spin {\n",
              "    0% {\n",
              "      border-color: transparent;\n",
              "      border-bottom-color: var(--fill-color);\n",
              "      border-left-color: var(--fill-color);\n",
              "    }\n",
              "    20% {\n",
              "      border-color: transparent;\n",
              "      border-left-color: var(--fill-color);\n",
              "      border-top-color: var(--fill-color);\n",
              "    }\n",
              "    30% {\n",
              "      border-color: transparent;\n",
              "      border-left-color: var(--fill-color);\n",
              "      border-top-color: var(--fill-color);\n",
              "      border-right-color: var(--fill-color);\n",
              "    }\n",
              "    40% {\n",
              "      border-color: transparent;\n",
              "      border-right-color: var(--fill-color);\n",
              "      border-top-color: var(--fill-color);\n",
              "    }\n",
              "    60% {\n",
              "      border-color: transparent;\n",
              "      border-right-color: var(--fill-color);\n",
              "    }\n",
              "    80% {\n",
              "      border-color: transparent;\n",
              "      border-right-color: var(--fill-color);\n",
              "      border-bottom-color: var(--fill-color);\n",
              "    }\n",
              "    90% {\n",
              "      border-color: transparent;\n",
              "      border-bottom-color: var(--fill-color);\n",
              "    }\n",
              "  }\n",
              "</style>\n",
              "\n",
              "  <script>\n",
              "    async function quickchart(key) {\n",
              "      const quickchartButtonEl =\n",
              "        document.querySelector('#' + key + ' button');\n",
              "      quickchartButtonEl.disabled = true;  // To prevent multiple clicks.\n",
              "      quickchartButtonEl.classList.add('colab-df-spinner');\n",
              "      try {\n",
              "        const charts = await google.colab.kernel.invokeFunction(\n",
              "            'suggestCharts', [key], {});\n",
              "      } catch (error) {\n",
              "        console.error('Error during call to suggestCharts:', error);\n",
              "      }\n",
              "      quickchartButtonEl.classList.remove('colab-df-spinner');\n",
              "      quickchartButtonEl.classList.add('colab-df-quickchart-complete');\n",
              "    }\n",
              "    (() => {\n",
              "      let quickchartButtonEl =\n",
              "        document.querySelector('#df-a51d5c9a-d6c3-4ce8-9e5b-38b495139a8b button');\n",
              "      quickchartButtonEl.style.display =\n",
              "        google.colab.kernel.accessAllowed ? 'block' : 'none';\n",
              "    })();\n",
              "  </script>\n",
              "</div>\n",
              "\n",
              "    </div>\n",
              "  </div>\n"
            ],
            "application/vnd.google.colaboratory.intrinsic+json": {
              "type": "dataframe",
              "variable_name": "df",
              "summary": "{\n  \"name\": \"df\",\n  \"rows\": 60000,\n  \"fields\": [\n    {\n      \"column\": \"id\",\n      \"properties\": {\n        \"dtype\": \"number\",\n        \"std\": 83346800,\n        \"min\": 8357,\n        \"max\": 295243562,\n        \"num_unique_values\": 60000,\n        \"samples\": [\n          183115633,\n          55005741,\n          72260280\n        ],\n        \"semantic_type\": \"\",\n        \"description\": \"\"\n      }\n    },\n    {\n      \"column\": \"buildingblock1_smiles\",\n      \"properties\": {\n        \"dtype\": \"category\",\n        \"num_unique_values\": 271,\n        \"samples\": [\n          \"O=C(O)[C@@H]1CCCN1C(=O)[C@@H]1CCCN1C(=O)OCC1c2ccccc2-c2ccccc21\",\n          \"O=C(Nc1ncc(Br)nc1C(=O)O)OCC1c2ccccc2-c2ccccc21\",\n          \"Cc1ccc(C[C@H](NC(=O)OCC2c3ccccc3-c3ccccc32)C(=O)O)cc1\"\n        ],\n        \"semantic_type\": \"\",\n        \"description\": \"\"\n      }\n    },\n    {\n      \"column\": \"buildingblock2_smiles\",\n      \"properties\": {\n        \"dtype\": \"category\",\n        \"num_unique_values\": 693,\n        \"samples\": [\n          \"Nc1c2ccccc2nc2ccccc12\",\n          \"Nc1ccc(C(=O)N2CCOCC2)cc1\",\n          \"Cl.Cl.NCc1cn2cc(Br)ccc2n1\"\n        ],\n        \"semantic_type\": \"\",\n        \"description\": \"\"\n      }\n    },\n    {\n      \"column\": \"buildingblock3_smiles\",\n      \"properties\": {\n        \"dtype\": \"category\",\n        \"num_unique_values\": 868,\n        \"samples\": [\n          \"Nc1cc(Cl)ncn1\",\n          \"Nc1n[nH]c2c(F)c(F)ccc12\",\n          \"Cc1cc(CN)c(C)s1\"\n        ],\n        \"semantic_type\": \"\",\n        \"description\": \"\"\n      }\n    },\n    {\n      \"column\": \"molecule_smiles\",\n      \"properties\": {\n        \"dtype\": \"string\",\n        \"num_unique_values\": 59952,\n        \"samples\": [\n          \"O=C(N[Dy])c1ccc(Nc2nc(NCCc3ccc(N4CCOCC4)c(F)c3)nc(Nc3cccc4c(=O)[nH][nH]c(=O)c34)n2)cc1[N+](=O)[O-]\",\n          \"O=C(N[Dy])c1c(F)cccc1Nc1nc(NCc2cn(-c3ccccc3)nc2-c2ccncc2)nc(Nc2cn[nH]c2)n1\",\n          \"CN1CCN(c2ccc(Nc3nc(NC[C@@H]4CCO[C@H]4c4ccnn4C)nc(N[C@H](C(=O)N[Dy])C4CCCC4)n3)cc2F)CC1\"\n        ],\n        \"semantic_type\": \"\",\n        \"description\": \"\"\n      }\n    },\n    {\n      \"column\": \"protein_name\",\n      \"properties\": {\n        \"dtype\": \"category\",\n        \"num_unique_values\": 3,\n        \"samples\": [\n          \"HSA\",\n          \"sEH\",\n          \"BRD4\"\n        ],\n        \"semantic_type\": \"\",\n        \"description\": \"\"\n      }\n    },\n    {\n      \"column\": \"binds\",\n      \"properties\": {\n        \"dtype\": \"number\",\n        \"std\": 0,\n        \"min\": 0,\n        \"max\": 1,\n        \"num_unique_values\": 2,\n        \"samples\": [\n          1,\n          0\n        ],\n        \"semantic_type\": \"\",\n        \"description\": \"\"\n      }\n    }\n  ]\n}"
            }
          },
          "metadata": {},
          "execution_count": 65
        }
      ]
    },
    {
      "cell_type": "code",
      "source": [
        "df.shape"
      ],
      "metadata": {
        "colab": {
          "base_uri": "https://localhost:8080/"
        },
        "id": "XLBBO3CUd1xe",
        "outputId": "f742c2e7-634a-4539-f0f9-5170648154a0"
      },
      "execution_count": 66,
      "outputs": [
        {
          "output_type": "execute_result",
          "data": {
            "text/plain": [
              "(60000, 7)"
            ]
          },
          "metadata": {},
          "execution_count": 66
        }
      ]
    },
    {
      "cell_type": "code",
      "source": [
        "df['protein_name'].value_counts(normalize=True).plot(kind='bar')"
      ],
      "metadata": {
        "colab": {
          "base_uri": "https://localhost:8080/",
          "height": 491
        },
        "id": "ujlwMBUFeB_R",
        "outputId": "f50f5ed3-d32c-44d1-d5de-a1ce4400a608"
      },
      "execution_count": 67,
      "outputs": [
        {
          "output_type": "execute_result",
          "data": {
            "text/plain": [
              "<Axes: xlabel='protein_name'>"
            ]
          },
          "metadata": {},
          "execution_count": 67
        },
        {
          "output_type": "display_data",
          "data": {
            "text/plain": [
              "<Figure size 640x480 with 1 Axes>"
            ],
            "image/png": "[encoded data removed]"
          },
          "metadata": {}
        }
      ]
    },
    {
      "cell_type": "markdown",
      "source": [
        "### Targets\n",
        "\n",
        "**EPHX2 (sEH)**\n",
        "\n",
        "The first target, epoxide hydrolase 2, is encoded by the EPHX2 genetic locus, and its protein product is commonly named “soluble epoxide hydrolase”, or abbreviated to sEH. Hydrolases are enzymes that catalyze certain chemical reactions, and EPHX2/sEH also hydrolyzes certain phosphate groups. EPHX2/sEH is a potential drug target for high blood pressure and diabetes progression, and small molecules inhibiting EPHX2/sEH from earlier DEL efforts made it to clinical trials.\n",
        "\n",
        "EPHX2/sEH was also screened with DELs, and hits predicted with ML approaches, in a recent study but the screening data were not published. We included EPHX2/sEH to allow contestants an external gut check for model performance by comparing to these previously-published results.\n",
        "\n",
        "We screened EPHX2/sEH purchased from Cayman Chemical, a life sciences commercial vendor. For those contestants wishing to incorporate protein structural information in their submissions, the amino sequence is positions 2-555 from UniProt entry [P34913](https://www.uniprot.org/uniprotkb/P34913/entry#sequences), the crystal structure can be found in PDB entry [3i28](https://www.rcsb.org/structure/3i28), and predicted structure can be found in AlphaFold2 entry [34913](https://alphafold.ebi.ac.uk/entry/P34913). Additional EPHX2/sEH crystal structures with ligands bound can be found in PDB."
      ],
      "metadata": {
        "id": "jDSuKf6zB992"
      }
    },
    {
      "cell_type": "code",
      "source": [
        "# import py3Dmol\n",
        "# view = py3Dmol.view(query='pdb:3i38')\n",
        "# view.setStyle({\"cartoon\":{\"color\":\"white\"}})\n",
        "# view.setBackgroundColor(\"black\")\n",
        "# view.show()"
      ],
      "metadata": {
        "id": "jYSc2Vd9CRof"
      },
      "execution_count": 50,
      "outputs": []
    },
    {
      "cell_type": "markdown",
      "source": [
        "**BRD4**\n",
        "\n",
        "The second target, bromodomain 4, is encoded by the BRD4 locus and its protein product is also named BRD4. Bromodomains bind to protein spools in the nucleus that DNA wraps around (called histones) and affect the likelihood that the DNA nearby is going to be transcribed, producing new gene products. Bromodomains play roles in cancer progression and a number of drugs have been discovered to inhibit their activities.\n",
        "\n",
        "BRD4 has been screened with DEL approaches previously but the screening data were not published. We included BRD4 to allow contestants to evaluate candidate molecules for oncology indications.\n",
        "\n",
        "We screened BRD4 purchased from Active Motif, a life sciences commercial vendor. For those contestants wishing to incorporate protein structural information in their submissions, the amino acid sequence is positions 44-460 from UniProt entry [O60885-1](https://www.uniprot.org/uniprotkb/O60885/entry#sequences), the crystal structure (for a single domain) can be found in PDB entry [7USK](https://www.rcsb.org/structure/7USK) and predicted structure can be found in AlphaFold2 entry [O60885](https://alphafold.ebi.ac.uk/entry/O60885\n",
        "). Additional BRD4 crystal structures with ligands bound can be found in PDB."
      ],
      "metadata": {
        "id": "kBRml-yDDA_0"
      }
    },
    {
      "cell_type": "code",
      "source": [
        "# view = py3Dmol.view(query='pdb:7usk')\n",
        "# view.setStyle({\"cartoon\":{\"color\":\"white\"}})\n",
        "# view.setBackgroundColor(\"black\")\n",
        "# view.show()"
      ],
      "metadata": {
        "id": "3hxXSZK9DtTP"
      },
      "execution_count": 51,
      "outputs": []
    },
    {
      "cell_type": "markdown",
      "source": [
        "**ALB (HSA)**\n",
        "\n",
        "\n",
        "The third target, serum albumin, is encoded by the ALB locus and its protein product is also named ALB. The protein product is sometimes abbreviated as HSA, for “human serum albumin”. ALB, the most common protein in the blood, is used to drive osmotic pressure (to bring fluid back from tissues into blood vessels) and to transport many ligands, hormones, fatty acids, and more.\n",
        "\n",
        "Albumin, being the most abundant protein in the blood, often plays a role in absorbing candidate drugs in the body and sequestering them from their target tissues. Adjusting candidate drugs to bind less to albumin and other blood proteins is a strategy to help these candidate drugs be more effective.\n",
        "\n",
        "ALB has been screened with DEL approaches previously but the screening data were not published. We included ALB to allow contestants to build models that might have a larger impact on drug discovery across many disease types. The ability to predict ALB binding well would allow drug developers to improve their candidate small molecule therapies much more quickly than physically manufacturing many variants and testing them against ALB empirically in an iterative process.\n",
        "\n",
        "We screened ALB purchased from Active Motif. For those contestants wishing to incorporate protein structural information in their submissions, the amino acid sequence is positions 25 to 609 from UniProt entry [P02768](https://www.uniprot.org/uniprotkb/P02768/entry#sequences), the crystal structure can be found in PDB entry [1AO6](https://www.ebi.ac.uk/pdbe/entry/pdb/1AO6), and predicted structure can be found in AlphaFold2 entry [P02768](https://alphafold.ebi.ac.uk/entry/P02768). Additional ALB crystal structures with ligands bound can be found in PDB.\n",
        "\n"
      ],
      "metadata": {
        "id": "N5Mf4TRCD9zC"
      }
    },
    {
      "cell_type": "code",
      "source": [
        "# view = py3Dmol.view(query='pdb:1ao6')\n",
        "# view.setStyle({\"cartoon\":{\"color\":\"white\"}})\n",
        "# view.setBackgroundColor(\"black\")\n",
        "# view.show()"
      ],
      "metadata": {
        "id": "nbNO5FNiF1Cj"
      },
      "execution_count": 52,
      "outputs": []
    },
    {
      "cell_type": "code",
      "source": [
        "df['binds'].value_counts()"
      ],
      "metadata": {
        "colab": {
          "base_uri": "https://localhost:8080/"
        },
        "id": "X_bSx8sweJmb",
        "outputId": "2540bff1-cb07-43eb-e2df-749ae367fb2c"
      },
      "execution_count": 53,
      "outputs": [
        {
          "output_type": "execute_result",
          "data": {
            "text/plain": [
              "binds\n",
              "0    30000\n",
              "1    30000\n",
              "Name: count, dtype: int64"
            ]
          },
          "metadata": {},
          "execution_count": 53
        }
      ]
    },
    {
      "cell_type": "code",
      "source": [
        "df['buildingblock1_smiles'].value_counts()"
      ],
      "metadata": {
        "id": "r06XBIPxewND",
        "colab": {
          "base_uri": "https://localhost:8080/"
        },
        "outputId": "b185788c-366b-4d0e-f6ab-dd13ae0d3636"
      },
      "execution_count": 54,
      "outputs": [
        {
          "output_type": "execute_result",
          "data": {
            "text/plain": [
              "buildingblock1_smiles\n",
              "O=C(NCC1CCC(C(=O)O)CC1)OCC1c2ccccc2-c2ccccc21                  5086\n",
              "O=C(NC[C@H]1CC[C@H](C(=O)O)CC1)OCC1c2ccccc2-c2ccccc21          3171\n",
              "CC(C)CC(NC(=O)OCC1c2ccccc2-c2ccccc21)C(=O)O                     817\n",
              "CC(OC(C)(C)C)C(NC(=O)OCC1c2ccccc2-c2ccccc21)C(=O)O              729\n",
              "O=C(Nc1ccc(C(=O)O)cc1)OCC1c2ccccc2-c2ccccc21                    627\n",
              "                                                               ... \n",
              "CCS(=O)(=O)c1cc(C(=O)O)c(OC)cc1NC(=O)OCC1c2ccccc2-c2ccccc21     111\n",
              "O=C(Nc1c(Cl)cc(Cl)nc1C(=O)O)OCC1c2ccccc2-c2ccccc21              106\n",
              "O=C(Nc1cc(Cl)ncc1C(=O)O)OCC1c2ccccc2-c2ccccc21                  105\n",
              "O=C(O)C[C@@H]1CCCN1C(=O)OCC1c2ccccc2-c2ccccc21                  105\n",
              "O=C(Nc1nc(Cl)ccc1C(=O)O)OCC1c2ccccc2-c2ccccc21                   97\n",
              "Name: count, Length: 271, dtype: int64"
            ]
          },
          "metadata": {},
          "execution_count": 54
        }
      ]
    },
    {
      "cell_type": "code",
      "source": [
        "df['molecule_smiles'].value_counts()"
      ],
      "metadata": {
        "colab": {
          "base_uri": "https://localhost:8080/"
        },
        "id": "UmsalBLjaJDQ",
        "outputId": "fe72cafe-9488-4393-b063-98fb2c17ae23"
      },
      "execution_count": 55,
      "outputs": [
        {
          "output_type": "execute_result",
          "data": {
            "text/plain": [
              "molecule_smiles\n",
              "COC(=O)c1ccc2nc(Nc3nc(NCc4cncc(F)c4)nc(N4Cc5ccccc5C4C(=O)N[Dy])n3)sc2c1                 2\n",
              "O=C(N[Dy])C(Cc1ccccc1)Nc1nc(NCc2nc3cc(F)ccc3o2)nc(Nc2n[nH]c3cc(F)ccc23)n1               2\n",
              "O=C(N[Dy])[C@@H](CCC1CCCCC1)Nc1nc(Nc2cccc3cnccc23)nc(Nc2cccc3ocnc23)n1                  2\n",
              "CCS(=O)CCNc1nc(NCc2cncc(F)c2)nc(Nc2ccc(C(=O)N[Dy])cc2)n1                                2\n",
              "Cc1ccncc1Nc1nc(NCc2nccn2-c2ccccc2)nc(N[C@@H](CC(=O)N[Dy])Cc2ccc(Cl)c(Cl)c2)n1           2\n",
              "                                                                                       ..\n",
              "O=C(N[Dy])c1cc(Nc2nc(NCc3cnsc3)nc(NCc3cncc(F)c3)n2)ccc1[N+](=O)[O-]                     1\n",
              "CCSCCNc1nc(Nc2cc(-c3cccc(Br)c3)no2)nc(Nc2c(Cl)cc(F)cc2C(=O)N[Dy])n1                     1\n",
              "Cn1ccc2cc(Nc3nc(Nc4ccc(C(=O)N5CCOCC5)cc4)nc(Nc4cc(C(=O)N[Dy])ccc4Br)n3)ccc21            1\n",
              "C#Cc1ccc(Nc2nc(NCC34CCCC(CO3)C4)nc(Nc3c(C(=O)N[Dy])ccnc3OC)n2)cc1                       1\n",
              "O=C(N[Dy])[C@@H](Cc1ccc(Cl)cc1)Nc1nc(Nc2ccncn2)nc(Nc2cc(N3CCNCC3)ccc2[N+](=O)[O-])n1    1\n",
              "Name: count, Length: 59960, dtype: int64"
            ]
          },
          "metadata": {},
          "execution_count": 55
        }
      ]
    },
    {
      "cell_type": "code",
      "source": [
        "df[df['binds'] == 1]['buildingblock1_smiles'].value_counts()"
      ],
      "metadata": {
        "colab": {
          "base_uri": "https://localhost:8080/"
        },
        "id": "WFxU9BlQaOPp",
        "outputId": "315be477-ea50-4545-8ba9-7579be03483f"
      },
      "execution_count": 56,
      "outputs": [
        {
          "output_type": "execute_result",
          "data": {
            "text/plain": [
              "buildingblock1_smiles\n",
              "O=C(NCC1CCC(C(=O)O)CC1)OCC1c2ccccc2-c2ccccc21              4984\n",
              "O=C(NC[C@H]1CC[C@H](C(=O)O)CC1)OCC1c2ccccc2-c2ccccc21      3079\n",
              "CC(C)CC(NC(=O)OCC1c2ccccc2-c2ccccc21)C(=O)O                 719\n",
              "CC(OC(C)(C)C)C(NC(=O)OCC1c2ccccc2-c2ccccc21)C(=O)O          618\n",
              "O=C(Nc1ccc(C(=O)O)cc1)OCC1c2ccccc2-c2ccccc21                518\n",
              "                                                           ... \n",
              "O=C(Nc1c(F)ccc(Br)c1C(=O)O)OCC1c2ccccc2-c2ccccc21             2\n",
              "C=CCC(CC=C)(NC(=O)OCC1c2ccccc2-c2ccccc21)C(=O)O               2\n",
              "O=C(Nc1c(C(=O)O)cnn1-c1ccc(F)cc1)OCC1c2ccccc2-c2ccccc21       1\n",
              "O=C(Nc1c(Br)cc(C(=O)O)cc1Br)OCC1c2ccccc2-c2ccccc21            1\n",
              "O=C(Nc1cc(Cl)ncc1C(=O)O)OCC1c2ccccc2-c2ccccc21                1\n",
              "Name: count, Length: 267, dtype: int64"
            ]
          },
          "metadata": {},
          "execution_count": 56
        }
      ]
    },
    {
      "cell_type": "code",
      "source": [
        "df.isna().sum()"
      ],
      "metadata": {
        "colab": {
          "base_uri": "https://localhost:8080/"
        },
        "id": "7KVplCyGbohy",
        "outputId": "0ca59362-9e79-4bcc-a398-3b0e9546605d"
      },
      "execution_count": 57,
      "outputs": [
        {
          "output_type": "execute_result",
          "data": {
            "text/plain": [
              "id                       0\n",
              "buildingblock1_smiles    0\n",
              "buildingblock2_smiles    0\n",
              "buildingblock3_smiles    0\n",
              "molecule_smiles          0\n",
              "protein_name             0\n",
              "binds                    0\n",
              "dtype: int64"
            ]
          },
          "metadata": {},
          "execution_count": 57
        }
      ]
    },
    {
      "cell_type": "code",
      "source": [
        "df[df['binds'] == 1]['protein_name'].value_counts(normalize=True).plot(kind='bar')"
      ],
      "metadata": {
        "colab": {
          "base_uri": "https://localhost:8080/",
          "height": 491
        },
        "id": "HC18jzhAPdGG",
        "outputId": "021d5990-661e-4694-b38c-ede160291594"
      },
      "execution_count": 58,
      "outputs": [
        {
          "output_type": "execute_result",
          "data": {
            "text/plain": [
              "<Axes: xlabel='protein_name'>"
            ]
          },
          "metadata": {},
          "execution_count": 58
        },
        {
          "output_type": "display_data",
          "data": {
            "text/plain": [
              "<Figure size 640x480 with 1 Axes>"
            ],
            "image/png": "[encoded data removed]"
          },
          "metadata": {}
        }
      ]
    },
    {
      "cell_type": "code",
      "source": [
        "targets = pd.get_dummies(df['protein_name'])\n",
        "df = pd.concat([df, targets], axis=1)"
      ],
      "metadata": {
        "id": "eVY7kRgsJhGJ"
      },
      "execution_count": 59,
      "outputs": []
    },
    {
      "cell_type": "code",
      "source": [
        "df"
      ],
      "metadata": {
        "colab": {
          "base_uri": "https://localhost:8080/",
          "height": 424
        },
        "id": "hcVXiSDkLVWD",
        "outputId": "2fb5c6ff-a1aa-45dc-a212-da2f20be0773"
      },
      "execution_count": 60,
      "outputs": [
        {
          "output_type": "execute_result",
          "data": {
            "text/plain": [
              "              id                              buildingblock1_smiles  \\\n",
              "0      201962608      O=C(Nc1ccc(F)cc1C(=O)O)OCC1c2ccccc2-c2ccccc21   \n",
              "1       71570966  O=C(CC[C@H](NC(=O)OCC1c2ccccc2-c2ccccc21)C(=O)...   \n",
              "2      165097249  O=C(Nc1cc(C(=O)O)ccc1C(=O)O)OCC1c2ccccc2-c2ccc...   \n",
              "3      288757064      O=C(O)[C@H]1CCCCN1C(=O)OCC1c2ccccc2-c2ccccc21   \n",
              "4      159606261   O=C(Nc1cc(Br)cc(C(=O)O)c1)OCC1c2ccccc2-c2ccccc21   \n",
              "...          ...                                                ...   \n",
              "59995   82573643      O=C(NCC1CCC(C(=O)O)CC1)OCC1c2ccccc2-c2ccccc21   \n",
              "59996  191583793      O=C(Nc1ccc(C(=O)O)cc1F)OCC1c2ccccc2-c2ccccc21   \n",
              "59997   82484942      O=C(NCC1CCC(C(=O)O)CC1)OCC1c2ccccc2-c2ccccc21   \n",
              "59998  214564880      O=C(Nc1cccc(I)c1C(=O)O)OCC1c2ccccc2-c2ccccc21   \n",
              "59999  122892303  O=C(N[C@H](Cc1ccc(Cl)cc1)C(=O)O)OCC1c2ccccc2-c...   \n",
              "\n",
              "                 buildingblock2_smiles     buildingblock3_smiles  \\\n",
              "0                 Cc1ccccc1-c1csc(N)n1           Nc1ccc2nccnc2c1   \n",
              "1                     NCC1CCC(F)(F)CC1            Cc1nc(N)ccc1Cl   \n",
              "2                    Cl.NCCC1CCCC1(F)F   Cl.Cl.NCC1(c2ccncc2)CC1   \n",
              "3         CC(C)Cn1cnc2c(N)nc3ccccc3c21         CSC1(CN)CCOCC1.Cl   \n",
              "4                 Cl.NCC(F)(F)C(F)(F)F    CS(=O)(=O)Nc1cccc(N)c1   \n",
              "...                                ...                       ...   \n",
              "59995                Nc1cc(F)c(F)cc1Br                 NCc1ccon1   \n",
              "59996             Nc1ccc(N2CCCC2=O)cc1          COc1nc(C)nc(N)n1   \n",
              "59997               NCCN1CCC2(C1)OCCO2  Cl.Cl.NCc1nccn1-c1ccccc1   \n",
              "59998                     Nc1cncc(F)c1        NCCC(=O)NCc1ccncc1   \n",
              "59999  Nc1cc(N2CCNCC2)ccc1[N+](=O)[O-]                 Nc1ccncn1   \n",
              "\n",
              "                                         molecule_smiles protein_name  binds  \\\n",
              "0      Cc1ccccc1-c1csc(Nc2nc(Nc3ccc4nccnc4c3)nc(Nc3cc...          HSA      0   \n",
              "1      Cc1nc(Nc2nc(NCC3CCC(F)(F)CC3)nc(N[C@@H](CCC(=O...          sEH      0   \n",
              "2      O=C(N[Dy])c1ccc(C(=O)O)c(Nc2nc(NCCC3CCCC3(F)F)...          HSA      0   \n",
              "3      CSC1(CNc2nc(Nc3nc4ccccc4c4c3ncn4CC(C)C)nc(N3CC...          sEH      0   \n",
              "4      CS(=O)(=O)Nc1cccc(Nc2nc(NCC(F)(F)C(F)(F)F)nc(N...         BRD4      0   \n",
              "...                                                  ...          ...    ...   \n",
              "59995  O=C(N[Dy])C1CCC(CNc2nc(NCc3ccon3)nc(Nc3cc(F)c(...          sEH      1   \n",
              "59996  COc1nc(C)nc(Nc2nc(Nc3ccc(N4CCCC4=O)cc3)nc(Nc3c...          HSA      1   \n",
              "59997  O=C(N[Dy])C1CCC(CNc2nc(NCCN3CCC4(C3)OCCO4)nc(N...          sEH      1   \n",
              "59998  O=C(CCNc1nc(Nc2cncc(F)c2)nc(Nc2cccc(I)c2C(=O)N...          sEH      1   \n",
              "59999  O=C(N[Dy])[C@@H](Cc1ccc(Cl)cc1)Nc1nc(Nc2ccncn2...         BRD4      1   \n",
              "\n",
              "        BRD4    HSA    sEH  \n",
              "0      False   True  False  \n",
              "1      False  False   True  \n",
              "2      False   True  False  \n",
              "3      False  False   True  \n",
              "4       True  False  False  \n",
              "...      ...    ...    ...  \n",
              "59995  False  False   True  \n",
              "59996  False   True  False  \n",
              "59997  False  False   True  \n",
              "59998  False  False   True  \n",
              "59999   True  False  False  \n",
              "\n",
              "[60000 rows x 10 columns]"
            ],
            "text/html": [
              "\n",
              "  <div id=\"df-7ab0f874-a238-4b48-88db-95092716f397\" class=\"colab-df-container\">\n",
              "    <div>\n",
              "<style scoped>\n",
              "    .dataframe tbody tr th:only-of-type {\n",
              "        vertical-align: middle;\n",
              "    }\n",
              "\n",
              "    .dataframe tbody tr th {\n",
              "        vertical-align: top;\n",
              "    }\n",
              "\n",
              "    .dataframe thead th {\n",
              "        text-align: right;\n",
              "    }\n",
              "</style>\n",
              "<table border=\"1\" class=\"dataframe\">\n",
              "  <thead>\n",
              "    <tr style=\"text-align: right;\">\n",
              "      <th></th>\n",
              "      <th>id</th>\n",
              "      <th>buildingblock1_smiles</th>\n",
              "      <th>buildingblock2_smiles</th>\n",
              "      <th>buildingblock3_smiles</th>\n",
              "      <th>molecule_smiles</th>\n",
              "      <th>protein_name</th>\n",
              "      <th>binds</th>\n",
              "      <th>BRD4</th>\n",
              "      <th>HSA</th>\n",
              "      <th>sEH</th>\n",
              "    </tr>\n",
              "  </thead>\n",
              "  <tbody>\n",
              "    <tr>\n",
              "      <th>0</th>\n",
              "      <td>201962608</td>\n",
              "      <td>O=C(Nc1ccc(F)cc1C(=O)O)OCC1c2ccccc2-c2ccccc21</td>\n",
              "      <td>Cc1ccccc1-c1csc(N)n1</td>\n",
              "      <td>Nc1ccc2nccnc2c1</td>\n",
              "      <td>Cc1ccccc1-c1csc(Nc2nc(Nc3ccc4nccnc4c3)nc(Nc3cc...</td>\n",
              "      <td>HSA</td>\n",
              "      <td>0</td>\n",
              "      <td>False</td>\n",
              "      <td>True</td>\n",
              "      <td>False</td>\n",
              "    </tr>\n",
              "    <tr>\n",
              "      <th>1</th>\n",
              "      <td>71570966</td>\n",
              "      <td>O=C(CC[C@H](NC(=O)OCC1c2ccccc2-c2ccccc21)C(=O)...</td>\n",
              "      <td>NCC1CCC(F)(F)CC1</td>\n",
              "      <td>Cc1nc(N)ccc1Cl</td>\n",
              "      <td>Cc1nc(Nc2nc(NCC3CCC(F)(F)CC3)nc(N[C@@H](CCC(=O...</td>\n",
              "      <td>sEH</td>\n",
              "      <td>0</td>\n",
              "      <td>False</td>\n",
              "      <td>False</td>\n",
              "      <td>True</td>\n",
              "    </tr>\n",
              "    <tr>\n",
              "      <th>2</th>\n",
              "      <td>165097249</td>\n",
              "      <td>O=C(Nc1cc(C(=O)O)ccc1C(=O)O)OCC1c2ccccc2-c2ccc...</td>\n",
              "      <td>Cl.NCCC1CCCC1(F)F</td>\n",
              "      <td>Cl.Cl.NCC1(c2ccncc2)CC1</td>\n",
              "      <td>O=C(N[Dy])c1ccc(C(=O)O)c(Nc2nc(NCCC3CCCC3(F)F)...</td>\n",
              "      <td>HSA</td>\n",
              "      <td>0</td>\n",
              "      <td>False</td>\n",
              "      <td>True</td>\n",
              "      <td>False</td>\n",
              "    </tr>\n",
              "    <tr>\n",
              "      <th>3</th>\n",
              "      <td>288757064</td>\n",
              "      <td>O=C(O)[C@H]1CCCCN1C(=O)OCC1c2ccccc2-c2ccccc21</td>\n",
              "      <td>CC(C)Cn1cnc2c(N)nc3ccccc3c21</td>\n",
              "      <td>CSC1(CN)CCOCC1.Cl</td>\n",
              "      <td>CSC1(CNc2nc(Nc3nc4ccccc4c4c3ncn4CC(C)C)nc(N3CC...</td>\n",
              "      <td>sEH</td>\n",
              "      <td>0</td>\n",
              "      <td>False</td>\n",
              "      <td>False</td>\n",
              "      <td>True</td>\n",
              "    </tr>\n",
              "    <tr>\n",
              "      <th>4</th>\n",
              "      <td>159606261</td>\n",
              "      <td>O=C(Nc1cc(Br)cc(C(=O)O)c1)OCC1c2ccccc2-c2ccccc21</td>\n",
              "      <td>Cl.NCC(F)(F)C(F)(F)F</td>\n",
              "      <td>CS(=O)(=O)Nc1cccc(N)c1</td>\n",
              "      <td>CS(=O)(=O)Nc1cccc(Nc2nc(NCC(F)(F)C(F)(F)F)nc(N...</td>\n",
              "      <td>BRD4</td>\n",
              "      <td>0</td>\n",
              "      <td>True</td>\n",
              "      <td>False</td>\n",
              "      <td>False</td>\n",
              "    </tr>\n",
              "    <tr>\n",
              "      <th>...</th>\n",
              "      <td>...</td>\n",
              "      <td>...</td>\n",
              "      <td>...</td>\n",
              "      <td>...</td>\n",
              "      <td>...</td>\n",
              "      <td>...</td>\n",
              "      <td>...</td>\n",
              "      <td>...</td>\n",
              "      <td>...</td>\n",
              "      <td>...</td>\n",
              "    </tr>\n",
              "    <tr>\n",
              "      <th>59995</th>\n",
              "      <td>82573643</td>\n",
              "      <td>O=C(NCC1CCC(C(=O)O)CC1)OCC1c2ccccc2-c2ccccc21</td>\n",
              "      <td>Nc1cc(F)c(F)cc1Br</td>\n",
              "      <td>NCc1ccon1</td>\n",
              "      <td>O=C(N[Dy])C1CCC(CNc2nc(NCc3ccon3)nc(Nc3cc(F)c(...</td>\n",
              "      <td>sEH</td>\n",
              "      <td>1</td>\n",
              "      <td>False</td>\n",
              "      <td>False</td>\n",
              "      <td>True</td>\n",
              "    </tr>\n",
              "    <tr>\n",
              "      <th>59996</th>\n",
              "      <td>191583793</td>\n",
              "      <td>O=C(Nc1ccc(C(=O)O)cc1F)OCC1c2ccccc2-c2ccccc21</td>\n",
              "      <td>Nc1ccc(N2CCCC2=O)cc1</td>\n",
              "      <td>COc1nc(C)nc(N)n1</td>\n",
              "      <td>COc1nc(C)nc(Nc2nc(Nc3ccc(N4CCCC4=O)cc3)nc(Nc3c...</td>\n",
              "      <td>HSA</td>\n",
              "      <td>1</td>\n",
              "      <td>False</td>\n",
              "      <td>True</td>\n",
              "      <td>False</td>\n",
              "    </tr>\n",
              "    <tr>\n",
              "      <th>59997</th>\n",
              "      <td>82484942</td>\n",
              "      <td>O=C(NCC1CCC(C(=O)O)CC1)OCC1c2ccccc2-c2ccccc21</td>\n",
              "      <td>NCCN1CCC2(C1)OCCO2</td>\n",
              "      <td>Cl.Cl.NCc1nccn1-c1ccccc1</td>\n",
              "      <td>O=C(N[Dy])C1CCC(CNc2nc(NCCN3CCC4(C3)OCCO4)nc(N...</td>\n",
              "      <td>sEH</td>\n",
              "      <td>1</td>\n",
              "      <td>False</td>\n",
              "      <td>False</td>\n",
              "      <td>True</td>\n",
              "    </tr>\n",
              "    <tr>\n",
              "      <th>59998</th>\n",
              "      <td>214564880</td>\n",
              "      <td>O=C(Nc1cccc(I)c1C(=O)O)OCC1c2ccccc2-c2ccccc21</td>\n",
              "      <td>Nc1cncc(F)c1</td>\n",
              "      <td>NCCC(=O)NCc1ccncc1</td>\n",
              "      <td>O=C(CCNc1nc(Nc2cncc(F)c2)nc(Nc2cccc(I)c2C(=O)N...</td>\n",
              "      <td>sEH</td>\n",
              "      <td>1</td>\n",
              "      <td>False</td>\n",
              "      <td>False</td>\n",
              "      <td>True</td>\n",
              "    </tr>\n",
              "    <tr>\n",
              "      <th>59999</th>\n",
              "      <td>122892303</td>\n",
              "      <td>O=C(N[C@H](Cc1ccc(Cl)cc1)C(=O)O)OCC1c2ccccc2-c...</td>\n",
              "      <td>Nc1cc(N2CCNCC2)ccc1[N+](=O)[O-]</td>\n",
              "      <td>Nc1ccncn1</td>\n",
              "      <td>O=C(N[Dy])[C@@H](Cc1ccc(Cl)cc1)Nc1nc(Nc2ccncn2...</td>\n",
              "      <td>BRD4</td>\n",
              "      <td>1</td>\n",
              "      <td>True</td>\n",
              "      <td>False</td>\n",
              "      <td>False</td>\n",
              "    </tr>\n",
              "  </tbody>\n",
              "</table>\n",
              "<p>60000 rows × 10 columns</p>\n",
              "</div>\n",
              "    <div class=\"colab-df-buttons\">\n",
              "\n",
              "  <div class=\"colab-df-container\">\n",
              "    <button class=\"colab-df-convert\" onclick=\"convertToInteractive('df-7ab0f874-a238-4b48-88db-95092716f397')\"\n",
              "            title=\"Convert this dataframe to an interactive table.\"\n",
              "            style=\"display:none;\">\n",
              "\n",
              "  <svg xmlns=\"http://www.w3.org/2000/svg\" height=\"24px\" viewBox=\"0 -960 960 960\">\n",
              "    <path d=\"M120-120v-720h720v720H120Zm60-500h600v-160H180v160Zm220 220h160v-160H400v160Zm0 220h160v-160H400v160ZM180-400h160v-160H180v160Zm440 0h160v-160H620v160ZM180-180h160v-160H180v160Zm440 0h160v-160H620v160Z\"/>\n",
              "  </svg>\n",
              "    </button>\n",
              "\n",
              "  <style>\n",
              "    .colab-df-container {\n",
              "      display:flex;\n",
              "      gap: 12px;\n",
              "    }\n",
              "\n",
              "    .colab-df-convert {\n",
              "      background-color: #E8F0FE;\n",
              "      border: none;\n",
              "      border-radius: 50%;\n",
              "      cursor: pointer;\n",
              "      display: none;\n",
              "      fill: #1967D2;\n",
              "      height: 32px;\n",
              "      padding: 0 0 0 0;\n",
              "      width: 32px;\n",
              "    }\n",
              "\n",
              "    .colab-df-convert:hover {\n",
              "      background-color: #E2EBFA;\n",
              "      box-shadow: 0px 1px 2px rgba(60, 64, 67, 0.3), 0px 1px 3px 1px rgba(60, 64, 67, 0.15);\n",
              "      fill: #174EA6;\n",
              "    }\n",
              "\n",
              "    .colab-df-buttons div {\n",
              "      margin-bottom: 4px;\n",
              "    }\n",
              "\n",
              "    [theme=dark] .colab-df-convert {\n",
              "      background-color: #3B4455;\n",
              "      fill: #D2E3FC;\n",
              "    }\n",
              "\n",
              "    [theme=dark] .colab-df-convert:hover {\n",
              "      background-color: #434B5C;\n",
              "      box-shadow: 0px 1px 3px 1px rgba(0, 0, 0, 0.15);\n",
              "      filter: drop-shadow(0px 1px 2px rgba(0, 0, 0, 0.3));\n",
              "      fill: #FFFFFF;\n",
              "    }\n",
              "  </style>\n",
              "\n",
              "    <script>\n",
              "      const buttonEl =\n",
              "        document.querySelector('#df-7ab0f874-a238-4b48-88db-95092716f397 button.colab-df-convert');\n",
              "      buttonEl.style.display =\n",
              "        google.colab.kernel.accessAllowed ? 'block' : 'none';\n",
              "\n",
              "      async function convertToInteractive(key) {\n",
              "        const element = document.querySelector('#df-7ab0f874-a238-4b48-88db-95092716f397');\n",
              "        const dataTable =\n",
              "          await google.colab.kernel.invokeFunction('convertToInteractive',\n",
              "                                                    [key], {});\n",
              "        if (!dataTable) return;\n",
              "\n",
              "        const docLinkHtml = 'Like what you see? Visit the ' +\n",
              "          '<a target=\"_blank\" href=https://colab.research.google.com/notebooks/data_table.ipynb>data table notebook</a>'\n",
              "          + ' to learn more about interactive tables.';\n",
              "        element.innerHTML = '';\n",
              "        dataTable['output_type'] = 'display_data';\n",
              "        await google.colab.output.renderOutput(dataTable, element);\n",
              "        const docLink = document.createElement('div');\n",
              "        docLink.innerHTML = docLinkHtml;\n",
              "        element.appendChild(docLink);\n",
              "      }\n",
              "    </script>\n",
              "  </div>\n",
              "\n",
              "\n",
              "<div id=\"df-c4887873-0c74-4294-af37-d3917aa0b80b\">\n",
              "  <button class=\"colab-df-quickchart\" onclick=\"quickchart('df-c4887873-0c74-4294-af37-d3917aa0b80b')\"\n",
              "            title=\"Suggest charts\"\n",
              "            style=\"display:none;\">\n",
              "\n",
              "<svg xmlns=\"http://www.w3.org/2000/svg\" height=\"24px\"viewBox=\"0 0 24 24\"\n",
              "     width=\"24px\">\n",
              "    <g>\n",
              "        <path d=\"M19 3H5c-1.1 0-2 .9-2 2v14c0 1.1.9 2 2 2h14c1.1 0 2-.9 2-2V5c0-1.1-.9-2-2-2zM9 17H7v-7h2v7zm4 0h-2V7h2v10zm4 0h-2v-4h2v4z\"/>\n",
              "    </g>\n",
              "</svg>\n",
              "  </button>\n",
              "\n",
              "<style>\n",
              "  .colab-df-quickchart {\n",
              "      --bg-color: #E8F0FE;\n",
              "      --fill-color: #1967D2;\n",
              "      --hover-bg-color: #E2EBFA;\n",
              "      --hover-fill-color: #174EA6;\n",
              "      --disabled-fill-color: #AAA;\n",
              "      --disabled-bg-color: #DDD;\n",
              "  }\n",
              "\n",
              "  [theme=dark] .colab-df-quickchart {\n",
              "      --bg-color: #3B4455;\n",
              "      --fill-color: #D2E3FC;\n",
              "      --hover-bg-color: #434B5C;\n",
              "      --hover-fill-color: #FFFFFF;\n",
              "      --disabled-bg-color: #3B4455;\n",
              "      --disabled-fill-color: #666;\n",
              "  }\n",
              "\n",
              "  .colab-df-quickchart {\n",
              "    background-color: var(--bg-color);\n",
              "    border: none;\n",
              "    border-radius: 50%;\n",
              "    cursor: pointer;\n",
              "    display: none;\n",
              "    fill: var(--fill-color);\n",
              "    height: 32px;\n",
              "    padding: 0;\n",
              "    width: 32px;\n",
              "  }\n",
              "\n",
              "  .colab-df-quickchart:hover {\n",
              "    background-color: var(--hover-bg-color);\n",
              "    box-shadow: 0 1px 2px rgba(60, 64, 67, 0.3), 0 1px 3px 1px rgba(60, 64, 67, 0.15);\n",
              "    fill: var(--button-hover-fill-color);\n",
              "  }\n",
              "\n",
              "  .colab-df-quickchart-complete:disabled,\n",
              "  .colab-df-quickchart-complete:disabled:hover {\n",
              "    background-color: var(--disabled-bg-color);\n",
              "    fill: var(--disabled-fill-color);\n",
              "    box-shadow: none;\n",
              "  }\n",
              "\n",
              "  .colab-df-spinner {\n",
              "    border: 2px solid var(--fill-color);\n",
              "    border-color: transparent;\n",
              "    border-bottom-color: var(--fill-color);\n",
              "    animation:\n",
              "      spin 1s steps(1) infinite;\n",
              "  }\n",
              "\n",
              "  @keyframes spin {\n",
              "    0% {\n",
              "      border-color: transparent;\n",
              "      border-bottom-color: var(--fill-color);\n",
              "      border-left-color: var(--fill-color);\n",
              "    }\n",
              "    20% {\n",
              "      border-color: transparent;\n",
              "      border-left-color: var(--fill-color);\n",
              "      border-top-color: var(--fill-color);\n",
              "    }\n",
              "    30% {\n",
              "      border-color: transparent;\n",
              "      border-left-color: var(--fill-color);\n",
              "      border-top-color: var(--fill-color);\n",
              "      border-right-color: var(--fill-color);\n",
              "    }\n",
              "    40% {\n",
              "      border-color: transparent;\n",
              "      border-right-color: var(--fill-color);\n",
              "      border-top-color: var(--fill-color);\n",
              "    }\n",
              "    60% {\n",
              "      border-color: transparent;\n",
              "      border-right-color: var(--fill-color);\n",
              "    }\n",
              "    80% {\n",
              "      border-color: transparent;\n",
              "      border-right-color: var(--fill-color);\n",
              "      border-bottom-color: var(--fill-color);\n",
              "    }\n",
              "    90% {\n",
              "      border-color: transparent;\n",
              "      border-bottom-color: var(--fill-color);\n",
              "    }\n",
              "  }\n",
              "</style>\n",
              "\n",
              "  <script>\n",
              "    async function quickchart(key) {\n",
              "      const quickchartButtonEl =\n",
              "        document.querySelector('#' + key + ' button');\n",
              "      quickchartButtonEl.disabled = true;  // To prevent multiple clicks.\n",
              "      quickchartButtonEl.classList.add('colab-df-spinner');\n",
              "      try {\n",
              "        const charts = await google.colab.kernel.invokeFunction(\n",
              "            'suggestCharts', [key], {});\n",
              "      } catch (error) {\n",
              "        console.error('Error during call to suggestCharts:', error);\n",
              "      }\n",
              "      quickchartButtonEl.classList.remove('colab-df-spinner');\n",
              "      quickchartButtonEl.classList.add('colab-df-quickchart-complete');\n",
              "    }\n",
              "    (() => {\n",
              "      let quickchartButtonEl =\n",
              "        document.querySelector('#df-c4887873-0c74-4294-af37-d3917aa0b80b button');\n",
              "      quickchartButtonEl.style.display =\n",
              "        google.colab.kernel.accessAllowed ? 'block' : 'none';\n",
              "    })();\n",
              "  </script>\n",
              "</div>\n",
              "\n",
              "  <div id=\"id_193fe23c-2523-4bb6-8c4f-204752f1712b\">\n",
              "    <style>\n",
              "      .colab-df-generate {\n",
              "        background-color: #E8F0FE;\n",
              "        border: none;\n",
              "        border-radius: 50%;\n",
              "        cursor: pointer;\n",
              "        display: none;\n",
              "        fill: #1967D2;\n",
              "        height: 32px;\n",
              "        padding: 0 0 0 0;\n",
              "        width: 32px;\n",
              "      }\n",
              "\n",
              "      .colab-df-generate:hover {\n",
              "        background-color: #E2EBFA;\n",
              "        box-shadow: 0px 1px 2px rgba(60, 64, 67, 0.3), 0px 1px 3px 1px rgba(60, 64, 67, 0.15);\n",
              "        fill: #174EA6;\n",
              "      }\n",
              "\n",
              "      [theme=dark] .colab-df-generate {\n",
              "        background-color: #3B4455;\n",
              "        fill: #D2E3FC;\n",
              "      }\n",
              "\n",
              "      [theme=dark] .colab-df-generate:hover {\n",
              "        background-color: #434B5C;\n",
              "        box-shadow: 0px 1px 3px 1px rgba(0, 0, 0, 0.15);\n",
              "        filter: drop-shadow(0px 1px 2px rgba(0, 0, 0, 0.3));\n",
              "        fill: #FFFFFF;\n",
              "      }\n",
              "    </style>\n",
              "    <button class=\"colab-df-generate\" onclick=\"generateWithVariable('df')\"\n",
              "            title=\"Generate code using this dataframe.\"\n",
              "            style=\"display:none;\">\n",
              "\n",
              "  <svg xmlns=\"http://www.w3.org/2000/svg\" height=\"24px\"viewBox=\"0 0 24 24\"\n",
              "       width=\"24px\">\n",
              "    <path d=\"M7,19H8.4L18.45,9,17,7.55,7,17.6ZM5,21V16.75L18.45,3.32a2,2,0,0,1,2.83,0l1.4,1.43a1.91,1.91,0,0,1,.58,1.4,1.91,1.91,0,0,1-.58,1.4L9.25,21ZM18.45,9,17,7.55Zm-12,3A5.31,5.31,0,0,0,4.9,8.1,5.31,5.31,0,0,0,1,6.5,5.31,5.31,0,0,0,4.9,4.9,5.31,5.31,0,0,0,6.5,1,5.31,5.31,0,0,0,8.1,4.9,5.31,5.31,0,0,0,12,6.5,5.46,5.46,0,0,0,6.5,12Z\"/>\n",
              "  </svg>\n",
              "    </button>\n",
              "    <script>\n",
              "      (() => {\n",
              "      const buttonEl =\n",
              "        document.querySelector('#id_193fe23c-2523-4bb6-8c4f-204752f1712b button.colab-df-generate');\n",
              "      buttonEl.style.display =\n",
              "        google.colab.kernel.accessAllowed ? 'block' : 'none';\n",
              "\n",
              "      buttonEl.onclick = () => {\n",
              "        google.colab.notebook.generateWithVariable('df');\n",
              "      }\n",
              "      })();\n",
              "    </script>\n",
              "  </div>\n",
              "\n",
              "    </div>\n",
              "  </div>\n"
            ],
            "application/vnd.google.colaboratory.intrinsic+json": {
              "type": "dataframe",
              "variable_name": "df",
              "summary": "{\n  \"name\": \"df\",\n  \"rows\": 60000,\n  \"fields\": [\n    {\n      \"column\": \"id\",\n      \"properties\": {\n        \"dtype\": \"number\",\n        \"std\": 83279686,\n        \"min\": 20975,\n        \"max\": 295240300,\n        \"num_unique_values\": 60000,\n        \"samples\": [\n          109310650,\n          29282535,\n          152087605\n        ],\n        \"semantic_type\": \"\",\n        \"description\": \"\"\n      }\n    },\n    {\n      \"column\": \"buildingblock1_smiles\",\n      \"properties\": {\n        \"dtype\": \"category\",\n        \"num_unique_values\": 271,\n        \"samples\": [\n          \"O=C(Nc1ccc(Cl)nc1C(=O)O)OCC1c2ccccc2-c2ccccc21\",\n          \"O=C(N[C@@H](C(=O)O)C1CCCC1)OCC1c2ccccc2-c2ccccc21\",\n          \"O=C(N[C@@H](Cc1cccs1)C(=O)O)OCC1c2ccccc2-c2ccccc21\"\n        ],\n        \"semantic_type\": \"\",\n        \"description\": \"\"\n      }\n    },\n    {\n      \"column\": \"buildingblock2_smiles\",\n      \"properties\": {\n        \"dtype\": \"category\",\n        \"num_unique_values\": 693,\n        \"samples\": [\n          \"CC(C)(C)OC(=O)N1CCN(c2ccccc2N)CC1\",\n          \"Cc1ccc(Cl)c(N)c1\",\n          \"CCOC(=O)c1ccc(O)c(N)c1\"\n        ],\n        \"semantic_type\": \"\",\n        \"description\": \"\"\n      }\n    },\n    {\n      \"column\": \"buildingblock3_smiles\",\n      \"properties\": {\n        \"dtype\": \"category\",\n        \"num_unique_values\": 866,\n        \"samples\": [\n          \"Nc1ccncc1Cl\",\n          \"NCC1CCCn2ccnc21\",\n          \"COC1(C(F)(F)CN)CCOCC1.Cl\"\n        ],\n        \"semantic_type\": \"\",\n        \"description\": \"\"\n      }\n    },\n    {\n      \"column\": \"molecule_smiles\",\n      \"properties\": {\n        \"dtype\": \"string\",\n        \"num_unique_values\": 59960,\n        \"samples\": [\n          \"Cc1ccc(CNc2nc(Nc3ccc(=O)n(C)c3)nc(N[C@@H](Cc3cc(F)c(F)c(F)c3)C(=O)N[Dy])n2)c(Cl)n1\",\n          \"CCOC(=O)c1ncccc1Nc1nc(Nc2ccc(Cn3ccnc3)cc2)nc(Nc2cc(C(=O)O)cc(C(=O)N[Dy])c2)n1\",\n          \"COc1c(F)cc(Nc2nc(NCc3cccnc3N(C)C)nc(N[C@H](CC(=O)N[Dy])Cc3cccs3)n2)cc1F\"\n        ],\n        \"semantic_type\": \"\",\n        \"description\": \"\"\n      }\n    },\n    {\n      \"column\": \"protein_name\",\n      \"properties\": {\n        \"dtype\": \"category\",\n        \"num_unique_values\": 3,\n        \"samples\": [\n          \"HSA\",\n          \"sEH\",\n          \"BRD4\"\n        ],\n        \"semantic_type\": \"\",\n        \"description\": \"\"\n      }\n    },\n    {\n      \"column\": \"binds\",\n      \"properties\": {\n        \"dtype\": \"number\",\n        \"std\": 0,\n        \"min\": 0,\n        \"max\": 1,\n        \"num_unique_values\": 2,\n        \"samples\": [\n          1,\n          0\n        ],\n        \"semantic_type\": \"\",\n        \"description\": \"\"\n      }\n    },\n    {\n      \"column\": \"BRD4\",\n      \"properties\": {\n        \"dtype\": \"boolean\",\n        \"num_unique_values\": 2,\n        \"samples\": [\n          true,\n          false\n        ],\n        \"semantic_type\": \"\",\n        \"description\": \"\"\n      }\n    },\n    {\n      \"column\": \"HSA\",\n      \"properties\": {\n        \"dtype\": \"boolean\",\n        \"num_unique_values\": 2,\n        \"samples\": [\n          false,\n          true\n        ],\n        \"semantic_type\": \"\",\n        \"description\": \"\"\n      }\n    },\n    {\n      \"column\": \"sEH\",\n      \"properties\": {\n        \"dtype\": \"boolean\",\n        \"num_unique_values\": 2,\n        \"samples\": [\n          true,\n          false\n        ],\n        \"semantic_type\": \"\",\n        \"description\": \"\"\n      }\n    }\n  ]\n}"
            }
          },
          "metadata": {},
          "execution_count": 60
        }
      ]
    },
    {
      "cell_type": "code",
      "source": [
        "# One-hot encode the protein_name column\n",
        "df = pd.concat([df, pd.get_dummies(df['protein_name'])], axis=1)\n",
        "\n",
        "# Update the one-hot encoded columns based on the binds column\n",
        "df.loc[df['binds'] == 0, ['BRD4', 'HSA', 'sEH']] = False\n",
        "\n",
        "df['DNB'] = df['binds']==0\n",
        "df.head()"
      ],
      "metadata": {
        "colab": {
          "base_uri": "https://localhost:8080/",
          "height": 206
        },
        "id": "PzLVf1IRJp4h",
        "outputId": "609e8551-6805-4859-8fbf-b0b60bdc6278"
      },
      "execution_count": 68,
      "outputs": [
        {
          "output_type": "execute_result",
          "data": {
            "text/plain": [
              "          id                              buildingblock1_smiles  \\\n",
              "0  160286152     O=C(Nc1cc(Br)ccc1C(=O)O)OCC1c2ccccc2-c2ccccc21   \n",
              "1   33931022   COc1ccc(C(=O)O)c(NC(=O)OCC2c3ccccc3-c3ccccc32)c1   \n",
              "2  188981853  O=C(Nc1ccc(C(=O)O)cc1C(F)(F)F)OCC1c2ccccc2-c2c...   \n",
              "3  290732664        O=C(O)[C@H]1CCN1C(=O)OCC1c2ccccc2-c2ccccc21   \n",
              "4  246336859  O=C(O)C[C@@H](Cc1ccc(Cl)cc1)NC(=O)OCC1c2ccccc2...   \n",
              "\n",
              "       buildingblock2_smiles buildingblock3_smiles  \\\n",
              "0   CN(C)C(=O)C1CCC(CN)O1.Cl   Cn1cc(C(F)F)c(CN)n1   \n",
              "1      CN1CCN(Cc2ccccc2N)CC1  NCC(c1cccs1)N1CCOCC1   \n",
              "2  Cl.Cl.NCc1ccc[n+]([O-])c1      Nc1ncnc(=O)[nH]1   \n",
              "3        Nc1ccc(N2CCOCC2)cn1         Nc1cc(Cl)ccn1   \n",
              "4          CCON(C)C(=O)CN.Cl     CC(C)c1nc(N)sc1Br   \n",
              "\n",
              "                                     molecule_smiles protein_name  binds  \\\n",
              "0  CN(C)C(=O)C1CCC(CNc2nc(NCc3nn(C)cc3C(F)F)nc(Nc...          HSA      0   \n",
              "1  COc1ccc(C(=O)N[Dy])c(Nc2nc(NCC(c3cccs3)N3CCOCC...          sEH      0   \n",
              "2  O=C(N[Dy])c1ccc(Nc2nc(NCc3ccc[n+]([O-])c3)nc(N...         BRD4      0   \n",
              "3  O=C(N[Dy])[C@H]1CCN1c1nc(Nc2ccc(N3CCOCC3)cn2)n...         BRD4      0   \n",
              "4  CCON(C)C(=O)CNc1nc(Nc2nc(C(C)C)c(Br)s2)nc(N[C@...          HSA      0   \n",
              "\n",
              "    BRD4    HSA    sEH   DNB  \n",
              "0  False  False  False  True  \n",
              "1  False  False  False  True  \n",
              "2  False  False  False  True  \n",
              "3  False  False  False  True  \n",
              "4  False  False  False  True  "
            ],
            "text/html": [
              "\n",
              "  <div id=\"df-45061c2c-5605-465c-a65d-62654a66a8b8\" class=\"colab-df-container\">\n",
              "    <div>\n",
              "<style scoped>\n",
              "    .dataframe tbody tr th:only-of-type {\n",
              "        vertical-align: middle;\n",
              "    }\n",
              "\n",
              "    .dataframe tbody tr th {\n",
              "        vertical-align: top;\n",
              "    }\n",
              "\n",
              "    .dataframe thead th {\n",
              "        text-align: right;\n",
              "    }\n",
              "</style>\n",
              "<table border=\"1\" class=\"dataframe\">\n",
              "  <thead>\n",
              "    <tr style=\"text-align: right;\">\n",
              "      <th></th>\n",
              "      <th>id</th>\n",
              "      <th>buildingblock1_smiles</th>\n",
              "      <th>buildingblock2_smiles</th>\n",
              "      <th>buildingblock3_smiles</th>\n",
              "      <th>molecule_smiles</th>\n",
              "      <th>protein_name</th>\n",
              "      <th>binds</th>\n",
              "      <th>BRD4</th>\n",
              "      <th>HSA</th>\n",
              "      <th>sEH</th>\n",
              "      <th>DNB</th>\n",
              "    </tr>\n",
              "  </thead>\n",
              "  <tbody>\n",
              "    <tr>\n",
              "      <th>0</th>\n",
              "      <td>160286152</td>\n",
              "      <td>O=C(Nc1cc(Br)ccc1C(=O)O)OCC1c2ccccc2-c2ccccc21</td>\n",
              "      <td>CN(C)C(=O)C1CCC(CN)O1.Cl</td>\n",
              "      <td>Cn1cc(C(F)F)c(CN)n1</td>\n",
              "      <td>CN(C)C(=O)C1CCC(CNc2nc(NCc3nn(C)cc3C(F)F)nc(Nc...</td>\n",
              "      <td>HSA</td>\n",
              "      <td>0</td>\n",
              "      <td>False</td>\n",
              "      <td>False</td>\n",
              "      <td>False</td>\n",
              "      <td>True</td>\n",
              "    </tr>\n",
              "    <tr>\n",
              "      <th>1</th>\n",
              "      <td>33931022</td>\n",
              "      <td>COc1ccc(C(=O)O)c(NC(=O)OCC2c3ccccc3-c3ccccc32)c1</td>\n",
              "      <td>CN1CCN(Cc2ccccc2N)CC1</td>\n",
              "      <td>NCC(c1cccs1)N1CCOCC1</td>\n",
              "      <td>COc1ccc(C(=O)N[Dy])c(Nc2nc(NCC(c3cccs3)N3CCOCC...</td>\n",
              "      <td>sEH</td>\n",
              "      <td>0</td>\n",
              "      <td>False</td>\n",
              "      <td>False</td>\n",
              "      <td>False</td>\n",
              "      <td>True</td>\n",
              "    </tr>\n",
              "    <tr>\n",
              "      <th>2</th>\n",
              "      <td>188981853</td>\n",
              "      <td>O=C(Nc1ccc(C(=O)O)cc1C(F)(F)F)OCC1c2ccccc2-c2c...</td>\n",
              "      <td>Cl.Cl.NCc1ccc[n+]([O-])c1</td>\n",
              "      <td>Nc1ncnc(=O)[nH]1</td>\n",
              "      <td>O=C(N[Dy])c1ccc(Nc2nc(NCc3ccc[n+]([O-])c3)nc(N...</td>\n",
              "      <td>BRD4</td>\n",
              "      <td>0</td>\n",
              "      <td>False</td>\n",
              "      <td>False</td>\n",
              "      <td>False</td>\n",
              "      <td>True</td>\n",
              "    </tr>\n",
              "    <tr>\n",
              "      <th>3</th>\n",
              "      <td>290732664</td>\n",
              "      <td>O=C(O)[C@H]1CCN1C(=O)OCC1c2ccccc2-c2ccccc21</td>\n",
              "      <td>Nc1ccc(N2CCOCC2)cn1</td>\n",
              "      <td>Nc1cc(Cl)ccn1</td>\n",
              "      <td>O=C(N[Dy])[C@H]1CCN1c1nc(Nc2ccc(N3CCOCC3)cn2)n...</td>\n",
              "      <td>BRD4</td>\n",
              "      <td>0</td>\n",
              "      <td>False</td>\n",
              "      <td>False</td>\n",
              "      <td>False</td>\n",
              "      <td>True</td>\n",
              "    </tr>\n",
              "    <tr>\n",
              "      <th>4</th>\n",
              "      <td>246336859</td>\n",
              "      <td>O=C(O)C[C@@H](Cc1ccc(Cl)cc1)NC(=O)OCC1c2ccccc2...</td>\n",
              "      <td>CCON(C)C(=O)CN.Cl</td>\n",
              "      <td>CC(C)c1nc(N)sc1Br</td>\n",
              "      <td>CCON(C)C(=O)CNc1nc(Nc2nc(C(C)C)c(Br)s2)nc(N[C@...</td>\n",
              "      <td>HSA</td>\n",
              "      <td>0</td>\n",
              "      <td>False</td>\n",
              "      <td>False</td>\n",
              "      <td>False</td>\n",
              "      <td>True</td>\n",
              "    </tr>\n",
              "  </tbody>\n",
              "</table>\n",
              "</div>\n",
              "    <div class=\"colab-df-buttons\">\n",
              "\n",
              "  <div class=\"colab-df-container\">\n",
              "    <button class=\"colab-df-convert\" onclick=\"convertToInteractive('df-45061c2c-5605-465c-a65d-62654a66a8b8')\"\n",
              "            title=\"Convert this dataframe to an interactive table.\"\n",
              "            style=\"display:none;\">\n",
              "\n",
              "  <svg xmlns=\"http://www.w3.org/2000/svg\" height=\"24px\" viewBox=\"0 -960 960 960\">\n",
              "    <path d=\"M120-120v-720h720v720H120Zm60-500h600v-160H180v160Zm220 220h160v-160H400v160Zm0 220h160v-160H400v160ZM180-400h160v-160H180v160Zm440 0h160v-160H620v160ZM180-180h160v-160H180v160Zm440 0h160v-160H620v160Z\"/>\n",
              "  </svg>\n",
              "    </button>\n",
              "\n",
              "  <style>\n",
              "    .colab-df-container {\n",
              "      display:flex;\n",
              "      gap: 12px;\n",
              "    }\n",
              "\n",
              "    .colab-df-convert {\n",
              "      background-color: #E8F0FE;\n",
              "      border: none;\n",
              "      border-radius: 50%;\n",
              "      cursor: pointer;\n",
              "      display: none;\n",
              "      fill: #1967D2;\n",
              "      height: 32px;\n",
              "      padding: 0 0 0 0;\n",
              "      width: 32px;\n",
              "    }\n",
              "\n",
              "    .colab-df-convert:hover {\n",
              "      background-color: #E2EBFA;\n",
              "      box-shadow: 0px 1px 2px rgba(60, 64, 67, 0.3), 0px 1px 3px 1px rgba(60, 64, 67, 0.15);\n",
              "      fill: #174EA6;\n",
              "    }\n",
              "\n",
              "    .colab-df-buttons div {\n",
              "      margin-bottom: 4px;\n",
              "    }\n",
              "\n",
              "    [theme=dark] .colab-df-convert {\n",
              "      background-color: #3B4455;\n",
              "      fill: #D2E3FC;\n",
              "    }\n",
              "\n",
              "    [theme=dark] .colab-df-convert:hover {\n",
              "      background-color: #434B5C;\n",
              "      box-shadow: 0px 1px 3px 1px rgba(0, 0, 0, 0.15);\n",
              "      filter: drop-shadow(0px 1px 2px rgba(0, 0, 0, 0.3));\n",
              "      fill: #FFFFFF;\n",
              "    }\n",
              "  </style>\n",
              "\n",
              "    <script>\n",
              "      const buttonEl =\n",
              "        document.querySelector('#df-45061c2c-5605-465c-a65d-62654a66a8b8 button.colab-df-convert');\n",
              "      buttonEl.style.display =\n",
              "        google.colab.kernel.accessAllowed ? 'block' : 'none';\n",
              "\n",
              "      async function convertToInteractive(key) {\n",
              "        const element = document.querySelector('#df-45061c2c-5605-465c-a65d-62654a66a8b8');\n",
              "        const dataTable =\n",
              "          await google.colab.kernel.invokeFunction('convertToInteractive',\n",
              "                                                    [key], {});\n",
              "        if (!dataTable) return;\n",
              "\n",
              "        const docLinkHtml = 'Like what you see? Visit the ' +\n",
              "          '<a target=\"_blank\" href=https://colab.research.google.com/notebooks/data_table.ipynb>data table notebook</a>'\n",
              "          + ' to learn more about interactive tables.';\n",
              "        element.innerHTML = '';\n",
              "        dataTable['output_type'] = 'display_data';\n",
              "        await google.colab.output.renderOutput(dataTable, element);\n",
              "        const docLink = document.createElement('div');\n",
              "        docLink.innerHTML = docLinkHtml;\n",
              "        element.appendChild(docLink);\n",
              "      }\n",
              "    </script>\n",
              "  </div>\n",
              "\n",
              "\n",
              "<div id=\"df-4a41a324-ae46-403c-a8af-6fd269220db3\">\n",
              "  <button class=\"colab-df-quickchart\" onclick=\"quickchart('df-4a41a324-ae46-403c-a8af-6fd269220db3')\"\n",
              "            title=\"Suggest charts\"\n",
              "            style=\"display:none;\">\n",
              "\n",
              "<svg xmlns=\"http://www.w3.org/2000/svg\" height=\"24px\"viewBox=\"0 0 24 24\"\n",
              "     width=\"24px\">\n",
              "    <g>\n",
              "        <path d=\"M19 3H5c-1.1 0-2 .9-2 2v14c0 1.1.9 2 2 2h14c1.1 0 2-.9 2-2V5c0-1.1-.9-2-2-2zM9 17H7v-7h2v7zm4 0h-2V7h2v10zm4 0h-2v-4h2v4z\"/>\n",
              "    </g>\n",
              "</svg>\n",
              "  </button>\n",
              "\n",
              "<style>\n",
              "  .colab-df-quickchart {\n",
              "      --bg-color: #E8F0FE;\n",
              "      --fill-color: #1967D2;\n",
              "      --hover-bg-color: #E2EBFA;\n",
              "      --hover-fill-color: #174EA6;\n",
              "      --disabled-fill-color: #AAA;\n",
              "      --disabled-bg-color: #DDD;\n",
              "  }\n",
              "\n",
              "  [theme=dark] .colab-df-quickchart {\n",
              "      --bg-color: #3B4455;\n",
              "      --fill-color: #D2E3FC;\n",
              "      --hover-bg-color: #434B5C;\n",
              "      --hover-fill-color: #FFFFFF;\n",
              "      --disabled-bg-color: #3B4455;\n",
              "      --disabled-fill-color: #666;\n",
              "  }\n",
              "\n",
              "  .colab-df-quickchart {\n",
              "    background-color: var(--bg-color);\n",
              "    border: none;\n",
              "    border-radius: 50%;\n",
              "    cursor: pointer;\n",
              "    display: none;\n",
              "    fill: var(--fill-color);\n",
              "    height: 32px;\n",
              "    padding: 0;\n",
              "    width: 32px;\n",
              "  }\n",
              "\n",
              "  .colab-df-quickchart:hover {\n",
              "    background-color: var(--hover-bg-color);\n",
              "    box-shadow: 0 1px 2px rgba(60, 64, 67, 0.3), 0 1px 3px 1px rgba(60, 64, 67, 0.15);\n",
              "    fill: var(--button-hover-fill-color);\n",
              "  }\n",
              "\n",
              "  .colab-df-quickchart-complete:disabled,\n",
              "  .colab-df-quickchart-complete:disabled:hover {\n",
              "    background-color: var(--disabled-bg-color);\n",
              "    fill: var(--disabled-fill-color);\n",
              "    box-shadow: none;\n",
              "  }\n",
              "\n",
              "  .colab-df-spinner {\n",
              "    border: 2px solid var(--fill-color);\n",
              "    border-color: transparent;\n",
              "    border-bottom-color: var(--fill-color);\n",
              "    animation:\n",
              "      spin 1s steps(1) infinite;\n",
              "  }\n",
              "\n",
              "  @keyframes spin {\n",
              "    0% {\n",
              "      border-color: transparent;\n",
              "      border-bottom-color: var(--fill-color);\n",
              "      border-left-color: var(--fill-color);\n",
              "    }\n",
              "    20% {\n",
              "      border-color: transparent;\n",
              "      border-left-color: var(--fill-color);\n",
              "      border-top-color: var(--fill-color);\n",
              "    }\n",
              "    30% {\n",
              "      border-color: transparent;\n",
              "      border-left-color: var(--fill-color);\n",
              "      border-top-color: var(--fill-color);\n",
              "      border-right-color: var(--fill-color);\n",
              "    }\n",
              "    40% {\n",
              "      border-color: transparent;\n",
              "      border-right-color: var(--fill-color);\n",
              "      border-top-color: var(--fill-color);\n",
              "    }\n",
              "    60% {\n",
              "      border-color: transparent;\n",
              "      border-right-color: var(--fill-color);\n",
              "    }\n",
              "    80% {\n",
              "      border-color: transparent;\n",
              "      border-right-color: var(--fill-color);\n",
              "      border-bottom-color: var(--fill-color);\n",
              "    }\n",
              "    90% {\n",
              "      border-color: transparent;\n",
              "      border-bottom-color: var(--fill-color);\n",
              "    }\n",
              "  }\n",
              "</style>\n",
              "\n",
              "  <script>\n",
              "    async function quickchart(key) {\n",
              "      const quickchartButtonEl =\n",
              "        document.querySelector('#' + key + ' button');\n",
              "      quickchartButtonEl.disabled = true;  // To prevent multiple clicks.\n",
              "      quickchartButtonEl.classList.add('colab-df-spinner');\n",
              "      try {\n",
              "        const charts = await google.colab.kernel.invokeFunction(\n",
              "            'suggestCharts', [key], {});\n",
              "      } catch (error) {\n",
              "        console.error('Error during call to suggestCharts:', error);\n",
              "      }\n",
              "      quickchartButtonEl.classList.remove('colab-df-spinner');\n",
              "      quickchartButtonEl.classList.add('colab-df-quickchart-complete');\n",
              "    }\n",
              "    (() => {\n",
              "      let quickchartButtonEl =\n",
              "        document.querySelector('#df-4a41a324-ae46-403c-a8af-6fd269220db3 button');\n",
              "      quickchartButtonEl.style.display =\n",
              "        google.colab.kernel.accessAllowed ? 'block' : 'none';\n",
              "    })();\n",
              "  </script>\n",
              "</div>\n",
              "\n",
              "    </div>\n",
              "  </div>\n"
            ],
            "application/vnd.google.colaboratory.intrinsic+json": {
              "type": "dataframe",
              "variable_name": "df",
              "summary": "{\n  \"name\": \"df\",\n  \"rows\": 60000,\n  \"fields\": [\n    {\n      \"column\": \"id\",\n      \"properties\": {\n        \"dtype\": \"number\",\n        \"std\": 83346800,\n        \"min\": 8357,\n        \"max\": 295243562,\n        \"num_unique_values\": 60000,\n        \"samples\": [\n          183115633,\n          55005741,\n          72260280\n        ],\n        \"semantic_type\": \"\",\n        \"description\": \"\"\n      }\n    },\n    {\n      \"column\": \"buildingblock1_smiles\",\n      \"properties\": {\n        \"dtype\": \"category\",\n        \"num_unique_values\": 271,\n        \"samples\": [\n          \"O=C(O)[C@@H]1CCCN1C(=O)[C@@H]1CCCN1C(=O)OCC1c2ccccc2-c2ccccc21\",\n          \"O=C(Nc1ncc(Br)nc1C(=O)O)OCC1c2ccccc2-c2ccccc21\",\n          \"Cc1ccc(C[C@H](NC(=O)OCC2c3ccccc3-c3ccccc32)C(=O)O)cc1\"\n        ],\n        \"semantic_type\": \"\",\n        \"description\": \"\"\n      }\n    },\n    {\n      \"column\": \"buildingblock2_smiles\",\n      \"properties\": {\n        \"dtype\": \"category\",\n        \"num_unique_values\": 693,\n        \"samples\": [\n          \"Nc1c2ccccc2nc2ccccc12\",\n          \"Nc1ccc(C(=O)N2CCOCC2)cc1\",\n          \"Cl.Cl.NCc1cn2cc(Br)ccc2n1\"\n        ],\n        \"semantic_type\": \"\",\n        \"description\": \"\"\n      }\n    },\n    {\n      \"column\": \"buildingblock3_smiles\",\n      \"properties\": {\n        \"dtype\": \"category\",\n        \"num_unique_values\": 868,\n        \"samples\": [\n          \"Nc1cc(Cl)ncn1\",\n          \"Nc1n[nH]c2c(F)c(F)ccc12\",\n          \"Cc1cc(CN)c(C)s1\"\n        ],\n        \"semantic_type\": \"\",\n        \"description\": \"\"\n      }\n    },\n    {\n      \"column\": \"molecule_smiles\",\n      \"properties\": {\n        \"dtype\": \"string\",\n        \"num_unique_values\": 59952,\n        \"samples\": [\n          \"O=C(N[Dy])c1ccc(Nc2nc(NCCc3ccc(N4CCOCC4)c(F)c3)nc(Nc3cccc4c(=O)[nH][nH]c(=O)c34)n2)cc1[N+](=O)[O-]\",\n          \"O=C(N[Dy])c1c(F)cccc1Nc1nc(NCc2cn(-c3ccccc3)nc2-c2ccncc2)nc(Nc2cn[nH]c2)n1\",\n          \"CN1CCN(c2ccc(Nc3nc(NC[C@@H]4CCO[C@H]4c4ccnn4C)nc(N[C@H](C(=O)N[Dy])C4CCCC4)n3)cc2F)CC1\"\n        ],\n        \"semantic_type\": \"\",\n        \"description\": \"\"\n      }\n    },\n    {\n      \"column\": \"protein_name\",\n      \"properties\": {\n        \"dtype\": \"category\",\n        \"num_unique_values\": 3,\n        \"samples\": [\n          \"HSA\",\n          \"sEH\",\n          \"BRD4\"\n        ],\n        \"semantic_type\": \"\",\n        \"description\": \"\"\n      }\n    },\n    {\n      \"column\": \"binds\",\n      \"properties\": {\n        \"dtype\": \"number\",\n        \"std\": 0,\n        \"min\": 0,\n        \"max\": 1,\n        \"num_unique_values\": 2,\n        \"samples\": [\n          1,\n          0\n        ],\n        \"semantic_type\": \"\",\n        \"description\": \"\"\n      }\n    },\n    {\n      \"column\": \"BRD4\",\n      \"properties\": {\n        \"dtype\": \"boolean\",\n        \"num_unique_values\": 2,\n        \"samples\": [\n          true,\n          false\n        ],\n        \"semantic_type\": \"\",\n        \"description\": \"\"\n      }\n    },\n    {\n      \"column\": \"HSA\",\n      \"properties\": {\n        \"dtype\": \"boolean\",\n        \"num_unique_values\": 2,\n        \"samples\": [\n          true,\n          false\n        ],\n        \"semantic_type\": \"\",\n        \"description\": \"\"\n      }\n    },\n    {\n      \"column\": \"sEH\",\n      \"properties\": {\n        \"dtype\": \"boolean\",\n        \"num_unique_values\": 2,\n        \"samples\": [\n          true,\n          false\n        ],\n        \"semantic_type\": \"\",\n        \"description\": \"\"\n      }\n    },\n    {\n      \"column\": \"DNB\",\n      \"properties\": {\n        \"dtype\": \"boolean\",\n        \"num_unique_values\": 2,\n        \"samples\": [\n          false,\n          true\n        ],\n        \"semantic_type\": \"\",\n        \"description\": \"\"\n      }\n    }\n  ]\n}"
            }
          },
          "metadata": {},
          "execution_count": 68
        }
      ]
    },
    {
      "cell_type": "code",
      "source": [
        "from rdkit import Chem\n",
        "from rdkit.Chem import PandasTools\n",
        "from rdkit import DataStructs\n",
        "from rdkit.Chem import Descriptors\n",
        "from rdkit.Chem.Descriptors import CalcMolDescriptors\n",
        "from rdkit.ML.Descriptors import MoleculeDescriptors\n",
        "from rdkit.Chem import AllChem\n",
        "from mordred import Calculator, descriptors"
      ],
      "metadata": {
        "id": "10dvfQbCLf76"
      },
      "execution_count": 69,
      "outputs": []
    },
    {
      "cell_type": "code",
      "source": [
        "from tqdm.auto import tqdm\n",
        "from rdkit import Chem\n",
        "from rdkit import RDLogger\n",
        "\n",
        "# Suppress RDKit warnings and info messages\n",
        "RDLogger.DisableLog('rdApp.*')\n",
        "\n",
        "# Create canonical smiles to check for duplicates\n",
        "def canonical_smiles(smiles):\n",
        "    mol = Chem.MolFromSmiles(smiles)\n",
        "    if mol is not None:\n",
        "        return Chem.MolToSmiles(mol)\n",
        "    else:\n",
        "        return False\n",
        "\n",
        "# Example usage with a DataFrame column\n",
        "def process_dataframe(df):\n",
        "    canonical_smiles_list = []\n",
        "    for smiles in tqdm(df['molecule_smiles'], desc=\"Processing DataFrame\"):\n",
        "        canonical_smiles_list.append(canonical_smiles(smiles))\n",
        "    df['canonical_smiles'] = canonical_smiles_list\n",
        "    return df\n",
        "\n",
        "# Process the DataFrame\n",
        "df = process_dataframe(df)\n",
        "df.head()"
      ],
      "metadata": {
        "colab": {
          "base_uri": "https://localhost:8080/",
          "height": 345,
          "referenced_widgets": [
            "0d1126d2bf254b53a3d59ac580d88d05",
            "1c4fc5aebeb443d8a693125c344bf312",
            "7b991c2629b34147aeee9202d6e5763d",
            "826e03058eb4459b89fc1f5c365acd4b",
            "95710f2544f54dd5b46ba1876e46e429",
            "7554bd9e972e44a19ce51e98ca6c5bbd",
            "7719010701a04d5db76f9026d0ed9ed7",
            "081fdbd663004b17b1565273e3a2c362",
            "38fcc447c09547d68d2f937302a6ec2f",
            "560ffcb5e30f4c2b8dd449a613e11f36",
            "687666ca85b54f9fab97ff38d87eafaa"
          ]
        },
        "id": "ps2XeRIH5DHD",
        "outputId": "38e1b8b1-a746-4dec-9535-3166e7e5adcd"
      },
      "execution_count": 70,
      "outputs": [
        {
          "output_type": "display_data",
          "data": {
            "text/plain": [
              "Processing DataFrame:   0%|          | 0/60000 [00:00<?, ?it/s]"
            ],
            "application/vnd.jupyter.widget-view+json": {
              "version_major": 2,
              "version_minor": 0,
              "model_id": "0d1126d2bf254b53a3d59ac580d88d05"
            }
          },
          "metadata": {}
        },
        {
          "output_type": "execute_result",
          "data": {
            "text/plain": [
              "          id                              buildingblock1_smiles  \\\n",
              "0  160286152     O=C(Nc1cc(Br)ccc1C(=O)O)OCC1c2ccccc2-c2ccccc21   \n",
              "1   33931022   COc1ccc(C(=O)O)c(NC(=O)OCC2c3ccccc3-c3ccccc32)c1   \n",
              "2  188981853  O=C(Nc1ccc(C(=O)O)cc1C(F)(F)F)OCC1c2ccccc2-c2c...   \n",
              "3  290732664        O=C(O)[C@H]1CCN1C(=O)OCC1c2ccccc2-c2ccccc21   \n",
              "4  246336859  O=C(O)C[C@@H](Cc1ccc(Cl)cc1)NC(=O)OCC1c2ccccc2...   \n",
              "\n",
              "       buildingblock2_smiles buildingblock3_smiles  \\\n",
              "0   CN(C)C(=O)C1CCC(CN)O1.Cl   Cn1cc(C(F)F)c(CN)n1   \n",
              "1      CN1CCN(Cc2ccccc2N)CC1  NCC(c1cccs1)N1CCOCC1   \n",
              "2  Cl.Cl.NCc1ccc[n+]([O-])c1      Nc1ncnc(=O)[nH]1   \n",
              "3        Nc1ccc(N2CCOCC2)cn1         Nc1cc(Cl)ccn1   \n",
              "4          CCON(C)C(=O)CN.Cl     CC(C)c1nc(N)sc1Br   \n",
              "\n",
              "                                     molecule_smiles protein_name  binds  \\\n",
              "0  CN(C)C(=O)C1CCC(CNc2nc(NCc3nn(C)cc3C(F)F)nc(Nc...          HSA      0   \n",
              "1  COc1ccc(C(=O)N[Dy])c(Nc2nc(NCC(c3cccs3)N3CCOCC...          sEH      0   \n",
              "2  O=C(N[Dy])c1ccc(Nc2nc(NCc3ccc[n+]([O-])c3)nc(N...         BRD4      0   \n",
              "3  O=C(N[Dy])[C@H]1CCN1c1nc(Nc2ccc(N3CCOCC3)cn2)n...         BRD4      0   \n",
              "4  CCON(C)C(=O)CNc1nc(Nc2nc(C(C)C)c(Br)s2)nc(N[C@...          HSA      0   \n",
              "\n",
              "    BRD4    HSA    sEH   DNB  \\\n",
              "0  False  False  False  True   \n",
              "1  False  False  False  True   \n",
              "2  False  False  False  True   \n",
              "3  False  False  False  True   \n",
              "4  False  False  False  True   \n",
              "\n",
              "                                    canonical_smiles  \n",
              "0  CN(C)C(=O)C1CCC(CNc2nc(NCc3nn(C)cc3C(F)F)nc(Nc...  \n",
              "1  COc1ccc(C(=O)N[Dy])c(Nc2nc(NCC(c3cccs3)N3CCOCC...  \n",
              "2  O=C(N[Dy])c1ccc(Nc2nc(NCc3ccc[n+]([O-])c3)nc(N...  \n",
              "3  O=C(N[Dy])[C@H]1CCN1c1nc(Nc2ccc(N3CCOCC3)cn2)n...  \n",
              "4  CCON(C)C(=O)CNc1nc(Nc2nc(C(C)C)c(Br)s2)nc(N[C@...  "
            ],
            "text/html": [
              "\n",
              "  <div id=\"df-9901c892-8f18-4bb7-9e52-e4dce642d2d7\" class=\"colab-df-container\">\n",
              "    <div>\n",
              "<style scoped>\n",
              "    .dataframe tbody tr th:only-of-type {\n",
              "        vertical-align: middle;\n",
              "    }\n",
              "\n",
              "    .dataframe tbody tr th {\n",
              "        vertical-align: top;\n",
              "    }\n",
              "\n",
              "    .dataframe thead th {\n",
              "        text-align: right;\n",
              "    }\n",
              "</style>\n",
              "<table border=\"1\" class=\"dataframe\">\n",
              "  <thead>\n",
              "    <tr style=\"text-align: right;\">\n",
              "      <th></th>\n",
              "      <th>id</th>\n",
              "      <th>buildingblock1_smiles</th>\n",
              "      <th>buildingblock2_smiles</th>\n",
              "      <th>buildingblock3_smiles</th>\n",
              "      <th>molecule_smiles</th>\n",
              "      <th>protein_name</th>\n",
              "      <th>binds</th>\n",
              "      <th>BRD4</th>\n",
              "      <th>HSA</th>\n",
              "      <th>sEH</th>\n",
              "      <th>DNB</th>\n",
              "      <th>canonical_smiles</th>\n",
              "    </tr>\n",
              "  </thead>\n",
              "  <tbody>\n",
              "    <tr>\n",
              "      <th>0</th>\n",
              "      <td>160286152</td>\n",
              "      <td>O=C(Nc1cc(Br)ccc1C(=O)O)OCC1c2ccccc2-c2ccccc21</td>\n",
              "      <td>CN(C)C(=O)C1CCC(CN)O1.Cl</td>\n",
              "      <td>Cn1cc(C(F)F)c(CN)n1</td>\n",
              "      <td>CN(C)C(=O)C1CCC(CNc2nc(NCc3nn(C)cc3C(F)F)nc(Nc...</td>\n",
              "      <td>HSA</td>\n",
              "      <td>0</td>\n",
              "      <td>False</td>\n",
              "      <td>False</td>\n",
              "      <td>False</td>\n",
              "      <td>True</td>\n",
              "      <td>CN(C)C(=O)C1CCC(CNc2nc(NCc3nn(C)cc3C(F)F)nc(Nc...</td>\n",
              "    </tr>\n",
              "    <tr>\n",
              "      <th>1</th>\n",
              "      <td>33931022</td>\n",
              "      <td>COc1ccc(C(=O)O)c(NC(=O)OCC2c3ccccc3-c3ccccc32)c1</td>\n",
              "      <td>CN1CCN(Cc2ccccc2N)CC1</td>\n",
              "      <td>NCC(c1cccs1)N1CCOCC1</td>\n",
              "      <td>COc1ccc(C(=O)N[Dy])c(Nc2nc(NCC(c3cccs3)N3CCOCC...</td>\n",
              "      <td>sEH</td>\n",
              "      <td>0</td>\n",
              "      <td>False</td>\n",
              "      <td>False</td>\n",
              "      <td>False</td>\n",
              "      <td>True</td>\n",
              "      <td>COc1ccc(C(=O)N[Dy])c(Nc2nc(NCC(c3cccs3)N3CCOCC...</td>\n",
              "    </tr>\n",
              "    <tr>\n",
              "      <th>2</th>\n",
              "      <td>188981853</td>\n",
              "      <td>O=C(Nc1ccc(C(=O)O)cc1C(F)(F)F)OCC1c2ccccc2-c2c...</td>\n",
              "      <td>Cl.Cl.NCc1ccc[n+]([O-])c1</td>\n",
              "      <td>Nc1ncnc(=O)[nH]1</td>\n",
              "      <td>O=C(N[Dy])c1ccc(Nc2nc(NCc3ccc[n+]([O-])c3)nc(N...</td>\n",
              "      <td>BRD4</td>\n",
              "      <td>0</td>\n",
              "      <td>False</td>\n",
              "      <td>False</td>\n",
              "      <td>False</td>\n",
              "      <td>True</td>\n",
              "      <td>O=C(N[Dy])c1ccc(Nc2nc(NCc3ccc[n+]([O-])c3)nc(N...</td>\n",
              "    </tr>\n",
              "    <tr>\n",
              "      <th>3</th>\n",
              "      <td>290732664</td>\n",
              "      <td>O=C(O)[C@H]1CCN1C(=O)OCC1c2ccccc2-c2ccccc21</td>\n",
              "      <td>Nc1ccc(N2CCOCC2)cn1</td>\n",
              "      <td>Nc1cc(Cl)ccn1</td>\n",
              "      <td>O=C(N[Dy])[C@H]1CCN1c1nc(Nc2ccc(N3CCOCC3)cn2)n...</td>\n",
              "      <td>BRD4</td>\n",
              "      <td>0</td>\n",
              "      <td>False</td>\n",
              "      <td>False</td>\n",
              "      <td>False</td>\n",
              "      <td>True</td>\n",
              "      <td>O=C(N[Dy])[C@H]1CCN1c1nc(Nc2ccc(N3CCOCC3)cn2)n...</td>\n",
              "    </tr>\n",
              "    <tr>\n",
              "      <th>4</th>\n",
              "      <td>246336859</td>\n",
              "      <td>O=C(O)C[C@@H](Cc1ccc(Cl)cc1)NC(=O)OCC1c2ccccc2...</td>\n",
              "      <td>CCON(C)C(=O)CN.Cl</td>\n",
              "      <td>CC(C)c1nc(N)sc1Br</td>\n",
              "      <td>CCON(C)C(=O)CNc1nc(Nc2nc(C(C)C)c(Br)s2)nc(N[C@...</td>\n",
              "      <td>HSA</td>\n",
              "      <td>0</td>\n",
              "      <td>False</td>\n",
              "      <td>False</td>\n",
              "      <td>False</td>\n",
              "      <td>True</td>\n",
              "      <td>CCON(C)C(=O)CNc1nc(Nc2nc(C(C)C)c(Br)s2)nc(N[C@...</td>\n",
              "    </tr>\n",
              "  </tbody>\n",
              "</table>\n",
              "</div>\n",
              "    <div class=\"colab-df-buttons\">\n",
              "\n",
              "  <div class=\"colab-df-container\">\n",
              "    <button class=\"colab-df-convert\" onclick=\"convertToInteractive('df-9901c892-8f18-4bb7-9e52-e4dce642d2d7')\"\n",
              "            title=\"Convert this dataframe to an interactive table.\"\n",
              "            style=\"display:none;\">\n",
              "\n",
              "  <svg xmlns=\"http://www.w3.org/2000/svg\" height=\"24px\" viewBox=\"0 -960 960 960\">\n",
              "    <path d=\"M120-120v-720h720v720H120Zm60-500h600v-160H180v160Zm220 220h160v-160H400v160Zm0 220h160v-160H400v160ZM180-400h160v-160H180v160Zm440 0h160v-160H620v160ZM180-180h160v-160H180v160Zm440 0h160v-160H620v160Z\"/>\n",
              "  </svg>\n",
              "    </button>\n",
              "\n",
              "  <style>\n",
              "    .colab-df-container {\n",
              "      display:flex;\n",
              "      gap: 12px;\n",
              "    }\n",
              "\n",
              "    .colab-df-convert {\n",
              "      background-color: #E8F0FE;\n",
              "      border: none;\n",
              "      border-radius: 50%;\n",
              "      cursor: pointer;\n",
              "      display: none;\n",
              "      fill: #1967D2;\n",
              "      height: 32px;\n",
              "      padding: 0 0 0 0;\n",
              "      width: 32px;\n",
              "    }\n",
              "\n",
              "    .colab-df-convert:hover {\n",
              "      background-color: #E2EBFA;\n",
              "      box-shadow: 0px 1px 2px rgba(60, 64, 67, 0.3), 0px 1px 3px 1px rgba(60, 64, 67, 0.15);\n",
              "      fill: #174EA6;\n",
              "    }\n",
              "\n",
              "    .colab-df-buttons div {\n",
              "      margin-bottom: 4px;\n",
              "    }\n",
              "\n",
              "    [theme=dark] .colab-df-convert {\n",
              "      background-color: #3B4455;\n",
              "      fill: #D2E3FC;\n",
              "    }\n",
              "\n",
              "    [theme=dark] .colab-df-convert:hover {\n",
              "      background-color: #434B5C;\n",
              "      box-shadow: 0px 1px 3px 1px rgba(0, 0, 0, 0.15);\n",
              "      filter: drop-shadow(0px 1px 2px rgba(0, 0, 0, 0.3));\n",
              "      fill: #FFFFFF;\n",
              "    }\n",
              "  </style>\n",
              "\n",
              "    <script>\n",
              "      const buttonEl =\n",
              "        document.querySelector('#df-9901c892-8f18-4bb7-9e52-e4dce642d2d7 button.colab-df-convert');\n",
              "      buttonEl.style.display =\n",
              "        google.colab.kernel.accessAllowed ? 'block' : 'none';\n",
              "\n",
              "      async function convertToInteractive(key) {\n",
              "        const element = document.querySelector('#df-9901c892-8f18-4bb7-9e52-e4dce642d2d7');\n",
              "        const dataTable =\n",
              "          await google.colab.kernel.invokeFunction('convertToInteractive',\n",
              "                                                    [key], {});\n",
              "        if (!dataTable) return;\n",
              "\n",
              "        const docLinkHtml = 'Like what you see? Visit the ' +\n",
              "          '<a target=\"_blank\" href=https://colab.research.google.com/notebooks/data_table.ipynb>data table notebook</a>'\n",
              "          + ' to learn more about interactive tables.';\n",
              "        element.innerHTML = '';\n",
              "        dataTable['output_type'] = 'display_data';\n",
              "        await google.colab.output.renderOutput(dataTable, element);\n",
              "        const docLink = document.createElement('div');\n",
              "        docLink.innerHTML = docLinkHtml;\n",
              "        element.appendChild(docLink);\n",
              "      }\n",
              "    </script>\n",
              "  </div>\n",
              "\n",
              "\n",
              "<div id=\"df-d77fd7fc-e85a-4264-8ad6-a1dc3fcda933\">\n",
              "  <button class=\"colab-df-quickchart\" onclick=\"quickchart('df-d77fd7fc-e85a-4264-8ad6-a1dc3fcda933')\"\n",
              "            title=\"Suggest charts\"\n",
              "            style=\"display:none;\">\n",
              "\n",
              "<svg xmlns=\"http://www.w3.org/2000/svg\" height=\"24px\"viewBox=\"0 0 24 24\"\n",
              "     width=\"24px\">\n",
              "    <g>\n",
              "        <path d=\"M19 3H5c-1.1 0-2 .9-2 2v14c0 1.1.9 2 2 2h14c1.1 0 2-.9 2-2V5c0-1.1-.9-2-2-2zM9 17H7v-7h2v7zm4 0h-2V7h2v10zm4 0h-2v-4h2v4z\"/>\n",
              "    </g>\n",
              "</svg>\n",
              "  </button>\n",
              "\n",
              "<style>\n",
              "  .colab-df-quickchart {\n",
              "      --bg-color: #E8F0FE;\n",
              "      --fill-color: #1967D2;\n",
              "      --hover-bg-color: #E2EBFA;\n",
              "      --hover-fill-color: #174EA6;\n",
              "      --disabled-fill-color: #AAA;\n",
              "      --disabled-bg-color: #DDD;\n",
              "  }\n",
              "\n",
              "  [theme=dark] .colab-df-quickchart {\n",
              "      --bg-color: #3B4455;\n",
              "      --fill-color: #D2E3FC;\n",
              "      --hover-bg-color: #434B5C;\n",
              "      --hover-fill-color: #FFFFFF;\n",
              "      --disabled-bg-color: #3B4455;\n",
              "      --disabled-fill-color: #666;\n",
              "  }\n",
              "\n",
              "  .colab-df-quickchart {\n",
              "    background-color: var(--bg-color);\n",
              "    border: none;\n",
              "    border-radius: 50%;\n",
              "    cursor: pointer;\n",
              "    display: none;\n",
              "    fill: var(--fill-color);\n",
              "    height: 32px;\n",
              "    padding: 0;\n",
              "    width: 32px;\n",
              "  }\n",
              "\n",
              "  .colab-df-quickchart:hover {\n",
              "    background-color: var(--hover-bg-color);\n",
              "    box-shadow: 0 1px 2px rgba(60, 64, 67, 0.3), 0 1px 3px 1px rgba(60, 64, 67, 0.15);\n",
              "    fill: var(--button-hover-fill-color);\n",
              "  }\n",
              "\n",
              "  .colab-df-quickchart-complete:disabled,\n",
              "  .colab-df-quickchart-complete:disabled:hover {\n",
              "    background-color: var(--disabled-bg-color);\n",
              "    fill: var(--disabled-fill-color);\n",
              "    box-shadow: none;\n",
              "  }\n",
              "\n",
              "  .colab-df-spinner {\n",
              "    border: 2px solid var(--fill-color);\n",
              "    border-color: transparent;\n",
              "    border-bottom-color: var(--fill-color);\n",
              "    animation:\n",
              "      spin 1s steps(1) infinite;\n",
              "  }\n",
              "\n",
              "  @keyframes spin {\n",
              "    0% {\n",
              "      border-color: transparent;\n",
              "      border-bottom-color: var(--fill-color);\n",
              "      border-left-color: var(--fill-color);\n",
              "    }\n",
              "    20% {\n",
              "      border-color: transparent;\n",
              "      border-left-color: var(--fill-color);\n",
              "      border-top-color: var(--fill-color);\n",
              "    }\n",
              "    30% {\n",
              "      border-color: transparent;\n",
              "      border-left-color: var(--fill-color);\n",
              "      border-top-color: var(--fill-color);\n",
              "      border-right-color: var(--fill-color);\n",
              "    }\n",
              "    40% {\n",
              "      border-color: transparent;\n",
              "      border-right-color: var(--fill-color);\n",
              "      border-top-color: var(--fill-color);\n",
              "    }\n",
              "    60% {\n",
              "      border-color: transparent;\n",
              "      border-right-color: var(--fill-color);\n",
              "    }\n",
              "    80% {\n",
              "      border-color: transparent;\n",
              "      border-right-color: var(--fill-color);\n",
              "      border-bottom-color: var(--fill-color);\n",
              "    }\n",
              "    90% {\n",
              "      border-color: transparent;\n",
              "      border-bottom-color: var(--fill-color);\n",
              "    }\n",
              "  }\n",
              "</style>\n",
              "\n",
              "  <script>\n",
              "    async function quickchart(key) {\n",
              "      const quickchartButtonEl =\n",
              "        document.querySelector('#' + key + ' button');\n",
              "      quickchartButtonEl.disabled = true;  // To prevent multiple clicks.\n",
              "      quickchartButtonEl.classList.add('colab-df-spinner');\n",
              "      try {\n",
              "        const charts = await google.colab.kernel.invokeFunction(\n",
              "            'suggestCharts', [key], {});\n",
              "      } catch (error) {\n",
              "        console.error('Error during call to suggestCharts:', error);\n",
              "      }\n",
              "      quickchartButtonEl.classList.remove('colab-df-spinner');\n",
              "      quickchartButtonEl.classList.add('colab-df-quickchart-complete');\n",
              "    }\n",
              "    (() => {\n",
              "      let quickchartButtonEl =\n",
              "        document.querySelector('#df-d77fd7fc-e85a-4264-8ad6-a1dc3fcda933 button');\n",
              "      quickchartButtonEl.style.display =\n",
              "        google.colab.kernel.accessAllowed ? 'block' : 'none';\n",
              "    })();\n",
              "  </script>\n",
              "</div>\n",
              "\n",
              "    </div>\n",
              "  </div>\n"
            ],
            "application/vnd.google.colaboratory.intrinsic+json": {
              "type": "dataframe",
              "variable_name": "df",
              "summary": "{\n  \"name\": \"df\",\n  \"rows\": 60000,\n  \"fields\": [\n    {\n      \"column\": \"id\",\n      \"properties\": {\n        \"dtype\": \"number\",\n        \"std\": 83346800,\n        \"min\": 8357,\n        \"max\": 295243562,\n        \"num_unique_values\": 60000,\n        \"samples\": [\n          183115633,\n          55005741,\n          72260280\n        ],\n        \"semantic_type\": \"\",\n        \"description\": \"\"\n      }\n    },\n    {\n      \"column\": \"buildingblock1_smiles\",\n      \"properties\": {\n        \"dtype\": \"category\",\n        \"num_unique_values\": 271,\n        \"samples\": [\n          \"O=C(O)[C@@H]1CCCN1C(=O)[C@@H]1CCCN1C(=O)OCC1c2ccccc2-c2ccccc21\",\n          \"O=C(Nc1ncc(Br)nc1C(=O)O)OCC1c2ccccc2-c2ccccc21\",\n          \"Cc1ccc(C[C@H](NC(=O)OCC2c3ccccc3-c3ccccc32)C(=O)O)cc1\"\n        ],\n        \"semantic_type\": \"\",\n        \"description\": \"\"\n      }\n    },\n    {\n      \"column\": \"buildingblock2_smiles\",\n      \"properties\": {\n        \"dtype\": \"category\",\n        \"num_unique_values\": 693,\n        \"samples\": [\n          \"Nc1c2ccccc2nc2ccccc12\",\n          \"Nc1ccc(C(=O)N2CCOCC2)cc1\",\n          \"Cl.Cl.NCc1cn2cc(Br)ccc2n1\"\n        ],\n        \"semantic_type\": \"\",\n        \"description\": \"\"\n      }\n    },\n    {\n      \"column\": \"buildingblock3_smiles\",\n      \"properties\": {\n        \"dtype\": \"category\",\n        \"num_unique_values\": 868,\n        \"samples\": [\n          \"Nc1cc(Cl)ncn1\",\n          \"Nc1n[nH]c2c(F)c(F)ccc12\",\n          \"Cc1cc(CN)c(C)s1\"\n        ],\n        \"semantic_type\": \"\",\n        \"description\": \"\"\n      }\n    },\n    {\n      \"column\": \"molecule_smiles\",\n      \"properties\": {\n        \"dtype\": \"string\",\n        \"num_unique_values\": 59952,\n        \"samples\": [\n          \"O=C(N[Dy])c1ccc(Nc2nc(NCCc3ccc(N4CCOCC4)c(F)c3)nc(Nc3cccc4c(=O)[nH][nH]c(=O)c34)n2)cc1[N+](=O)[O-]\",\n          \"O=C(N[Dy])c1c(F)cccc1Nc1nc(NCc2cn(-c3ccccc3)nc2-c2ccncc2)nc(Nc2cn[nH]c2)n1\",\n          \"CN1CCN(c2ccc(Nc3nc(NC[C@@H]4CCO[C@H]4c4ccnn4C)nc(N[C@H](C(=O)N[Dy])C4CCCC4)n3)cc2F)CC1\"\n        ],\n        \"semantic_type\": \"\",\n        \"description\": \"\"\n      }\n    },\n    {\n      \"column\": \"protein_name\",\n      \"properties\": {\n        \"dtype\": \"category\",\n        \"num_unique_values\": 3,\n        \"samples\": [\n          \"HSA\",\n          \"sEH\",\n          \"BRD4\"\n        ],\n        \"semantic_type\": \"\",\n        \"description\": \"\"\n      }\n    },\n    {\n      \"column\": \"binds\",\n      \"properties\": {\n        \"dtype\": \"number\",\n        \"std\": 0,\n        \"min\": 0,\n        \"max\": 1,\n        \"num_unique_values\": 2,\n        \"samples\": [\n          1,\n          0\n        ],\n        \"semantic_type\": \"\",\n        \"description\": \"\"\n      }\n    },\n    {\n      \"column\": \"BRD4\",\n      \"properties\": {\n        \"dtype\": \"boolean\",\n        \"num_unique_values\": 2,\n        \"samples\": [\n          true,\n          false\n        ],\n        \"semantic_type\": \"\",\n        \"description\": \"\"\n      }\n    },\n    {\n      \"column\": \"HSA\",\n      \"properties\": {\n        \"dtype\": \"boolean\",\n        \"num_unique_values\": 2,\n        \"samples\": [\n          true,\n          false\n        ],\n        \"semantic_type\": \"\",\n        \"description\": \"\"\n      }\n    },\n    {\n      \"column\": \"sEH\",\n      \"properties\": {\n        \"dtype\": \"boolean\",\n        \"num_unique_values\": 2,\n        \"samples\": [\n          true,\n          false\n        ],\n        \"semantic_type\": \"\",\n        \"description\": \"\"\n      }\n    },\n    {\n      \"column\": \"DNB\",\n      \"properties\": {\n        \"dtype\": \"boolean\",\n        \"num_unique_values\": 2,\n        \"samples\": [\n          false,\n          true\n        ],\n        \"semantic_type\": \"\",\n        \"description\": \"\"\n      }\n    },\n    {\n      \"column\": \"canonical_smiles\",\n      \"properties\": {\n        \"dtype\": \"string\",\n        \"num_unique_values\": 59952,\n        \"samples\": [\n          \"O=C(N[Dy])c1ccc(Nc2nc(NCCc3ccc(N4CCOCC4)c(F)c3)nc(Nc3cccc4c(=O)[nH][nH]c(=O)c34)n2)cc1[N+](=O)[O-]\",\n          \"O=C(N[Dy])c1c(F)cccc1Nc1nc(NCc2cn(-c3ccccc3)nc2-c2ccncc2)nc(Nc2cn[nH]c2)n1\"\n        ],\n        \"semantic_type\": \"\",\n        \"description\": \"\"\n      }\n    }\n  ]\n}"
            }
          },
          "metadata": {},
          "execution_count": 70
        }
      ]
    },
    {
      "cell_type": "code",
      "source": [
        "df['molecule_smiles'].value_counts()"
      ],
      "metadata": {
        "colab": {
          "base_uri": "https://localhost:8080/"
        },
        "id": "y5hfFMCapHx7",
        "outputId": "753da6c3-7f9c-4764-f5ec-7a6bd66e0fe1"
      },
      "execution_count": 77,
      "outputs": [
        {
          "output_type": "execute_result",
          "data": {
            "text/plain": [
              "molecule_smiles\n",
              "O=C(N[Dy])c1ccc(Nc2nc(NCCCCN3CCCC3)nc(NCc3cncc(F)c3)n2)c(O)c1                                2\n",
              "COc1ccc(Nc2nc(NC[C@@H]3OCCN(C)[C@H]3c3cnn(C)c3)nc(Nc3ccc(N4CCCC4=O)cc3)n2)c(C(=O)N[Dy])c1    2\n",
              "CCOC(=O)c1ncccc1Nc1nc(Nc2ccc3c(c2)C(=O)CCC3)nc(Nc2ncc(C(=O)N[Dy])s2)n1                       2\n",
              "CC(CNc1nc(NCc2cncc(F)c2)nc(Nc2cc(C(=O)N[Dy])ccc2Br)n1)N1CCC1                                 2\n",
              "Cc1ccc(C[C@H](Nc2nc(NCc3cncc(F)c3)nc(Nc3ccc(N4CCN(C)CC4)c(F)c3)n2)C(=O)N[Dy])cc1             2\n",
              "                                                                                            ..\n",
              "CCOC(=O)c1csc(Nc2nc(Nc3nnc(C(=O)OCC)o3)nc(Nc3c(C(=O)N[Dy])cnn3-c3ccc(F)cc3)n2)n1             1\n",
              "Cc1nc(Cl)ccc1Nc1nc(Nc2nccc(-c3cccnc3)n2)nc(N2Cc3ccccc3C[C@@H]2C(=O)N[Dy])n1                  1\n",
              "CS(=O)(=O)c1ccc(Nc2nc(NCC3Cc4ccccc4C3)nc(Nc3nc(C(F)(F)F)c(C(=O)N[Dy])s3)n2)cc1F              1\n",
              "O=C(NCCNc1nc(NCCC2CN(c3ncnc4[nH]ncc34)c3ccccc32)nc(Nc2ccc(Cl)c(C(=O)N[Dy])c2)n1)c1cnccn1     1\n",
              "N#Cc1ccc(C[C@H](CC(=O)N[Dy])Nc2nc(NC3=NC(=O)CS3)nc(Nc3nc4cc(Br)ccn4n3)n2)cc1                 1\n",
              "Name: count, Length: 59952, dtype: int64"
            ]
          },
          "metadata": {},
          "execution_count": 77
        }
      ]
    },
    {
      "cell_type": "code",
      "source": [
        "smiles_that_bind = []\n",
        "for i in range(len(df)):\n",
        "  if df['binds'].iloc[i] == 1:\n",
        "    smiles_that_bind.append(df['canonical_smiles'].iloc[i])\n",
        "len(smiles_that_bind)"
      ],
      "metadata": {
        "colab": {
          "base_uri": "https://localhost:8080/"
        },
        "id": "r_LAB2ImoeAR",
        "outputId": "e8eb11c3-5977-4d2d-ff7b-f3518fd1b187"
      },
      "execution_count": 81,
      "outputs": [
        {
          "output_type": "execute_result",
          "data": {
            "text/plain": [
              "30000"
            ]
          },
          "metadata": {},
          "execution_count": 81
        }
      ]
    },
    {
      "cell_type": "code",
      "source": [
        "rows_to_drop = []\n",
        "for i in range(len(df)):\n",
        "  if (df['binds'].iloc[i] == 0) & (df['canonical_smiles'].iloc[i] in smiles_that_bind):\n",
        "    rows_to_drop.append(i)"
      ],
      "metadata": {
        "id": "d0Bm86YBqm9t"
      },
      "execution_count": 83,
      "outputs": []
    },
    {
      "cell_type": "code",
      "source": [
        "len(rows_to_drop)"
      ],
      "metadata": {
        "colab": {
          "base_uri": "https://localhost:8080/"
        },
        "id": "xmI3IUEOpgT5",
        "outputId": "bfd68ebb-9737-4f7b-9e9d-581ef3e18bac"
      },
      "execution_count": 84,
      "outputs": [
        {
          "output_type": "execute_result",
          "data": {
            "text/plain": [
              "3"
            ]
          },
          "metadata": {},
          "execution_count": 84
        }
      ]
    },
    {
      "cell_type": "code",
      "source": [
        "df = df.drop(rows_to_drop, axis=0)"
      ],
      "metadata": {
        "id": "O74v9cRRrQWE"
      },
      "execution_count": 89,
      "outputs": []
    },
    {
      "cell_type": "code",
      "source": [
        "df = df.drop_duplicates(subset=['canonical_smiles','protein_name'], keep='first')"
      ],
      "metadata": {
        "id": "lY40fcJsPq3G"
      },
      "execution_count": 90,
      "outputs": []
    },
    {
      "cell_type": "code",
      "source": [
        "df['canonical_smiles_len'] = df['canonical_smiles'].apply(len)\n",
        "df['canonical_smiles_len'].hist()"
      ],
      "metadata": {
        "colab": {
          "base_uri": "https://localhost:8080/",
          "height": 447
        },
        "id": "4AkhsMgwFaOA",
        "outputId": "df7989e0-c2e3-4b6a-b1e4-9f2eb7e52274"
      },
      "execution_count": 91,
      "outputs": [
        {
          "output_type": "execute_result",
          "data": {
            "text/plain": [
              "<Axes: >"
            ]
          },
          "metadata": {},
          "execution_count": 91
        },
        {
          "output_type": "display_data",
          "data": {
            "text/plain": [
              "<Figure size 640x480 with 1 Axes>"
            ],
            "image/png": "[encoded data removed]"
          },
          "metadata": {}
        }
      ]
    },
    {
      "cell_type": "code",
      "source": [],
      "metadata": {
        "id": "fi4q_LsAoXY6"
      },
      "execution_count": 91,
      "outputs": []
    },
    {
      "cell_type": "code",
      "source": [
        "%%time\n",
        "import torch\n",
        "from transformers import AutoModelForSequenceClassification, AutoTokenizer\n",
        "import pandas as pd\n",
        "from torch.utils.data import Dataset, DataLoader\n",
        "from torch.nn.utils.rnn import pad_sequence\n",
        "from sklearn.model_selection import train_test_split\n",
        "import torch.nn.functional as F\n",
        "from tqdm import tqdm\n",
        "import os\n",
        "\n",
        "# Hyperparameters\n",
        "epochs = 30\n",
        "batch_size = 256\n",
        "learning_rate = 1e-4\n",
        "\n",
        "# Define the device\n",
        "device = torch.device('cuda' if torch.cuda.is_available() else 'cpu')\n",
        "\n",
        "# Load the tokenizer and model\n",
        "tokenizer = AutoTokenizer.from_pretrained(\"DeepChem/ChemBERTa-77M-MTR\")\n",
        "model = AutoModelForSequenceClassification.from_pretrained(\"DeepChem/ChemBERTa-77M-MTR\", num_labels=4).to(device)\n",
        "\n",
        "model_save_dir = \"/content/drive/MyDrive/models/chembert_BELKA\"\n",
        "\n",
        "os.makedirs(model_save_dir, exist_ok=True)\n",
        "\n",
        "model_save_path = os.path.join(model_save_dir, 'best_model_multi.pth')\n",
        "\n",
        "# Define a custom dataset class\n",
        "class SMILESDataset(Dataset):\n",
        "    def __init__(self, dataframe, tokenizer):\n",
        "        self.dataframe = dataframe\n",
        "        self.tokenizer = tokenizer\n",
        "\n",
        "    def __len__(self):\n",
        "        return len(self.dataframe)\n",
        "\n",
        "    def __getitem__(self, idx):\n",
        "        smiles = self.dataframe.iloc[idx]['canonical_smiles']\n",
        "        label = self.dataframe.iloc[idx][['BRD4', 'HSA', 'sEH','DNB']].values.argmax()  # Use argmax to convert one-hot to label\n",
        "        return smiles, label\n",
        "\n",
        "    def collate_fn(self, batch):\n",
        "        # Tokenize and convert to tensors\n",
        "        tokenized_batch = [self.tokenizer.encode(smiles, add_special_tokens=True) for smiles, _ in batch]\n",
        "        padded_batch = pad_sequence([torch.tensor(tokens) for tokens in tokenized_batch],\n",
        "                                    batch_first=True, padding_value=self.tokenizer.pad_token_id)\n",
        "\n",
        "        labels = torch.tensor([label for _, label in batch], dtype=torch.long)\n",
        "\n",
        "        return padded_batch, labels\n",
        "\n",
        "# Split the data into training and validation sets\n",
        "train_df, test_df = train_test_split(df, test_size=0.2)\n",
        "\n",
        "# Create datasets and data loaders\n",
        "train_dataset = SMILESDataset(train_df, tokenizer)\n",
        "val_dataset = SMILESDataset(test_df, tokenizer)\n",
        "train_loader = DataLoader(train_dataset, batch_size=batch_size, shuffle=True, collate_fn=train_dataset.collate_fn)\n",
        "val_loader = DataLoader(val_dataset, batch_size=batch_size, shuffle=False, collate_fn=val_dataset.collate_fn)\n",
        "\n",
        "# Define the optimizer and loss function\n",
        "optimizer = torch.optim.AdamW(model.parameters(), lr=learning_rate)\n",
        "scheduler = torch.optim.lr_scheduler.ReduceLROnPlateau(optimizer, 'min', factor=0.8, patience=1, verbose=True)\n",
        "loss_fn = torch.nn.CrossEntropyLoss()\n",
        "\n",
        "# Training and validation loop\n",
        "\n",
        "train_losses = []\n",
        "val_losses = []\n",
        "train_acc = []\n",
        "val_acc = []\n",
        "\n",
        "best_epoch = 0\n",
        "best_val_loss = float('inf')\n",
        "best_val_acc = 0\n",
        "\n",
        "for epoch in tqdm(range(epochs)):\n",
        "\n",
        "    train_loss = 0\n",
        "    train_correct = 0\n",
        "    train_count = 0\n",
        "\n",
        "    model.train()\n",
        "    for inputs, labels in train_loader:\n",
        "\n",
        "        inputs = inputs.to(device)\n",
        "        labels = labels.to(device)\n",
        "        attention_mask = (inputs != tokenizer.pad_token_id).type(torch.long).to(device)\n",
        "\n",
        "        optimizer.zero_grad()\n",
        "\n",
        "        outputs = model(input_ids=inputs, attention_mask=attention_mask)\n",
        "        logits = outputs.logits  # Shape: [batch_size, num_labels]\n",
        "\n",
        "        loss = loss_fn(logits, labels)\n",
        "        loss.backward()\n",
        "        optimizer.step()\n",
        "\n",
        "        train_loss += loss.item()\n",
        "\n",
        "        preds = torch.argmax(logits, dim=1)\n",
        "        train_correct += (preds == labels).sum().item()\n",
        "        train_count += labels.size(0)\n",
        "\n",
        "    avg_train_loss = train_loss / train_count\n",
        "    train_losses.append(avg_train_loss)\n",
        "    train_accuracy = train_correct / train_count\n",
        "    train_acc.append(train_accuracy)\n",
        "\n",
        "    # Evaluation loop\n",
        "    val_loss = 0\n",
        "    val_correct = 0\n",
        "    val_count = 0\n",
        "    true_labels = []\n",
        "    pred_labels = []\n",
        "\n",
        "    model.eval()\n",
        "    with torch.no_grad():\n",
        "        for inputs, labels in val_loader:\n",
        "            inputs = inputs.to(device)\n",
        "            labels = labels.to(device)\n",
        "            attention_mask = (inputs != tokenizer.pad_token_id).type(torch.long).to(device)\n",
        "\n",
        "            outputs = model(input_ids=inputs, attention_mask=attention_mask)\n",
        "            logits = outputs.logits  # Shape: [batch_size, num_labels]\n",
        "\n",
        "            loss = loss_fn(logits, labels)\n",
        "            val_loss += loss.item()\n",
        "\n",
        "            preds = torch.argmax(logits, dim=1)\n",
        "            val_correct += (preds == labels).sum().item()\n",
        "            val_count += labels.size(0)\n",
        "\n",
        "            true_labels.extend(labels.cpu().numpy())\n",
        "            pred_labels.extend(preds.cpu().numpy())\n",
        "\n",
        "    avg_val_loss = val_loss / val_count\n",
        "    val_losses.append(avg_val_loss)\n",
        "    val_accuracy = val_correct / val_count\n",
        "    val_acc.append(val_accuracy)\n",
        "\n",
        "    if avg_val_loss < best_val_loss:\n",
        "      best_val_loss = avg_val_loss\n",
        "      best_epoch = epoch\n",
        "      best_val_acc = val_accuracy\n",
        "      torch.save(model.state_dict(), model_save_path)\n",
        "\n",
        "    scheduler.step(avg_val_loss)\n",
        "\n",
        "    print(f'Epoch: {epoch + 1}/{epochs}')\n",
        "    print(f'Train Loss: {avg_train_loss:.4f}')\n",
        "    print(f'Train Accuracy: {train_accuracy:.4f}')\n",
        "    print(f'Validation Loss: {avg_val_loss:.4f}')\n",
        "    print(f'Validation Accuracy: {val_accuracy:.4f}')\n"
      ],
      "metadata": {
        "colab": {
          "base_uri": "https://localhost:8080/"
        },
        "id": "ej8tD98YCd2F",
        "outputId": "cd3193cb-1962-4d29-c099-04cafee6bc15"
      },
      "execution_count": 92,
      "outputs": [
        {
          "output_type": "stream",
          "name": "stderr",
          "text": [
            "Some weights of RobertaForSequenceClassification were not initialized from the model checkpoint at DeepChem/ChemBERTa-77M-MTR and are newly initialized: ['classifier.dense.bias', 'classifier.dense.weight', 'classifier.out_proj.bias', 'classifier.out_proj.weight']\n",
            "You should probably TRAIN this model on a down-stream task to be able to use it for predictions and inference.\n",
            "/usr/local/lib/python3.10/dist-packages/torch/optim/lr_scheduler.py:28: UserWarning: The verbose parameter is deprecated. Please use get_last_lr() to access the learning rate.\n",
            "  warnings.warn(\"The verbose parameter is deprecated. Please use get_last_lr() \"\n",
            "  3%|▎         | 1/30 [01:24<40:57, 84.74s/it]"
          ]
        },
        {
          "output_type": "stream",
          "name": "stdout",
          "text": [
            "Epoch: 1/30\n",
            "Train Loss: 0.0034\n",
            "Train Accuracy: 0.6576\n",
            "Validation Loss: 0.0025\n",
            "Validation Accuracy: 0.7494\n"
          ]
        },
        {
          "output_type": "stream",
          "name": "stderr",
          "text": [
            "\r  7%|▋         | 2/30 [02:48<39:12, 84.01s/it]"
          ]
        },
        {
          "output_type": "stream",
          "name": "stdout",
          "text": [
            "Epoch: 2/30\n",
            "Train Loss: 0.0024\n",
            "Train Accuracy: 0.7690\n",
            "Validation Loss: 0.0023\n",
            "Validation Accuracy: 0.7799\n"
          ]
        },
        {
          "output_type": "stream",
          "name": "stderr",
          "text": [
            "\r 10%|█         | 3/30 [04:12<37:47, 83.99s/it]"
          ]
        },
        {
          "output_type": "stream",
          "name": "stdout",
          "text": [
            "Epoch: 3/30\n",
            "Train Loss: 0.0022\n",
            "Train Accuracy: 0.7874\n",
            "Validation Loss: 0.0021\n",
            "Validation Accuracy: 0.7913\n"
          ]
        },
        {
          "output_type": "stream",
          "name": "stderr",
          "text": [
            "\r 13%|█▎        | 4/30 [05:36<36:23, 83.98s/it]"
          ]
        },
        {
          "output_type": "stream",
          "name": "stdout",
          "text": [
            "Epoch: 4/30\n",
            "Train Loss: 0.0020\n",
            "Train Accuracy: 0.7957\n",
            "Validation Loss: 0.0021\n",
            "Validation Accuracy: 0.7928\n"
          ]
        },
        {
          "output_type": "stream",
          "name": "stderr",
          "text": [
            "\r 17%|█▋        | 5/30 [06:59<34:53, 83.74s/it]"
          ]
        },
        {
          "output_type": "stream",
          "name": "stdout",
          "text": [
            "Epoch: 5/30\n",
            "Train Loss: 0.0020\n",
            "Train Accuracy: 0.8026\n",
            "Validation Loss: 0.0022\n",
            "Validation Accuracy: 0.7820\n"
          ]
        },
        {
          "output_type": "stream",
          "name": "stderr",
          "text": [
            "\r 20%|██        | 6/30 [08:23<33:29, 83.73s/it]"
          ]
        },
        {
          "output_type": "stream",
          "name": "stdout",
          "text": [
            "Epoch: 6/30\n",
            "Train Loss: 0.0019\n",
            "Train Accuracy: 0.8073\n",
            "Validation Loss: 0.0021\n",
            "Validation Accuracy: 0.7903\n"
          ]
        },
        {
          "output_type": "stream",
          "name": "stderr",
          "text": [
            "\r 23%|██▎       | 7/30 [09:46<32:05, 83.70s/it]"
          ]
        },
        {
          "output_type": "stream",
          "name": "stdout",
          "text": [
            "Epoch: 7/30\n",
            "Train Loss: 0.0019\n",
            "Train Accuracy: 0.8099\n",
            "Validation Loss: 0.0019\n",
            "Validation Accuracy: 0.8025\n"
          ]
        },
        {
          "output_type": "stream",
          "name": "stderr",
          "text": [
            "\r 27%|██▋       | 8/30 [11:10<30:43, 83.79s/it]"
          ]
        },
        {
          "output_type": "stream",
          "name": "stdout",
          "text": [
            "Epoch: 8/30\n",
            "Train Loss: 0.0018\n",
            "Train Accuracy: 0.8138\n",
            "Validation Loss: 0.0020\n",
            "Validation Accuracy: 0.8010\n"
          ]
        },
        {
          "output_type": "stream",
          "name": "stderr",
          "text": [
            "\r 30%|███       | 9/30 [12:34<29:18, 83.75s/it]"
          ]
        },
        {
          "output_type": "stream",
          "name": "stdout",
          "text": [
            "Epoch: 9/30\n",
            "Train Loss: 0.0018\n",
            "Train Accuracy: 0.8167\n",
            "Validation Loss: 0.0019\n",
            "Validation Accuracy: 0.8047\n"
          ]
        },
        {
          "output_type": "stream",
          "name": "stderr",
          "text": [
            "\r 33%|███▎      | 10/30 [13:58<27:55, 83.76s/it]"
          ]
        },
        {
          "output_type": "stream",
          "name": "stdout",
          "text": [
            "Epoch: 10/30\n",
            "Train Loss: 0.0018\n",
            "Train Accuracy: 0.8194\n",
            "Validation Loss: 0.0019\n",
            "Validation Accuracy: 0.8065\n"
          ]
        },
        {
          "output_type": "stream",
          "name": "stderr",
          "text": [
            "\r 37%|███▋      | 11/30 [15:22<26:32, 83.82s/it]"
          ]
        },
        {
          "output_type": "stream",
          "name": "stdout",
          "text": [
            "Epoch: 11/30\n",
            "Train Loss: 0.0018\n",
            "Train Accuracy: 0.8191\n",
            "Validation Loss: 0.0019\n",
            "Validation Accuracy: 0.8107\n"
          ]
        },
        {
          "output_type": "stream",
          "name": "stderr",
          "text": [
            "\r 40%|████      | 12/30 [16:46<25:10, 83.93s/it]"
          ]
        },
        {
          "output_type": "stream",
          "name": "stdout",
          "text": [
            "Epoch: 12/30\n",
            "Train Loss: 0.0017\n",
            "Train Accuracy: 0.8248\n",
            "Validation Loss: 0.0020\n",
            "Validation Accuracy: 0.7965\n"
          ]
        },
        {
          "output_type": "stream",
          "name": "stderr",
          "text": [
            "\r 43%|████▎     | 13/30 [18:09<23:44, 83.79s/it]"
          ]
        },
        {
          "output_type": "stream",
          "name": "stdout",
          "text": [
            "Epoch: 13/30\n",
            "Train Loss: 0.0017\n",
            "Train Accuracy: 0.8230\n",
            "Validation Loss: 0.0019\n",
            "Validation Accuracy: 0.7983\n"
          ]
        },
        {
          "output_type": "stream",
          "name": "stderr",
          "text": [
            "\r 47%|████▋     | 14/30 [19:33<22:21, 83.84s/it]"
          ]
        },
        {
          "output_type": "stream",
          "name": "stdout",
          "text": [
            "Epoch: 14/30\n",
            "Train Loss: 0.0017\n",
            "Train Accuracy: 0.8277\n",
            "Validation Loss: 0.0019\n",
            "Validation Accuracy: 0.8074\n"
          ]
        },
        {
          "output_type": "stream",
          "name": "stderr",
          "text": [
            "\r 50%|█████     | 15/30 [20:57<20:56, 83.75s/it]"
          ]
        },
        {
          "output_type": "stream",
          "name": "stdout",
          "text": [
            "Epoch: 15/30\n",
            "Train Loss: 0.0017\n",
            "Train Accuracy: 0.8294\n",
            "Validation Loss: 0.0019\n",
            "Validation Accuracy: 0.8067\n"
          ]
        },
        {
          "output_type": "stream",
          "name": "stderr",
          "text": [
            "\r 53%|█████▎    | 16/30 [22:20<19:32, 83.71s/it]"
          ]
        },
        {
          "output_type": "stream",
          "name": "stdout",
          "text": [
            "Epoch: 16/30\n",
            "Train Loss: 0.0016\n",
            "Train Accuracy: 0.8307\n",
            "Validation Loss: 0.0019\n",
            "Validation Accuracy: 0.8037\n"
          ]
        },
        {
          "output_type": "stream",
          "name": "stderr",
          "text": [
            "\r 57%|█████▋    | 17/30 [23:45<18:10, 83.90s/it]"
          ]
        },
        {
          "output_type": "stream",
          "name": "stdout",
          "text": [
            "Epoch: 17/30\n",
            "Train Loss: 0.0016\n",
            "Train Accuracy: 0.8316\n",
            "Validation Loss: 0.0019\n",
            "Validation Accuracy: 0.8088\n"
          ]
        },
        {
          "output_type": "stream",
          "name": "stderr",
          "text": [
            "\r 60%|██████    | 18/30 [25:09<16:47, 83.93s/it]"
          ]
        },
        {
          "output_type": "stream",
          "name": "stdout",
          "text": [
            "Epoch: 18/30\n",
            "Train Loss: 0.0016\n",
            "Train Accuracy: 0.8323\n",
            "Validation Loss: 0.0019\n",
            "Validation Accuracy: 0.7984\n"
          ]
        },
        {
          "output_type": "stream",
          "name": "stderr",
          "text": [
            "\r 63%|██████▎   | 19/30 [26:33<15:23, 83.93s/it]"
          ]
        },
        {
          "output_type": "stream",
          "name": "stdout",
          "text": [
            "Epoch: 19/30\n",
            "Train Loss: 0.0016\n",
            "Train Accuracy: 0.8341\n",
            "Validation Loss: 0.0019\n",
            "Validation Accuracy: 0.8046\n"
          ]
        },
        {
          "output_type": "stream",
          "name": "stderr",
          "text": [
            "\r 67%|██████▋   | 20/30 [27:57<14:00, 84.08s/it]"
          ]
        },
        {
          "output_type": "stream",
          "name": "stdout",
          "text": [
            "Epoch: 20/30\n",
            "Train Loss: 0.0016\n",
            "Train Accuracy: 0.8344\n",
            "Validation Loss: 0.0019\n",
            "Validation Accuracy: 0.8014\n"
          ]
        },
        {
          "output_type": "stream",
          "name": "stderr",
          "text": [
            "\r 70%|███████   | 21/30 [29:21<12:37, 84.13s/it]"
          ]
        },
        {
          "output_type": "stream",
          "name": "stdout",
          "text": [
            "Epoch: 21/30\n",
            "Train Loss: 0.0016\n",
            "Train Accuracy: 0.8368\n",
            "Validation Loss: 0.0019\n",
            "Validation Accuracy: 0.8077\n"
          ]
        },
        {
          "output_type": "stream",
          "name": "stderr",
          "text": [
            "\r 73%|███████▎  | 22/30 [30:46<11:13, 84.17s/it]"
          ]
        },
        {
          "output_type": "stream",
          "name": "stdout",
          "text": [
            "Epoch: 22/30\n",
            "Train Loss: 0.0016\n",
            "Train Accuracy: 0.8380\n",
            "Validation Loss: 0.0019\n",
            "Validation Accuracy: 0.8052\n"
          ]
        },
        {
          "output_type": "stream",
          "name": "stderr",
          "text": [
            "\r 77%|███████▋  | 23/30 [32:10<09:48, 84.12s/it]"
          ]
        },
        {
          "output_type": "stream",
          "name": "stdout",
          "text": [
            "Epoch: 23/30\n",
            "Train Loss: 0.0015\n",
            "Train Accuracy: 0.8384\n",
            "Validation Loss: 0.0018\n",
            "Validation Accuracy: 0.8123\n"
          ]
        },
        {
          "output_type": "stream",
          "name": "stderr",
          "text": [
            "\r 80%|████████  | 24/30 [33:34<08:25, 84.26s/it]"
          ]
        },
        {
          "output_type": "stream",
          "name": "stdout",
          "text": [
            "Epoch: 24/30\n",
            "Train Loss: 0.0015\n",
            "Train Accuracy: 0.8382\n",
            "Validation Loss: 0.0019\n",
            "Validation Accuracy: 0.8065\n"
          ]
        },
        {
          "output_type": "stream",
          "name": "stderr",
          "text": [
            "\r 83%|████████▎ | 25/30 [34:59<07:01, 84.32s/it]"
          ]
        },
        {
          "output_type": "stream",
          "name": "stdout",
          "text": [
            "Epoch: 25/30\n",
            "Train Loss: 0.0015\n",
            "Train Accuracy: 0.8395\n",
            "Validation Loss: 0.0018\n",
            "Validation Accuracy: 0.8097\n"
          ]
        },
        {
          "output_type": "stream",
          "name": "stderr",
          "text": [
            "\r 87%|████████▋ | 26/30 [36:23<05:37, 84.41s/it]"
          ]
        },
        {
          "output_type": "stream",
          "name": "stdout",
          "text": [
            "Epoch: 26/30\n",
            "Train Loss: 0.0015\n",
            "Train Accuracy: 0.8420\n",
            "Validation Loss: 0.0019\n",
            "Validation Accuracy: 0.8071\n"
          ]
        },
        {
          "output_type": "stream",
          "name": "stderr",
          "text": [
            "\r 90%|█████████ | 27/30 [37:48<04:13, 84.39s/it]"
          ]
        },
        {
          "output_type": "stream",
          "name": "stdout",
          "text": [
            "Epoch: 27/30\n",
            "Train Loss: 0.0015\n",
            "Train Accuracy: 0.8413\n",
            "Validation Loss: 0.0019\n",
            "Validation Accuracy: 0.8037\n"
          ]
        },
        {
          "output_type": "stream",
          "name": "stderr",
          "text": [
            "\r 93%|█████████▎| 28/30 [39:12<02:48, 84.36s/it]"
          ]
        },
        {
          "output_type": "stream",
          "name": "stdout",
          "text": [
            "Epoch: 28/30\n",
            "Train Loss: 0.0015\n",
            "Train Accuracy: 0.8428\n",
            "Validation Loss: 0.0018\n",
            "Validation Accuracy: 0.8090\n"
          ]
        },
        {
          "output_type": "stream",
          "name": "stderr",
          "text": [
            "\r 97%|█████████▋| 29/30 [40:36<01:24, 84.24s/it]"
          ]
        },
        {
          "output_type": "stream",
          "name": "stdout",
          "text": [
            "Epoch: 29/30\n",
            "Train Loss: 0.0015\n",
            "Train Accuracy: 0.8439\n",
            "Validation Loss: 0.0019\n",
            "Validation Accuracy: 0.8071\n"
          ]
        },
        {
          "output_type": "stream",
          "name": "stderr",
          "text": [
            "100%|██████████| 30/30 [42:00<00:00, 84.01s/it]"
          ]
        },
        {
          "output_type": "stream",
          "name": "stdout",
          "text": [
            "Epoch: 30/30\n",
            "Train Loss: 0.0015\n",
            "Train Accuracy: 0.8428\n",
            "Validation Loss: 0.0019\n",
            "Validation Accuracy: 0.8078\n",
            "CPU times: user 42min 2s, sys: 8.62 s, total: 42min 11s\n",
            "Wall time: 42min 1s\n"
          ]
        },
        {
          "output_type": "stream",
          "name": "stderr",
          "text": [
            "\n"
          ]
        }
      ]
    },
    {
      "cell_type": "code",
      "source": [
        "import matplotlib.pyplot as plt\n",
        "import numpy as np\n",
        "plt.plot(np.arange(1, epochs+1), train_losses, c='r',label='Training Loss')\n",
        "plt.plot(np.arange(1, epochs+1), val_losses, c='b', label='Validation Loss')\n",
        "plt.legend()\n",
        "plt.title(\"Losses\")\n",
        "plt.show()\n",
        "\n",
        "plt.plot(np.arange(1, epochs+1), train_acc, c='r',label='Training Accuracy')\n",
        "plt.plot(np.arange(1, epochs+1), val_acc, c='b', label='Validation Accuracy')\n",
        "plt.legend()\n",
        "plt.title(\"Accuracy\")\n",
        "plt.show()"
      ],
      "metadata": {
        "id": "KojyeKBLQRoo",
        "colab": {
          "base_uri": "https://localhost:8080/",
          "height": 887
        },
        "outputId": "6cdf90f6-6467-4eb1-f010-33d0ec589a53"
      },
      "execution_count": 93,
      "outputs": [
        {
          "output_type": "display_data",
          "data": {
            "text/plain": [
              "<Figure size 640x480 with 1 Axes>"
            ],
            "image/png": "[encoded data removed]"
          },
          "metadata": {}
        },
        {
          "output_type": "display_data",
          "data": {
            "text/plain": [
              "<Figure size 640x480 with 1 Axes>"
            ],
            "image/png": "[encoded data removed]"
          },
          "metadata": {}
        }
      ]
    },
    {
      "cell_type": "code",
      "source": [
        "from sklearn.metrics import confusion_matrix, classification_report\n",
        "import seaborn as sns\n",
        "conf_matrix = confusion_matrix(true_labels, pred_labels)\n",
        "sns.heatmap(conf_matrix, annot=True, fmt='d')\n",
        "plt.title('Confusion Matrix')\n",
        "plt.show()\n",
        "print(classification_report(true_labels, pred_labels))"
      ],
      "metadata": {
        "id": "_oqC6pYNKuMM",
        "colab": {
          "base_uri": "https://localhost:8080/",
          "height": 643
        },
        "outputId": "10a0dddd-ef23-4a11-8ed0-9d695cc8c542"
      },
      "execution_count": 94,
      "outputs": [
        {
          "output_type": "display_data",
          "data": {
            "text/plain": [
              "<Figure size 640x480 with 2 Axes>"
            ],
            "image/png": "[encoded data removed]"
          },
          "metadata": {}
        },
        {
          "output_type": "stream",
          "name": "stdout",
          "text": [
            "              precision    recall  f1-score   support\n",
            "\n",
            "           0       0.75      0.87      0.81      1617\n",
            "           1       0.56      0.53      0.55      1547\n",
            "           2       0.79      0.88      0.83      2783\n",
            "           3       0.90      0.83      0.87      6053\n",
            "\n",
            "    accuracy                           0.81     12000\n",
            "   macro avg       0.75      0.78      0.76     12000\n",
            "weighted avg       0.81      0.81      0.81     12000\n",
            "\n"
          ]
        }
      ]
    },
    {
      "cell_type": "code",
      "source": [
        "from datetime import datetime\n",
        "model.load_state_dict(torch.load(model_save_path))\n",
        "current_date = datetime.now().strftime(\"%Y%m%d_%H\")\n",
        "model_filename = f\"modelmulticlass_{best_val_acc:.4f}acc_{best_val_loss:.4f}loss_{epochs}epochs_{learning_rate}lr_{batch_size}batch_{current_date}.pth\"\n",
        "new_model_save_path = os.path.join(model_save_dir, model_filename)\n",
        "torch.save(model.state_dict(), new_model_save_path)"
      ],
      "metadata": {
        "id": "u_Uc-svw6z0s"
      },
      "execution_count": null,
      "outputs": []
    },
    {
      "cell_type": "code",
      "source": [],
      "metadata": {
        "id": "Uc4B6nVcVEgD"
      },
      "execution_count": null,
      "outputs": []
    }
  ]
}