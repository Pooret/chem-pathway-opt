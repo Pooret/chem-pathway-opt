{
  "nbformat": 4,
  "nbformat_minor": 0,
  "metadata": {
    "colab": {
      "provenance": [],
      "machine_shape": "hm",
      "gpuType": "T4",
      "authorship_tag": "ABX9TyOqzKd5LJhdG2qb4y2HjfK+",
      "include_colab_link": true
    },
    "kernelspec": {
      "name": "python3",
      "display_name": "Python 3"
    },
    "language_info": {
      "name": "python"
    },
    "widgets": {
      "application/vnd.jupyter.widget-state+json": {
        "cdb161511453475e907027284fb8c4a3": {
          "model_module": "@jupyter-widgets/controls",
          "model_name": "FloatProgressModel",
          "model_module_version": "1.5.0",
          "state": {
            "_dom_classes": [],
            "_model_module": "@jupyter-widgets/controls",
            "_model_module_version": "1.5.0",
            "_model_name": "FloatProgressModel",
            "_view_count": null,
            "_view_module": "@jupyter-widgets/controls",
            "_view_module_version": "1.5.0",
            "_view_name": "ProgressView",
            "bar_style": "",
            "description": "",
            "description_tooltip": null,
            "layout": "IPY_MODEL_bedcdaaaaacb443ba40779748416caf5",
            "max": 100,
            "min": 0,
            "orientation": "horizontal",
            "style": "IPY_MODEL_d91621e47f624d219547c253135277fb",
            "value": 100
          }
        },
        "bedcdaaaaacb443ba40779748416caf5": {
          "model_module": "@jupyter-widgets/base",
          "model_name": "LayoutModel",
          "model_module_version": "1.2.0",
          "state": {
            "_model_module": "@jupyter-widgets/base",
            "_model_module_version": "1.2.0",
            "_model_name": "LayoutModel",
            "_view_count": null,
            "_view_module": "@jupyter-widgets/base",
            "_view_module_version": "1.2.0",
            "_view_name": "LayoutView",
            "align_content": null,
            "align_items": null,
            "align_self": null,
            "border": null,
            "bottom": null,
            "display": null,
            "flex": null,
            "flex_flow": null,
            "grid_area": null,
            "grid_auto_columns": null,
            "grid_auto_flow": null,
            "grid_auto_rows": null,
            "grid_column": null,
            "grid_gap": null,
            "grid_row": null,
            "grid_template_areas": null,
            "grid_template_columns": null,
            "grid_template_rows": null,
            "height": null,
            "justify_content": null,
            "justify_items": null,
            "left": null,
            "margin": null,
            "max_height": null,
            "max_width": null,
            "min_height": null,
            "min_width": null,
            "object_fit": null,
            "object_position": null,
            "order": null,
            "overflow": null,
            "overflow_x": null,
            "overflow_y": null,
            "padding": null,
            "right": null,
            "top": null,
            "visibility": null,
            "width": "auto"
          }
        },
        "d91621e47f624d219547c253135277fb": {
          "model_module": "@jupyter-widgets/controls",
          "model_name": "ProgressStyleModel",
          "model_module_version": "1.5.0",
          "state": {
            "_model_module": "@jupyter-widgets/controls",
            "_model_module_version": "1.5.0",
            "_model_name": "ProgressStyleModel",
            "_view_count": null,
            "_view_module": "@jupyter-widgets/base",
            "_view_module_version": "1.2.0",
            "_view_name": "StyleView",
            "bar_color": "black",
            "description_width": ""
          }
        },
        "f979a01993294046814612bfc90efa71": {
          "model_module": "@jupyter-widgets/controls",
          "model_name": "HBoxModel",
          "model_module_version": "1.5.0",
          "state": {
            "_dom_classes": [],
            "_model_module": "@jupyter-widgets/controls",
            "_model_module_version": "1.5.0",
            "_model_name": "HBoxModel",
            "_view_count": null,
            "_view_module": "@jupyter-widgets/controls",
            "_view_module_version": "1.5.0",
            "_view_name": "HBoxView",
            "box_style": "",
            "children": [
              "IPY_MODEL_b1db5a287d8a416bb75a838073837df0",
              "IPY_MODEL_8de4a91146334db089321f5cf1ffebcc",
              "IPY_MODEL_800b24fedf7e43c99f835e06a30346d5"
            ],
            "layout": "IPY_MODEL_2986f90d47534db19130f6c0542c2845"
          }
        },
        "b1db5a287d8a416bb75a838073837df0": {
          "model_module": "@jupyter-widgets/controls",
          "model_name": "HTMLModel",
          "model_module_version": "1.5.0",
          "state": {
            "_dom_classes": [],
            "_model_module": "@jupyter-widgets/controls",
            "_model_module_version": "1.5.0",
            "_model_name": "HTMLModel",
            "_view_count": null,
            "_view_module": "@jupyter-widgets/controls",
            "_view_module_version": "1.5.0",
            "_view_name": "HTMLView",
            "description": "",
            "description_tooltip": null,
            "layout": "IPY_MODEL_5dd2393b27f347a99349828fafa9dc47",
            "placeholder": "​",
            "style": "IPY_MODEL_3f812a49f3aa41638e451ed176f5d20e",
            "value": "Processing DataFrame: 100%"
          }
        },
        "8de4a91146334db089321f5cf1ffebcc": {
          "model_module": "@jupyter-widgets/controls",
          "model_name": "FloatProgressModel",
          "model_module_version": "1.5.0",
          "state": {
            "_dom_classes": [],
            "_model_module": "@jupyter-widgets/controls",
            "_model_module_version": "1.5.0",
            "_model_name": "FloatProgressModel",
            "_view_count": null,
            "_view_module": "@jupyter-widgets/controls",
            "_view_module_version": "1.5.0",
            "_view_name": "ProgressView",
            "bar_style": "success",
            "description": "",
            "description_tooltip": null,
            "layout": "IPY_MODEL_751cf8675596475d839c5d6f15466902",
            "max": 600000,
            "min": 0,
            "orientation": "horizontal",
            "style": "IPY_MODEL_49d229989f86439697f793cf9710ac97",
            "value": 600000
          }
        },
        "800b24fedf7e43c99f835e06a30346d5": {
          "model_module": "@jupyter-widgets/controls",
          "model_name": "HTMLModel",
          "model_module_version": "1.5.0",
          "state": {
            "_dom_classes": [],
            "_model_module": "@jupyter-widgets/controls",
            "_model_module_version": "1.5.0",
            "_model_name": "HTMLModel",
            "_view_count": null,
            "_view_module": "@jupyter-widgets/controls",
            "_view_module_version": "1.5.0",
            "_view_name": "HTMLView",
            "description": "",
            "description_tooltip": null,
            "layout": "IPY_MODEL_33da0f863b594255a7843e27f6959d49",
            "placeholder": "​",
            "style": "IPY_MODEL_87d0e3c03f7143209a1027f820472111",
            "value": " 600000/600000 [04:54&lt;00:00, 1938.48it/s]"
          }
        },
        "2986f90d47534db19130f6c0542c2845": {
          "model_module": "@jupyter-widgets/base",
          "model_name": "LayoutModel",
          "model_module_version": "1.2.0",
          "state": {
            "_model_module": "@jupyter-widgets/base",
            "_model_module_version": "1.2.0",
            "_model_name": "LayoutModel",
            "_view_count": null,
            "_view_module": "@jupyter-widgets/base",
            "_view_module_version": "1.2.0",
            "_view_name": "LayoutView",
            "align_content": null,
            "align_items": null,
            "align_self": null,
            "border": null,
            "bottom": null,
            "display": null,
            "flex": null,
            "flex_flow": null,
            "grid_area": null,
            "grid_auto_columns": null,
            "grid_auto_flow": null,
            "grid_auto_rows": null,
            "grid_column": null,
            "grid_gap": null,
            "grid_row": null,
            "grid_template_areas": null,
            "grid_template_columns": null,
            "grid_template_rows": null,
            "height": null,
            "justify_content": null,
            "justify_items": null,
            "left": null,
            "margin": null,
            "max_height": null,
            "max_width": null,
            "min_height": null,
            "min_width": null,
            "object_fit": null,
            "object_position": null,
            "order": null,
            "overflow": null,
            "overflow_x": null,
            "overflow_y": null,
            "padding": null,
            "right": null,
            "top": null,
            "visibility": null,
            "width": null
          }
        },
        "5dd2393b27f347a99349828fafa9dc47": {
          "model_module": "@jupyter-widgets/base",
          "model_name": "LayoutModel",
          "model_module_version": "1.2.0",
          "state": {
            "_model_module": "@jupyter-widgets/base",
            "_model_module_version": "1.2.0",
            "_model_name": "LayoutModel",
            "_view_count": null,
            "_view_module": "@jupyter-widgets/base",
            "_view_module_version": "1.2.0",
            "_view_name": "LayoutView",
            "align_content": null,
            "align_items": null,
            "align_self": null,
            "border": null,
            "bottom": null,
            "display": null,
            "flex": null,
            "flex_flow": null,
            "grid_area": null,
            "grid_auto_columns": null,
            "grid_auto_flow": null,
            "grid_auto_rows": null,
            "grid_column": null,
            "grid_gap": null,
            "grid_row": null,
            "grid_template_areas": null,
            "grid_template_columns": null,
            "grid_template_rows": null,
            "height": null,
            "justify_content": null,
            "justify_items": null,
            "left": null,
            "margin": null,
            "max_height": null,
            "max_width": null,
            "min_height": null,
            "min_width": null,
            "object_fit": null,
            "object_position": null,
            "order": null,
            "overflow": null,
            "overflow_x": null,
            "overflow_y": null,
            "padding": null,
            "right": null,
            "top": null,
            "visibility": null,
            "width": null
          }
        },
        "3f812a49f3aa41638e451ed176f5d20e": {
          "model_module": "@jupyter-widgets/controls",
          "model_name": "DescriptionStyleModel",
          "model_module_version": "1.5.0",
          "state": {
            "_model_module": "@jupyter-widgets/controls",
            "_model_module_version": "1.5.0",
            "_model_name": "DescriptionStyleModel",
            "_view_count": null,
            "_view_module": "@jupyter-widgets/base",
            "_view_module_version": "1.2.0",
            "_view_name": "StyleView",
            "description_width": ""
          }
        },
        "751cf8675596475d839c5d6f15466902": {
          "model_module": "@jupyter-widgets/base",
          "model_name": "LayoutModel",
          "model_module_version": "1.2.0",
          "state": {
            "_model_module": "@jupyter-widgets/base",
            "_model_module_version": "1.2.0",
            "_model_name": "LayoutModel",
            "_view_count": null,
            "_view_module": "@jupyter-widgets/base",
            "_view_module_version": "1.2.0",
            "_view_name": "LayoutView",
            "align_content": null,
            "align_items": null,
            "align_self": null,
            "border": null,
            "bottom": null,
            "display": null,
            "flex": null,
            "flex_flow": null,
            "grid_area": null,
            "grid_auto_columns": null,
            "grid_auto_flow": null,
            "grid_auto_rows": null,
            "grid_column": null,
            "grid_gap": null,
            "grid_row": null,
            "grid_template_areas": null,
            "grid_template_columns": null,
            "grid_template_rows": null,
            "height": null,
            "justify_content": null,
            "justify_items": null,
            "left": null,
            "margin": null,
            "max_height": null,
            "max_width": null,
            "min_height": null,
            "min_width": null,
            "object_fit": null,
            "object_position": null,
            "order": null,
            "overflow": null,
            "overflow_x": null,
            "overflow_y": null,
            "padding": null,
            "right": null,
            "top": null,
            "visibility": null,
            "width": null
          }
        },
        "49d229989f86439697f793cf9710ac97": {
          "model_module": "@jupyter-widgets/controls",
          "model_name": "ProgressStyleModel",
          "model_module_version": "1.5.0",
          "state": {
            "_model_module": "@jupyter-widgets/controls",
            "_model_module_version": "1.5.0",
            "_model_name": "ProgressStyleModel",
            "_view_count": null,
            "_view_module": "@jupyter-widgets/base",
            "_view_module_version": "1.2.0",
            "_view_name": "StyleView",
            "bar_color": null,
            "description_width": ""
          }
        },
        "33da0f863b594255a7843e27f6959d49": {
          "model_module": "@jupyter-widgets/base",
          "model_name": "LayoutModel",
          "model_module_version": "1.2.0",
          "state": {
            "_model_module": "@jupyter-widgets/base",
            "_model_module_version": "1.2.0",
            "_model_name": "LayoutModel",
            "_view_count": null,
            "_view_module": "@jupyter-widgets/base",
            "_view_module_version": "1.2.0",
            "_view_name": "LayoutView",
            "align_content": null,
            "align_items": null,
            "align_self": null,
            "border": null,
            "bottom": null,
            "display": null,
            "flex": null,
            "flex_flow": null,
            "grid_area": null,
            "grid_auto_columns": null,
            "grid_auto_flow": null,
            "grid_auto_rows": null,
            "grid_column": null,
            "grid_gap": null,
            "grid_row": null,
            "grid_template_areas": null,
            "grid_template_columns": null,
            "grid_template_rows": null,
            "height": null,
            "justify_content": null,
            "justify_items": null,
            "left": null,
            "margin": null,
            "max_height": null,
            "max_width": null,
            "min_height": null,
            "min_width": null,
            "object_fit": null,
            "object_position": null,
            "order": null,
            "overflow": null,
            "overflow_x": null,
            "overflow_y": null,
            "padding": null,
            "right": null,
            "top": null,
            "visibility": null,
            "width": null
          }
        },
        "87d0e3c03f7143209a1027f820472111": {
          "model_module": "@jupyter-widgets/controls",
          "model_name": "DescriptionStyleModel",
          "model_module_version": "1.5.0",
          "state": {
            "_model_module": "@jupyter-widgets/controls",
            "_model_module_version": "1.5.0",
            "_model_name": "DescriptionStyleModel",
            "_view_count": null,
            "_view_module": "@jupyter-widgets/base",
            "_view_module_version": "1.2.0",
            "_view_name": "StyleView",
            "description_width": ""
          }
        }
      }
    },
    "accelerator": "GPU"
  },
  "cells": [
    {
      "cell_type": "markdown",
      "metadata": {
        "id": "view-in-github",
        "colab_type": "text"
      },
      "source": [
        "<a href=\"https://colab.research.google.com/github/Pooret/drug-discovery-ml/blob/main/ChemBert_Binding_Affinity_Prediction_for_Small_Molecules.ipynb\" target=\"_parent\"><img src=\"https://colab.research.google.com/assets/colab-badge.svg\" alt=\"Open In Colab\"/></a>"
      ]
    },
    {
      "cell_type": "markdown",
      "source": [
        "[Dataset](https://www.kaggle.com/competitions/leash-BELKA/data)"
      ],
      "metadata": {
        "id": "PT-X3hIzjZmy"
      }
    },
    {
      "cell_type": "code",
      "source": [
        "!pip install pandas pyarrow\n",
        "!pip install duckdb\n",
        "!pip install rdkit\n",
        "!pip install py3Dmol\n",
        "!pip install mordred\n",
        "!pip install deepchem"
      ],
      "metadata": {
        "colab": {
          "base_uri": "https://localhost:8080/"
        },
        "id": "ojio1hCNlCSW",
        "outputId": "6582478e-c19a-4019-af86-86a4c5084262"
      },
      "execution_count": 1,
      "outputs": [
        {
          "output_type": "stream",
          "name": "stdout",
          "text": [
            "Requirement already satisfied: pandas in /usr/local/lib/python3.10/dist-packages (2.0.3)\n",
            "Requirement already satisfied: pyarrow in /usr/local/lib/python3.10/dist-packages (14.0.2)\n",
            "Requirement already satisfied: python-dateutil>=2.8.2 in /usr/local/lib/python3.10/dist-packages (from pandas) (2.8.2)\n",
            "Requirement already satisfied: pytz>=2020.1 in /usr/local/lib/python3.10/dist-packages (from pandas) (2023.4)\n",
            "Requirement already satisfied: tzdata>=2022.1 in /usr/local/lib/python3.10/dist-packages (from pandas) (2024.1)\n",
            "Requirement already satisfied: numpy>=1.21.0 in /usr/local/lib/python3.10/dist-packages (from pandas) (1.25.2)\n",
            "Requirement already satisfied: six>=1.5 in /usr/local/lib/python3.10/dist-packages (from python-dateutil>=2.8.2->pandas) (1.16.0)\n",
            "Requirement already satisfied: duckdb in /usr/local/lib/python3.10/dist-packages (0.10.2)\n",
            "Collecting rdkit\n",
            "  Downloading rdkit-2023.9.6-cp310-cp310-manylinux_2_17_x86_64.manylinux2014_x86_64.whl (34.9 MB)\n",
            "\u001b[2K     \u001b[90m━━━━━━━━━━━━━━━━━━━━━━━━━━━━━━━━━━━━━━━━\u001b[0m \u001b[32m34.9/34.9 MB\u001b[0m \u001b[31m35.4 MB/s\u001b[0m eta \u001b[36m0:00:00\u001b[0m\n",
            "\u001b[?25hRequirement already satisfied: numpy in /usr/local/lib/python3.10/dist-packages (from rdkit) (1.25.2)\n",
            "Requirement already satisfied: Pillow in /usr/local/lib/python3.10/dist-packages (from rdkit) (9.4.0)\n",
            "Installing collected packages: rdkit\n",
            "Successfully installed rdkit-2023.9.6\n",
            "Collecting py3Dmol\n",
            "  Downloading py3Dmol-2.1.0-py2.py3-none-any.whl (12 kB)\n",
            "Installing collected packages: py3Dmol\n",
            "Successfully installed py3Dmol-2.1.0\n",
            "Collecting mordred\n",
            "  Downloading mordred-1.2.0.tar.gz (128 kB)\n",
            "\u001b[2K     \u001b[90m━━━━━━━━━━━━━━━━━━━━━━━━━━━━━━━━━━━━━━━━\u001b[0m \u001b[32m128.8/128.8 kB\u001b[0m \u001b[31m4.1 MB/s\u001b[0m eta \u001b[36m0:00:00\u001b[0m\n",
            "\u001b[?25h  Preparing metadata (setup.py) ... \u001b[?25l\u001b[?25hdone\n",
            "Requirement already satisfied: six==1.* in /usr/local/lib/python3.10/dist-packages (from mordred) (1.16.0)\n",
            "Requirement already satisfied: numpy==1.* in /usr/local/lib/python3.10/dist-packages (from mordred) (1.25.2)\n",
            "Collecting networkx==2.* (from mordred)\n",
            "  Downloading networkx-2.8.8-py3-none-any.whl (2.0 MB)\n",
            "\u001b[2K     \u001b[90m━━━━━━━━━━━━━━━━━━━━━━━━━━━━━━━━━━━━━━━━\u001b[0m \u001b[32m2.0/2.0 MB\u001b[0m \u001b[31m17.6 MB/s\u001b[0m eta \u001b[36m0:00:00\u001b[0m\n",
            "\u001b[?25hBuilding wheels for collected packages: mordred\n",
            "  Building wheel for mordred (setup.py) ... \u001b[?25l\u001b[?25hdone\n",
            "  Created wheel for mordred: filename=mordred-1.2.0-py3-none-any.whl size=176720 sha256=79807d19571ab54d2fdc06521798f11baaf6aafedb865197f002c7885437cd9e\n",
            "  Stored in directory: /root/.cache/pip/wheels/a7/4f/b8/d4c6591f6ac944aaced7865b349477695f662388ad958743c7\n",
            "Successfully built mordred\n",
            "Installing collected packages: networkx, mordred\n",
            "  Attempting uninstall: networkx\n",
            "    Found existing installation: networkx 3.3\n",
            "    Uninstalling networkx-3.3:\n",
            "      Successfully uninstalled networkx-3.3\n",
            "\u001b[31mERROR: pip's dependency resolver does not currently take into account all the packages that are installed. This behaviour is the source of the following dependency conflicts.\n",
            "torch 2.3.0+cu121 requires nvidia-cublas-cu12==12.1.3.1; platform_system == \"Linux\" and platform_machine == \"x86_64\", which is not installed.\n",
            "torch 2.3.0+cu121 requires nvidia-cuda-cupti-cu12==12.1.105; platform_system == \"Linux\" and platform_machine == \"x86_64\", which is not installed.\n",
            "torch 2.3.0+cu121 requires nvidia-cuda-nvrtc-cu12==12.1.105; platform_system == \"Linux\" and platform_machine == \"x86_64\", which is not installed.\n",
            "torch 2.3.0+cu121 requires nvidia-cuda-runtime-cu12==12.1.105; platform_system == \"Linux\" and platform_machine == \"x86_64\", which is not installed.\n",
            "torch 2.3.0+cu121 requires nvidia-cudnn-cu12==8.9.2.26; platform_system == \"Linux\" and platform_machine == \"x86_64\", which is not installed.\n",
            "torch 2.3.0+cu121 requires nvidia-cufft-cu12==11.0.2.54; platform_system == \"Linux\" and platform_machine == \"x86_64\", which is not installed.\n",
            "torch 2.3.0+cu121 requires nvidia-curand-cu12==10.3.2.106; platform_system == \"Linux\" and platform_machine == \"x86_64\", which is not installed.\n",
            "torch 2.3.0+cu121 requires nvidia-cusolver-cu12==11.4.5.107; platform_system == \"Linux\" and platform_machine == \"x86_64\", which is not installed.\n",
            "torch 2.3.0+cu121 requires nvidia-cusparse-cu12==12.1.0.106; platform_system == \"Linux\" and platform_machine == \"x86_64\", which is not installed.\n",
            "torch 2.3.0+cu121 requires nvidia-nccl-cu12==2.20.5; platform_system == \"Linux\" and platform_machine == \"x86_64\", which is not installed.\n",
            "torch 2.3.0+cu121 requires nvidia-nvtx-cu12==12.1.105; platform_system == \"Linux\" and platform_machine == \"x86_64\", which is not installed.\u001b[0m\u001b[31m\n",
            "\u001b[0mSuccessfully installed mordred-1.2.0 networkx-2.8.8\n",
            "Collecting deepchem\n",
            "  Downloading deepchem-2.8.0-py3-none-any.whl (1.0 MB)\n",
            "\u001b[2K     \u001b[90m━━━━━━━━━━━━━━━━━━━━━━━━━━━━━━━━━━━━━━━━\u001b[0m \u001b[32m1.0/1.0 MB\u001b[0m \u001b[31m2.9 MB/s\u001b[0m eta \u001b[36m0:00:00\u001b[0m\n",
            "\u001b[?25hRequirement already satisfied: joblib in /usr/local/lib/python3.10/dist-packages (from deepchem) (1.4.2)\n",
            "Requirement already satisfied: numpy>=1.21 in /usr/local/lib/python3.10/dist-packages (from deepchem) (1.25.2)\n",
            "Requirement already satisfied: pandas in /usr/local/lib/python3.10/dist-packages (from deepchem) (2.0.3)\n",
            "Requirement already satisfied: scikit-learn in /usr/local/lib/python3.10/dist-packages (from deepchem) (1.2.2)\n",
            "Requirement already satisfied: sympy in /usr/local/lib/python3.10/dist-packages (from deepchem) (1.12)\n",
            "Requirement already satisfied: scipy>=1.10.1 in /usr/local/lib/python3.10/dist-packages (from deepchem) (1.11.4)\n",
            "Requirement already satisfied: rdkit in /usr/local/lib/python3.10/dist-packages (from deepchem) (2023.9.6)\n",
            "Requirement already satisfied: python-dateutil>=2.8.2 in /usr/local/lib/python3.10/dist-packages (from pandas->deepchem) (2.8.2)\n",
            "Requirement already satisfied: pytz>=2020.1 in /usr/local/lib/python3.10/dist-packages (from pandas->deepchem) (2023.4)\n",
            "Requirement already satisfied: tzdata>=2022.1 in /usr/local/lib/python3.10/dist-packages (from pandas->deepchem) (2024.1)\n",
            "Requirement already satisfied: Pillow in /usr/local/lib/python3.10/dist-packages (from rdkit->deepchem) (9.4.0)\n",
            "Requirement already satisfied: threadpoolctl>=2.0.0 in /usr/local/lib/python3.10/dist-packages (from scikit-learn->deepchem) (3.5.0)\n",
            "Requirement already satisfied: mpmath>=0.19 in /usr/local/lib/python3.10/dist-packages (from sympy->deepchem) (1.3.0)\n",
            "Requirement already satisfied: six>=1.5 in /usr/local/lib/python3.10/dist-packages (from python-dateutil>=2.8.2->pandas->deepchem) (1.16.0)\n",
            "Installing collected packages: deepchem\n",
            "Successfully installed deepchem-2.8.0\n"
          ]
        }
      ]
    },
    {
      "cell_type": "code",
      "source": [
        "from google.colab import drive\n",
        "drive.mount(\"/content/drive\")"
      ],
      "metadata": {
        "id": "b88khbwhjeMV"
      },
      "execution_count": null,
      "outputs": []
    },
    {
      "cell_type": "code",
      "source": [
        "import os\n",
        "\n",
        "# Create directory path for data\n",
        "directory_path = \"/content/data\"\n",
        "\n",
        "# Check if the directory already exists\n",
        "if not os.path.exists(directory_path):\n",
        "    os.mkdir(directory_path)\n",
        "    print(f\"Directory created at {directory_path}\")\n",
        "else:\n",
        "    print(f\"Directory already exists at {directory_path}\")"
      ],
      "metadata": {
        "id": "QMW0FGKTfGQx",
        "colab": {
          "base_uri": "https://localhost:8080/"
        },
        "outputId": "fc72252e-7bb9-42e0-9d85-31ea1df444dd"
      },
      "execution_count": 3,
      "outputs": [
        {
          "output_type": "stream",
          "name": "stdout",
          "text": [
            "Directory created at /content/data\n"
          ]
        }
      ]
    },
    {
      "cell_type": "code",
      "source": [
        "%%time\n",
        "!unzip /content/drive/MyDrive/Datasets/leash_BELKA/data.zip -d /content/data"
      ],
      "metadata": {
        "id": "jGKG1EDOkk7Y",
        "colab": {
          "base_uri": "https://localhost:8080/"
        },
        "outputId": "7d0e57cb-a248-4a26-b397-49766ec9ed86"
      },
      "execution_count": 4,
      "outputs": [
        {
          "output_type": "stream",
          "name": "stdout",
          "text": [
            "Archive:  /content/drive/MyDrive/Datasets/leash_BELKA/data.zip\n",
            "  inflating: /content/data/sample_submission.csv  \n",
            "  inflating: /content/data/test.csv  \n",
            "  inflating: /content/data/test.parquet  \n",
            "  inflating: /content/data/train.csv  \n",
            "  inflating: /content/data/train.parquet  \n",
            "CPU times: user 1.82 s, sys: 259 ms, total: 2.08 s\n",
            "Wall time: 5min 46s\n"
          ]
        }
      ]
    },
    {
      "cell_type": "code",
      "source": [
        "%%time\n",
        "#By Andrew D. Blevins https://www.kaggle.com/code/andrewdblevins/leash-tutorial-ecfps-and-random-forest\n",
        "\n",
        "import duckdb\n",
        "import pandas as pd\n",
        "\n",
        "train_path = '/content/data/train.parquet'\n",
        "test_path = '/content/data/test.parquet'\n",
        "\n",
        "con = duckdb.connect()\n",
        "\n",
        "max_limit = 1589906\n",
        "limit_num = 300000\n",
        "\n",
        "# 1589906 is the total number of binding samples\n",
        "df = con.query(f\"\"\"(SELECT *\n",
        "                        FROM parquet_scan('{train_path}')\n",
        "                        WHERE binds = 0\n",
        "                        ORDER BY random()\n",
        "                        LIMIT {limit_num})\n",
        "                        UNION ALL\n",
        "                        (SELECT *\n",
        "                        FROM parquet_scan('{train_path}')\n",
        "                        WHERE binds = 1\n",
        "                        ORDER BY random()\n",
        "                        LIMIT {limit_num})\"\"\").df()\n",
        "\n",
        "con.close()\n"
      ],
      "metadata": {
        "id": "VRIY2aObfL8u",
        "colab": {
          "base_uri": "https://localhost:8080/",
          "height": 84,
          "referenced_widgets": [
            "cdb161511453475e907027284fb8c4a3",
            "bedcdaaaaacb443ba40779748416caf5",
            "d91621e47f624d219547c253135277fb"
          ]
        },
        "outputId": "6de32d5c-69da-481a-96a3-e0c0ed36257b"
      },
      "execution_count": 109,
      "outputs": [
        {
          "output_type": "display_data",
          "data": {
            "text/plain": [
              "FloatProgress(value=0.0, layout=Layout(width='auto'), style=ProgressStyle(bar_color='black'))"
            ],
            "application/vnd.jupyter.widget-view+json": {
              "version_major": 2,
              "version_minor": 0,
              "model_id": "cdb161511453475e907027284fb8c4a3"
            }
          },
          "metadata": {}
        },
        {
          "output_type": "stream",
          "name": "stdout",
          "text": [
            "CPU times: user 2min 48s, sys: 23.1 s, total: 3min 11s\n",
            "Wall time: 41.9 s\n"
          ]
        }
      ]
    },
    {
      "cell_type": "code",
      "source": [
        "df.head()"
      ],
      "metadata": {
        "id": "SaMSRnLXgnJ4",
        "colab": {
          "base_uri": "https://localhost:8080/",
          "height": 276
        },
        "outputId": "05ce2c10-2a2b-4689-e59e-10e504b92c2b"
      },
      "execution_count": 110,
      "outputs": [
        {
          "output_type": "execute_result",
          "data": {
            "text/plain": [
              "          id                              buildingblock1_smiles  \\\n",
              "0  155902357  O=C(Nc1cc(-n2cccn2)ccc1C(=O)O)OCC1c2ccccc2-c2c...   \n",
              "1  106772301  O=C(N[C@@H](Cc1ccsc1)C(=O)O)OCC1c2ccccc2-c2ccc...   \n",
              "2   82354555      O=C(NCC1CCC(C(=O)O)CC1)OCC1c2ccccc2-c2ccccc21   \n",
              "3  221073730       O=C(Nc1cncc(C(=O)O)n1)OCC1c2ccccc2-c2ccccc21   \n",
              "4  153674833      O=C(Nc1c(I)cccc1C(=O)O)OCC1c2ccccc2-c2ccccc21   \n",
              "\n",
              "           buildingblock2_smiles  buildingblock3_smiles  \\\n",
              "0              CCOC(=O)c1cncnc1N  Cl.NCC1Cc2ccccc2NC1=O   \n",
              "1                   C=C(Cl)CN.Cl       NCc1cc(C(F)F)on1   \n",
              "2  Cl.NCc1ccc(CN2C(=O)CNC2=O)cc1   Cc1cccc(OCCCN)c1C.Cl   \n",
              "3                 Nc1cccc2ocnc12              NC/C=C/Br   \n",
              "4                  CC(F)(F)CN.Cl       COc1cc(C)c(N)cn1   \n",
              "\n",
              "                                     molecule_smiles protein_name  binds  \n",
              "0  CCOC(=O)c1cncnc1Nc1nc(NCC2Cc3ccccc3NC2=O)nc(Nc...          HSA      0  \n",
              "1  C=C(Cl)CNc1nc(NCc2cc(C(F)F)on2)nc(N[C@@H](Cc2c...         BRD4      0  \n",
              "2  Cc1cccc(OCCCNc2nc(NCc3ccc(CN4C(=O)CNC4=O)cc3)n...          HSA      0  \n",
              "3  O=C(N[Dy])c1cncc(Nc2nc(NC/C=C/Br)nc(Nc3cccc4oc...          HSA      0  \n",
              "4  COc1cc(C)c(Nc2nc(NCC(C)(F)F)nc(Nc3c(I)cccc3C(=...          HSA      0  "
            ],
            "text/html": [
              "\n",
              "  <div id=\"df-8ff16f64-f380-4820-8895-a22bed0765ef\" class=\"colab-df-container\">\n",
              "    <div>\n",
              "<style scoped>\n",
              "    .dataframe tbody tr th:only-of-type {\n",
              "        vertical-align: middle;\n",
              "    }\n",
              "\n",
              "    .dataframe tbody tr th {\n",
              "        vertical-align: top;\n",
              "    }\n",
              "\n",
              "    .dataframe thead th {\n",
              "        text-align: right;\n",
              "    }\n",
              "</style>\n",
              "<table border=\"1\" class=\"dataframe\">\n",
              "  <thead>\n",
              "    <tr style=\"text-align: right;\">\n",
              "      <th></th>\n",
              "      <th>id</th>\n",
              "      <th>buildingblock1_smiles</th>\n",
              "      <th>buildingblock2_smiles</th>\n",
              "      <th>buildingblock3_smiles</th>\n",
              "      <th>molecule_smiles</th>\n",
              "      <th>protein_name</th>\n",
              "      <th>binds</th>\n",
              "    </tr>\n",
              "  </thead>\n",
              "  <tbody>\n",
              "    <tr>\n",
              "      <th>0</th>\n",
              "      <td>155902357</td>\n",
              "      <td>O=C(Nc1cc(-n2cccn2)ccc1C(=O)O)OCC1c2ccccc2-c2c...</td>\n",
              "      <td>CCOC(=O)c1cncnc1N</td>\n",
              "      <td>Cl.NCC1Cc2ccccc2NC1=O</td>\n",
              "      <td>CCOC(=O)c1cncnc1Nc1nc(NCC2Cc3ccccc3NC2=O)nc(Nc...</td>\n",
              "      <td>HSA</td>\n",
              "      <td>0</td>\n",
              "    </tr>\n",
              "    <tr>\n",
              "      <th>1</th>\n",
              "      <td>106772301</td>\n",
              "      <td>O=C(N[C@@H](Cc1ccsc1)C(=O)O)OCC1c2ccccc2-c2ccc...</td>\n",
              "      <td>C=C(Cl)CN.Cl</td>\n",
              "      <td>NCc1cc(C(F)F)on1</td>\n",
              "      <td>C=C(Cl)CNc1nc(NCc2cc(C(F)F)on2)nc(N[C@@H](Cc2c...</td>\n",
              "      <td>BRD4</td>\n",
              "      <td>0</td>\n",
              "    </tr>\n",
              "    <tr>\n",
              "      <th>2</th>\n",
              "      <td>82354555</td>\n",
              "      <td>O=C(NCC1CCC(C(=O)O)CC1)OCC1c2ccccc2-c2ccccc21</td>\n",
              "      <td>Cl.NCc1ccc(CN2C(=O)CNC2=O)cc1</td>\n",
              "      <td>Cc1cccc(OCCCN)c1C.Cl</td>\n",
              "      <td>Cc1cccc(OCCCNc2nc(NCc3ccc(CN4C(=O)CNC4=O)cc3)n...</td>\n",
              "      <td>HSA</td>\n",
              "      <td>0</td>\n",
              "    </tr>\n",
              "    <tr>\n",
              "      <th>3</th>\n",
              "      <td>221073730</td>\n",
              "      <td>O=C(Nc1cncc(C(=O)O)n1)OCC1c2ccccc2-c2ccccc21</td>\n",
              "      <td>Nc1cccc2ocnc12</td>\n",
              "      <td>NC/C=C/Br</td>\n",
              "      <td>O=C(N[Dy])c1cncc(Nc2nc(NC/C=C/Br)nc(Nc3cccc4oc...</td>\n",
              "      <td>HSA</td>\n",
              "      <td>0</td>\n",
              "    </tr>\n",
              "    <tr>\n",
              "      <th>4</th>\n",
              "      <td>153674833</td>\n",
              "      <td>O=C(Nc1c(I)cccc1C(=O)O)OCC1c2ccccc2-c2ccccc21</td>\n",
              "      <td>CC(F)(F)CN.Cl</td>\n",
              "      <td>COc1cc(C)c(N)cn1</td>\n",
              "      <td>COc1cc(C)c(Nc2nc(NCC(C)(F)F)nc(Nc3c(I)cccc3C(=...</td>\n",
              "      <td>HSA</td>\n",
              "      <td>0</td>\n",
              "    </tr>\n",
              "  </tbody>\n",
              "</table>\n",
              "</div>\n",
              "    <div class=\"colab-df-buttons\">\n",
              "\n",
              "  <div class=\"colab-df-container\">\n",
              "    <button class=\"colab-df-convert\" onclick=\"convertToInteractive('df-8ff16f64-f380-4820-8895-a22bed0765ef')\"\n",
              "            title=\"Convert this dataframe to an interactive table.\"\n",
              "            style=\"display:none;\">\n",
              "\n",
              "  <svg xmlns=\"http://www.w3.org/2000/svg\" height=\"24px\" viewBox=\"0 -960 960 960\">\n",
              "    <path d=\"M120-120v-720h720v720H120Zm60-500h600v-160H180v160Zm220 220h160v-160H400v160Zm0 220h160v-160H400v160ZM180-400h160v-160H180v160Zm440 0h160v-160H620v160ZM180-180h160v-160H180v160Zm440 0h160v-160H620v160Z\"/>\n",
              "  </svg>\n",
              "    </button>\n",
              "\n",
              "  <style>\n",
              "    .colab-df-container {\n",
              "      display:flex;\n",
              "      gap: 12px;\n",
              "    }\n",
              "\n",
              "    .colab-df-convert {\n",
              "      background-color: #E8F0FE;\n",
              "      border: none;\n",
              "      border-radius: 50%;\n",
              "      cursor: pointer;\n",
              "      display: none;\n",
              "      fill: #1967D2;\n",
              "      height: 32px;\n",
              "      padding: 0 0 0 0;\n",
              "      width: 32px;\n",
              "    }\n",
              "\n",
              "    .colab-df-convert:hover {\n",
              "      background-color: #E2EBFA;\n",
              "      box-shadow: 0px 1px 2px rgba(60, 64, 67, 0.3), 0px 1px 3px 1px rgba(60, 64, 67, 0.15);\n",
              "      fill: #174EA6;\n",
              "    }\n",
              "\n",
              "    .colab-df-buttons div {\n",
              "      margin-bottom: 4px;\n",
              "    }\n",
              "\n",
              "    [theme=dark] .colab-df-convert {\n",
              "      background-color: #3B4455;\n",
              "      fill: #D2E3FC;\n",
              "    }\n",
              "\n",
              "    [theme=dark] .colab-df-convert:hover {\n",
              "      background-color: #434B5C;\n",
              "      box-shadow: 0px 1px 3px 1px rgba(0, 0, 0, 0.15);\n",
              "      filter: drop-shadow(0px 1px 2px rgba(0, 0, 0, 0.3));\n",
              "      fill: #FFFFFF;\n",
              "    }\n",
              "  </style>\n",
              "\n",
              "    <script>\n",
              "      const buttonEl =\n",
              "        document.querySelector('#df-8ff16f64-f380-4820-8895-a22bed0765ef button.colab-df-convert');\n",
              "      buttonEl.style.display =\n",
              "        google.colab.kernel.accessAllowed ? 'block' : 'none';\n",
              "\n",
              "      async function convertToInteractive(key) {\n",
              "        const element = document.querySelector('#df-8ff16f64-f380-4820-8895-a22bed0765ef');\n",
              "        const dataTable =\n",
              "          await google.colab.kernel.invokeFunction('convertToInteractive',\n",
              "                                                    [key], {});\n",
              "        if (!dataTable) return;\n",
              "\n",
              "        const docLinkHtml = 'Like what you see? Visit the ' +\n",
              "          '<a target=\"_blank\" href=https://colab.research.google.com/notebooks/data_table.ipynb>data table notebook</a>'\n",
              "          + ' to learn more about interactive tables.';\n",
              "        element.innerHTML = '';\n",
              "        dataTable['output_type'] = 'display_data';\n",
              "        await google.colab.output.renderOutput(dataTable, element);\n",
              "        const docLink = document.createElement('div');\n",
              "        docLink.innerHTML = docLinkHtml;\n",
              "        element.appendChild(docLink);\n",
              "      }\n",
              "    </script>\n",
              "  </div>\n",
              "\n",
              "\n",
              "<div id=\"df-d670664b-3604-4ecb-a0d9-69f606847aad\">\n",
              "  <button class=\"colab-df-quickchart\" onclick=\"quickchart('df-d670664b-3604-4ecb-a0d9-69f606847aad')\"\n",
              "            title=\"Suggest charts\"\n",
              "            style=\"display:none;\">\n",
              "\n",
              "<svg xmlns=\"http://www.w3.org/2000/svg\" height=\"24px\"viewBox=\"0 0 24 24\"\n",
              "     width=\"24px\">\n",
              "    <g>\n",
              "        <path d=\"M19 3H5c-1.1 0-2 .9-2 2v14c0 1.1.9 2 2 2h14c1.1 0 2-.9 2-2V5c0-1.1-.9-2-2-2zM9 17H7v-7h2v7zm4 0h-2V7h2v10zm4 0h-2v-4h2v4z\"/>\n",
              "    </g>\n",
              "</svg>\n",
              "  </button>\n",
              "\n",
              "<style>\n",
              "  .colab-df-quickchart {\n",
              "      --bg-color: #E8F0FE;\n",
              "      --fill-color: #1967D2;\n",
              "      --hover-bg-color: #E2EBFA;\n",
              "      --hover-fill-color: #174EA6;\n",
              "      --disabled-fill-color: #AAA;\n",
              "      --disabled-bg-color: #DDD;\n",
              "  }\n",
              "\n",
              "  [theme=dark] .colab-df-quickchart {\n",
              "      --bg-color: #3B4455;\n",
              "      --fill-color: #D2E3FC;\n",
              "      --hover-bg-color: #434B5C;\n",
              "      --hover-fill-color: #FFFFFF;\n",
              "      --disabled-bg-color: #3B4455;\n",
              "      --disabled-fill-color: #666;\n",
              "  }\n",
              "\n",
              "  .colab-df-quickchart {\n",
              "    background-color: var(--bg-color);\n",
              "    border: none;\n",
              "    border-radius: 50%;\n",
              "    cursor: pointer;\n",
              "    display: none;\n",
              "    fill: var(--fill-color);\n",
              "    height: 32px;\n",
              "    padding: 0;\n",
              "    width: 32px;\n",
              "  }\n",
              "\n",
              "  .colab-df-quickchart:hover {\n",
              "    background-color: var(--hover-bg-color);\n",
              "    box-shadow: 0 1px 2px rgba(60, 64, 67, 0.3), 0 1px 3px 1px rgba(60, 64, 67, 0.15);\n",
              "    fill: var(--button-hover-fill-color);\n",
              "  }\n",
              "\n",
              "  .colab-df-quickchart-complete:disabled,\n",
              "  .colab-df-quickchart-complete:disabled:hover {\n",
              "    background-color: var(--disabled-bg-color);\n",
              "    fill: var(--disabled-fill-color);\n",
              "    box-shadow: none;\n",
              "  }\n",
              "\n",
              "  .colab-df-spinner {\n",
              "    border: 2px solid var(--fill-color);\n",
              "    border-color: transparent;\n",
              "    border-bottom-color: var(--fill-color);\n",
              "    animation:\n",
              "      spin 1s steps(1) infinite;\n",
              "  }\n",
              "\n",
              "  @keyframes spin {\n",
              "    0% {\n",
              "      border-color: transparent;\n",
              "      border-bottom-color: var(--fill-color);\n",
              "      border-left-color: var(--fill-color);\n",
              "    }\n",
              "    20% {\n",
              "      border-color: transparent;\n",
              "      border-left-color: var(--fill-color);\n",
              "      border-top-color: var(--fill-color);\n",
              "    }\n",
              "    30% {\n",
              "      border-color: transparent;\n",
              "      border-left-color: var(--fill-color);\n",
              "      border-top-color: var(--fill-color);\n",
              "      border-right-color: var(--fill-color);\n",
              "    }\n",
              "    40% {\n",
              "      border-color: transparent;\n",
              "      border-right-color: var(--fill-color);\n",
              "      border-top-color: var(--fill-color);\n",
              "    }\n",
              "    60% {\n",
              "      border-color: transparent;\n",
              "      border-right-color: var(--fill-color);\n",
              "    }\n",
              "    80% {\n",
              "      border-color: transparent;\n",
              "      border-right-color: var(--fill-color);\n",
              "      border-bottom-color: var(--fill-color);\n",
              "    }\n",
              "    90% {\n",
              "      border-color: transparent;\n",
              "      border-bottom-color: var(--fill-color);\n",
              "    }\n",
              "  }\n",
              "</style>\n",
              "\n",
              "  <script>\n",
              "    async function quickchart(key) {\n",
              "      const quickchartButtonEl =\n",
              "        document.querySelector('#' + key + ' button');\n",
              "      quickchartButtonEl.disabled = true;  // To prevent multiple clicks.\n",
              "      quickchartButtonEl.classList.add('colab-df-spinner');\n",
              "      try {\n",
              "        const charts = await google.colab.kernel.invokeFunction(\n",
              "            'suggestCharts', [key], {});\n",
              "      } catch (error) {\n",
              "        console.error('Error during call to suggestCharts:', error);\n",
              "      }\n",
              "      quickchartButtonEl.classList.remove('colab-df-spinner');\n",
              "      quickchartButtonEl.classList.add('colab-df-quickchart-complete');\n",
              "    }\n",
              "    (() => {\n",
              "      let quickchartButtonEl =\n",
              "        document.querySelector('#df-d670664b-3604-4ecb-a0d9-69f606847aad button');\n",
              "      quickchartButtonEl.style.display =\n",
              "        google.colab.kernel.accessAllowed ? 'block' : 'none';\n",
              "    })();\n",
              "  </script>\n",
              "</div>\n",
              "\n",
              "    </div>\n",
              "  </div>\n"
            ],
            "application/vnd.google.colaboratory.intrinsic+json": {
              "type": "dataframe",
              "variable_name": "df"
            }
          },
          "metadata": {},
          "execution_count": 110
        }
      ]
    },
    {
      "cell_type": "code",
      "source": [
        "df.shape"
      ],
      "metadata": {
        "colab": {
          "base_uri": "https://localhost:8080/"
        },
        "id": "XLBBO3CUd1xe",
        "outputId": "ef22f30c-41b7-4e7c-ac00-23e9f80f5b43"
      },
      "execution_count": 111,
      "outputs": [
        {
          "output_type": "execute_result",
          "data": {
            "text/plain": [
              "(600000, 7)"
            ]
          },
          "metadata": {},
          "execution_count": 111
        }
      ]
    },
    {
      "cell_type": "code",
      "source": [
        "df['protein_name'].value_counts(normalize=True).plot(kind='bar')"
      ],
      "metadata": {
        "colab": {
          "base_uri": "https://localhost:8080/",
          "height": 491
        },
        "id": "ujlwMBUFeB_R",
        "outputId": "2633ef2f-cdcf-45d3-dbb8-3f2651c3263e"
      },
      "execution_count": 112,
      "outputs": [
        {
          "output_type": "execute_result",
          "data": {
            "text/plain": [
              "<Axes: xlabel='protein_name'>"
            ]
          },
          "metadata": {},
          "execution_count": 112
        },
        {
          "output_type": "display_data",
          "data": {
            "text/plain": [
              "<Figure size 640x480 with 1 Axes>"
            ],
            "image/png": "[encoded data removed]"
          },
          "metadata": {}
        }
      ]
    },
    {
      "cell_type": "markdown",
      "source": [
        "### Targets\n",
        "\n",
        "**EPHX2 (sEH)**\n",
        "\n",
        "The first target, epoxide hydrolase 2, is encoded by the EPHX2 genetic locus, and its protein product is commonly named “soluble epoxide hydrolase”, or abbreviated to sEH. Hydrolases are enzymes that catalyze certain chemical reactions, and EPHX2/sEH also hydrolyzes certain phosphate groups. EPHX2/sEH is a potential drug target for high blood pressure and diabetes progression, and small molecules inhibiting EPHX2/sEH from earlier DEL efforts made it to clinical trials.\n",
        "\n",
        "EPHX2/sEH was also screened with DELs, and hits predicted with ML approaches, in a recent study but the screening data were not published. We included EPHX2/sEH to allow contestants an external gut check for model performance by comparing to these previously-published results.\n",
        "\n",
        "We screened EPHX2/sEH purchased from Cayman Chemical, a life sciences commercial vendor. For those contestants wishing to incorporate protein structural information in their submissions, the amino sequence is positions 2-555 from UniProt entry [P34913](https://www.uniprot.org/uniprotkb/P34913/entry#sequences), the crystal structure can be found in PDB entry [3i28](https://www.rcsb.org/structure/3i28), and predicted structure can be found in AlphaFold2 entry [34913](https://alphafold.ebi.ac.uk/entry/P34913). Additional EPHX2/sEH crystal structures with ligands bound can be found in PDB."
      ],
      "metadata": {
        "id": "jDSuKf6zB992"
      }
    },
    {
      "cell_type": "code",
      "source": [
        "# import py3Dmol\n",
        "# view = py3Dmol.view(query='pdb:3i38')\n",
        "# view.setStyle({\"cartoon\":{\"color\":\"white\"}})\n",
        "# view.setBackgroundColor(\"black\")\n",
        "# view.show()"
      ],
      "metadata": {
        "id": "jYSc2Vd9CRof"
      },
      "execution_count": 113,
      "outputs": []
    },
    {
      "cell_type": "markdown",
      "source": [
        "**BRD4**\n",
        "\n",
        "The second target, bromodomain 4, is encoded by the BRD4 locus and its protein product is also named BRD4. Bromodomains bind to protein spools in the nucleus that DNA wraps around (called histones) and affect the likelihood that the DNA nearby is going to be transcribed, producing new gene products. Bromodomains play roles in cancer progression and a number of drugs have been discovered to inhibit their activities.\n",
        "\n",
        "BRD4 has been screened with DEL approaches previously but the screening data were not published. We included BRD4 to allow contestants to evaluate candidate molecules for oncology indications.\n",
        "\n",
        "We screened BRD4 purchased from Active Motif, a life sciences commercial vendor. For those contestants wishing to incorporate protein structural information in their submissions, the amino acid sequence is positions 44-460 from UniProt entry [O60885-1](https://www.uniprot.org/uniprotkb/O60885/entry#sequences), the crystal structure (for a single domain) can be found in PDB entry [7USK](https://www.rcsb.org/structure/7USK) and predicted structure can be found in AlphaFold2 entry [O60885](https://alphafold.ebi.ac.uk/entry/O60885\n",
        "). Additional BRD4 crystal structures with ligands bound can be found in PDB."
      ],
      "metadata": {
        "id": "kBRml-yDDA_0"
      }
    },
    {
      "cell_type": "code",
      "source": [
        "# view = py3Dmol.view(query='pdb:7usk')\n",
        "# view.setStyle({\"cartoon\":{\"color\":\"white\"}})\n",
        "# view.setBackgroundColor(\"black\")\n",
        "# view.show()"
      ],
      "metadata": {
        "id": "3hxXSZK9DtTP"
      },
      "execution_count": 114,
      "outputs": []
    },
    {
      "cell_type": "markdown",
      "source": [
        "**ALB (HSA)**\n",
        "\n",
        "\n",
        "The third target, serum albumin, is encoded by the ALB locus and its protein product is also named ALB. The protein product is sometimes abbreviated as HSA, for “human serum albumin”. ALB, the most common protein in the blood, is used to drive osmotic pressure (to bring fluid back from tissues into blood vessels) and to transport many ligands, hormones, fatty acids, and more.\n",
        "\n",
        "Albumin, being the most abundant protein in the blood, often plays a role in absorbing candidate drugs in the body and sequestering them from their target tissues. Adjusting candidate drugs to bind less to albumin and other blood proteins is a strategy to help these candidate drugs be more effective.\n",
        "\n",
        "ALB has been screened with DEL approaches previously but the screening data were not published. We included ALB to allow contestants to build models that might have a larger impact on drug discovery across many disease types. The ability to predict ALB binding well would allow drug developers to improve their candidate small molecule therapies much more quickly than physically manufacturing many variants and testing them against ALB empirically in an iterative process.\n",
        "\n",
        "We screened ALB purchased from Active Motif. For those contestants wishing to incorporate protein structural information in their submissions, the amino acid sequence is positions 25 to 609 from UniProt entry [P02768](https://www.uniprot.org/uniprotkb/P02768/entry#sequences), the crystal structure can be found in PDB entry [1AO6](https://www.ebi.ac.uk/pdbe/entry/pdb/1AO6), and predicted structure can be found in AlphaFold2 entry [P02768](https://alphafold.ebi.ac.uk/entry/P02768). Additional ALB crystal structures with ligands bound can be found in PDB.\n",
        "\n"
      ],
      "metadata": {
        "id": "N5Mf4TRCD9zC"
      }
    },
    {
      "cell_type": "code",
      "source": [
        "# view = py3Dmol.view(query='pdb:1ao6')\n",
        "# view.setStyle({\"cartoon\":{\"color\":\"white\"}})\n",
        "# view.setBackgroundColor(\"black\")\n",
        "# view.show()"
      ],
      "metadata": {
        "id": "nbNO5FNiF1Cj"
      },
      "execution_count": 115,
      "outputs": []
    },
    {
      "cell_type": "code",
      "source": [
        "df['binds'].value_counts()"
      ],
      "metadata": {
        "colab": {
          "base_uri": "https://localhost:8080/"
        },
        "id": "X_bSx8sweJmb",
        "outputId": "f4fee28f-415f-4546-f4c0-3daf02d42871"
      },
      "execution_count": 116,
      "outputs": [
        {
          "output_type": "execute_result",
          "data": {
            "text/plain": [
              "binds\n",
              "0    300000\n",
              "1    300000\n",
              "Name: count, dtype: int64"
            ]
          },
          "metadata": {},
          "execution_count": 116
        }
      ]
    },
    {
      "cell_type": "code",
      "source": [
        "df['buildingblock1_smiles'].value_counts()"
      ],
      "metadata": {
        "id": "r06XBIPxewND",
        "colab": {
          "base_uri": "https://localhost:8080/"
        },
        "outputId": "3549a2dc-ba81-4c2b-86a0-69b4d14f4757"
      },
      "execution_count": 117,
      "outputs": [
        {
          "output_type": "execute_result",
          "data": {
            "text/plain": [
              "buildingblock1_smiles\n",
              "O=C(NCC1CCC(C(=O)O)CC1)OCC1c2ccccc2-c2ccccc21              49919\n",
              "O=C(NC[C@H]1CC[C@H](C(=O)O)CC1)OCC1c2ccccc2-c2ccccc21      32230\n",
              "CC(C)CC(NC(=O)OCC1c2ccccc2-c2ccccc21)C(=O)O                 7813\n",
              "CC(OC(C)(C)C)C(NC(=O)OCC1c2ccccc2-c2ccccc21)C(=O)O          7210\n",
              "O=C(NC(Cc1ccccc1)C(=O)O)OCC1c2ccccc2-c2ccccc21              6774\n",
              "                                                           ...  \n",
              "C=CCC(CC=C)(NC(=O)OCC1c2ccccc2-c2ccccc21)C(=O)O             1128\n",
              "O=C(O)C[C@@H]1CCCN1C(=O)OCC1c2ccccc2-c2ccccc21              1128\n",
              "O=C(Nc1c(C(=O)O)cnn1-c1ccc(F)cc1)OCC1c2ccccc2-c2ccccc21     1118\n",
              "O=C(Nc1c(Br)cc(C(=O)O)cc1Br)OCC1c2ccccc2-c2ccccc21          1095\n",
              "O=C(Nc1cc(Cl)nc(C(=O)O)c1Cl)OCC1c2ccccc2-c2ccccc21          1085\n",
              "Name: count, Length: 271, dtype: int64"
            ]
          },
          "metadata": {},
          "execution_count": 117
        }
      ]
    },
    {
      "cell_type": "code",
      "source": [
        "df['molecule_smiles'].value_counts()"
      ],
      "metadata": {
        "colab": {
          "base_uri": "https://localhost:8080/"
        },
        "id": "UmsalBLjaJDQ",
        "outputId": "5cdb8edc-dde1-4902-a532-5cac0a989599"
      },
      "execution_count": 118,
      "outputs": [
        {
          "output_type": "execute_result",
          "data": {
            "text/plain": [
              "molecule_smiles\n",
              "Cc1cc2cc(CNc3nc(Nc4ccc5cn[nH]c5c4)nc(N[C@H](Cc4ccc(Cl)c(Cl)c4)C(=O)N[Dy])n3)ccc2[nH]1     3\n",
              "Cc1cc2cc(CNc3nc(NCC(C)N4CCC4)nc(NC(C(=O)N[Dy])C(C)OC(C)(C)C)n3)ccc2[nH]1                  3\n",
              "O=C(C[C@H]1CCCN1c1nc(NCc2cncc(F)c2)nc(Nc2ccc(F)cc2F)n1)N[Dy]                              3\n",
              "Cc1cc(CNc2nc(NCc3cncc(F)c3)nc(Nc3ccc(F)c(C(=O)N[Dy])c3F)n2)c(C)o1                         3\n",
              "Cc1ccccc1[C@@H](CC(=O)N[Dy])Nc1nc(NCc2cncc(F)c2)nc(Nc2ccc3nccn3c2)n1                      3\n",
              "                                                                                         ..\n",
              "COc1ccccc1-c1nnc(Nc2nc(NCCC3CCCC3(F)F)nc(N3c4ccccc4C[C@H]3C(=O)N[Dy])n2)s1                1\n",
              "COC(=O)c1cnc(Nc2nc(NCc3nocc3C)nc(N[C@@H](Cc3csc4ccccc34)C(=O)N[Dy])n2)cn1                 1\n",
              "CC(=O)c1ccc(Nc2nc(Nc3cc(=O)n(C)c(=O)[nH]3)nc(Nc3c(Cl)c(Cl)nc(C(=O)N[Dy])c3Cl)n2)c(F)c1    1\n",
              "COC1(CNc2nc(Nc3ccc(F)cc3C#N)nc(N[C@@H](CC(=O)N[Dy])Cc3ccc(Cl)cc3Cl)n2)CCC1                1\n",
              "O=C(N[Dy])c1cc(Nc2nc(NCCN3C(=O)c4ccccc4S3(=O)=O)nc(NCc3cncc(F)c3)n2)ccc1Br                1\n",
              "Name: count, Length: 596230, dtype: int64"
            ]
          },
          "metadata": {},
          "execution_count": 118
        }
      ]
    },
    {
      "cell_type": "code",
      "source": [
        "df[df['binds'] == 1]['buildingblock1_smiles'].value_counts()"
      ],
      "metadata": {
        "colab": {
          "base_uri": "https://localhost:8080/"
        },
        "id": "WFxU9BlQaOPp",
        "outputId": "5a70387b-3a7a-405f-a02e-9103910ca356"
      },
      "execution_count": 119,
      "outputs": [
        {
          "output_type": "execute_result",
          "data": {
            "text/plain": [
              "buildingblock1_smiles\n",
              "O=C(NCC1CCC(C(=O)O)CC1)OCC1c2ccccc2-c2ccccc21             49116\n",
              "O=C(NC[C@H]1CC[C@H](C(=O)O)CC1)OCC1c2ccccc2-c2ccccc21     31284\n",
              "CC(C)CC(NC(=O)OCC1c2ccccc2-c2ccccc21)C(=O)O                6797\n",
              "CC(OC(C)(C)C)C(NC(=O)OCC1c2ccccc2-c2ccccc21)C(=O)O         6124\n",
              "O=C(NC(Cc1ccccc1)C(=O)O)OCC1c2ccccc2-c2ccccc21             5710\n",
              "                                                          ...  \n",
              "O=C(Nc1c(Cl)c(Cl)nc(C(=O)O)c1Cl)OCC1c2ccccc2-c2ccccc21       13\n",
              "O=C(Nc1c(Br)cc(C(=O)O)cc1Br)OCC1c2ccccc2-c2ccccc21            8\n",
              "O=C(Nc1c(Cl)cc(Cl)nc1C(=O)O)OCC1c2ccccc2-c2ccccc21            7\n",
              "O=C(Nc1cc(Cl)nc(C(=O)O)c1Cl)OCC1c2ccccc2-c2ccccc21            7\n",
              "O=C(Nc1cc(Cl)ncc1C(=O)O)OCC1c2ccccc2-c2ccccc21                5\n",
              "Name: count, Length: 271, dtype: int64"
            ]
          },
          "metadata": {},
          "execution_count": 119
        }
      ]
    },
    {
      "cell_type": "code",
      "source": [
        "df.isna().sum()"
      ],
      "metadata": {
        "colab": {
          "base_uri": "https://localhost:8080/"
        },
        "id": "7KVplCyGbohy",
        "outputId": "76bb9988-6904-4d22-d493-106964e3e2a2"
      },
      "execution_count": 120,
      "outputs": [
        {
          "output_type": "execute_result",
          "data": {
            "text/plain": [
              "id                       0\n",
              "buildingblock1_smiles    0\n",
              "buildingblock2_smiles    0\n",
              "buildingblock3_smiles    0\n",
              "molecule_smiles          0\n",
              "protein_name             0\n",
              "binds                    0\n",
              "dtype: int64"
            ]
          },
          "metadata": {},
          "execution_count": 120
        }
      ]
    },
    {
      "cell_type": "code",
      "source": [
        "df[df['binds'] == 1]['protein_name'].value_counts(normalize=True).plot(kind='bar')"
      ],
      "metadata": {
        "colab": {
          "base_uri": "https://localhost:8080/",
          "height": 491
        },
        "id": "HC18jzhAPdGG",
        "outputId": "1f927e67-87d9-4b96-e62d-8543c173869c"
      },
      "execution_count": 121,
      "outputs": [
        {
          "output_type": "execute_result",
          "data": {
            "text/plain": [
              "<Axes: xlabel='protein_name'>"
            ]
          },
          "metadata": {},
          "execution_count": 121
        },
        {
          "output_type": "display_data",
          "data": {
            "text/plain": [
              "<Figure size 640x480 with 1 Axes>"
            ],
            "image/png": "[encoded data removed]"
          },
          "metadata": {}
        }
      ]
    },
    {
      "cell_type": "code",
      "source": [
        "from rdkit import Chem\n",
        "from rdkit.Chem import PandasTools\n",
        "from rdkit import DataStructs\n",
        "from rdkit.Chem import Descriptors\n",
        "from rdkit.Chem.Descriptors import CalcMolDescriptors\n",
        "from rdkit.ML.Descriptors import MoleculeDescriptors\n",
        "from rdkit.Chem import AllChem\n",
        "from mordred import Calculator, descriptors"
      ],
      "metadata": {
        "id": "10dvfQbCLf76"
      },
      "execution_count": 122,
      "outputs": []
    },
    {
      "cell_type": "code",
      "source": [
        "from tqdm.auto import tqdm\n",
        "from rdkit import Chem\n",
        "from rdkit import RDLogger\n",
        "\n",
        "# Suppress RDKit warnings and info messages\n",
        "RDLogger.DisableLog('rdApp.*')\n",
        "\n",
        "# Create canonical smiles to check for duplicates\n",
        "def canonical_smiles(smiles):\n",
        "    mol = Chem.MolFromSmiles(smiles)\n",
        "    if mol is not None:\n",
        "        return Chem.MolToSmiles(mol)\n",
        "    else:\n",
        "        return False\n",
        "\n",
        "# Example usage with a DataFrame column\n",
        "def process_dataframe(df):\n",
        "    canonical_smiles_list = []\n",
        "    for smiles in tqdm(df['molecule_smiles'], desc=\"Processing DataFrame\"):\n",
        "        canonical_smiles_list.append(canonical_smiles(smiles))\n",
        "    df['canonical_smiles'] = canonical_smiles_list\n",
        "    return df\n",
        "\n",
        "# Process the DataFrame\n",
        "df = process_dataframe(df)\n",
        "df.head()"
      ],
      "metadata": {
        "colab": {
          "base_uri": "https://localhost:8080/",
          "height": 345,
          "referenced_widgets": [
            "f979a01993294046814612bfc90efa71",
            "b1db5a287d8a416bb75a838073837df0",
            "8de4a91146334db089321f5cf1ffebcc",
            "800b24fedf7e43c99f835e06a30346d5",
            "2986f90d47534db19130f6c0542c2845",
            "5dd2393b27f347a99349828fafa9dc47",
            "3f812a49f3aa41638e451ed176f5d20e",
            "751cf8675596475d839c5d6f15466902",
            "49d229989f86439697f793cf9710ac97",
            "33da0f863b594255a7843e27f6959d49",
            "87d0e3c03f7143209a1027f820472111"
          ]
        },
        "id": "ps2XeRIH5DHD",
        "outputId": "3ed6ef29-d8f8-4870-e15a-d30907c4abcd"
      },
      "execution_count": 123,
      "outputs": [
        {
          "output_type": "display_data",
          "data": {
            "text/plain": [
              "Processing DataFrame:   0%|          | 0/600000 [00:00<?, ?it/s]"
            ],
            "application/vnd.jupyter.widget-view+json": {
              "version_major": 2,
              "version_minor": 0,
              "model_id": "f979a01993294046814612bfc90efa71"
            }
          },
          "metadata": {}
        },
        {
          "output_type": "execute_result",
          "data": {
            "text/plain": [
              "          id                              buildingblock1_smiles  \\\n",
              "0  155902357  O=C(Nc1cc(-n2cccn2)ccc1C(=O)O)OCC1c2ccccc2-c2c...   \n",
              "1  106772301  O=C(N[C@@H](Cc1ccsc1)C(=O)O)OCC1c2ccccc2-c2ccc...   \n",
              "2   82354555      O=C(NCC1CCC(C(=O)O)CC1)OCC1c2ccccc2-c2ccccc21   \n",
              "3  221073730       O=C(Nc1cncc(C(=O)O)n1)OCC1c2ccccc2-c2ccccc21   \n",
              "4  153674833      O=C(Nc1c(I)cccc1C(=O)O)OCC1c2ccccc2-c2ccccc21   \n",
              "\n",
              "           buildingblock2_smiles  buildingblock3_smiles  \\\n",
              "0              CCOC(=O)c1cncnc1N  Cl.NCC1Cc2ccccc2NC1=O   \n",
              "1                   C=C(Cl)CN.Cl       NCc1cc(C(F)F)on1   \n",
              "2  Cl.NCc1ccc(CN2C(=O)CNC2=O)cc1   Cc1cccc(OCCCN)c1C.Cl   \n",
              "3                 Nc1cccc2ocnc12              NC/C=C/Br   \n",
              "4                  CC(F)(F)CN.Cl       COc1cc(C)c(N)cn1   \n",
              "\n",
              "                                     molecule_smiles protein_name  binds  \\\n",
              "0  CCOC(=O)c1cncnc1Nc1nc(NCC2Cc3ccccc3NC2=O)nc(Nc...          HSA      0   \n",
              "1  C=C(Cl)CNc1nc(NCc2cc(C(F)F)on2)nc(N[C@@H](Cc2c...         BRD4      0   \n",
              "2  Cc1cccc(OCCCNc2nc(NCc3ccc(CN4C(=O)CNC4=O)cc3)n...          HSA      0   \n",
              "3  O=C(N[Dy])c1cncc(Nc2nc(NC/C=C/Br)nc(Nc3cccc4oc...          HSA      0   \n",
              "4  COc1cc(C)c(Nc2nc(NCC(C)(F)F)nc(Nc3c(I)cccc3C(=...          HSA      0   \n",
              "\n",
              "                                    canonical_smiles  \n",
              "0  CCOC(=O)c1cncnc1Nc1nc(NCC2Cc3ccccc3NC2=O)nc(Nc...  \n",
              "1  C=C(Cl)CNc1nc(NCc2cc(C(F)F)on2)nc(N[C@@H](Cc2c...  \n",
              "2  Cc1cccc(OCCCNc2nc(NCc3ccc(CN4C(=O)CNC4=O)cc3)n...  \n",
              "3  O=C(N[Dy])c1cncc(Nc2nc(NC/C=C/Br)nc(Nc3cccc4oc...  \n",
              "4  COc1cc(C)c(Nc2nc(NCC(C)(F)F)nc(Nc3c(I)cccc3C(=...  "
            ],
            "text/html": [
              "\n",
              "  <div id=\"df-b53c8223-06b7-4a25-b66b-59cc1d002429\" class=\"colab-df-container\">\n",
              "    <div>\n",
              "<style scoped>\n",
              "    .dataframe tbody tr th:only-of-type {\n",
              "        vertical-align: middle;\n",
              "    }\n",
              "\n",
              "    .dataframe tbody tr th {\n",
              "        vertical-align: top;\n",
              "    }\n",
              "\n",
              "    .dataframe thead th {\n",
              "        text-align: right;\n",
              "    }\n",
              "</style>\n",
              "<table border=\"1\" class=\"dataframe\">\n",
              "  <thead>\n",
              "    <tr style=\"text-align: right;\">\n",
              "      <th></th>\n",
              "      <th>id</th>\n",
              "      <th>buildingblock1_smiles</th>\n",
              "      <th>buildingblock2_smiles</th>\n",
              "      <th>buildingblock3_smiles</th>\n",
              "      <th>molecule_smiles</th>\n",
              "      <th>protein_name</th>\n",
              "      <th>binds</th>\n",
              "      <th>canonical_smiles</th>\n",
              "    </tr>\n",
              "  </thead>\n",
              "  <tbody>\n",
              "    <tr>\n",
              "      <th>0</th>\n",
              "      <td>155902357</td>\n",
              "      <td>O=C(Nc1cc(-n2cccn2)ccc1C(=O)O)OCC1c2ccccc2-c2c...</td>\n",
              "      <td>CCOC(=O)c1cncnc1N</td>\n",
              "      <td>Cl.NCC1Cc2ccccc2NC1=O</td>\n",
              "      <td>CCOC(=O)c1cncnc1Nc1nc(NCC2Cc3ccccc3NC2=O)nc(Nc...</td>\n",
              "      <td>HSA</td>\n",
              "      <td>0</td>\n",
              "      <td>CCOC(=O)c1cncnc1Nc1nc(NCC2Cc3ccccc3NC2=O)nc(Nc...</td>\n",
              "    </tr>\n",
              "    <tr>\n",
              "      <th>1</th>\n",
              "      <td>106772301</td>\n",
              "      <td>O=C(N[C@@H](Cc1ccsc1)C(=O)O)OCC1c2ccccc2-c2ccc...</td>\n",
              "      <td>C=C(Cl)CN.Cl</td>\n",
              "      <td>NCc1cc(C(F)F)on1</td>\n",
              "      <td>C=C(Cl)CNc1nc(NCc2cc(C(F)F)on2)nc(N[C@@H](Cc2c...</td>\n",
              "      <td>BRD4</td>\n",
              "      <td>0</td>\n",
              "      <td>C=C(Cl)CNc1nc(NCc2cc(C(F)F)on2)nc(N[C@@H](Cc2c...</td>\n",
              "    </tr>\n",
              "    <tr>\n",
              "      <th>2</th>\n",
              "      <td>82354555</td>\n",
              "      <td>O=C(NCC1CCC(C(=O)O)CC1)OCC1c2ccccc2-c2ccccc21</td>\n",
              "      <td>Cl.NCc1ccc(CN2C(=O)CNC2=O)cc1</td>\n",
              "      <td>Cc1cccc(OCCCN)c1C.Cl</td>\n",
              "      <td>Cc1cccc(OCCCNc2nc(NCc3ccc(CN4C(=O)CNC4=O)cc3)n...</td>\n",
              "      <td>HSA</td>\n",
              "      <td>0</td>\n",
              "      <td>Cc1cccc(OCCCNc2nc(NCc3ccc(CN4C(=O)CNC4=O)cc3)n...</td>\n",
              "    </tr>\n",
              "    <tr>\n",
              "      <th>3</th>\n",
              "      <td>221073730</td>\n",
              "      <td>O=C(Nc1cncc(C(=O)O)n1)OCC1c2ccccc2-c2ccccc21</td>\n",
              "      <td>Nc1cccc2ocnc12</td>\n",
              "      <td>NC/C=C/Br</td>\n",
              "      <td>O=C(N[Dy])c1cncc(Nc2nc(NC/C=C/Br)nc(Nc3cccc4oc...</td>\n",
              "      <td>HSA</td>\n",
              "      <td>0</td>\n",
              "      <td>O=C(N[Dy])c1cncc(Nc2nc(NC/C=C/Br)nc(Nc3cccc4oc...</td>\n",
              "    </tr>\n",
              "    <tr>\n",
              "      <th>4</th>\n",
              "      <td>153674833</td>\n",
              "      <td>O=C(Nc1c(I)cccc1C(=O)O)OCC1c2ccccc2-c2ccccc21</td>\n",
              "      <td>CC(F)(F)CN.Cl</td>\n",
              "      <td>COc1cc(C)c(N)cn1</td>\n",
              "      <td>COc1cc(C)c(Nc2nc(NCC(C)(F)F)nc(Nc3c(I)cccc3C(=...</td>\n",
              "      <td>HSA</td>\n",
              "      <td>0</td>\n",
              "      <td>COc1cc(C)c(Nc2nc(NCC(C)(F)F)nc(Nc3c(I)cccc3C(=...</td>\n",
              "    </tr>\n",
              "  </tbody>\n",
              "</table>\n",
              "</div>\n",
              "    <div class=\"colab-df-buttons\">\n",
              "\n",
              "  <div class=\"colab-df-container\">\n",
              "    <button class=\"colab-df-convert\" onclick=\"convertToInteractive('df-b53c8223-06b7-4a25-b66b-59cc1d002429')\"\n",
              "            title=\"Convert this dataframe to an interactive table.\"\n",
              "            style=\"display:none;\">\n",
              "\n",
              "  <svg xmlns=\"http://www.w3.org/2000/svg\" height=\"24px\" viewBox=\"0 -960 960 960\">\n",
              "    <path d=\"M120-120v-720h720v720H120Zm60-500h600v-160H180v160Zm220 220h160v-160H400v160Zm0 220h160v-160H400v160ZM180-400h160v-160H180v160Zm440 0h160v-160H620v160ZM180-180h160v-160H180v160Zm440 0h160v-160H620v160Z\"/>\n",
              "  </svg>\n",
              "    </button>\n",
              "\n",
              "  <style>\n",
              "    .colab-df-container {\n",
              "      display:flex;\n",
              "      gap: 12px;\n",
              "    }\n",
              "\n",
              "    .colab-df-convert {\n",
              "      background-color: #E8F0FE;\n",
              "      border: none;\n",
              "      border-radius: 50%;\n",
              "      cursor: pointer;\n",
              "      display: none;\n",
              "      fill: #1967D2;\n",
              "      height: 32px;\n",
              "      padding: 0 0 0 0;\n",
              "      width: 32px;\n",
              "    }\n",
              "\n",
              "    .colab-df-convert:hover {\n",
              "      background-color: #E2EBFA;\n",
              "      box-shadow: 0px 1px 2px rgba(60, 64, 67, 0.3), 0px 1px 3px 1px rgba(60, 64, 67, 0.15);\n",
              "      fill: #174EA6;\n",
              "    }\n",
              "\n",
              "    .colab-df-buttons div {\n",
              "      margin-bottom: 4px;\n",
              "    }\n",
              "\n",
              "    [theme=dark] .colab-df-convert {\n",
              "      background-color: #3B4455;\n",
              "      fill: #D2E3FC;\n",
              "    }\n",
              "\n",
              "    [theme=dark] .colab-df-convert:hover {\n",
              "      background-color: #434B5C;\n",
              "      box-shadow: 0px 1px 3px 1px rgba(0, 0, 0, 0.15);\n",
              "      filter: drop-shadow(0px 1px 2px rgba(0, 0, 0, 0.3));\n",
              "      fill: #FFFFFF;\n",
              "    }\n",
              "  </style>\n",
              "\n",
              "    <script>\n",
              "      const buttonEl =\n",
              "        document.querySelector('#df-b53c8223-06b7-4a25-b66b-59cc1d002429 button.colab-df-convert');\n",
              "      buttonEl.style.display =\n",
              "        google.colab.kernel.accessAllowed ? 'block' : 'none';\n",
              "\n",
              "      async function convertToInteractive(key) {\n",
              "        const element = document.querySelector('#df-b53c8223-06b7-4a25-b66b-59cc1d002429');\n",
              "        const dataTable =\n",
              "          await google.colab.kernel.invokeFunction('convertToInteractive',\n",
              "                                                    [key], {});\n",
              "        if (!dataTable) return;\n",
              "\n",
              "        const docLinkHtml = 'Like what you see? Visit the ' +\n",
              "          '<a target=\"_blank\" href=https://colab.research.google.com/notebooks/data_table.ipynb>data table notebook</a>'\n",
              "          + ' to learn more about interactive tables.';\n",
              "        element.innerHTML = '';\n",
              "        dataTable['output_type'] = 'display_data';\n",
              "        await google.colab.output.renderOutput(dataTable, element);\n",
              "        const docLink = document.createElement('div');\n",
              "        docLink.innerHTML = docLinkHtml;\n",
              "        element.appendChild(docLink);\n",
              "      }\n",
              "    </script>\n",
              "  </div>\n",
              "\n",
              "\n",
              "<div id=\"df-bdc0a292-d9b7-4534-a787-9095a18b05b9\">\n",
              "  <button class=\"colab-df-quickchart\" onclick=\"quickchart('df-bdc0a292-d9b7-4534-a787-9095a18b05b9')\"\n",
              "            title=\"Suggest charts\"\n",
              "            style=\"display:none;\">\n",
              "\n",
              "<svg xmlns=\"http://www.w3.org/2000/svg\" height=\"24px\"viewBox=\"0 0 24 24\"\n",
              "     width=\"24px\">\n",
              "    <g>\n",
              "        <path d=\"M19 3H5c-1.1 0-2 .9-2 2v14c0 1.1.9 2 2 2h14c1.1 0 2-.9 2-2V5c0-1.1-.9-2-2-2zM9 17H7v-7h2v7zm4 0h-2V7h2v10zm4 0h-2v-4h2v4z\"/>\n",
              "    </g>\n",
              "</svg>\n",
              "  </button>\n",
              "\n",
              "<style>\n",
              "  .colab-df-quickchart {\n",
              "      --bg-color: #E8F0FE;\n",
              "      --fill-color: #1967D2;\n",
              "      --hover-bg-color: #E2EBFA;\n",
              "      --hover-fill-color: #174EA6;\n",
              "      --disabled-fill-color: #AAA;\n",
              "      --disabled-bg-color: #DDD;\n",
              "  }\n",
              "\n",
              "  [theme=dark] .colab-df-quickchart {\n",
              "      --bg-color: #3B4455;\n",
              "      --fill-color: #D2E3FC;\n",
              "      --hover-bg-color: #434B5C;\n",
              "      --hover-fill-color: #FFFFFF;\n",
              "      --disabled-bg-color: #3B4455;\n",
              "      --disabled-fill-color: #666;\n",
              "  }\n",
              "\n",
              "  .colab-df-quickchart {\n",
              "    background-color: var(--bg-color);\n",
              "    border: none;\n",
              "    border-radius: 50%;\n",
              "    cursor: pointer;\n",
              "    display: none;\n",
              "    fill: var(--fill-color);\n",
              "    height: 32px;\n",
              "    padding: 0;\n",
              "    width: 32px;\n",
              "  }\n",
              "\n",
              "  .colab-df-quickchart:hover {\n",
              "    background-color: var(--hover-bg-color);\n",
              "    box-shadow: 0 1px 2px rgba(60, 64, 67, 0.3), 0 1px 3px 1px rgba(60, 64, 67, 0.15);\n",
              "    fill: var(--button-hover-fill-color);\n",
              "  }\n",
              "\n",
              "  .colab-df-quickchart-complete:disabled,\n",
              "  .colab-df-quickchart-complete:disabled:hover {\n",
              "    background-color: var(--disabled-bg-color);\n",
              "    fill: var(--disabled-fill-color);\n",
              "    box-shadow: none;\n",
              "  }\n",
              "\n",
              "  .colab-df-spinner {\n",
              "    border: 2px solid var(--fill-color);\n",
              "    border-color: transparent;\n",
              "    border-bottom-color: var(--fill-color);\n",
              "    animation:\n",
              "      spin 1s steps(1) infinite;\n",
              "  }\n",
              "\n",
              "  @keyframes spin {\n",
              "    0% {\n",
              "      border-color: transparent;\n",
              "      border-bottom-color: var(--fill-color);\n",
              "      border-left-color: var(--fill-color);\n",
              "    }\n",
              "    20% {\n",
              "      border-color: transparent;\n",
              "      border-left-color: var(--fill-color);\n",
              "      border-top-color: var(--fill-color);\n",
              "    }\n",
              "    30% {\n",
              "      border-color: transparent;\n",
              "      border-left-color: var(--fill-color);\n",
              "      border-top-color: var(--fill-color);\n",
              "      border-right-color: var(--fill-color);\n",
              "    }\n",
              "    40% {\n",
              "      border-color: transparent;\n",
              "      border-right-color: var(--fill-color);\n",
              "      border-top-color: var(--fill-color);\n",
              "    }\n",
              "    60% {\n",
              "      border-color: transparent;\n",
              "      border-right-color: var(--fill-color);\n",
              "    }\n",
              "    80% {\n",
              "      border-color: transparent;\n",
              "      border-right-color: var(--fill-color);\n",
              "      border-bottom-color: var(--fill-color);\n",
              "    }\n",
              "    90% {\n",
              "      border-color: transparent;\n",
              "      border-bottom-color: var(--fill-color);\n",
              "    }\n",
              "  }\n",
              "</style>\n",
              "\n",
              "  <script>\n",
              "    async function quickchart(key) {\n",
              "      const quickchartButtonEl =\n",
              "        document.querySelector('#' + key + ' button');\n",
              "      quickchartButtonEl.disabled = true;  // To prevent multiple clicks.\n",
              "      quickchartButtonEl.classList.add('colab-df-spinner');\n",
              "      try {\n",
              "        const charts = await google.colab.kernel.invokeFunction(\n",
              "            'suggestCharts', [key], {});\n",
              "      } catch (error) {\n",
              "        console.error('Error during call to suggestCharts:', error);\n",
              "      }\n",
              "      quickchartButtonEl.classList.remove('colab-df-spinner');\n",
              "      quickchartButtonEl.classList.add('colab-df-quickchart-complete');\n",
              "    }\n",
              "    (() => {\n",
              "      let quickchartButtonEl =\n",
              "        document.querySelector('#df-bdc0a292-d9b7-4534-a787-9095a18b05b9 button');\n",
              "      quickchartButtonEl.style.display =\n",
              "        google.colab.kernel.accessAllowed ? 'block' : 'none';\n",
              "    })();\n",
              "  </script>\n",
              "</div>\n",
              "\n",
              "    </div>\n",
              "  </div>\n"
            ],
            "application/vnd.google.colaboratory.intrinsic+json": {
              "type": "dataframe",
              "variable_name": "df"
            }
          },
          "metadata": {},
          "execution_count": 123
        }
      ]
    },
    {
      "cell_type": "code",
      "source": [
        "df = df.drop_duplicates(subset=['canonical_smiles','protein_name'], keep='first')"
      ],
      "metadata": {
        "id": "lY40fcJsPq3G"
      },
      "execution_count": 126,
      "outputs": []
    },
    {
      "cell_type": "code",
      "source": [
        "df['canonical_smiles_len'] = df['canonical_smiles'].apply(len)\n",
        "df['canonical_smiles_len'].hist()"
      ],
      "metadata": {
        "colab": {
          "base_uri": "https://localhost:8080/",
          "height": 447
        },
        "id": "4AkhsMgwFaOA",
        "outputId": "b7262e30-0bfa-4422-db72-5d9b8cddb060"
      },
      "execution_count": 127,
      "outputs": [
        {
          "output_type": "execute_result",
          "data": {
            "text/plain": [
              "<Axes: >"
            ]
          },
          "metadata": {},
          "execution_count": 127
        },
        {
          "output_type": "display_data",
          "data": {
            "text/plain": [
              "<Figure size 640x480 with 1 Axes>"
            ],
            "image/png": "[encoded data removed]"
          },
          "metadata": {}
        }
      ]
    },
    {
      "cell_type": "code",
      "source": [
        "import torch\n",
        "from transformers import AutoModelForSequenceClassification, AutoTokenizer\n",
        "import pandas as pd\n",
        "from torch.utils.data import Dataset, DataLoader\n",
        "from torch.nn.utils.rnn import pad_sequence\n",
        "from sklearn.model_selection import train_test_split\n",
        "import torch.nn.functional as F\n",
        "from tqdm import tqdm\n",
        "import os\n",
        "\n",
        "# Hyperparameters\n",
        "epochs = 30\n",
        "batch_size = 256\n",
        "learning_rate = 1e-4\n",
        "\n",
        "# Define the device\n",
        "device = torch.device('cuda' if torch.cuda.is_available() else 'cpu')\n",
        "\n",
        "# Load the tokenizer and model\n",
        "tokenizer = AutoTokenizer.from_pretrained(\"DeepChem/ChemBERTa-77M-MTR\")\n",
        "model = AutoModelForSequenceClassification.from_pretrained(\"DeepChem/ChemBERTa-77M-MTR\", num_labels=2).to(device)\n",
        "\n",
        "model_save_dir = \"/content/drive/MyDrive/models/chembert_BELKA\"\n",
        "\n",
        "os.makedirs(model_save_dir, exist_ok=True)\n",
        "\n",
        "model_save_path = os.path.join(model_save_dir, 'best_model.pth')\n",
        "\n",
        "# Define a custom dataset class\n",
        "class SMILESDataset(Dataset):\n",
        "    def __init__(self, dataframe, tokenizer):\n",
        "        self.dataframe = dataframe\n",
        "        self.tokenizer = tokenizer\n",
        "\n",
        "    def __len__(self):\n",
        "        return len(self.dataframe)\n",
        "\n",
        "    def __getitem__(self, idx):\n",
        "        smiles = self.dataframe.iloc[idx]['canonical_smiles']\n",
        "        label = self.dataframe.iloc[idx]['binds']\n",
        "        return smiles, label\n",
        "\n",
        "    def collate_fn(self, batch):\n",
        "        # Tokenize and convert to tensors\n",
        "        tokenized_batch = [self.tokenizer.encode(smiles, add_special_tokens=True) for smiles, _ in batch]\n",
        "        padded_batch = pad_sequence([torch.tensor(tokens) for tokens in tokenized_batch],\n",
        "                                    batch_first=True, padding_value=self.tokenizer.pad_token_id)\n",
        "\n",
        "        labels = torch.tensor([label for _, label in batch], dtype=torch.long)\n",
        "\n",
        "        return padded_batch, labels\n",
        "\n",
        "# Split the data into training and validation sets\n",
        "train_df, test_df = train_test_split(df, test_size=0.2)\n",
        "\n",
        "# Create datasets and data loaders\n",
        "train_dataset = SMILESDataset(train_df, tokenizer)\n",
        "val_dataset = SMILESDataset(test_df, tokenizer)\n",
        "train_loader = DataLoader(train_dataset, batch_size=batch_size, shuffle=True, collate_fn=train_dataset.collate_fn)\n",
        "val_loader = DataLoader(val_dataset, batch_size=batch_size, shuffle=False, collate_fn=val_dataset.collate_fn)\n",
        "\n",
        "# Define the optimizer and loss function\n",
        "optimizer = torch.optim.AdamW(model.parameters(), lr=learning_rate)\n",
        "scheduler = torch.optim.lr_scheduler.ReduceLROnPlateau(optimizer, 'min', factor=0.8, patience=1, verbose=True)\n",
        "loss_fn = torch.nn.CrossEntropyLoss()\n",
        "\n",
        "# Training and validation loop\n",
        "\n",
        "train_losses = []\n",
        "val_losses = []\n",
        "train_acc = []\n",
        "val_acc = []\n",
        "\n",
        "best_epoch = 0\n",
        "best_val_loss = float('inf')\n",
        "best_val_acc = 0\n",
        "\n",
        "for epoch in tqdm(range(epochs)):\n",
        "\n",
        "    train_loss = 0\n",
        "    train_correct = 0\n",
        "    train_count = 0\n",
        "\n",
        "    model.train()\n",
        "    for inputs, labels in train_loader:\n",
        "\n",
        "        inputs = inputs.to(device)\n",
        "        labels = labels.to(device)\n",
        "        attention_mask = (inputs != tokenizer.pad_token_id).type(torch.long).to(device)\n",
        "\n",
        "        optimizer.zero_grad()\n",
        "\n",
        "        outputs = model(input_ids=inputs, attention_mask=attention_mask)\n",
        "        logits = outputs.logits  # Shape: [batch_size, num_labels]\n",
        "\n",
        "        loss = loss_fn(logits, labels)\n",
        "        loss.backward()\n",
        "        optimizer.step()\n",
        "\n",
        "        train_loss += loss.item()\n",
        "\n",
        "        preds = torch.argmax(logits, dim=1)\n",
        "        train_correct += (preds == labels).sum().item()\n",
        "        train_count += labels.size(0)\n",
        "\n",
        "    avg_train_loss = train_loss / train_count\n",
        "    train_losses.append(avg_train_loss)\n",
        "    train_accuracy = train_correct / train_count\n",
        "    train_acc.append(train_accuracy)\n",
        "\n",
        "    # Evaluation loop\n",
        "    val_loss = 0\n",
        "    val_correct = 0\n",
        "    val_count = 0\n",
        "    true_labels = []\n",
        "    pred_labels = []\n",
        "\n",
        "    model.eval()\n",
        "    with torch.no_grad():\n",
        "        for inputs, labels in val_loader:\n",
        "            inputs = inputs.to(device)\n",
        "            labels = labels.to(device)\n",
        "            attention_mask = (inputs != tokenizer.pad_token_id).type(torch.long).to(device)\n",
        "\n",
        "            outputs = model(input_ids=inputs, attention_mask=attention_mask)\n",
        "            logits = outputs.logits  # Shape: [batch_size, num_labels]\n",
        "\n",
        "            loss = loss_fn(logits, labels)\n",
        "            val_loss += loss.item()\n",
        "\n",
        "            preds = torch.argmax(logits, dim=1)\n",
        "            val_correct += (preds == labels).sum().item()\n",
        "            val_count += labels.size(0)\n",
        "\n",
        "            true_labels.extend(labels.cpu().numpy())\n",
        "            pred_labels.extend(preds.cpu().numpy())\n",
        "\n",
        "    avg_val_loss = val_loss / val_count\n",
        "    val_losses.append(avg_val_loss)\n",
        "    val_accuracy = val_correct / val_count\n",
        "    val_acc.append(val_accuracy)\n",
        "\n",
        "    if avg_val_loss < best_val_loss:\n",
        "      best_val_loss = avg_val_loss\n",
        "      best_epoch = epoch\n",
        "      best_val_acc = val_accuracy\n",
        "      torch.save(model.state_dict(), model_save_path)\n",
        "\n",
        "    scheduler.step(avg_val_loss)\n",
        "\n",
        "    print(f'Epoch: {epoch + 1}/{epochs}')\n",
        "    print(f'Train Loss: {avg_train_loss:.4f}')\n",
        "    print(f'Train Accuracy: {train_accuracy:.4f}')\n",
        "    print(f'Validation Loss: {avg_val_loss:.4f}')\n",
        "    print(f'Validation Accuracy: {val_accuracy:.4f}')\n"
      ],
      "metadata": {
        "colab": {
          "base_uri": "https://localhost:8080/"
        },
        "id": "ej8tD98YCd2F",
        "outputId": "28ee89a7-8951-4f75-e8d4-187c259d83b8"
      },
      "execution_count": 128,
      "outputs": [
        {
          "output_type": "stream",
          "name": "stderr",
          "text": [
            "Some weights of RobertaForSequenceClassification were not initialized from the model checkpoint at DeepChem/ChemBERTa-77M-MTR and are newly initialized: ['classifier.dense.bias', 'classifier.dense.weight', 'classifier.out_proj.bias', 'classifier.out_proj.weight']\n",
            "You should probably TRAIN this model on a down-stream task to be able to use it for predictions and inference.\n",
            "/usr/local/lib/python3.10/dist-packages/torch/optim/lr_scheduler.py:28: UserWarning: The verbose parameter is deprecated. Please use get_last_lr() to access the learning rate.\n",
            "  warnings.warn(\"The verbose parameter is deprecated. Please use get_last_lr() \"\n",
            "  3%|▎         | 1/30 [09:13<4:27:30, 553.48s/it]"
          ]
        },
        {
          "output_type": "stream",
          "name": "stdout",
          "text": [
            "Epoch: 1/30\n",
            "Train Loss: 0.0014\n",
            "Train Accuracy: 0.8426\n",
            "Validation Loss: 0.0012\n",
            "Validation Accuracy: 0.8709\n"
          ]
        },
        {
          "output_type": "stream",
          "name": "stderr",
          "text": [
            "\r  7%|▋         | 2/30 [18:29<4:18:57, 554.90s/it]"
          ]
        },
        {
          "output_type": "stream",
          "name": "stdout",
          "text": [
            "Epoch: 2/30\n",
            "Train Loss: 0.0012\n",
            "Train Accuracy: 0.8748\n",
            "Validation Loss: 0.0011\n",
            "Validation Accuracy: 0.8821\n"
          ]
        },
        {
          "output_type": "stream",
          "name": "stderr",
          "text": [
            "\r 10%|█         | 3/30 [27:46<4:10:09, 555.89s/it]"
          ]
        },
        {
          "output_type": "stream",
          "name": "stdout",
          "text": [
            "Epoch: 3/30\n",
            "Train Loss: 0.0011\n",
            "Train Accuracy: 0.8818\n",
            "Validation Loss: 0.0012\n",
            "Validation Accuracy: 0.8801\n"
          ]
        },
        {
          "output_type": "stream",
          "name": "stderr",
          "text": [
            "\r 13%|█▎        | 4/30 [37:01<4:00:48, 555.71s/it]"
          ]
        },
        {
          "output_type": "stream",
          "name": "stdout",
          "text": [
            "Epoch: 4/30\n",
            "Train Loss: 0.0011\n",
            "Train Accuracy: 0.8864\n",
            "Validation Loss: 0.0011\n",
            "Validation Accuracy: 0.8887\n"
          ]
        },
        {
          "output_type": "stream",
          "name": "stderr",
          "text": [
            "\r 17%|█▋        | 5/30 [46:17<3:51:34, 555.77s/it]"
          ]
        },
        {
          "output_type": "stream",
          "name": "stdout",
          "text": [
            "Epoch: 5/30\n",
            "Train Loss: 0.0011\n",
            "Train Accuracy: 0.8903\n",
            "Validation Loss: 0.0011\n",
            "Validation Accuracy: 0.8880\n"
          ]
        },
        {
          "output_type": "stream",
          "name": "stderr",
          "text": [
            "\r 20%|██        | 6/30 [55:31<3:42:05, 555.22s/it]"
          ]
        },
        {
          "output_type": "stream",
          "name": "stdout",
          "text": [
            "Epoch: 6/30\n",
            "Train Loss: 0.0010\n",
            "Train Accuracy: 0.8926\n",
            "Validation Loss: 0.0010\n",
            "Validation Accuracy: 0.8933\n"
          ]
        },
        {
          "output_type": "stream",
          "name": "stderr",
          "text": [
            "\r 23%|██▎       | 7/30 [1:04:45<3:32:40, 554.81s/it]"
          ]
        },
        {
          "output_type": "stream",
          "name": "stdout",
          "text": [
            "Epoch: 7/30\n",
            "Train Loss: 0.0010\n",
            "Train Accuracy: 0.8948\n",
            "Validation Loss: 0.0011\n",
            "Validation Accuracy: 0.8913\n"
          ]
        },
        {
          "output_type": "stream",
          "name": "stderr",
          "text": [
            "\r 27%|██▋       | 8/30 [1:13:58<3:23:10, 554.12s/it]"
          ]
        },
        {
          "output_type": "stream",
          "name": "stdout",
          "text": [
            "Epoch: 8/30\n",
            "Train Loss: 0.0010\n",
            "Train Accuracy: 0.8969\n",
            "Validation Loss: 0.0010\n",
            "Validation Accuracy: 0.8962\n"
          ]
        },
        {
          "output_type": "stream",
          "name": "stderr",
          "text": [
            "\r 30%|███       | 9/30 [1:23:16<3:14:21, 555.32s/it]"
          ]
        },
        {
          "output_type": "stream",
          "name": "stdout",
          "text": [
            "Epoch: 9/30\n",
            "Train Loss: 0.0010\n",
            "Train Accuracy: 0.8991\n",
            "Validation Loss: 0.0010\n",
            "Validation Accuracy: 0.8958\n"
          ]
        },
        {
          "output_type": "stream",
          "name": "stderr",
          "text": [
            "\r 33%|███▎      | 10/30 [1:32:31<3:05:03, 555.17s/it]"
          ]
        },
        {
          "output_type": "stream",
          "name": "stdout",
          "text": [
            "Epoch: 10/30\n",
            "Train Loss: 0.0010\n",
            "Train Accuracy: 0.9003\n",
            "Validation Loss: 0.0010\n",
            "Validation Accuracy: 0.8929\n"
          ]
        },
        {
          "output_type": "stream",
          "name": "stderr",
          "text": [
            "\r 37%|███▋      | 11/30 [1:41:46<2:55:49, 555.22s/it]"
          ]
        },
        {
          "output_type": "stream",
          "name": "stdout",
          "text": [
            "Epoch: 11/30\n",
            "Train Loss: 0.0010\n",
            "Train Accuracy: 0.9022\n",
            "Validation Loss: 0.0010\n",
            "Validation Accuracy: 0.8974\n"
          ]
        },
        {
          "output_type": "stream",
          "name": "stderr",
          "text": [
            "\r 40%|████      | 12/30 [1:51:02<2:46:36, 555.35s/it]"
          ]
        },
        {
          "output_type": "stream",
          "name": "stdout",
          "text": [
            "Epoch: 12/30\n",
            "Train Loss: 0.0009\n",
            "Train Accuracy: 0.9029\n",
            "Validation Loss: 0.0010\n",
            "Validation Accuracy: 0.8982\n"
          ]
        },
        {
          "output_type": "stream",
          "name": "stderr",
          "text": [
            "\r 43%|████▎     | 13/30 [2:00:19<2:37:28, 555.79s/it]"
          ]
        },
        {
          "output_type": "stream",
          "name": "stdout",
          "text": [
            "Epoch: 13/30\n",
            "Train Loss: 0.0009\n",
            "Train Accuracy: 0.9040\n",
            "Validation Loss: 0.0010\n",
            "Validation Accuracy: 0.8999\n"
          ]
        },
        {
          "output_type": "stream",
          "name": "stderr",
          "text": [
            "\r 47%|████▋     | 14/30 [2:09:37<2:28:23, 556.47s/it]"
          ]
        },
        {
          "output_type": "stream",
          "name": "stdout",
          "text": [
            "Epoch: 14/30\n",
            "Train Loss: 0.0009\n",
            "Train Accuracy: 0.9046\n",
            "Validation Loss: 0.0010\n",
            "Validation Accuracy: 0.8997\n"
          ]
        },
        {
          "output_type": "stream",
          "name": "stderr",
          "text": [
            "\r 50%|█████     | 15/30 [2:18:55<2:19:15, 557.01s/it]"
          ]
        },
        {
          "output_type": "stream",
          "name": "stdout",
          "text": [
            "Epoch: 15/30\n",
            "Train Loss: 0.0009\n",
            "Train Accuracy: 0.9056\n",
            "Validation Loss: 0.0010\n",
            "Validation Accuracy: 0.8997\n"
          ]
        },
        {
          "output_type": "stream",
          "name": "stderr",
          "text": [
            "\r 53%|█████▎    | 16/30 [2:28:11<2:09:55, 556.80s/it]"
          ]
        },
        {
          "output_type": "stream",
          "name": "stdout",
          "text": [
            "Epoch: 16/30\n",
            "Train Loss: 0.0009\n",
            "Train Accuracy: 0.9064\n",
            "Validation Loss: 0.0010\n",
            "Validation Accuracy: 0.8996\n"
          ]
        },
        {
          "output_type": "stream",
          "name": "stderr",
          "text": [
            "\r 57%|█████▋    | 17/30 [2:37:28<2:00:38, 556.79s/it]"
          ]
        },
        {
          "output_type": "stream",
          "name": "stdout",
          "text": [
            "Epoch: 17/30\n",
            "Train Loss: 0.0009\n",
            "Train Accuracy: 0.9080\n",
            "Validation Loss: 0.0010\n",
            "Validation Accuracy: 0.9004\n"
          ]
        },
        {
          "output_type": "stream",
          "name": "stderr",
          "text": [
            "\r 60%|██████    | 18/30 [2:46:48<1:51:33, 557.80s/it]"
          ]
        },
        {
          "output_type": "stream",
          "name": "stdout",
          "text": [
            "Epoch: 18/30\n",
            "Train Loss: 0.0009\n",
            "Train Accuracy: 0.9084\n",
            "Validation Loss: 0.0010\n",
            "Validation Accuracy: 0.9020\n"
          ]
        },
        {
          "output_type": "stream",
          "name": "stderr",
          "text": [
            "\r 63%|██████▎   | 19/30 [2:56:08<1:42:24, 558.58s/it]"
          ]
        },
        {
          "output_type": "stream",
          "name": "stdout",
          "text": [
            "Epoch: 19/30\n",
            "Train Loss: 0.0009\n",
            "Train Accuracy: 0.9091\n",
            "Validation Loss: 0.0010\n",
            "Validation Accuracy: 0.9008\n"
          ]
        },
        {
          "output_type": "stream",
          "name": "stderr",
          "text": [
            "\r 67%|██████▋   | 20/30 [3:05:27<1:33:06, 558.65s/it]"
          ]
        },
        {
          "output_type": "stream",
          "name": "stdout",
          "text": [
            "Epoch: 20/30\n",
            "Train Loss: 0.0009\n",
            "Train Accuracy: 0.9095\n",
            "Validation Loss: 0.0010\n",
            "Validation Accuracy: 0.9026\n"
          ]
        },
        {
          "output_type": "stream",
          "name": "stderr",
          "text": [
            "\r 70%|███████   | 21/30 [3:14:44<1:23:42, 558.02s/it]"
          ]
        },
        {
          "output_type": "stream",
          "name": "stdout",
          "text": [
            "Epoch: 21/30\n",
            "Train Loss: 0.0009\n",
            "Train Accuracy: 0.9102\n",
            "Validation Loss: 0.0010\n",
            "Validation Accuracy: 0.9021\n"
          ]
        },
        {
          "output_type": "stream",
          "name": "stderr",
          "text": [
            "\r 73%|███████▎  | 22/30 [3:24:03<1:14:26, 558.30s/it]"
          ]
        },
        {
          "output_type": "stream",
          "name": "stdout",
          "text": [
            "Epoch: 22/30\n",
            "Train Loss: 0.0009\n",
            "Train Accuracy: 0.9113\n",
            "Validation Loss: 0.0010\n",
            "Validation Accuracy: 0.9030\n"
          ]
        },
        {
          "output_type": "stream",
          "name": "stderr",
          "text": [
            "\r 77%|███████▋  | 23/30 [3:33:21<1:05:07, 558.26s/it]"
          ]
        },
        {
          "output_type": "stream",
          "name": "stdout",
          "text": [
            "Epoch: 23/30\n",
            "Train Loss: 0.0009\n",
            "Train Accuracy: 0.9113\n",
            "Validation Loss: 0.0010\n",
            "Validation Accuracy: 0.9026\n"
          ]
        },
        {
          "output_type": "stream",
          "name": "stderr",
          "text": [
            "\r 80%|████████  | 24/30 [3:42:42<55:54, 559.09s/it]  "
          ]
        },
        {
          "output_type": "stream",
          "name": "stdout",
          "text": [
            "Epoch: 24/30\n",
            "Train Loss: 0.0009\n",
            "Train Accuracy: 0.9116\n",
            "Validation Loss: 0.0010\n",
            "Validation Accuracy: 0.9025\n"
          ]
        },
        {
          "output_type": "stream",
          "name": "stderr",
          "text": [
            "\r 83%|████████▎ | 25/30 [3:52:00<46:33, 558.66s/it]"
          ]
        },
        {
          "output_type": "stream",
          "name": "stdout",
          "text": [
            "Epoch: 25/30\n",
            "Train Loss: 0.0009\n",
            "Train Accuracy: 0.9128\n",
            "Validation Loss: 0.0010\n",
            "Validation Accuracy: 0.9026\n"
          ]
        },
        {
          "output_type": "stream",
          "name": "stderr",
          "text": [
            "\r 87%|████████▋ | 26/30 [4:01:18<37:14, 558.52s/it]"
          ]
        },
        {
          "output_type": "stream",
          "name": "stdout",
          "text": [
            "Epoch: 26/30\n",
            "Train Loss: 0.0009\n",
            "Train Accuracy: 0.9130\n",
            "Validation Loss: 0.0010\n",
            "Validation Accuracy: 0.8999\n"
          ]
        },
        {
          "output_type": "stream",
          "name": "stderr",
          "text": [
            "\r 90%|█████████ | 27/30 [4:10:34<27:53, 557.76s/it]"
          ]
        },
        {
          "output_type": "stream",
          "name": "stdout",
          "text": [
            "Epoch: 27/30\n",
            "Train Loss: 0.0008\n",
            "Train Accuracy: 0.9140\n",
            "Validation Loss: 0.0010\n",
            "Validation Accuracy: 0.9010\n"
          ]
        },
        {
          "output_type": "stream",
          "name": "stderr",
          "text": [
            "\r 93%|█████████▎| 28/30 [4:19:49<18:34, 557.07s/it]"
          ]
        },
        {
          "output_type": "stream",
          "name": "stdout",
          "text": [
            "Epoch: 28/30\n",
            "Train Loss: 0.0008\n",
            "Train Accuracy: 0.9138\n",
            "Validation Loss: 0.0010\n",
            "Validation Accuracy: 0.9023\n"
          ]
        },
        {
          "output_type": "stream",
          "name": "stderr",
          "text": [
            "\r 97%|█████████▋| 29/30 [4:29:05<09:16, 556.54s/it]"
          ]
        },
        {
          "output_type": "stream",
          "name": "stdout",
          "text": [
            "Epoch: 29/30\n",
            "Train Loss: 0.0008\n",
            "Train Accuracy: 0.9145\n",
            "Validation Loss: 0.0010\n",
            "Validation Accuracy: 0.9025\n"
          ]
        },
        {
          "output_type": "stream",
          "name": "stderr",
          "text": [
            "100%|██████████| 30/30 [4:38:18<00:00, 556.61s/it]"
          ]
        },
        {
          "output_type": "stream",
          "name": "stdout",
          "text": [
            "Epoch: 30/30\n",
            "Train Loss: 0.0008\n",
            "Train Accuracy: 0.9147\n",
            "Validation Loss: 0.0010\n",
            "Validation Accuracy: 0.9019\n"
          ]
        },
        {
          "output_type": "stream",
          "name": "stderr",
          "text": [
            "\n"
          ]
        }
      ]
    },
    {
      "cell_type": "code",
      "source": [
        "import matplotlib.pyplot as plt\n",
        "import numpy as np\n",
        "plt.plot(np.arange(1, epochs+1), train_losses, c='r',label='Training Loss')\n",
        "plt.plot(np.arange(1, epochs+1), val_losses, c='b', label='Validation Loss')\n",
        "plt.legend()\n",
        "plt.title(\"Losses\")\n",
        "plt.show()\n",
        "\n",
        "plt.plot(np.arange(1, epochs+1), train_acc, c='r',label='Training Accuracy')\n",
        "plt.plot(np.arange(1, epochs+1), val_acc, c='b', label='Validation Accuracy')\n",
        "plt.legend()\n",
        "plt.title(\"Accuracy\")\n",
        "plt.show()"
      ],
      "metadata": {
        "colab": {
          "base_uri": "https://localhost:8080/",
          "height": 887
        },
        "id": "KojyeKBLQRoo",
        "outputId": "9df36653-ab83-4039-9781-5c0745c4a3ee"
      },
      "execution_count": 104,
      "outputs": [
        {
          "output_type": "display_data",
          "data": {
            "text/plain": [
              "<Figure size 640x480 with 1 Axes>"
            ],
            "image/png": "[encoded data removed]"
          },
          "metadata": {}
        },
        {
          "output_type": "display_data",
          "data": {
            "text/plain": [
              "<Figure size 640x480 with 1 Axes>"
            ],
            "image/png": "[encoded data removed]"
          },
          "metadata": {}
        }
      ]
    },
    {
      "cell_type": "code",
      "source": [
        "from sklearn.metrics import confusion_matrix, classification_report\n",
        "import seaborn as sns\n",
        "conf_matrix = confusion_matrix(true_labels, pred_labels)\n",
        "sns.heatmap(conf_matrix, annot=True, fmt='d')\n",
        "plt.title('Confusion Matrix')\n",
        "plt.show()\n",
        "print(classification_report(true_labels, pred_labels))"
      ],
      "metadata": {
        "colab": {
          "base_uri": "https://localhost:8080/",
          "height": 608
        },
        "id": "_oqC6pYNKuMM",
        "outputId": "ad9dccbe-c83d-4659-ea68-7c44a531e77e"
      },
      "execution_count": 108,
      "outputs": [
        {
          "output_type": "display_data",
          "data": {
            "text/plain": [
              "<Figure size 640x480 with 2 Axes>"
            ],
            "image/png": "[encoded data removed]"
          },
          "metadata": {}
        },
        {
          "output_type": "stream",
          "name": "stdout",
          "text": [
            "              precision    recall  f1-score   support\n",
            "\n",
            "           0       0.90      0.83      0.87      6068\n",
            "           1       0.84      0.91      0.87      5924\n",
            "\n",
            "    accuracy                           0.87     11992\n",
            "   macro avg       0.87      0.87      0.87     11992\n",
            "weighted avg       0.87      0.87      0.87     11992\n",
            "\n"
          ]
        }
      ]
    },
    {
      "cell_type": "code",
      "source": [
        "from datetime import datetime\n",
        "model.load_state_dict(torch.load(model_save_path))\n",
        "current_date = datetime.now().strftime(\"%Y%m%d_%H\")\n",
        "model_filename = f\"model_{best_val_acc:.4f}acc_{best_val_loss:.4f}loss_{epochs}epochs_{learning_rate}lr_{batch_size}batch_{current_date}.pth\"\n",
        "new_model_save_path = os.path.join(model_save_dir, model_filename)\n",
        "torch.save(model.state_dict(), new_model_save_path)"
      ],
      "metadata": {
        "id": "u_Uc-svw6z0s"
      },
      "execution_count": 107,
      "outputs": []
    },
    {
      "cell_type": "code",
      "source": [],
      "metadata": {
        "id": "Uc4B6nVcVEgD"
      },
      "execution_count": null,
      "outputs": []
    }
  ]
}