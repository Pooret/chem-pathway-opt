{
  "nbformat": 4,
  "nbformat_minor": 0,
  "metadata": {
    "colab": {
      "provenance": [],
      "machine_shape": "hm",
      "authorship_tag": "ABX9TyPnTen66iV6HT3gVrYuOs5n",
      "include_colab_link": true
    },
    "kernelspec": {
      "name": "python3",
      "display_name": "Python 3"
    },
    "language_info": {
      "name": "python"
    }
  },
  "cells": [
    {
      "cell_type": "markdown",
      "metadata": {
        "id": "view-in-github",
        "colab_type": "text"
      },
      "source": [
        "<a href=\"https://colab.research.google.com/github/Pooret/drug-discovery-ml/blob/main/batched_de_novo_drug_generation_with_RNNs.ipynb\" target=\"_parent\"><img src=\"https://colab.research.google.com/assets/colab-badge.svg\" alt=\"Open In Colab\"/></a>"
      ]
    },
    {
      "cell_type": "code",
      "source": [
        "!pip install rdkit"
      ],
      "metadata": {
        "colab": {
          "base_uri": "https://localhost:8080/"
        },
        "id": "l7B4MKbyv4oN",
        "outputId": "34074a10-8952-4934-83cd-9d62200c8398"
      },
      "execution_count": null,
      "outputs": [
        {
          "output_type": "stream",
          "name": "stdout",
          "text": [
            "Collecting rdkit\n",
            "  Downloading rdkit-2023.9.4-cp310-cp310-manylinux_2_17_x86_64.manylinux2014_x86_64.whl (34.4 MB)\n",
            "\u001b[2K     \u001b[90m━━━━━━━━━━━━━━━━━━━━━━━━━━━━━━━━━━━━━━━━\u001b[0m \u001b[32m34.4/34.4 MB\u001b[0m \u001b[31m36.4 MB/s\u001b[0m eta \u001b[36m0:00:00\u001b[0m\n",
            "\u001b[?25hRequirement already satisfied: numpy in /usr/local/lib/python3.10/dist-packages (from rdkit) (1.23.5)\n",
            "Requirement already satisfied: Pillow in /usr/local/lib/python3.10/dist-packages (from rdkit) (9.4.0)\n",
            "Installing collected packages: rdkit\n",
            "Successfully installed rdkit-2023.9.4\n"
          ]
        }
      ]
    },
    {
      "cell_type": "code",
      "execution_count": null,
      "metadata": {
        "id": "NtVjTpvDf22D"
      },
      "outputs": [],
      "source": [
        "import pandas as pd\n",
        "import numpy as np\n",
        "from tqdm import tqdm\n",
        "\n",
        "import ast\n",
        "\n",
        "from sklearn.model_selection import train_test_split\n",
        "import tensorflow as tf\n",
        "from tensorflow import keras\n",
        "from tensorflow.keras import layers\n",
        "from keras.utils import to_categorical\n",
        "from keras.models import Sequential\n",
        "from keras.layers import LSTM, Dense, Dropout\n",
        "from keras.callbacks import ModelCheckpoint\n",
        "\n",
        "import matplotlib.pyplot as plt\n",
        "from rdkit import Chem, RDLogger\n",
        "from rdkit.Chem import BondType, Draw\n",
        "from rdkit.Chem.Draw import MolsToGridImage\n",
        "\n"
      ]
    },
    {
      "cell_type": "code",
      "source": [
        "from google.colab import drive\n",
        "drive.mount('/content/drive')"
      ],
      "metadata": {
        "colab": {
          "base_uri": "https://localhost:8080/"
        },
        "id": "iQrf3BexX9Qw",
        "outputId": "708e5e15-694f-405b-d163-ab7ebcfc3204"
      },
      "execution_count": null,
      "outputs": [
        {
          "output_type": "stream",
          "name": "stdout",
          "text": [
            "Mounted at /content/drive\n"
          ]
        }
      ]
    },
    {
      "cell_type": "code",
      "source": [
        "!tar -xzf /content/drive/MyDrive/Datasets/chemdata/Chembl_33_db/chembl_33_data.tar.gz -C /content/"
      ],
      "metadata": {
        "colab": {
          "base_uri": "https://localhost:8080/"
        },
        "id": "l6ymRMmTgAM7",
        "outputId": "69e573d5-c65e-484f-c734-31602028dc98"
      },
      "execution_count": null,
      "outputs": [
        {
          "output_type": "stream",
          "name": "stdout",
          "text": [
            "tar: Ignoring unknown extended header keyword 'LIBARCHIVE.xattr.com.apple.quarantine'\n",
            "tar: Ignoring unknown extended header keyword 'LIBARCHIVE.xattr.com.apple.provenance'\n",
            "tar: Ignoring unknown extended header keyword 'LIBARCHIVE.xattr.com.apple.metadata:kMDItemWhereFroms'\n",
            "tar: Ignoring unknown extended header keyword 'LIBARCHIVE.xattr.com.apple.macl'\n"
          ]
        }
      ]
    },
    {
      "cell_type": "markdown",
      "source": [
        "### [ChEMBLdb](https://ftp.ebi.ac.uk/pub/databases/chembl/ChEMBLdb/latest/)"
      ],
      "metadata": {
        "id": "jHb88y05T_tj"
      }
    },
    {
      "cell_type": "code",
      "source": [
        "df_full = pd.read_csv(\"/content/data.csv\")\n",
        "df_full.head()"
      ],
      "metadata": {
        "colab": {
          "base_uri": "https://localhost:8080/",
          "height": 342
        },
        "id": "3FuV7QdanEf4",
        "outputId": "fecf65f4-b30e-4e7d-a7c3-466a6281a646"
      },
      "execution_count": null,
      "outputs": [
        {
          "output_type": "execute_result",
          "data": {
            "text/plain": [
              "   molregno                                   canonical_smiles  activity_id  \\\n",
              "0        10  c1cc2cc(c1)-c1cccc(c1)C[n+]1ccc(c3ccccc31)NCCC...       492214   \n",
              "1        23                   O=C1O/C(=C/Br)CCC1c1cccc2ccccc12     14394768   \n",
              "2        24                    O=C1O/C(=C/I)CCC1c1cccc2ccccc12       294832   \n",
              "3        25                C#C/C=C1\\CCC(c2cccc3ccccc23)C(=O)O1       280316   \n",
              "4        26                    O=C1O/C(=C\\I)CCC1c1cccc2ccccc12       271844   \n",
              "\n",
              "  standard_type  standard_value standard_units  assay_id     tid  \\\n",
              "0          IC50           110.0             nM    200081  104828   \n",
              "1       Potency         73078.0             nM   1301803  104173   \n",
              "2          IC50            30.0             nM    156048   11934   \n",
              "3          IC50            95.0             nM    156048   11934   \n",
              "4          IC50           190.0             nM    156048   11934   \n",
              "\n",
              "  target_chembl_id            organism  ... qed_weighted  mw_monoisotopic  \\\n",
              "0       CHEMBL2547   Rattus norvegicus  ...         0.17         606.3712   \n",
              "1       CHEMBL6152  Trypanosoma brucei  ...         0.72         316.0099   \n",
              "2       CHEMBL3213        Homo sapiens  ...         0.55         363.9960   \n",
              "3       CHEMBL3213        Homo sapiens  ...         0.58         262.0994   \n",
              "4       CHEMBL3213        Homo sapiens  ...         0.55         363.9960   \n",
              "\n",
              "   hba_lipinski  hbd_lipinski  num_lipinski_ro5_violations  np_likeness_score  \\\n",
              "0           4.0           2.0                          2.0               0.13   \n",
              "1           2.0           0.0                          0.0               0.52   \n",
              "2           2.0           0.0                          0.0               0.49   \n",
              "3           2.0           0.0                          0.0               0.52   \n",
              "4           2.0           0.0                          0.0               0.49   \n",
              "\n",
              "     bei    le   lle    sei  \n",
              "0    NaN   NaN   NaN    NaN  \n",
              "1  21.61  0.49  2.35  26.06  \n",
              "2  20.66  0.54  2.98  28.60  \n",
              "3  26.77  0.48  3.24  26.70  \n",
              "4  18.46  0.48  2.18  25.56  \n",
              "\n",
              "[5 rows x 38 columns]"
            ],
            "text/html": [
              "\n",
              "  <div id=\"df-f89ff338-d567-4151-8a8c-5ded7dea2a20\" class=\"colab-df-container\">\n",
              "    <div>\n",
              "<style scoped>\n",
              "    .dataframe tbody tr th:only-of-type {\n",
              "        vertical-align: middle;\n",
              "    }\n",
              "\n",
              "    .dataframe tbody tr th {\n",
              "        vertical-align: top;\n",
              "    }\n",
              "\n",
              "    .dataframe thead th {\n",
              "        text-align: right;\n",
              "    }\n",
              "</style>\n",
              "<table border=\"1\" class=\"dataframe\">\n",
              "  <thead>\n",
              "    <tr style=\"text-align: right;\">\n",
              "      <th></th>\n",
              "      <th>molregno</th>\n",
              "      <th>canonical_smiles</th>\n",
              "      <th>activity_id</th>\n",
              "      <th>standard_type</th>\n",
              "      <th>standard_value</th>\n",
              "      <th>standard_units</th>\n",
              "      <th>assay_id</th>\n",
              "      <th>tid</th>\n",
              "      <th>target_chembl_id</th>\n",
              "      <th>organism</th>\n",
              "      <th>...</th>\n",
              "      <th>qed_weighted</th>\n",
              "      <th>mw_monoisotopic</th>\n",
              "      <th>hba_lipinski</th>\n",
              "      <th>hbd_lipinski</th>\n",
              "      <th>num_lipinski_ro5_violations</th>\n",
              "      <th>np_likeness_score</th>\n",
              "      <th>bei</th>\n",
              "      <th>le</th>\n",
              "      <th>lle</th>\n",
              "      <th>sei</th>\n",
              "    </tr>\n",
              "  </thead>\n",
              "  <tbody>\n",
              "    <tr>\n",
              "      <th>0</th>\n",
              "      <td>10</td>\n",
              "      <td>c1cc2cc(c1)-c1cccc(c1)C[n+]1ccc(c3ccccc31)NCCC...</td>\n",
              "      <td>492214</td>\n",
              "      <td>IC50</td>\n",
              "      <td>110.0</td>\n",
              "      <td>nM</td>\n",
              "      <td>200081</td>\n",
              "      <td>104828</td>\n",
              "      <td>CHEMBL2547</td>\n",
              "      <td>Rattus norvegicus</td>\n",
              "      <td>...</td>\n",
              "      <td>0.17</td>\n",
              "      <td>606.3712</td>\n",
              "      <td>4.0</td>\n",
              "      <td>2.0</td>\n",
              "      <td>2.0</td>\n",
              "      <td>0.13</td>\n",
              "      <td>NaN</td>\n",
              "      <td>NaN</td>\n",
              "      <td>NaN</td>\n",
              "      <td>NaN</td>\n",
              "    </tr>\n",
              "    <tr>\n",
              "      <th>1</th>\n",
              "      <td>23</td>\n",
              "      <td>O=C1O/C(=C/Br)CCC1c1cccc2ccccc12</td>\n",
              "      <td>14394768</td>\n",
              "      <td>Potency</td>\n",
              "      <td>73078.0</td>\n",
              "      <td>nM</td>\n",
              "      <td>1301803</td>\n",
              "      <td>104173</td>\n",
              "      <td>CHEMBL6152</td>\n",
              "      <td>Trypanosoma brucei</td>\n",
              "      <td>...</td>\n",
              "      <td>0.72</td>\n",
              "      <td>316.0099</td>\n",
              "      <td>2.0</td>\n",
              "      <td>0.0</td>\n",
              "      <td>0.0</td>\n",
              "      <td>0.52</td>\n",
              "      <td>21.61</td>\n",
              "      <td>0.49</td>\n",
              "      <td>2.35</td>\n",
              "      <td>26.06</td>\n",
              "    </tr>\n",
              "    <tr>\n",
              "      <th>2</th>\n",
              "      <td>24</td>\n",
              "      <td>O=C1O/C(=C/I)CCC1c1cccc2ccccc12</td>\n",
              "      <td>294832</td>\n",
              "      <td>IC50</td>\n",
              "      <td>30.0</td>\n",
              "      <td>nM</td>\n",
              "      <td>156048</td>\n",
              "      <td>11934</td>\n",
              "      <td>CHEMBL3213</td>\n",
              "      <td>Homo sapiens</td>\n",
              "      <td>...</td>\n",
              "      <td>0.55</td>\n",
              "      <td>363.9960</td>\n",
              "      <td>2.0</td>\n",
              "      <td>0.0</td>\n",
              "      <td>0.0</td>\n",
              "      <td>0.49</td>\n",
              "      <td>20.66</td>\n",
              "      <td>0.54</td>\n",
              "      <td>2.98</td>\n",
              "      <td>28.60</td>\n",
              "    </tr>\n",
              "    <tr>\n",
              "      <th>3</th>\n",
              "      <td>25</td>\n",
              "      <td>C#C/C=C1\\CCC(c2cccc3ccccc23)C(=O)O1</td>\n",
              "      <td>280316</td>\n",
              "      <td>IC50</td>\n",
              "      <td>95.0</td>\n",
              "      <td>nM</td>\n",
              "      <td>156048</td>\n",
              "      <td>11934</td>\n",
              "      <td>CHEMBL3213</td>\n",
              "      <td>Homo sapiens</td>\n",
              "      <td>...</td>\n",
              "      <td>0.58</td>\n",
              "      <td>262.0994</td>\n",
              "      <td>2.0</td>\n",
              "      <td>0.0</td>\n",
              "      <td>0.0</td>\n",
              "      <td>0.52</td>\n",
              "      <td>26.77</td>\n",
              "      <td>0.48</td>\n",
              "      <td>3.24</td>\n",
              "      <td>26.70</td>\n",
              "    </tr>\n",
              "    <tr>\n",
              "      <th>4</th>\n",
              "      <td>26</td>\n",
              "      <td>O=C1O/C(=C\\I)CCC1c1cccc2ccccc12</td>\n",
              "      <td>271844</td>\n",
              "      <td>IC50</td>\n",
              "      <td>190.0</td>\n",
              "      <td>nM</td>\n",
              "      <td>156048</td>\n",
              "      <td>11934</td>\n",
              "      <td>CHEMBL3213</td>\n",
              "      <td>Homo sapiens</td>\n",
              "      <td>...</td>\n",
              "      <td>0.55</td>\n",
              "      <td>363.9960</td>\n",
              "      <td>2.0</td>\n",
              "      <td>0.0</td>\n",
              "      <td>0.0</td>\n",
              "      <td>0.49</td>\n",
              "      <td>18.46</td>\n",
              "      <td>0.48</td>\n",
              "      <td>2.18</td>\n",
              "      <td>25.56</td>\n",
              "    </tr>\n",
              "  </tbody>\n",
              "</table>\n",
              "<p>5 rows × 38 columns</p>\n",
              "</div>\n",
              "    <div class=\"colab-df-buttons\">\n",
              "\n",
              "  <div class=\"colab-df-container\">\n",
              "    <button class=\"colab-df-convert\" onclick=\"convertToInteractive('df-f89ff338-d567-4151-8a8c-5ded7dea2a20')\"\n",
              "            title=\"Convert this dataframe to an interactive table.\"\n",
              "            style=\"display:none;\">\n",
              "\n",
              "  <svg xmlns=\"http://www.w3.org/2000/svg\" height=\"24px\" viewBox=\"0 -960 960 960\">\n",
              "    <path d=\"M120-120v-720h720v720H120Zm60-500h600v-160H180v160Zm220 220h160v-160H400v160Zm0 220h160v-160H400v160ZM180-400h160v-160H180v160Zm440 0h160v-160H620v160ZM180-180h160v-160H180v160Zm440 0h160v-160H620v160Z\"/>\n",
              "  </svg>\n",
              "    </button>\n",
              "\n",
              "  <style>\n",
              "    .colab-df-container {\n",
              "      display:flex;\n",
              "      gap: 12px;\n",
              "    }\n",
              "\n",
              "    .colab-df-convert {\n",
              "      background-color: #E8F0FE;\n",
              "      border: none;\n",
              "      border-radius: 50%;\n",
              "      cursor: pointer;\n",
              "      display: none;\n",
              "      fill: #1967D2;\n",
              "      height: 32px;\n",
              "      padding: 0 0 0 0;\n",
              "      width: 32px;\n",
              "    }\n",
              "\n",
              "    .colab-df-convert:hover {\n",
              "      background-color: #E2EBFA;\n",
              "      box-shadow: 0px 1px 2px rgba(60, 64, 67, 0.3), 0px 1px 3px 1px rgba(60, 64, 67, 0.15);\n",
              "      fill: #174EA6;\n",
              "    }\n",
              "\n",
              "    .colab-df-buttons div {\n",
              "      margin-bottom: 4px;\n",
              "    }\n",
              "\n",
              "    [theme=dark] .colab-df-convert {\n",
              "      background-color: #3B4455;\n",
              "      fill: #D2E3FC;\n",
              "    }\n",
              "\n",
              "    [theme=dark] .colab-df-convert:hover {\n",
              "      background-color: #434B5C;\n",
              "      box-shadow: 0px 1px 3px 1px rgba(0, 0, 0, 0.15);\n",
              "      filter: drop-shadow(0px 1px 2px rgba(0, 0, 0, 0.3));\n",
              "      fill: #FFFFFF;\n",
              "    }\n",
              "  </style>\n",
              "\n",
              "    <script>\n",
              "      const buttonEl =\n",
              "        document.querySelector('#df-f89ff338-d567-4151-8a8c-5ded7dea2a20 button.colab-df-convert');\n",
              "      buttonEl.style.display =\n",
              "        google.colab.kernel.accessAllowed ? 'block' : 'none';\n",
              "\n",
              "      async function convertToInteractive(key) {\n",
              "        const element = document.querySelector('#df-f89ff338-d567-4151-8a8c-5ded7dea2a20');\n",
              "        const dataTable =\n",
              "          await google.colab.kernel.invokeFunction('convertToInteractive',\n",
              "                                                    [key], {});\n",
              "        if (!dataTable) return;\n",
              "\n",
              "        const docLinkHtml = 'Like what you see? Visit the ' +\n",
              "          '<a target=\"_blank\" href=https://colab.research.google.com/notebooks/data_table.ipynb>data table notebook</a>'\n",
              "          + ' to learn more about interactive tables.';\n",
              "        element.innerHTML = '';\n",
              "        dataTable['output_type'] = 'display_data';\n",
              "        await google.colab.output.renderOutput(dataTable, element);\n",
              "        const docLink = document.createElement('div');\n",
              "        docLink.innerHTML = docLinkHtml;\n",
              "        element.appendChild(docLink);\n",
              "      }\n",
              "    </script>\n",
              "  </div>\n",
              "\n",
              "\n",
              "<div id=\"df-c7364f93-92b2-4ada-a086-c4901755291a\">\n",
              "  <button class=\"colab-df-quickchart\" onclick=\"quickchart('df-c7364f93-92b2-4ada-a086-c4901755291a')\"\n",
              "            title=\"Suggest charts\"\n",
              "            style=\"display:none;\">\n",
              "\n",
              "<svg xmlns=\"http://www.w3.org/2000/svg\" height=\"24px\"viewBox=\"0 0 24 24\"\n",
              "     width=\"24px\">\n",
              "    <g>\n",
              "        <path d=\"M19 3H5c-1.1 0-2 .9-2 2v14c0 1.1.9 2 2 2h14c1.1 0 2-.9 2-2V5c0-1.1-.9-2-2-2zM9 17H7v-7h2v7zm4 0h-2V7h2v10zm4 0h-2v-4h2v4z\"/>\n",
              "    </g>\n",
              "</svg>\n",
              "  </button>\n",
              "\n",
              "<style>\n",
              "  .colab-df-quickchart {\n",
              "      --bg-color: #E8F0FE;\n",
              "      --fill-color: #1967D2;\n",
              "      --hover-bg-color: #E2EBFA;\n",
              "      --hover-fill-color: #174EA6;\n",
              "      --disabled-fill-color: #AAA;\n",
              "      --disabled-bg-color: #DDD;\n",
              "  }\n",
              "\n",
              "  [theme=dark] .colab-df-quickchart {\n",
              "      --bg-color: #3B4455;\n",
              "      --fill-color: #D2E3FC;\n",
              "      --hover-bg-color: #434B5C;\n",
              "      --hover-fill-color: #FFFFFF;\n",
              "      --disabled-bg-color: #3B4455;\n",
              "      --disabled-fill-color: #666;\n",
              "  }\n",
              "\n",
              "  .colab-df-quickchart {\n",
              "    background-color: var(--bg-color);\n",
              "    border: none;\n",
              "    border-radius: 50%;\n",
              "    cursor: pointer;\n",
              "    display: none;\n",
              "    fill: var(--fill-color);\n",
              "    height: 32px;\n",
              "    padding: 0;\n",
              "    width: 32px;\n",
              "  }\n",
              "\n",
              "  .colab-df-quickchart:hover {\n",
              "    background-color: var(--hover-bg-color);\n",
              "    box-shadow: 0 1px 2px rgba(60, 64, 67, 0.3), 0 1px 3px 1px rgba(60, 64, 67, 0.15);\n",
              "    fill: var(--button-hover-fill-color);\n",
              "  }\n",
              "\n",
              "  .colab-df-quickchart-complete:disabled,\n",
              "  .colab-df-quickchart-complete:disabled:hover {\n",
              "    background-color: var(--disabled-bg-color);\n",
              "    fill: var(--disabled-fill-color);\n",
              "    box-shadow: none;\n",
              "  }\n",
              "\n",
              "  .colab-df-spinner {\n",
              "    border: 2px solid var(--fill-color);\n",
              "    border-color: transparent;\n",
              "    border-bottom-color: var(--fill-color);\n",
              "    animation:\n",
              "      spin 1s steps(1) infinite;\n",
              "  }\n",
              "\n",
              "  @keyframes spin {\n",
              "    0% {\n",
              "      border-color: transparent;\n",
              "      border-bottom-color: var(--fill-color);\n",
              "      border-left-color: var(--fill-color);\n",
              "    }\n",
              "    20% {\n",
              "      border-color: transparent;\n",
              "      border-left-color: var(--fill-color);\n",
              "      border-top-color: var(--fill-color);\n",
              "    }\n",
              "    30% {\n",
              "      border-color: transparent;\n",
              "      border-left-color: var(--fill-color);\n",
              "      border-top-color: var(--fill-color);\n",
              "      border-right-color: var(--fill-color);\n",
              "    }\n",
              "    40% {\n",
              "      border-color: transparent;\n",
              "      border-right-color: var(--fill-color);\n",
              "      border-top-color: var(--fill-color);\n",
              "    }\n",
              "    60% {\n",
              "      border-color: transparent;\n",
              "      border-right-color: var(--fill-color);\n",
              "    }\n",
              "    80% {\n",
              "      border-color: transparent;\n",
              "      border-right-color: var(--fill-color);\n",
              "      border-bottom-color: var(--fill-color);\n",
              "    }\n",
              "    90% {\n",
              "      border-color: transparent;\n",
              "      border-bottom-color: var(--fill-color);\n",
              "    }\n",
              "  }\n",
              "</style>\n",
              "\n",
              "  <script>\n",
              "    async function quickchart(key) {\n",
              "      const quickchartButtonEl =\n",
              "        document.querySelector('#' + key + ' button');\n",
              "      quickchartButtonEl.disabled = true;  // To prevent multiple clicks.\n",
              "      quickchartButtonEl.classList.add('colab-df-spinner');\n",
              "      try {\n",
              "        const charts = await google.colab.kernel.invokeFunction(\n",
              "            'suggestCharts', [key], {});\n",
              "      } catch (error) {\n",
              "        console.error('Error during call to suggestCharts:', error);\n",
              "      }\n",
              "      quickchartButtonEl.classList.remove('colab-df-spinner');\n",
              "      quickchartButtonEl.classList.add('colab-df-quickchart-complete');\n",
              "    }\n",
              "    (() => {\n",
              "      let quickchartButtonEl =\n",
              "        document.querySelector('#df-c7364f93-92b2-4ada-a086-c4901755291a button');\n",
              "      quickchartButtonEl.style.display =\n",
              "        google.colab.kernel.accessAllowed ? 'block' : 'none';\n",
              "    })();\n",
              "  </script>\n",
              "</div>\n",
              "\n",
              "    </div>\n",
              "  </div>\n"
            ]
          },
          "metadata": {},
          "execution_count": 5
        }
      ]
    },
    {
      "cell_type": "code",
      "source": [
        "df_full.info()"
      ],
      "metadata": {
        "colab": {
          "base_uri": "https://localhost:8080/"
        },
        "id": "90o6EaX7nRg4",
        "outputId": "81a71857-59ff-426c-bcf3-9b3e5e7a8e37"
      },
      "execution_count": null,
      "outputs": [
        {
          "output_type": "stream",
          "name": "stdout",
          "text": [
            "<class 'pandas.core.frame.DataFrame'>\n",
            "RangeIndex: 1000000 entries, 0 to 999999\n",
            "Data columns (total 38 columns):\n",
            " #   Column                       Non-Null Count    Dtype  \n",
            "---  ------                       --------------    -----  \n",
            " 0   molregno                     1000000 non-null  int64  \n",
            " 1   canonical_smiles             1000000 non-null  object \n",
            " 2   activity_id                  1000000 non-null  int64  \n",
            " 3   standard_type                1000000 non-null  object \n",
            " 4   standard_value               996526 non-null   float64\n",
            " 5   standard_units               1000000 non-null  object \n",
            " 6   assay_id                     1000000 non-null  int64  \n",
            " 7   tid                          1000000 non-null  int64  \n",
            " 8   target_chembl_id             1000000 non-null  object \n",
            " 9   organism                     965456 non-null   object \n",
            " 10  pref_name                    1000000 non-null  object \n",
            " 11  mw_freebase                  1000000 non-null  float64\n",
            " 12  alogp                        984990 non-null   float64\n",
            " 13  hba                          984990 non-null   float64\n",
            " 14  hbd                          984990 non-null   float64\n",
            " 15  psa                          984990 non-null   float64\n",
            " 16  rtb                          984990 non-null   float64\n",
            " 17  ro3_pass                     984990 non-null   object \n",
            " 18  num_ro5_violations           984990 non-null   float64\n",
            " 19  cx_most_apka                 575001 non-null   float64\n",
            " 20  cx_most_bpka                 588810 non-null   float64\n",
            " 21  cx_logp                      984898 non-null   float64\n",
            " 22  cx_logd                      984898 non-null   float64\n",
            " 23  molecular_species            975026 non-null   object \n",
            " 24  full_molformula              1000000 non-null  object \n",
            " 25  full_mwt                     1000000 non-null  float64\n",
            " 26  aromatic_rings               984990 non-null   float64\n",
            " 27  heavy_atoms                  984990 non-null   float64\n",
            " 28  qed_weighted                 984990 non-null   float64\n",
            " 29  mw_monoisotopic              1000000 non-null  float64\n",
            " 30  hba_lipinski                 984990 non-null   float64\n",
            " 31  hbd_lipinski                 984990 non-null   float64\n",
            " 32  num_lipinski_ro5_violations  984990 non-null   float64\n",
            " 33  np_likeness_score            984990 non-null   float64\n",
            " 34  bei                          406687 non-null   float64\n",
            " 35  le                           400402 non-null   float64\n",
            " 36  lle                          400323 non-null   float64\n",
            " 37  sei                          400128 non-null   float64\n",
            "dtypes: float64(25), int64(4), object(9)\n",
            "memory usage: 289.9+ MB\n"
          ]
        }
      ]
    },
    {
      "cell_type": "code",
      "source": [
        "df_full.head()"
      ],
      "metadata": {
        "colab": {
          "base_uri": "https://localhost:8080/",
          "height": 342
        },
        "id": "M4MvZtUCZAEZ",
        "outputId": "a3887210-6de7-475a-f69b-00153ad67837"
      },
      "execution_count": null,
      "outputs": [
        {
          "output_type": "execute_result",
          "data": {
            "text/plain": [
              "   molregno                                   canonical_smiles  activity_id  \\\n",
              "0        10  c1cc2cc(c1)-c1cccc(c1)C[n+]1ccc(c3ccccc31)NCCC...       492214   \n",
              "1        23                   O=C1O/C(=C/Br)CCC1c1cccc2ccccc12     14394768   \n",
              "2        24                    O=C1O/C(=C/I)CCC1c1cccc2ccccc12       294832   \n",
              "3        25                C#C/C=C1\\CCC(c2cccc3ccccc23)C(=O)O1       280316   \n",
              "4        26                    O=C1O/C(=C\\I)CCC1c1cccc2ccccc12       271844   \n",
              "\n",
              "  standard_type  standard_value standard_units  assay_id     tid  \\\n",
              "0          IC50           110.0             nM    200081  104828   \n",
              "1       Potency         73078.0             nM   1301803  104173   \n",
              "2          IC50            30.0             nM    156048   11934   \n",
              "3          IC50            95.0             nM    156048   11934   \n",
              "4          IC50           190.0             nM    156048   11934   \n",
              "\n",
              "  target_chembl_id            organism  ... qed_weighted  mw_monoisotopic  \\\n",
              "0       CHEMBL2547   Rattus norvegicus  ...         0.17         606.3712   \n",
              "1       CHEMBL6152  Trypanosoma brucei  ...         0.72         316.0099   \n",
              "2       CHEMBL3213        Homo sapiens  ...         0.55         363.9960   \n",
              "3       CHEMBL3213        Homo sapiens  ...         0.58         262.0994   \n",
              "4       CHEMBL3213        Homo sapiens  ...         0.55         363.9960   \n",
              "\n",
              "   hba_lipinski  hbd_lipinski  num_lipinski_ro5_violations  np_likeness_score  \\\n",
              "0           4.0           2.0                          2.0               0.13   \n",
              "1           2.0           0.0                          0.0               0.52   \n",
              "2           2.0           0.0                          0.0               0.49   \n",
              "3           2.0           0.0                          0.0               0.52   \n",
              "4           2.0           0.0                          0.0               0.49   \n",
              "\n",
              "     bei    le   lle    sei  \n",
              "0    NaN   NaN   NaN    NaN  \n",
              "1  21.61  0.49  2.35  26.06  \n",
              "2  20.66  0.54  2.98  28.60  \n",
              "3  26.77  0.48  3.24  26.70  \n",
              "4  18.46  0.48  2.18  25.56  \n",
              "\n",
              "[5 rows x 38 columns]"
            ],
            "text/html": [
              "\n",
              "  <div id=\"df-12e6efb0-4ea5-4047-8bdd-3d4929d408ec\" class=\"colab-df-container\">\n",
              "    <div>\n",
              "<style scoped>\n",
              "    .dataframe tbody tr th:only-of-type {\n",
              "        vertical-align: middle;\n",
              "    }\n",
              "\n",
              "    .dataframe tbody tr th {\n",
              "        vertical-align: top;\n",
              "    }\n",
              "\n",
              "    .dataframe thead th {\n",
              "        text-align: right;\n",
              "    }\n",
              "</style>\n",
              "<table border=\"1\" class=\"dataframe\">\n",
              "  <thead>\n",
              "    <tr style=\"text-align: right;\">\n",
              "      <th></th>\n",
              "      <th>molregno</th>\n",
              "      <th>canonical_smiles</th>\n",
              "      <th>activity_id</th>\n",
              "      <th>standard_type</th>\n",
              "      <th>standard_value</th>\n",
              "      <th>standard_units</th>\n",
              "      <th>assay_id</th>\n",
              "      <th>tid</th>\n",
              "      <th>target_chembl_id</th>\n",
              "      <th>organism</th>\n",
              "      <th>...</th>\n",
              "      <th>qed_weighted</th>\n",
              "      <th>mw_monoisotopic</th>\n",
              "      <th>hba_lipinski</th>\n",
              "      <th>hbd_lipinski</th>\n",
              "      <th>num_lipinski_ro5_violations</th>\n",
              "      <th>np_likeness_score</th>\n",
              "      <th>bei</th>\n",
              "      <th>le</th>\n",
              "      <th>lle</th>\n",
              "      <th>sei</th>\n",
              "    </tr>\n",
              "  </thead>\n",
              "  <tbody>\n",
              "    <tr>\n",
              "      <th>0</th>\n",
              "      <td>10</td>\n",
              "      <td>c1cc2cc(c1)-c1cccc(c1)C[n+]1ccc(c3ccccc31)NCCC...</td>\n",
              "      <td>492214</td>\n",
              "      <td>IC50</td>\n",
              "      <td>110.0</td>\n",
              "      <td>nM</td>\n",
              "      <td>200081</td>\n",
              "      <td>104828</td>\n",
              "      <td>CHEMBL2547</td>\n",
              "      <td>Rattus norvegicus</td>\n",
              "      <td>...</td>\n",
              "      <td>0.17</td>\n",
              "      <td>606.3712</td>\n",
              "      <td>4.0</td>\n",
              "      <td>2.0</td>\n",
              "      <td>2.0</td>\n",
              "      <td>0.13</td>\n",
              "      <td>NaN</td>\n",
              "      <td>NaN</td>\n",
              "      <td>NaN</td>\n",
              "      <td>NaN</td>\n",
              "    </tr>\n",
              "    <tr>\n",
              "      <th>1</th>\n",
              "      <td>23</td>\n",
              "      <td>O=C1O/C(=C/Br)CCC1c1cccc2ccccc12</td>\n",
              "      <td>14394768</td>\n",
              "      <td>Potency</td>\n",
              "      <td>73078.0</td>\n",
              "      <td>nM</td>\n",
              "      <td>1301803</td>\n",
              "      <td>104173</td>\n",
              "      <td>CHEMBL6152</td>\n",
              "      <td>Trypanosoma brucei</td>\n",
              "      <td>...</td>\n",
              "      <td>0.72</td>\n",
              "      <td>316.0099</td>\n",
              "      <td>2.0</td>\n",
              "      <td>0.0</td>\n",
              "      <td>0.0</td>\n",
              "      <td>0.52</td>\n",
              "      <td>21.61</td>\n",
              "      <td>0.49</td>\n",
              "      <td>2.35</td>\n",
              "      <td>26.06</td>\n",
              "    </tr>\n",
              "    <tr>\n",
              "      <th>2</th>\n",
              "      <td>24</td>\n",
              "      <td>O=C1O/C(=C/I)CCC1c1cccc2ccccc12</td>\n",
              "      <td>294832</td>\n",
              "      <td>IC50</td>\n",
              "      <td>30.0</td>\n",
              "      <td>nM</td>\n",
              "      <td>156048</td>\n",
              "      <td>11934</td>\n",
              "      <td>CHEMBL3213</td>\n",
              "      <td>Homo sapiens</td>\n",
              "      <td>...</td>\n",
              "      <td>0.55</td>\n",
              "      <td>363.9960</td>\n",
              "      <td>2.0</td>\n",
              "      <td>0.0</td>\n",
              "      <td>0.0</td>\n",
              "      <td>0.49</td>\n",
              "      <td>20.66</td>\n",
              "      <td>0.54</td>\n",
              "      <td>2.98</td>\n",
              "      <td>28.60</td>\n",
              "    </tr>\n",
              "    <tr>\n",
              "      <th>3</th>\n",
              "      <td>25</td>\n",
              "      <td>C#C/C=C1\\CCC(c2cccc3ccccc23)C(=O)O1</td>\n",
              "      <td>280316</td>\n",
              "      <td>IC50</td>\n",
              "      <td>95.0</td>\n",
              "      <td>nM</td>\n",
              "      <td>156048</td>\n",
              "      <td>11934</td>\n",
              "      <td>CHEMBL3213</td>\n",
              "      <td>Homo sapiens</td>\n",
              "      <td>...</td>\n",
              "      <td>0.58</td>\n",
              "      <td>262.0994</td>\n",
              "      <td>2.0</td>\n",
              "      <td>0.0</td>\n",
              "      <td>0.0</td>\n",
              "      <td>0.52</td>\n",
              "      <td>26.77</td>\n",
              "      <td>0.48</td>\n",
              "      <td>3.24</td>\n",
              "      <td>26.70</td>\n",
              "    </tr>\n",
              "    <tr>\n",
              "      <th>4</th>\n",
              "      <td>26</td>\n",
              "      <td>O=C1O/C(=C\\I)CCC1c1cccc2ccccc12</td>\n",
              "      <td>271844</td>\n",
              "      <td>IC50</td>\n",
              "      <td>190.0</td>\n",
              "      <td>nM</td>\n",
              "      <td>156048</td>\n",
              "      <td>11934</td>\n",
              "      <td>CHEMBL3213</td>\n",
              "      <td>Homo sapiens</td>\n",
              "      <td>...</td>\n",
              "      <td>0.55</td>\n",
              "      <td>363.9960</td>\n",
              "      <td>2.0</td>\n",
              "      <td>0.0</td>\n",
              "      <td>0.0</td>\n",
              "      <td>0.49</td>\n",
              "      <td>18.46</td>\n",
              "      <td>0.48</td>\n",
              "      <td>2.18</td>\n",
              "      <td>25.56</td>\n",
              "    </tr>\n",
              "  </tbody>\n",
              "</table>\n",
              "<p>5 rows × 38 columns</p>\n",
              "</div>\n",
              "    <div class=\"colab-df-buttons\">\n",
              "\n",
              "  <div class=\"colab-df-container\">\n",
              "    <button class=\"colab-df-convert\" onclick=\"convertToInteractive('df-12e6efb0-4ea5-4047-8bdd-3d4929d408ec')\"\n",
              "            title=\"Convert this dataframe to an interactive table.\"\n",
              "            style=\"display:none;\">\n",
              "\n",
              "  <svg xmlns=\"http://www.w3.org/2000/svg\" height=\"24px\" viewBox=\"0 -960 960 960\">\n",
              "    <path d=\"M120-120v-720h720v720H120Zm60-500h600v-160H180v160Zm220 220h160v-160H400v160Zm0 220h160v-160H400v160ZM180-400h160v-160H180v160Zm440 0h160v-160H620v160ZM180-180h160v-160H180v160Zm440 0h160v-160H620v160Z\"/>\n",
              "  </svg>\n",
              "    </button>\n",
              "\n",
              "  <style>\n",
              "    .colab-df-container {\n",
              "      display:flex;\n",
              "      gap: 12px;\n",
              "    }\n",
              "\n",
              "    .colab-df-convert {\n",
              "      background-color: #E8F0FE;\n",
              "      border: none;\n",
              "      border-radius: 50%;\n",
              "      cursor: pointer;\n",
              "      display: none;\n",
              "      fill: #1967D2;\n",
              "      height: 32px;\n",
              "      padding: 0 0 0 0;\n",
              "      width: 32px;\n",
              "    }\n",
              "\n",
              "    .colab-df-convert:hover {\n",
              "      background-color: #E2EBFA;\n",
              "      box-shadow: 0px 1px 2px rgba(60, 64, 67, 0.3), 0px 1px 3px 1px rgba(60, 64, 67, 0.15);\n",
              "      fill: #174EA6;\n",
              "    }\n",
              "\n",
              "    .colab-df-buttons div {\n",
              "      margin-bottom: 4px;\n",
              "    }\n",
              "\n",
              "    [theme=dark] .colab-df-convert {\n",
              "      background-color: #3B4455;\n",
              "      fill: #D2E3FC;\n",
              "    }\n",
              "\n",
              "    [theme=dark] .colab-df-convert:hover {\n",
              "      background-color: #434B5C;\n",
              "      box-shadow: 0px 1px 3px 1px rgba(0, 0, 0, 0.15);\n",
              "      filter: drop-shadow(0px 1px 2px rgba(0, 0, 0, 0.3));\n",
              "      fill: #FFFFFF;\n",
              "    }\n",
              "  </style>\n",
              "\n",
              "    <script>\n",
              "      const buttonEl =\n",
              "        document.querySelector('#df-12e6efb0-4ea5-4047-8bdd-3d4929d408ec button.colab-df-convert');\n",
              "      buttonEl.style.display =\n",
              "        google.colab.kernel.accessAllowed ? 'block' : 'none';\n",
              "\n",
              "      async function convertToInteractive(key) {\n",
              "        const element = document.querySelector('#df-12e6efb0-4ea5-4047-8bdd-3d4929d408ec');\n",
              "        const dataTable =\n",
              "          await google.colab.kernel.invokeFunction('convertToInteractive',\n",
              "                                                    [key], {});\n",
              "        if (!dataTable) return;\n",
              "\n",
              "        const docLinkHtml = 'Like what you see? Visit the ' +\n",
              "          '<a target=\"_blank\" href=https://colab.research.google.com/notebooks/data_table.ipynb>data table notebook</a>'\n",
              "          + ' to learn more about interactive tables.';\n",
              "        element.innerHTML = '';\n",
              "        dataTable['output_type'] = 'display_data';\n",
              "        await google.colab.output.renderOutput(dataTable, element);\n",
              "        const docLink = document.createElement('div');\n",
              "        docLink.innerHTML = docLinkHtml;\n",
              "        element.appendChild(docLink);\n",
              "      }\n",
              "    </script>\n",
              "  </div>\n",
              "\n",
              "\n",
              "<div id=\"df-b200b191-5338-4b05-8323-36df6f9f5b4a\">\n",
              "  <button class=\"colab-df-quickchart\" onclick=\"quickchart('df-b200b191-5338-4b05-8323-36df6f9f5b4a')\"\n",
              "            title=\"Suggest charts\"\n",
              "            style=\"display:none;\">\n",
              "\n",
              "<svg xmlns=\"http://www.w3.org/2000/svg\" height=\"24px\"viewBox=\"0 0 24 24\"\n",
              "     width=\"24px\">\n",
              "    <g>\n",
              "        <path d=\"M19 3H5c-1.1 0-2 .9-2 2v14c0 1.1.9 2 2 2h14c1.1 0 2-.9 2-2V5c0-1.1-.9-2-2-2zM9 17H7v-7h2v7zm4 0h-2V7h2v10zm4 0h-2v-4h2v4z\"/>\n",
              "    </g>\n",
              "</svg>\n",
              "  </button>\n",
              "\n",
              "<style>\n",
              "  .colab-df-quickchart {\n",
              "      --bg-color: #E8F0FE;\n",
              "      --fill-color: #1967D2;\n",
              "      --hover-bg-color: #E2EBFA;\n",
              "      --hover-fill-color: #174EA6;\n",
              "      --disabled-fill-color: #AAA;\n",
              "      --disabled-bg-color: #DDD;\n",
              "  }\n",
              "\n",
              "  [theme=dark] .colab-df-quickchart {\n",
              "      --bg-color: #3B4455;\n",
              "      --fill-color: #D2E3FC;\n",
              "      --hover-bg-color: #434B5C;\n",
              "      --hover-fill-color: #FFFFFF;\n",
              "      --disabled-bg-color: #3B4455;\n",
              "      --disabled-fill-color: #666;\n",
              "  }\n",
              "\n",
              "  .colab-df-quickchart {\n",
              "    background-color: var(--bg-color);\n",
              "    border: none;\n",
              "    border-radius: 50%;\n",
              "    cursor: pointer;\n",
              "    display: none;\n",
              "    fill: var(--fill-color);\n",
              "    height: 32px;\n",
              "    padding: 0;\n",
              "    width: 32px;\n",
              "  }\n",
              "\n",
              "  .colab-df-quickchart:hover {\n",
              "    background-color: var(--hover-bg-color);\n",
              "    box-shadow: 0 1px 2px rgba(60, 64, 67, 0.3), 0 1px 3px 1px rgba(60, 64, 67, 0.15);\n",
              "    fill: var(--button-hover-fill-color);\n",
              "  }\n",
              "\n",
              "  .colab-df-quickchart-complete:disabled,\n",
              "  .colab-df-quickchart-complete:disabled:hover {\n",
              "    background-color: var(--disabled-bg-color);\n",
              "    fill: var(--disabled-fill-color);\n",
              "    box-shadow: none;\n",
              "  }\n",
              "\n",
              "  .colab-df-spinner {\n",
              "    border: 2px solid var(--fill-color);\n",
              "    border-color: transparent;\n",
              "    border-bottom-color: var(--fill-color);\n",
              "    animation:\n",
              "      spin 1s steps(1) infinite;\n",
              "  }\n",
              "\n",
              "  @keyframes spin {\n",
              "    0% {\n",
              "      border-color: transparent;\n",
              "      border-bottom-color: var(--fill-color);\n",
              "      border-left-color: var(--fill-color);\n",
              "    }\n",
              "    20% {\n",
              "      border-color: transparent;\n",
              "      border-left-color: var(--fill-color);\n",
              "      border-top-color: var(--fill-color);\n",
              "    }\n",
              "    30% {\n",
              "      border-color: transparent;\n",
              "      border-left-color: var(--fill-color);\n",
              "      border-top-color: var(--fill-color);\n",
              "      border-right-color: var(--fill-color);\n",
              "    }\n",
              "    40% {\n",
              "      border-color: transparent;\n",
              "      border-right-color: var(--fill-color);\n",
              "      border-top-color: var(--fill-color);\n",
              "    }\n",
              "    60% {\n",
              "      border-color: transparent;\n",
              "      border-right-color: var(--fill-color);\n",
              "    }\n",
              "    80% {\n",
              "      border-color: transparent;\n",
              "      border-right-color: var(--fill-color);\n",
              "      border-bottom-color: var(--fill-color);\n",
              "    }\n",
              "    90% {\n",
              "      border-color: transparent;\n",
              "      border-bottom-color: var(--fill-color);\n",
              "    }\n",
              "  }\n",
              "</style>\n",
              "\n",
              "  <script>\n",
              "    async function quickchart(key) {\n",
              "      const quickchartButtonEl =\n",
              "        document.querySelector('#' + key + ' button');\n",
              "      quickchartButtonEl.disabled = true;  // To prevent multiple clicks.\n",
              "      quickchartButtonEl.classList.add('colab-df-spinner');\n",
              "      try {\n",
              "        const charts = await google.colab.kernel.invokeFunction(\n",
              "            'suggestCharts', [key], {});\n",
              "      } catch (error) {\n",
              "        console.error('Error during call to suggestCharts:', error);\n",
              "      }\n",
              "      quickchartButtonEl.classList.remove('colab-df-spinner');\n",
              "      quickchartButtonEl.classList.add('colab-df-quickchart-complete');\n",
              "    }\n",
              "    (() => {\n",
              "      let quickchartButtonEl =\n",
              "        document.querySelector('#df-b200b191-5338-4b05-8323-36df6f9f5b4a button');\n",
              "      quickchartButtonEl.style.display =\n",
              "        google.colab.kernel.accessAllowed ? 'block' : 'none';\n",
              "    })();\n",
              "  </script>\n",
              "</div>\n",
              "\n",
              "    </div>\n",
              "  </div>\n"
            ]
          },
          "metadata": {},
          "execution_count": 7
        }
      ]
    },
    {
      "cell_type": "code",
      "source": [
        "df_full['mw_freebase'].describe()"
      ],
      "metadata": {
        "colab": {
          "base_uri": "https://localhost:8080/"
        },
        "id": "KgGkF_IF7Uaz",
        "outputId": "6c598817-ff88-4a01-8ef8-9876c967398f"
      },
      "execution_count": null,
      "outputs": [
        {
          "output_type": "execute_result",
          "data": {
            "text/plain": [
              "count    1000000.000000\n",
              "mean         411.885292\n",
              "std          197.093955\n",
              "min            6.940000\n",
              "25%          320.780000\n",
              "50%          386.880000\n",
              "75%          460.600000\n",
              "max        10188.530000\n",
              "Name: mw_freebase, dtype: float64"
            ]
          },
          "metadata": {},
          "execution_count": 8
        }
      ]
    },
    {
      "cell_type": "code",
      "source": [
        "df_full['canonical_smiles'][110]"
      ],
      "metadata": {
        "colab": {
          "base_uri": "https://localhost:8080/",
          "height": 35
        },
        "id": "iw_Jqsug5uX3",
        "outputId": "c72b742d-845f-434e-a3a9-c70c592798ae"
      },
      "execution_count": null,
      "outputs": [
        {
          "output_type": "execute_result",
          "data": {
            "text/plain": [
              "'N[C@@H](CCC(=O)Nc1ccc([N+](=O)[O-])cc1)C(=O)O'"
            ],
            "application/vnd.google.colaboratory.intrinsic+json": {
              "type": "string"
            }
          },
          "metadata": {},
          "execution_count": 9
        }
      ]
    },
    {
      "cell_type": "code",
      "source": [
        "Chem.MolFromSmiles(df_full['canonical_smiles'][110])"
      ],
      "metadata": {
        "colab": {
          "base_uri": "https://localhost:8080/",
          "height": 167
        },
        "id": "XMJ9MTLGZgx4",
        "outputId": "4eee1f2e-f544-4c2f-b0b3-c560e55a031a"
      },
      "execution_count": null,
      "outputs": [
        {
          "output_type": "execute_result",
          "data": {
            "text/plain": [
              "<rdkit.Chem.rdchem.Mol at 0x7a91a29de9d0>"
            ],
            "image/png": "[encoded data removed]"
          },
          "metadata": {},
          "execution_count": 10
        }
      ]
    },
    {
      "cell_type": "code",
      "source": [
        "mol = Chem.MolFromSmiles(df_full.canonical_smiles[1000])\n",
        "Draw.MolToMPL(mol, size=(200, 200));"
      ],
      "metadata": {
        "colab": {
          "base_uri": "https://localhost:8080/",
          "height": 541
        },
        "id": "BLn2DZ-bq2uR",
        "outputId": "430f0092-3a30-4a16-dcff-ebb9c6fd2eba"
      },
      "execution_count": null,
      "outputs": [
        {
          "output_type": "display_data",
          "data": {
            "text/plain": [
              "<Figure size 200x200 with 1 Axes>"
            ],
            "image/png": "[encoded data removed]"
          },
          "metadata": {}
        }
      ]
    },
    {
      "cell_type": "markdown",
      "source": [
        "## [Generative Recurrent Networks for De Novo Drug Design](https://www.researchgate.net/publication/320813292_Generative_Recurrent_Networks_for_De_Novo_Drug_Design)"
      ],
      "metadata": {
        "id": "YRYlZogI71C0"
      }
    },
    {
      "cell_type": "code",
      "source": [
        "# pytorch implementation\n",
        "import torch\n",
        "import torch.nn as nn\n",
        "import torch.optim as optim\n",
        "from torch.utils.data import Dataset, DataLoader\n",
        "\n",
        "device = torch.device(\"cuda\" if torch.cuda.is_available() else \"cpu\")\n",
        "print(device)"
      ],
      "metadata": {
        "colab": {
          "base_uri": "https://localhost:8080/"
        },
        "id": "t-5hqjVBa3VB",
        "outputId": "d8fbfcf5-0db4-47ff-a1ac-5c42a8f6aed2"
      },
      "execution_count": null,
      "outputs": [
        {
          "output_type": "stream",
          "name": "stdout",
          "text": [
            "cpu\n"
          ]
        }
      ]
    },
    {
      "cell_type": "code",
      "source": [
        "# Hyperparameters\n",
        "HIDDEN_SIZE=256\n",
        "BATCH_SIZE=512\n",
        "EPOCHS=22\n",
        "LEARNING_RATE=0.001\n",
        "DROPOUT_RATE=0.5\n",
        "MAX_SEQ_LEN=76\n",
        "NUM_LAYERS=2"
      ],
      "metadata": {
        "id": "Z2uLvbYn-sRN"
      },
      "execution_count": null,
      "outputs": []
    },
    {
      "cell_type": "code",
      "source": [
        "def preprocess_SMILES(smiles):\n",
        "    import re\n",
        "    \"\"\"\n",
        "    Preprocess SMILES string to remove salts and stereochemical information.\n",
        "    \"\"\"\n",
        "    # remove salts\n",
        "    main_molecule = smiles.split(\".\")[0]\n",
        "\n",
        "    # remove stereochemical information\n",
        "    # this regex patterns finds the stereochemical information denoted by '@'\n",
        "    # and removes it. The @ is contained within brackets'[@]'\n",
        "    processed_smiles = re.sub(r'\\[^\\]]*\\]', '', main_molecule) # removes []\n",
        "    processed_smiles = re.sub(r'@[TH]?[a-z]?\\d?', '', processed_smiles) # removes '@' and stereochemical indicators\n",
        "\n",
        "    return processed_smiles\n",
        "\n",
        "def tokenize_SMILES(smiles, vocab_size, vocab, max_len=MAX_SEQ_LEN):\n",
        "    \"\"\"\n",
        "    Create special tokens, \"G\", \"E\", and \"A\" for start, end, and padding resp.\n",
        "    \"\"\"\n",
        "    smiles = \"G\" + smiles + \"E\" + \"A\" * (max_len - len(smiles) - 2)\n",
        "    encoded = np.zeros((max_len, len(vocab)), dtype=np.float32)\n",
        "\n",
        "    for i, char in enumerate(smiles):\n",
        "        encoded[i, vocab[char]] = 1\n",
        "\n",
        "    return encoded\n",
        "\n",
        "def display_samples(dataloader, vocab, num_samples=5):\n",
        "    \"\"\"\n",
        "    For debugging purposes\n",
        "    \"\"\"\n",
        "    # Create a reverse mapping from index to character\n",
        "    inverse_vocab = {v: k for k, v in vocab.items()}\n",
        "\n",
        "    for i, (inputs, targets) in enumerate(dataloader):\n",
        "        # Convert tensors back to SMILES strings\n",
        "        input_smiles = [''.join([inverse_vocab[k.item()] for k in input_seq.nonzero(as_tuple=True)[1]]) for input_seq in inputs]\n",
        "        target_smiles = [''.join([inverse_vocab[k.item()] for k in target_seq]) for target_seq in targets]\n",
        "\n",
        "        # Display the samples\n",
        "        for j in range(min(num_samples, len(input_smiles))):\n",
        "            print(f\"Input SMILES: {input_smiles[j]}\")\n",
        "            print(f\"Target SMILES: {target_smiles[j]}\")\n",
        "            print(\"------\")\n",
        "\n",
        "        # Stop after displaying the specified number of samples\n",
        "        if i == 0:\n",
        "            break\n",
        "\n",
        "def sample_model(model, vocab, max_len=76, temperature=1.0):\n",
        "    model.eval()  # Set the model to evaluation mode\n",
        "    start_token = 'G'\n",
        "    end_token = 'E'\n",
        "\n",
        "    # Initialize the sequence with the start token \"G\"\n",
        "    current_seq = start_token\n",
        "    current_tensor = torch.tensor([tokenize_SMILES(current_seq, len(vocab), vocab)], dtype=torch.float32)\n",
        "\n",
        "    # Sampling loop\n",
        "    while len(current_seq) < (max_len -2) and current_seq[-1] != end_token: # accounting for G and E tokens\n",
        "        with torch.no_grad():\n",
        "            output = model(current_tensor).squeeze(0)  # remove batch dimension\n",
        "            scaled_output = output[-1] / temperature\n",
        "            probabilities = torch.softmax(scaled_output, dim=0).numpy()  # softmax to get probabilities\n",
        "            predicted_index = np.argmax(probabilities)  # choose the highest probability\n",
        "            predicted_char = [k for k, v in vocab.items() if v == predicted_index][0]  # map index back to char\n",
        "\n",
        "            # append to current sequence and encode it to re-apply in sampling loop\n",
        "            current_seq += predicted_char\n",
        "            current_tensor = torch.tensor(np.array([tokenize_SMILES(current_seq, len(vocab), vocab)]), dtype=torch.float32)\n",
        "\n",
        "    # Return the generated SMILES string\n",
        "    return ''.join(current_seq)"
      ],
      "metadata": {
        "id": "mWH5Xgnq8Yii"
      },
      "execution_count": null,
      "outputs": []
    },
    {
      "cell_type": "code",
      "source": [
        "# filter data\n",
        "# ensure data contains non-null values\n",
        "df = df_full.dropna(subset='qed_weighted') # latent feature\n",
        "df = df.dropna(subset='standard_value') # latent feature\n",
        "\n",
        "# lipinski's rule of 5 for oral drugs\n",
        "df = df[df['num_lipinski_ro5_violations'] < 1]\n",
        "\n",
        "# prepocess data\n",
        "df['preprocessed_smiles'] = df['canonical_smiles'].apply(preprocess_SMILES)\n",
        "df = df[~df['preprocessed_smiles'].duplicated()] # remove duplicates\n",
        "df['token_len'] = df['preprocessed_smiles'].apply(len)\n",
        "df = df[(df['token_len'] > 33) & (df['token_len'] < 75)] # from paper\n",
        "df.shape"
      ],
      "metadata": {
        "colab": {
          "base_uri": "https://localhost:8080/"
        },
        "id": "n2PrHLSp-Ee7",
        "outputId": "792aea87-60d0-434e-d38c-6ea6c29f02ea"
      },
      "execution_count": null,
      "outputs": [
        {
          "output_type": "execute_result",
          "data": {
            "text/plain": [
              "(556146, 40)"
            ]
          },
          "metadata": {},
          "execution_count": 16
        }
      ]
    },
    {
      "cell_type": "code",
      "source": [
        "# create vocabulary mapping\n",
        "special_chars = [\"G\", \"E\", \"A\"] # special tokens\n",
        "all_chars = \"\".join(line.strip() for line in df['preprocessed_smiles'].values)\n",
        "unique_chars = sorted(list(set(all_chars))).extend(special_chars)\n",
        "\n",
        "vocab = dict((c, i) for i, c in enumerate(unique_chars))\n",
        "\n",
        "vocab_size = len(vocab)\n",
        "\n",
        "encoded_tensor = torch.tensor(np.array([tokenize_SMILES(s, vocab_size, vocab=vocab) for s in df['preprocessed_smiles'].values]),\n",
        "                               dtype=torch.float32) # shape is (num_samples, seq_len, vocab_len)"
      ],
      "metadata": {
        "id": "OZ64FxhVHEA2"
      },
      "execution_count": null,
      "outputs": []
    },
    {
      "cell_type": "markdown",
      "source": [
        "## Creating the Dataset\n",
        "[Batching Strategies](https://medium.com/analytics-vidhya/batching-strategies-for-lstm-input-6f18089b1735#id_token=eyJhbGciOiJSUzI1NiIsImtpZCI6IjFmNDBmMGE4ZWYzZDg4MDk3OGRjODJmMjVjM2VjMzE3YzZhNWI3ODEiLCJ0eXAiOiJKV1QifQ.eyJpc3MiOiJodHRwczovL2FjY291bnRzLmdvb2dsZS5jb20iLCJhenAiOiIyMTYyOTYwMzU4MzQtazFrNnFlMDYwczJ0cDJhMmphbTRsamRjbXMwMHN0dGcuYXBwcy5nb29nbGV1c2VyY29udGVudC5jb20iLCJhdWQiOiIyMTYyOTYwMzU4MzQtazFrNnFlMDYwczJ0cDJhMmphbTRsamRjbXMwMHN0dGcuYXBwcy5nb29nbGV1c2VyY29udGVudC5jb20iLCJzdWIiOiIxMTE5MjQ4MjQyMDYyMDQwMzkxNzciLCJlbWFpbCI6InR5bGVyanBvb3JlQGdtYWlsLmNvbSIsImVtYWlsX3ZlcmlmaWVkIjp0cnVlLCJuYmYiOjE3MDQ5Mjc5NDEsIm5hbWUiOiJUeWxlciBQb29yZSIsInBpY3R1cmUiOiJodHRwczovL2xoMy5nb29nbGV1c2VyY29udGVudC5jb20vYS9BQ2c4b2NMZV81LTBIM2NWZS1CbjQ2bkZzbkpPcm9tUk1GcUpxdDNLa1VBbVBrREN1V2s9czk2LWMiLCJnaXZlbl9uYW1lIjoiVHlsZXIiLCJmYW1pbHlfbmFtZSI6IlBvb3JlIiwibG9jYWxlIjoiZW4iLCJpYXQiOjE3MDQ5MjgyNDEsImV4cCI6MTcwNDkzMTg0MSwianRpIjoiZGIyY2I3MmFlMDBhZGM2YmRmYTM4MjAwYzM5NmVlMmVhY2NlZDM2YyJ9.f4IRd8Ef2pAPUmBpxTyLhqbK2NqFxnpxWsA9DK8Jzc-izLBlaEZoVv1FOa2gZM_H4KwUt7qrmxyjW_eGzPNXiVbOfEC7lCXx7M9-GmIqTw2MVmpXsKLoNM6nnFWkED45N_wZtXpBr_8uz2zPBCEIL_dZ2oqomkpLf3V1zrZ80EyKF8y2pav_x0BDUOo9lz08SadnCDyGwMw9OrTyh9AuVwuxfLibZKtyvVJeIprN7Yp8fEkVY48bw_6IVb-o5hf5gUK6aMIPaKh1REAzXfLtt8snPaK0f4FT9PYg1CtuWRtB5Af7SCf9WLB2FyxmC_oC30UXC46pjqnTW-k2-ho5Cw)"
      ],
      "metadata": {
        "id": "QeqoUHJH1w49"
      }
    },
    {
      "cell_type": "code",
      "source": [
        "# creating the datset\n",
        "class SMILESDataset(Dataset):\n",
        "  def __init__(self, smiles_data, vocab, batched):\n",
        "    \"\"\"\n",
        "    see https://github.com/judahsemi/Dino-Name-Generator\n",
        "    \"\"\"\n",
        "    self.batched = batched\n",
        "    self.encodings = []\n",
        "    self.max_seqlen = float(\"-inf\")\n",
        "\n",
        "    # Encode SMILES\n",
        "\n",
        "    for smiles in smiles_data:\n",
        "      smiles = \"G\" + smiles + \"E\"\n",
        "      encoding = [vocab[s] for s in smiles]\n",
        "      self.encodings.append(encoding)\n",
        "      self.max_seqlen = max(self.max_seqlen, len(encoding)-1)\n",
        "\n",
        "  def encode_SMILES(self, smiles, vocab_size, vocab, max_len=MAX_SEQ_LEN):\n",
        "    \"\"\"\n",
        "    Create special tokens, \"G\", \"E\", and \"A\" for start, end, and padding resp.\n",
        "    \"\"\"\n",
        "    smiles = \"G\" + smiles + \"E\" + \"A\" * (max_len - len(smiles) - 2)\n",
        "    encoded = np.zeros((max_len, len(vocab)), dtype=np.float32)\n",
        "\n",
        "    for i, char in enumerate(smiles):\n",
        "        encoded[i, vocab[char]] = 1\n",
        "\n",
        "    return encoded\n",
        "\n",
        "\n",
        "  def __len__(self):\n",
        "    return len(self.encodings)\n",
        "\n",
        "  def __getitem__(self, idx):\n",
        "    # For each SMILES string, the input is all characters except the last,\n",
        "    # and the target is all characters except the first (shifted by one)\n",
        "    input_sequence = self.encodings[idx][:-1] # everything but last token\n",
        "    target_sequence = self.encodings[idx][1:] # everything but first token\n",
        "    input_len = len(input_sequence)\n",
        "\n",
        "    pad_idx = vocab['A']\n",
        "\n",
        "    if self.batched:\n",
        "      input_sequence += ([pad_idx]*self.max_seqlen - len(input_sequence))\n",
        "      target_sequence += ([pad_idx]*self.max_seqlen - len(input_sequence))\n",
        "\n",
        "      # convert one-hot encoded targets top class indices and convert to tensors\n",
        "      target_indices = torch.tensor(np.argmax(np.array(target_sequence), dim=-1)) # (seq_len, vocab_len) - > seq_len\n",
        "      input_sequence = torch.tensor(np.array(input_sequence))\n",
        "      input_len = torch.tensor(input_len)\n",
        "\n",
        "    return input_sequence, input_len, target_indices\n",
        "\n",
        "\n",
        "# Split data into training, validation, and testing\n",
        "train_data, test_data = train_test_split(encoded_tensor, test_size=0.3)\n",
        "val_data, test_data = train_test_split(test_data, test_size=0.5)\n",
        "\n",
        "train_dataset = SMILESDataset(train_data)\n",
        "val_dataset = SMILESDataset(val_data)\n",
        "test_dataset = SMILESDataset(test_data)\n",
        "\n",
        "train_loader = DataLoader(train_dataset, batch_size=BATCH_SIZE, shuffle=True)\n",
        "val_loader = DataLoader(val_dataset, batch_size=BATCH_SIZE, shuffle=True)\n",
        "test_loader = DataLoader(test_dataset, batch_size=BATCH_SIZE, shuffle=True)\n"
      ],
      "metadata": {
        "id": "xNmUcHNi1s34"
      },
      "execution_count": null,
      "outputs": []
    },
    {
      "cell_type": "markdown",
      "source": [
        "## [PyTorch LSTM documentation](https://pytorch.org/docs/stable/generated/torch.nn.LSTM.html)\n",
        "\n"
      ],
      "metadata": {
        "id": "9SfZ8qKOF3X8"
      }
    },
    {
      "cell_type": "code",
      "source": [
        "# creating the model\n",
        "\n",
        "class SMILESRNN(nn.Module):\n",
        "  def __init__(self, input_size, hidden_size, output_size, num_layers=NUM_LAYERS, dropout=DROPOUT_RATE):\n",
        "    super(SMILESRNN, self).__init__()\n",
        "    self.hidden_size = hidden_size\n",
        "    self.num_layers = num_layers\n",
        "    self.lstm = nn.LSTM(input_size, hidden_size, num_layers, dropout=DROPOUT_RATE, batch_first=True)\n",
        "    self.fc = nn.Linear(hidden_size, output_size)\n",
        "\n",
        "  def forward(self, x):\n",
        "    h0 = torch.zeros(self.num_layers, x.size(0), self.hidden_size).to(x.device)\n",
        "    c0 = torch.zeros(self.num_layers, x.size(0), self.hidden_size).to(x.device)\n",
        "\n",
        "    out, _ = self.lstm(x, (h0, c0))\n",
        "    out = self.fc(out)\n",
        "    return out\n",
        "\n",
        "# initialize model\n",
        "model = SMILESRNN(input_size = vocab_size, hidden_size=HIDDEN_SIZE, output_size=vocab_size)\n",
        "optimizer = optim.Adam(model.parameters(), lr=LEARNING_RATE)\n",
        "loss_function = nn.CrossEntropyLoss()"
      ],
      "metadata": {
        "id": "Uh__iHaCEVJ7"
      },
      "execution_count": null,
      "outputs": []
    },
    {
      "cell_type": "code",
      "source": [
        "best_val_loss = float('inf')\n",
        "\n",
        "# training loop from method 2\n",
        "for epoch in range(EPOCHS):\n",
        "    model.train()\n",
        "    train_loss = 0\n",
        "    with tqdm(train_loader, unit='batch') as tepoch:\n",
        "      for batch in tepoch:\n",
        "        tepoch.set_description(f\"Epoch {epoch+1}\")\n",
        "        inputs, targets = batch  # shapes: (batch_size, seq_len-1, vocab_len), (batch_size, seq_len-1)\n",
        "        optimizer.zero_grad()\n",
        "        outputs = model(inputs) # shape: (batch_size, seq_len-1, vocab_len)\n",
        "        loss = loss_function(outputs.transpose(1, 2), targets) # expects (vocab_len, seq_len - 1)\n",
        "        loss.backward()\n",
        "        optimizer.step()\n",
        "        train_loss += loss.item()\n",
        "        tepoch.set_postfix(loss=train_loss / len(train_loader))\n",
        "      avg_train_loss = train_loss / len(train_loader)\n",
        "      print(f\"Train Loss: {avg_train_loss}\")\n",
        "      model.eval()\n",
        "      val_loss = 0\n",
        "      with torch.no_grad():\n",
        "        for batch in val_loader:\n",
        "          inputs, targets = batch\n",
        "          outputs = model(inputs)\n",
        "          loss = loss_function(outputs.transpose(1, 2), targets)\n",
        "          val_loss += loss.item()\n",
        "\n",
        "        start_token = 'G'\n",
        "        start_tensor = torch.tensor(np.array([tokenize_SMILES(start_token, len(vocab), vocab)]), dtype=torch.float32)\n",
        "        output = model(start_tensor).squeeze(0)  # remove batch dimension\n",
        "        probabilities = torch.softmax(output[-1], dim=0)  # softmax to get probabilities\n",
        "        top_probs, top_indices = torch.topk(probabilities, 5)  # get top 5 probabilities and their indices\n",
        "        top_tokens = [k for k, v in vocab.items() if v in top_indices.tolist()]\n",
        "\n",
        "        # # Print the top tokens and their probabilities\n",
        "        # print(\"Top predictions after validation:\")\n",
        "        # for token, prob in zip(top_tokens, top_probs.numpy()):\n",
        "        #     print(f\"Token: {token}, Probability: {prob:.4f}\")\n",
        "\n",
        "      avg_val_loss = val_loss / len(val_loader)\n",
        "      print(f\"Validation Loss: {avg_val_loss}\")\n",
        "\n",
        "      # Print the top tokens and their probabilities\n",
        "      print(\"Top predictions after validation:\")\n",
        "      for token, prob in zip(top_tokens, top_probs.numpy()):\n",
        "          print(f\"Token: {token}, Probability: {prob:.4f}\")\n",
        "\n",
        "      if avg_val_loss < best_val_loss:\n",
        "          best_val_loss = avg_val_loss\n",
        "          torch.save(model.state_dict(), '/content/drive/MyDrive/models/SMILESRNN_best.pth')"
      ],
      "metadata": {
        "colab": {
          "base_uri": "https://localhost:8080/"
        },
        "id": "Ukdw2J_TaYwi",
        "outputId": "7cfb323c-bc92-4150-ac69-5d494e175118"
      },
      "execution_count": null,
      "outputs": [
        {
          "output_type": "stream",
          "name": "stderr",
          "text": [
            "Epoch 1: 100%|██████████| 761/761 [09:02<00:00,  1.40batch/s, loss=1.04]\n"
          ]
        },
        {
          "output_type": "stream",
          "name": "stdout",
          "text": [
            "Train Loss: 1.038616777327935\n"
          ]
        },
        {
          "output_type": "stream",
          "name": "stderr",
          "text": [
            "<ipython-input-19-c13de3277da2>:30: UserWarning: Creating a tensor from a list of numpy.ndarrays is extremely slow. Please consider converting the list to a single numpy.ndarray with numpy.array() before converting to a tensor. (Triggered internally at ../torch/csrc/utils/tensor_new.cpp:261.)\n",
            "  start_tensor = torch.tensor([tokenize_SMILES(start_token, len(vocab), vocab)], dtype=torch.float32)\n"
          ]
        },
        {
          "output_type": "stream",
          "name": "stdout",
          "text": [
            "Top predictions after validation:\n",
            "Token: E, Probability: 0.9999\n",
            "Token: A, Probability: 0.0000\n",
            "Token: C, Probability: 0.0000\n",
            "Token: c, Probability: 0.0000\n",
            "Token: o, Probability: 0.0000\n",
            "Validation Loss: 0.6133611359479237\n"
          ]
        },
        {
          "output_type": "stream",
          "name": "stderr",
          "text": [
            "Epoch 2: 100%|██████████| 761/761 [09:10<00:00,  1.38batch/s, loss=0.574]\n"
          ]
        },
        {
          "output_type": "stream",
          "name": "stdout",
          "text": [
            "Train Loss: 0.5736857871188441\n",
            "Top predictions after validation:\n",
            "Token: A, Probability: 1.0000\n",
            "Token: C, Probability: 0.0000\n",
            "Token: [, Probability: 0.0000\n",
            "Token: c, Probability: 0.0000\n",
            "Token: n, Probability: 0.0000\n",
            "Validation Loss: 0.511085159390982\n"
          ]
        },
        {
          "output_type": "stream",
          "name": "stderr",
          "text": [
            "Epoch 3: 100%|██████████| 761/761 [09:11<00:00,  1.38batch/s, loss=0.505]\n"
          ]
        },
        {
          "output_type": "stream",
          "name": "stdout",
          "text": [
            "Train Loss: 0.5045192954026446\n",
            "Top predictions after validation:\n",
            "Token: A, Probability: 1.0000\n",
            "Token: C, Probability: 0.0000\n",
            "Token: [, Probability: 0.0000\n",
            "Token: c, Probability: 0.0000\n",
            "Token: n, Probability: 0.0000\n",
            "Validation Loss: 0.46929307108276463\n"
          ]
        },
        {
          "output_type": "stream",
          "name": "stderr",
          "text": [
            "Epoch 4: 100%|██████████| 761/761 [09:04<00:00,  1.40batch/s, loss=0.471]\n"
          ]
        },
        {
          "output_type": "stream",
          "name": "stdout",
          "text": [
            "Train Loss: 0.47116587231726276\n",
            "Top predictions after validation:\n",
            "Token: A, Probability: 1.0000\n",
            "Token: C, Probability: 0.0000\n",
            "Token: [, Probability: 0.0000\n",
            "Token: c, Probability: 0.0000\n",
            "Token: n, Probability: 0.0000\n",
            "Validation Loss: 0.44529874613679993\n"
          ]
        },
        {
          "output_type": "stream",
          "name": "stderr",
          "text": [
            "Epoch 5: 100%|██████████| 761/761 [09:03<00:00,  1.40batch/s, loss=0.45]\n"
          ]
        },
        {
          "output_type": "stream",
          "name": "stdout",
          "text": [
            "Train Loss: 0.45004882875942526\n",
            "Top predictions after validation:\n",
            "Token: A, Probability: 1.0000\n",
            "Token: 3, Probability: 0.0000\n",
            "Token: C, Probability: 0.0000\n",
            "Token: [, Probability: 0.0000\n",
            "Token: c, Probability: 0.0000\n",
            "Validation Loss: 0.4306232834154843\n"
          ]
        },
        {
          "output_type": "stream",
          "name": "stderr",
          "text": [
            "Epoch 6: 100%|██████████| 761/761 [09:03<00:00,  1.40batch/s, loss=0.435]\n"
          ]
        },
        {
          "output_type": "stream",
          "name": "stdout",
          "text": [
            "Train Loss: 0.43479375355190425\n",
            "Top predictions after validation:\n",
            "Token: A, Probability: 1.0000\n",
            "Token: 3, Probability: 0.0000\n",
            "Token: C, Probability: 0.0000\n",
            "Token: [, Probability: 0.0000\n",
            "Token: c, Probability: 0.0000\n",
            "Validation Loss: 0.4171006869684699\n"
          ]
        },
        {
          "output_type": "stream",
          "name": "stderr",
          "text": [
            "Epoch 7: 100%|██████████| 761/761 [08:55<00:00,  1.42batch/s, loss=0.423]\n"
          ]
        },
        {
          "output_type": "stream",
          "name": "stdout",
          "text": [
            "Train Loss: 0.4232114491967115\n",
            "Top predictions after validation:\n",
            "Token: A, Probability: 1.0000\n",
            "Token: C, Probability: 0.0000\n",
            "Token: O, Probability: 0.0000\n",
            "Token: [, Probability: 0.0000\n",
            "Token: c, Probability: 0.0000\n",
            "Validation Loss: 0.41400616593156125\n"
          ]
        },
        {
          "output_type": "stream",
          "name": "stderr",
          "text": [
            "Epoch 8: 100%|██████████| 761/761 [08:54<00:00,  1.42batch/s, loss=0.414]\n"
          ]
        },
        {
          "output_type": "stream",
          "name": "stdout",
          "text": [
            "Train Loss: 0.41420284826088205\n",
            "Top predictions after validation:\n",
            "Token: A, Probability: 1.0000\n",
            "Token: (, Probability: 0.0000\n",
            "Token: C, Probability: 0.0000\n",
            "Token: N, Probability: 0.0000\n",
            "Token: c, Probability: 0.0000\n",
            "Validation Loss: 0.40085993752889104\n"
          ]
        },
        {
          "output_type": "stream",
          "name": "stderr",
          "text": [
            "Epoch 9:  91%|█████████ | 689/761 [08:03<00:45,  1.58batch/s, loss=0.368]"
          ]
        }
      ]
    },
    {
      "cell_type": "code",
      "source": [
        "# Test the model\n",
        "model.load_state_dict(torch.load('/content/drive/MyDrive/models/SMILESRNN_best.pth'))\n",
        "model.eval()\n",
        "test_loss = 0\n",
        "with torch.no_grad():\n",
        "    for batch in test_loader:\n",
        "        inputs, targets = batch\n",
        "        outputs = model(inputs)\n",
        "        loss = loss_function(outputs.transpose(1, 2), targets)\n",
        "        test_loss += loss.item()\n",
        "\n",
        "avg_test_loss = test_loss / len(test_loader)\n",
        "print(f\"Test Loss: {avg_test_loss}\")"
      ],
      "metadata": {
        "colab": {
          "base_uri": "https://localhost:8080/"
        },
        "id": "J0_kecdBBI25",
        "outputId": "6710a779-33ca-46e0-b7a4-85ed49ac1d69"
      },
      "execution_count": null,
      "outputs": [
        {
          "output_type": "stream",
          "name": "stdout",
          "text": [
            "Test Loss: 0.3969599975764386\n"
          ]
        }
      ]
    },
    {
      "cell_type": "code",
      "source": [
        "# Model Sampling\n",
        "\n",
        "sampled_smiles = sample_model(model, vocab, temperature=100)\n",
        "print(sampled_smiles)\n"
      ],
      "metadata": {
        "colab": {
          "base_uri": "https://localhost:8080/"
        },
        "id": "4D2sTvPLzXIs",
        "outputId": "99d285e8-8a6c-4357-cc7d-88d586f1b77e"
      },
      "execution_count": null,
      "outputs": [
        {
          "output_type": "stream",
          "name": "stdout",
          "text": [
            "GAAAAAAAAAAAAAAAAAAAAAAAAAAAAAAAAAAAAAAAAAAAAAAAAAAAAAAAAAAAAAAAAAAAAAAAAA\n"
          ]
        }
      ]
    }
  ]
}